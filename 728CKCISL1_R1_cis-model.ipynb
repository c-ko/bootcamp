{
 "cells": [
  {
   "cell_type": "markdown",
   "metadata": {},
   "source": [
    "# Cis-activation and cis-inhibition model"
   ]
  },
  {
   "cell_type": "markdown",
   "metadata": {},
   "source": [
    "**Background**: Nandagopal et al. 2019 came up with a model in the cis activation paper that enabled cis activation and inhibition to some extent. However, their model only considered interconversion between active and inactive cis complexes, without biological justification. In my model, I allow free receptor and ligand to either form active or inactive complexes, and active and inactive cannot directly interconvert without dissociation."
   ]
  },
  {
   "cell_type": "markdown",
   "metadata": {},
   "source": [
    "![Cis Notch Model](cis_model_schematic.png)"
   ]
  },
  {
   "cell_type": "markdown",
   "metadata": {},
   "source": [
    "# Note: the k values above take different values for $C^-$ formation vs. $C^+$, corresponding to distinct $K_d$ values in the code below."
   ]
  },
  {
   "cell_type": "markdown",
   "metadata": {},
   "source": [
    "### Variables:\n",
    "\n",
    "- $R$ is surface receptor concentration at cell interface\n",
    "- $N$ is activated receptor (NICD) concentration\n",
    "- $L$ is surface ligand concentration\n",
    "- $C^+$ = $R:L$, trans-like receptor-ligand complex\n",
    "- $C^-$ = $R:L$, true 'cis' receptor-ligand complex\n",
    "- $i$ is index of receptor. $i = \\{1, 2, 3\\}$ for receptor = {Notch1, Notch2, Notch3}.\n",
    "- $j$ is index of ligand. $j = \\{1, 2, 3, 4\\}$ for ligand = {Dll1, Dll4, Jag1, Jag2}.\n",
    "\n",
    "### Parameters\n",
    "\n",
    "- $\\alpha_L$, surface ligand production rate\n",
    "- $\\alpha_R$, surface receptor production rate\n",
    "- $\\gamma_L$, surface ligand endocytosis rate (unstimulated)\n",
    "- $\\gamma_R$, is surface receptor endocytosis rate\n",
    "- $\\gamma_C$, endocytosis rate of true cis receptor-ligand complexes ($C^-$)\n",
    "- $\\gamma_T$, surface ligand endocytosis rate (stimulated) - receptor activating\n",
    "- $\\gamma_{N}$, activated receptor degradation rate (known! ~75 min)\n",
    "- $d_R$, rate of leaky (ligand-independent) receptor activation\n",
    "- $K_d$, **relative** equilibrium dissociation constant"
   ]
  },
  {
   "cell_type": "markdown",
   "metadata": {},
   "source": [
    "## ODEs and other equations\n",
    "\n",
    "\\begin{align}\n",
    "L_{tot} = L_{t_{tot}} + L_{c_{tot}}; L_{tot} = L_c + L_t + C^+ + C^-; R_{tot} = R + C^+ + C^-\n",
    "\\end{align}\n",
    "\n",
    "\\begin{align}\n",
    "\\frac{dL_{tot}}{dt} = \\alpha_L - \\gamma_{L} (L_{tot} - C^+ - C^-) - \\gamma_R C^+ - \\gamma_C C^- - \\gamma_T C^+ \n",
    "\\end{align}\n",
    "\n",
    "\\begin{align}\n",
    "\\frac{dR_{tot}}{dt} = \\alpha_R - \\gamma_{R} (R_{tot} - C^-) - \\gamma_C C^- - \\gamma_T C^+  \n",
    "\\end{align}\n",
    "\n",
    "\\begin{align}\n",
    "\\frac{dN}{dt} =  \\gamma_T C^+ - \\gamma_{N} N\n",
    "\\end{align}\n",
    "\n",
    "With leaky activation:\n",
    "\n",
    "\\begin{align}\n",
    "\\frac{dL_{tot}}{dt} = \\alpha_L - \\gamma_{L} (L_{tot} - C^+ - C^-) - \\gamma_R C^+ - \\gamma_C C^- - \\gamma_T C^+ \n",
    "\\end{align}\n",
    "\n",
    "\\begin{align}\n",
    "\\frac{dR_{tot}}{dt} = \\alpha_R - \\gamma_{R} (R_{tot} - C^-) - \\gamma_C C^- - \\gamma_T C^+ - d_R (R_{tot} - C^- - C^+)\n",
    "\\end{align}\n",
    "\n",
    "\\begin{align}\n",
    "\\frac{dN}{dt} =  \\gamma_T C^+ - \\gamma_{N} N + d_R (R_{tot} - C^- - C^+)\n",
    "\\end{align}\n",
    "\n",
    "EQTK can be used to compute equilibrium concentrations promiscuously binding species, but it can't be used to compute equilibrium concentrations of just two species that can bind in two different orientations to form two distinct 'types' of complexes. Thus, we must find a work-around to solve for $C^+$ and $C^-$ using EQTK.\n",
    "\n",
    "**Ideas:**\n",
    "1. Free ligand can exist in one of two 'conformations' which we can think of as distinct molecular species or states: the 'trans' state and the 'cis' state. Biophysically, the true ligand structure is identical in each of these cases, and what is really different is the membrane topology--this works if we think of each protein species as a complex of ligand and membrane. \n",
    "    - I think we can then determine how much $L_t$ and $L_c$ ligand we have using a probabilistic model.\n",
    "    - This allows us to use EQTK to represent the formation of $C^+$ and $C^-$.\n",
    "\\begin{align}\n",
    "R + L_t \\rightleftharpoons C^+ \\overset{\\gamma_T}{\\rightarrow} N\n",
    "\\end{align}\n",
    "\n",
    "\\begin{align}\n",
    "C^+ \\overset{\\gamma_R}{\\rightarrow} Ø\n",
    "\\end{align}\n",
    "\n",
    "\\begin{align}\n",
    "R + L_c \\rightleftharpoons C^- \\overset{\\gamma_C}{\\rightarrow} Ø\n",
    "\\end{align}\n",
    "\n",
    "\\begin{align}\n",
    "L_c \\rightleftharpoons L_t\n",
    "\\end{align}\n",
    "\n",
    "Then this is the only change to the above equations:\n",
    "\n",
    "\\begin{align}\n",
    "L_{tot} = L_c + L_t + C^+ + C^-\n",
    "\\end{align}\n",
    "\n",
    "We can then solve for $C^+$ and $C^-$ using EQTK."
   ]
  },
  {
   "cell_type": "markdown",
   "metadata": {},
   "source": [
    "### Non-dimensionalization\n",
    "\n",
    "All concentration variables are relative to $K_d$. This works out so that the production rates ($\\alpha$) are also ratios of true production rate over $K_d$. \n",
    "\n"
   ]
  },
  {
   "cell_type": "code",
   "execution_count": 1,
   "metadata": {},
   "outputs": [],
   "source": [
    "# NumPy and odeint, our workhorses\n",
    "import numpy as np\n",
    "import scipy.integrate\n",
    "import numba\n",
    "import eqtk\n",
    "import pandas as pd\n",
    "\n",
    "# # For interactive plots\n",
    "# import ipywidgets\n",
    "\n",
    "# Import plotting stuff\n",
    "import matplotlib.pyplot as plt\n",
    "import seaborn as sns\n",
    "# Set matplotlib rc params.\n",
    "rc = {'lines.linewidth' : 2, 'axes.labelsize' : 20, 'legend.fontsize': 12,\n",
    "        'axes.titlesize' : 25, 'xtick.labelsize': 15, 'ytick.labelsize': 15}\n",
    "\n",
    "sns.set(rc=rc)\n",
    "sns.set_style(\"whitegrid\")\n",
    "\n",
    "%matplotlib inline"
   ]
  },
  {
   "cell_type": "code",
   "execution_count": 2,
   "metadata": {},
   "outputs": [],
   "source": [
    "def assess_steady_state_convergence(RLN, interval, convergence_crit):\n",
    "    \"\"\"Determines whether the system has reached\n",
    "    steady-state.\"\"\"\n",
    "    \n",
    "    converged = True\n",
    "    \n",
    "    # Compute gradient across last hour and compute percent difference\n",
    "    \n",
    "    back_idx = int(60 / interval + 1)\n",
    "    \n",
    "    # initialize\n",
    "    (R_err, L_err, N_err) = (0.0, 0.0, 0.0)\n",
    "    \n",
    "    # Replace values while avoiding divide by zero errors\n",
    "    # Multiply by 100 to get percent difference\n",
    "    if RLN[-1,0] != 0:\n",
    "        R_err = 100 * abs(RLN[-1,0] - RLN[-back_idx,0]) / RLN[-1,0]\n",
    "    if RLN[-1,1] != 0:\n",
    "        L1_err = 100 * abs(RLN[-1,1] - RLN[-back_idx,1]) / RLN[-1,1]\n",
    "    if RLN[-1,2] != 0:\n",
    "        L2_err = 100 * abs(RLN[-1,2] - RLN[-back_idx,2]) / RLN[-1,2]\n",
    "    \n",
    "    RLN_err = np.array((R_err, L_err, N_err))\n",
    "    \n",
    "    # Evaluate convergence   \n",
    "    failed_arr = RLN_err > convergence_crit\n",
    "    \n",
    "    if np.sum(failed_arr) > 0:\n",
    "#         print('The system has not reached steady state.')\n",
    "        \n",
    "        converged = False\n",
    "        \n",
    "    return converged"
   ]
  },
  {
   "cell_type": "code",
   "execution_count": 3,
   "metadata": {},
   "outputs": [],
   "source": [
    "def solve_EQTK(c0_vect, stoich, K_vect):\n",
    "    '''Takes in:\n",
    "    - c0_vect = initial concentrations of all species in proper order\n",
    "    - stoichiometric matrix\n",
    "    - K_vect = list of Kd values in proper order '''\n",
    "\n",
    "    N = stoich\n",
    "    \n",
    "    c = eqtk.solve(c0_vect, N, K_vect, units=None)\n",
    "    \n",
    "    R, Lt, Lc, C_plus, C_minus = c #all of the steady state concentrations after equilibrium is reached \n",
    "    \n",
    "    # Sanity check of mass conservation:\n",
    "    Rtot = c0_vect[0]\n",
    "         \n",
    "    return c"
   ]
  },
  {
   "cell_type": "code",
   "execution_count": 4,
   "metadata": {},
   "outputs": [],
   "source": [
    "def plot_dynamics(t, y_vals, normalized=False, \n",
    "                  normalize_to_max=True, leg_loc='center right', \n",
    "                  leg_lab = ('Total receptor','Total ligand',\n",
    "                             'Activated receptor','Trans R:L complex'),\n",
    "                  xlab = 'time (hr)', ylim = False,\n",
    "                  ylab = 'dimensionless conc.', title = '',\n",
    "                 filesave = 'NA'):\n",
    "    \"\"\"Convenient plotting function for results\"\"\"\n",
    "    \n",
    "    fig, ax = plt.subplots(1, 1, figsize=(7, 6))\n",
    "    \n",
    "    # Get plot of stimulus dynamics\n",
    "\n",
    "    if normalized:\n",
    "        ylab = 'normalized ' + ylab\n",
    "        if normalize_to_max:\n",
    "            ax = plt.plot(t, y_vals[:,0]/y_vals[:,0].max())\n",
    "            ax = plt.plot(t, y_vals[:,1]/y_vals[:,1].max())\n",
    "            ax = plt.plot(t, y_vals[:,2]/y_vals[:,2].max())\n",
    "            if np.shape(y_vals)[1] > 3:\n",
    "                ax = plt.plot(t, y_vals[:,3]/y_vals[:,3].max())\n",
    "            if np.shape(y_vals)[1] > 4:\n",
    "                ax = plt.plot(t, y_vals[:,4]/y_vals[:,4].max())\n",
    "\n",
    "        else:\n",
    "            ax = plt.plot(t, y_vals[:,0]/y_vals[-1,0])\n",
    "            ax = plt.plot(t, y_vals[:,1]/y_vals[-1,1])\n",
    "            ax = plt.plot(t, y_vals[:,2]/y_vals[-1,2])\n",
    "            if np.shape(y_vals)[1] > 3:\n",
    "                ax = plt.plot(t, y_vals[:,3]/y_vals[-1,3])\n",
    "            if np.shape(y_vals)[1] > 4:\n",
    "                ax = plt.plot(t, y_vals[:,4]/y_vals[-1,4])\n",
    "\n",
    "    else:\n",
    "        ax = plt.plot(t, y_vals[:,0])\n",
    "        ax = plt.plot(t, y_vals[:,1])\n",
    "        ax = plt.plot(t, y_vals[:,2])\n",
    "        if np.shape(y_vals)[1] > 3:\n",
    "            ax = plt.plot(t, y_vals[:,3])\n",
    "        if np.shape(y_vals)[1] > 4:\n",
    "            ax = plt.plot(t, y_vals[:,4])\n",
    "\n",
    "    plt.xlabel(xlab)\n",
    "    plt.ylabel(ylab)\n",
    "    if ylim != False:\n",
    "        plt.ylim(ylim)\n",
    "    plt.legend(leg_lab,loc=leg_loc, fontsize = 14)\n",
    "    plt.title(title, size=22)\n",
    "    \n",
    "    if filesave != 'NA':\n",
    "        print('image saved.')\n",
    "        filename =  '/Users/catherineko/Desktop/FSRI/Research/temp/' + filesave +  '.pdf'\n",
    "        plt.savefig(filename, bbox_inches='tight', format='pdf')\n",
    "    \n",
    "    return ax"
   ]
  },
  {
   "cell_type": "code",
   "execution_count": 5,
   "metadata": {},
   "outputs": [],
   "source": [
    "def get_steady_state_vals(RLN, interval, convergence_crit):\n",
    "    '''Extracts steady-state values from end\n",
    "    of simulation and reports percent difference \n",
    "    across last hour of simulation to assist \n",
    "    evaluation of whether steady-state was reached.\n",
    "    Convergence criterion is the maximum percent\n",
    "    difference allowed before we say the system has \n",
    "    reached steady-state. E.g. 1 for one percent.'''\n",
    "    \n",
    "    # Compute steady state vals\n",
    "    \n",
    "    R0 = RLN[-1,0]\n",
    "    L0 = RLN[-1,1]\n",
    "    N0 = RLN[-1,2]\n",
    "    \n",
    "    RLN0 = np.array((R0, L0, N0)) \n",
    "    \n",
    "    # Determine whether system has reached steady-state\n",
    "    \n",
    "    converged = assess_steady_state_convergence(RLN, interval, convergence_crit)\n",
    "    \n",
    "    if converged:\n",
    "        return RLN0\n",
    "    else:\n",
    "        return np.array((np.nan, np.nan, np.nan))"
   ]
  },
  {
   "cell_type": "code",
   "execution_count": 6,
   "metadata": {},
   "outputs": [],
   "source": [
    "def concat_initial_value(RLN, RLN_initial, hr, tpts):\n",
    "    \"\"\"Adds on initial value to simulation output\n",
    "    in order to see how 'mixing' senders and receivers\n",
    "    altered receptor and ligand levels.\n",
    "    Can take RLN or RLNT of any shape as long as the\n",
    "    dimensions of RLN and RLN_initial are compatible.\"\"\"\n",
    "    \n",
    "    # concat on initial values\n",
    "    RLN = np.concatenate((RLN_initial, RLN), axis = 0)\n",
    "    \n",
    "    # update t accordingly:\n",
    "    t = np.linspace(0, hr + (hr/tpts), tpts+1)\n",
    "    \n",
    "    return RLN, t"
   ]
  },
  {
   "cell_type": "code",
   "execution_count": 7,
   "metadata": {},
   "outputs": [],
   "source": [
    "def compute_cis_activation_potency(N_vect): #peak over leaky \n",
    "    '''This function returns the peak activation\n",
    "    over leaky activation (latter assumed to be first \n",
    "    N-value).'''\n",
    "    \n",
    "    return np.around(np.max(N_vect) / N_vect[0], decimals = 2)\n",
    "\n",
    "def compute_cis_inhibition_potency(N_vect):#??? metric of cis inhibition\n",
    "    '''This function returns the inhibitory potential,\n",
    "    defined as how close to 'leaky' activation the inhibitory\n",
    "    ligand dampens the signal.\n",
    "    This is expressed as a fraction, where 1 is the maximal\n",
    "    inhibition possible, and 0 = no inhibition.'''\n",
    "    \n",
    "    # (peak activation - activation at highest cis ligand level) / \n",
    "    # (peak activation - leaky activation)\n",
    "    \n",
    "    cis_inh = 100 * (np.max(N_vect) - N_vect[-1]) / (np.max(N_vect) - N_vect[0])\n",
    "    \n",
    "    return np.around(cis_inh, decimals = 2)\n"
   ]
  },
  {
   "cell_type": "code",
   "execution_count": 8,
   "metadata": {},
   "outputs": [],
   "source": [
    "def titrate_ligand(aL_vect, params, hr, interval, convergence_crit):\n",
    "    '''This runs a series of simulations to calculate\n",
    "    steady-state N (NICD) values for a range of ligand \n",
    "    levels.\n",
    "    aL_vect is the range of ligand values to explore'''\n",
    "    \n",
    "    N_vect = []\n",
    "    \n",
    "    for aL in aL_vect:\n",
    "        \n",
    "        Kd_t, Kd_c, aR, gR, dR, gT, aL_prev, gL, gC, gN = params\n",
    "        params = Kd_t, Kd_c, aR, gR, dR, gT, aL, gL, gC, gN\n",
    "        \n",
    "        # Simulate\n",
    "        RLN_initial, RLN, t = simulate_Notch_signaling(params, hr, interval)\n",
    "        \n",
    "        # get steady state value\n",
    "        RLN0 = get_steady_state_vals(RLN, interval, convergence_crit)\n",
    "        N = RLN0[2]\n",
    "        \n",
    "        N_vect.append(N)\n",
    "        \n",
    "    # Determine cis-activation potency\n",
    "    cis_act = compute_cis_activation_potency(N_vect)\n",
    "    \n",
    "    # Determine cis-inhibition potency???\n",
    "    cis_inh = compute_cis_inhibition_potency(N_vect)\n",
    "        \n",
    "    return np.array(N_vect), cis_act, cis_inh\n",
    "    "
   ]
  },
  {
   "cell_type": "code",
   "execution_count": 9,
   "metadata": {},
   "outputs": [],
   "source": [
    "def logistic(x, max_Lt_frac, inflection_pt, curvature):\n",
    "    \"\"\"Returns y value of logistic function at \n",
    "    x value(s) provided based on three curve parameters.\"\"\"\n",
    "\n",
    "    return max_Lt_frac / (1 + np.exp(curvature * (x - inflection_pt)))"
   ]
  },
  {
   "cell_type": "code",
   "execution_count": 10,
   "metadata": {},
   "outputs": [
    {
     "data": {
      "text/plain": [
       "Text(0.5, 0, '$C^-$')"
      ]
     },
     "execution_count": 10,
     "metadata": {},
     "output_type": "execute_result"
    },
    {
     "data": {
      "image/png": "[encoded data removed]",
      "text/plain": [
       "<Figure size 504x432 with 1 Axes>"
      ]
     },
     "metadata": {
      "needs_background": "light"
     },
     "output_type": "display_data"
    }
   ],
   "source": [
    "fig, ax = plt.subplots(1, 1, figsize=(7, 6))\n",
    "\n",
    "# x = np.around(np.logspace(1.5, 3.4, num=100, base=10.0), decimals=4)\n",
    "x = np.linspace(0.01,2, num=100)\n",
    "\n",
    "inflection_pt = .5\n",
    "\n",
    "plt.plot(x, logistic(x, .4, inflection_pt, 5 * (1/inflection_pt)))\n",
    "# plt.xscale('log')\n",
    "# plt.ylim(0,.42)\n",
    "plt.xlim(-.1,inflection_pt * 2)\n",
    "# plt.ylabel(\"$L_t$ / ($L_t$ + $L_c$)\")\n",
    "plt.ylabel(\"$\\\\frac{L_t}{L_t + L_c}$\")\n",
    "plt.xlabel(\"$C^-$\")"
   ]
  },
  {
   "cell_type": "code",
   "execution_count": 11,
   "metadata": {},
   "outputs": [],
   "source": [
    "def populate_ligand_states(L, C_minus_prev):\n",
    "    \"\"\"Computes fraction of free ligand (including protein\n",
    "    and membrane state) that exists in trans-like vs. cis-\n",
    "    like state (Lt vs Lc, respectively). This fraction \n",
    "    is computed based on a logistic function defined by\n",
    "    three parameters that you must pass it.\n",
    "    Returns Lt_tot, Lc_tot.\"\"\"\n",
    "    \n",
    "    max_Lt_frac = 0.4 # 40%\n",
    "    inflection_pt = .05 # TEMPORARY! MUST CHANGE\n",
    "    curvature = 5 * (1/inflection_pt) # try 5 * \n",
    "    \n",
    "    frac_Lt = logistic(C_minus_prev, max_Lt_frac, inflection_pt, curvature)\n",
    "    \n",
    "    Lt = frac_Lt * L\n",
    "    Lc = (1 - frac_Lt) * L\n",
    "    \n",
    "    return Lt, Lc\n",
    "    \n",
    "    # I like the idea of sampling from a binomial distribution, \n",
    "    # where theta is returned by the logistic function,\n",
    "    # but I think it's unnecessarily complicated.\n",
    "    \n",
    "    "
   ]
  },
  {
   "cell_type": "code",
   "execution_count": 12,
   "metadata": {},
   "outputs": [],
   "source": [
    "#ODES\n",
    "def dN_dt(R, L, N, Rfree, Lt_free, Lc_free, C_p, C_m, circuit_params):\n",
    "    \"\"\"\n",
    "    Dynamics of activated receptor (ICD); I'm passing\n",
    "    all variables and parameters for easy editing as needed.\n",
    "    \"\"\"\n",
    "    Kd_t, Kd_c, aR, gR, dR, gT, aL, gL, gC, gN = circuit_params\n",
    "    return gT * C_p + dR * Rfree - gN * N\n",
    "\n",
    "\n",
    "def dR_dt(R, L, N, Rfree, Lt_free, Lc_free, C_p, C_m, circuit_params):\n",
    "    \"\"\"\n",
    "    Dynamics of surface receptor (total receptor); I'm passing\n",
    "    all variables and parameters for easy editing as needed.\n",
    "    \"\"\"\n",
    "    Kd_t, Kd_c, aR, gR, dR, gT, aL, gL, gC, gN = circuit_params\n",
    "    return aR - gR * (R - C_m) - gC * C_m - gT * C_p - dR * Rfree\n",
    "\n",
    "\n",
    "def dL_dt(R, L, N, Rfree, Lt_free, Lc_free, C_p, C_m, circuit_params):\n",
    "    \"\"\"\n",
    "    Dynamics of surface ligand (total ligand); I'm passing\n",
    "    all variables and parameters for easy editing as needed.\n",
    "    \"\"\"\n",
    "    Kd_t, Kd_c, aR, gR, dR, gT, aL, gL, gC, gN = circuit_params\n",
    "    return aL - gL * (Lt_free + Lc_free) - gR * C_p - gC * C_m - gT * C_p\n"
   ]
  },
  {
   "cell_type": "code",
   "execution_count": 13,
   "metadata": {},
   "outputs": [],
   "source": [
    "def get_equilibrium_concentrations(R, Lt, Lc, circuit_params):\n",
    "    \"\"\"Gathers info needed to call EQTK\n",
    "    and calls EQTK.\"\"\"\n",
    "    \n",
    "    # Unpack params\n",
    "    Kd_t, Kd_c, aR, gR, dR, gT, aL, gL, gC, gN = circuit_params\n",
    "    \n",
    "    # Stoichiometry matrix\n",
    "    N_1_2 = [[1,  1,  0, -1,  0], #(1)R + (1)L_t + (0)L_c ⇌ (-1)C^+ + (0)C^-\n",
    "         [1,  0,  1,  0, -1]] #(1)R + (0)L_t + (1)L_c ⇌ (0)C^+ + (-1)C^-\n",
    "    \n",
    "    # Array of Kd values\n",
    "    K_vect = [Kd_t, Kd_c]\n",
    "\n",
    "    # Initial concentration vector to pass to EQTK\n",
    "    c0_vect = np.array((R, Lt, Lc, 0.0, 0.0)) # R_tot, Lt_tot, Lc_tot, C_plus, C_minus\n",
    "    if np.isnan(c0_vect).any():\n",
    "        print(c0_vect)\n",
    "    neg = c0_vect[c0_vect < 0]\n",
    "    if len(neg) > 0:\n",
    "        print('negative found:', c0_vect)\n",
    "        \n",
    "    # Compute T based on R_tot and L_tot using EQTK\n",
    "    Rfree, Lt_free, Lc_free, C_plus, C_minus = solve_EQTK(c0_vect, N_1_2, K_vect)\n",
    "        \n",
    "    return np.array([Rfree, Lt_free, Lc_free, C_plus, C_minus])"
   ]
  },
  {
   "cell_type": "code",
   "execution_count": 14,
   "metadata": {},
   "outputs": [],
   "source": [
    "def Euler_integration(RLN_initial, circuit_params, dt, t_stop):    \n",
    "    \"\"\"\n",
    "    Use Euler integration to solve ODEs\n",
    "    for model of Notch cis interactions\n",
    "    between one ligand and one receptor.\n",
    "    \"\"\"    \n",
    "\n",
    "    # Time points\n",
    "    t = np.linspace(0, t_stop, int(t_stop / dt) + 1)\n",
    "    \n",
    "    # Initialize output arrays\n",
    "    R0, L0, N0 = RLN_initial\n",
    "    #print('starting R, L, N at', R0, L0, N0)\n",
    "    R = R0 * np.ones_like(t)\n",
    "    L = L0 * np.ones_like(t)\n",
    "    N = N0 * np.ones_like(t)\n",
    "    C_minus = 0.0 * np.ones_like(t)\n",
    "    \n",
    "    # Do Euler stepping, preventing negative concentration values\n",
    "    for i in range(0, len(t) - 1):\n",
    "            \n",
    "        # Compute fraction of ligand in 'trans-like' vs. 'cis-like' state\n",
    "        # This must use prev value of C_minus, because current value is computed based on Lt, Lc\n",
    "        Lt, Lc = populate_ligand_states(L[i], 0.0)\n",
    "        if i > 0:\n",
    "            Lt, Lc = populate_ligand_states(L[i], C_minus[i-1]) # Lt_tot, Lc_tot\n",
    "        \n",
    "        # Get equilibrium concentrations\n",
    "        EQTK_output = get_equilibrium_concentrations(R[i], Lt, Lc, circuit_params)\n",
    "        Rfree, Lt_free, Lc_free, C_p, C_m = EQTK_output # equilibrium concentrations at current step i\n",
    "        \n",
    "        # Add C_minus to array for CURRENT INDEX\n",
    "        C_minus[i] = C_m\n",
    "#         print('C_minus', C_m)\n",
    "            \n",
    "        # Compute new R\n",
    "        R[i+1] = R[i] + dt * dR_dt(R[i], L[i], N[i], Rfree, Lt_free, Lc_free, C_p, C_m, circuit_params)\n",
    "        if R[i+1] < 0:\n",
    "            R[i+1] = 0\n",
    "        \n",
    "        # Compute new L\n",
    "        L[i+1] = L[i] + dt * dL_dt(R[i], L[i], N[i], Rfree, Lt_free, Lc_free, C_p, C_m, circuit_params)\n",
    "        if L[i+1] < 0:\n",
    "            L[i+1] = 0\n",
    "        \n",
    "        # Compute new N\n",
    "        N[i+1] = N[i] + dt * dN_dt(R[i], L[i], N[i], Rfree, Lt_free, Lc_free, C_p, C_m, circuit_params)\n",
    "        if N[i+1] < 0:\n",
    "            N[i+1] = 0\n",
    "        \n",
    "    # Concatenate arrays\n",
    "    #print('final C_minus = ', C_m)\n",
    "    RLN = np.concatenate(([R,], [L,], [N,]), axis=0)\n",
    "    RLN = np.transpose(RLN)\n",
    "        \n",
    "    return RLN, t\n"
   ]
  },
  {
   "cell_type": "code",
   "execution_count": 15,
   "metadata": {},
   "outputs": [],
   "source": [
    "def simulate_Notch_signaling(circuit_params, hr, interval):\n",
    "    \"\"\"Runs Euler integration and returns \n",
    "    initial values (initial steady state) as \n",
    "    well as simulation output (with total receptor\n",
    "    and ligand, not free) and time series.\n",
    "    Takes as input one set of circuit parameters \n",
    "    and values that define the time series:\n",
    "    - hr (simulation duration in hr) \n",
    "    - interval (time step in minutes)\n",
    "    \"\"\"\n",
    "    \n",
    "    # Define time series\n",
    "    dt = interval / 60 # convert interval from minutes to hours\n",
    "    \n",
    "    # Start values at steady state\n",
    "    Kd_t, Kd_c, aR, gR, dR, gT, aL, gL, gC, gN = circuit_params\n",
    "    R0 = aR/(gR + dR)\n",
    "    L0 = aL/gL\n",
    "    N0 = dR * R0 / gN\n",
    "    RLN_initial = (R0, L0, N0) \n",
    "    \n",
    "    # Initiate Euler stepping\n",
    "    RLN, t = Euler_integration(RLN_initial, circuit_params, dt, hr)\n",
    "\n",
    "    # Return initial values and simulation output\n",
    "    return RLN_initial, RLN, t"
   ]
  },
  {
   "cell_type": "code",
   "execution_count": 16,
   "metadata": {},
   "outputs": [],
   "source": [
    "def significant_change(aL_vals):\n",
    "    new_list = []\n",
    "    for i, aL in enumerate(aL_vals):\n",
    "        if (i + 1) <= len(aL_vals) - 1:\n",
    "            change = N_vect[i + 1] - N_vect[i]\n",
    "            # print(aL_vals[i])\n",
    "        if np.abs(change) > 0.05:\n",
    "            new_list.append(1)\n",
    "        else:\n",
    "            new_list.append(0)\n",
    "    new_array2 = np.array(new_list)\n",
    "    return new_array2"
   ]
  },
  {
   "cell_type": "markdown",
   "metadata": {},
   "source": [
    "## Define the experiment\n",
    "\n",
    "1. We want to determine whether this model (under any reasonable parameter set) could enable cis-activation at low ligand levels and cis-inhibition at high ligand levels. We will start by simulating the Notch1-Dll4 combination.\n",
    "\n",
    "To do this, we must generate a series of ligand concentrations (a virtual 'titration'), and \n",
    "- visualize what the curve of N (active NICD) looks like across that range\n",
    "- define cis-activation and cis-inhibition metrics to compare parameter sets\n",
    "    - cis-activation: N fold difference over 'leaky' activation\n",
    "    - cis-inhibition: how completely cis-activation is 'stopped' at the highest ligand concentration, i.e. ($N_a$ [val. at peak activation] - $N_I$ [val. max inhibition]) / ($N_a$ [val. at peak activation] - $N_L$ [leaky activation])\n",
    "    \n",
    "\n",
    "2. We next want to ask whether this model enables cis activation without inhibition when the $K_{d_c}$ corresponds to a very weak 'cis' affinity. This is my hypothesis for how Notch2 differs from Notch1 in its cis-interactions with Delta ligands.\n",
    "\n",
    "\n",
    "Parameters / ranges:\n",
    "- $K_{d_c}$ should be varied in the range of ($0.01$ to $10$)?.\n",
    "- $K_{d_t}$ should be in the range of ($0.01$ to $0.1$), which is reasonable for the Notch1-Dll4 $K_d$ relative to the Dll1-Notch1 $K_d$.\n",
    "- $\\alpha_R$ could take a wide range of values, but use $0.06$ or $0.4$. \n",
    "    - From $10^{-3}$ or to $10^3$ (times degradation rates).\n",
    "    - Remember, these values are relative to true Notch1-Dll1 Kd.\n",
    "- $d_R = \\frac{\\log(2)}{10h}$ or somewhere between 5-20h.\n",
    "- $\\gamma_{R} = \\frac{\\log(2)}{0.8h}$\n",
    "- $\\alpha_{L}$ could take a wide range of values, but use $0.06$ or $0.4$. \n",
    "- $\\gamma_{L} = \\frac{\\log(2)}{0.3h}$\n",
    "- $\\gamma_{T(1,2)} = \\frac{\\log(2)}{0.07h}$\n",
    "- $\\gamma_N$ is fixed at $\\frac{\\log(2)}{1.25}$"
   ]
  },
  {
   "cell_type": "code",
   "execution_count": 24,
   "metadata": {},
   "outputs": [
    {
     "name": "stdout",
     "output_type": "stream",
     "text": [
      "Cis-activation fold-diff: 16.54\n",
      "Cis-inhibition efficacy: 106.39 %\n",
      "start of peak 0.0\n",
      "end of peak 0.3162\n",
      "0.3162\n"
     ]
    },
    {
     "data": {
      "image/png": "[encoded data removed]",
      "text/plain": [
       "<Figure size 504x432 with 1 Axes>"
      ]
     },
     "metadata": {
      "needs_background": "light"
     },
     "output_type": "display_data"
    }
   ],
   "source": [
    "# Define params values that give good fold differences at reasonably high production rates\n",
    "# Receptor = Notch1, Ligand = Dll4\n",
    "\n",
    "Kd_t = 0.1\n",
    "Kd_c = 0.1\n",
    "aR = 0.4\n",
    "gR = np.log(2) / .8\n",
    "dR = 0.01\n",
    "gT = np.log(2) / .07\n",
    "# aL = 0.4\n",
    "gC = gR # setting gC == gR for now\n",
    "gL = np.log(2) / .3\n",
    "gN = np.log(2) / 1.25\n",
    "\n",
    "# Define ligand range for titration- x axis for plot; adding ligands \n",
    "aL_vals = np.around(np.logspace(-1, 1.5, num=6, base=10.0), decimals=4)\n",
    "aL_vals = np.insert(aL_vals, 0, 0)\n",
    "\n",
    "circuit_params = (Kd_t, Kd_c, aR, gR, dR, gT, aL_vals[0], gL, gC, gN)\n",
    "\n",
    "# Define time series\n",
    "hr = 48.0 # simulation of 48 hours\n",
    "interval = 5 # 5 minutes between time steps\n",
    "\n",
    "convergence_crit = 1 # ≤ 1 percent change in 5 minutes = steady state achieved\n",
    "\n",
    "# Simulate ligand titration\n",
    "N_vect, cis_act, cis_inh = titrate_ligand(aL_vals, circuit_params, \n",
    "                                          hr, interval, convergence_crit)\n",
    "\n",
    "# Print cis-activation and -inhibition metrics\n",
    "print('Cis-activation fold-diff:', cis_act)\n",
    "print('Cis-inhibition efficacy:', cis_inh, '%')\n",
    "\n",
    "# Added this in to quantify peak width \n",
    "for i, element in enumerate(significant_change(aL_vals)):\n",
    "    if element == 1:\n",
    "        start_of_peak = aL_vals[i]\n",
    "        break\n",
    "\n",
    "for i, element in reversed(list(enumerate(significant_change(aL_vals)))):\n",
    "    if element == 1:\n",
    "        end_of_peak = aL_vals[i + 1]\n",
    "        break\n",
    "\n",
    "peak_width = end_of_peak - start_of_peak\n",
    "    \n",
    "# Plot\n",
    "fig, ax = plt.subplots(1, 1, figsize=(7, 6))\n",
    "\n",
    "plt.plot(aL_vals, N_vect)\n",
    "plt.ylabel('Steady state $N$')\n",
    "plt.xlabel('$\\\\alpha_L$')\n",
    "plt.ylim((0,1))\n",
    "ax.set_xscale('log')\n",
    "print('start of peak', start_of_peak)\n",
    "print('end of peak',end_of_peak)\n",
    "print(peak_width)"
   ]
  },
  {
   "cell_type": "code",
   "execution_count": 18,
   "metadata": {},
   "outputs": [
    {
     "data": {
      "text/plain": [
       "array([0.05, 0.14, 0.23, 0.32, 0.41, 0.5 ])"
      ]
     },
     "execution_count": 18,
     "metadata": {},
     "output_type": "execute_result"
    }
   ],
   "source": [
    "np.around(np.linspace(.05, 0.5, num=6), decimals=4)"
   ]
  },
  {
   "cell_type": "code",
   "execution_count": 25,
   "metadata": {},
   "outputs": [
    {
     "name": "stdout",
     "output_type": "stream",
     "text": [
      "Cis-activation fold-diff: 71.72\n",
      "Cis-inhibition efficacy: 0.0 %\n"
     ]
    },
    {
     "data": {
      "image/png": "[encoded data removed]",
      "text/plain": [
       "<Figure size 504x432 with 1 Axes>"
      ]
     },
     "metadata": {
      "needs_background": "light"
     },
     "output_type": "display_data"
    },
    {
     "name": "stdout",
     "output_type": "stream",
     "text": [
      "Cis-activation fold-diff: 71.67\n",
      "Cis-inhibition efficacy: 0.0 %\n"
     ]
    },
    {
     "data": {
      "image/png": "[encoded data removed]",
      "text/plain": [
       "<Figure size 504x432 with 1 Axes>"
      ]
     },
     "metadata": {
      "needs_background": "light"
     },
     "output_type": "display_data"
    },
    {
     "name": "stdout",
     "output_type": "stream",
     "text": [
      "Cis-activation fold-diff: 71.61\n",
      "Cis-inhibition efficacy: 0.0 %\n"
     ]
    },
    {
     "data": {
      "image/png": "[encoded data removed]",
      "text/plain": [
       "<Figure size 504x432 with 1 Axes>"
      ]
     },
     "metadata": {
      "needs_background": "light"
     },
     "output_type": "display_data"
    },
    {
     "name": "stdout",
     "output_type": "stream",
     "text": [
      "Cis-activation fold-diff: 62.85\n",
      "Cis-inhibition efficacy: 101.3 %\n"
     ]
    },
    {
     "data": {
      "image/png": "[encoded data removed]",
      "text/plain": [
       "<Figure size 504x432 with 1 Axes>"
      ]
     },
     "metadata": {
      "needs_background": "light"
     },
     "output_type": "display_data"
    },
    {
     "name": "stdout",
     "output_type": "stream",
     "text": [
      "Cis-activation fold-diff: 62.3\n",
      "Cis-inhibition efficacy: 101.6 %\n"
     ]
    },
    {
     "data": {
      "image/png": "[encoded data removed]",
      "text/plain": [
       "<Figure size 504x432 with 1 Axes>"
      ]
     },
     "metadata": {
      "needs_background": "light"
     },
     "output_type": "display_data"
    },
    {
     "name": "stdout",
     "output_type": "stream",
     "text": [
      "Cis-activation fold-diff: 61.69\n",
      "Cis-inhibition efficacy: 101.64 %\n"
     ]
    },
    {
     "data": {
      "image/png": "[encoded data removed]",
      "text/plain": [
       "<Figure size 504x432 with 1 Axes>"
      ]
     },
     "metadata": {
      "needs_background": "light"
     },
     "output_type": "display_data"
    }
   ],
   "source": [
    "# Define params values that give good fold differences at reasonably high production rates\n",
    "# Receptor = Notch1, Ligand = Dll4\n",
    "\n",
    "Kd_t = 0.1\n",
    "Kd_c = 0.1\n",
    "aR_vals = np.around(np.linspace(.05, 0.15, num=6), decimals=4)\n",
    "gR = np.log(2) / .8\n",
    "dR = 0.01\n",
    "gT = np.log(2) / .07\n",
    "# aL = 0.4\n",
    "gC = gR # setting gC == gR for now\n",
    "gL = np.log(2) / .3\n",
    "gN = np.log(2) / 1.25\n",
    "\n",
    "for aR in aR_vals:\n",
    "    # Define ligand range for titration- x axis for plot; adding ligands \n",
    "    aL_vals = np.around(np.logspace(-2, 2, num=6, base=10.0), decimals=4)\n",
    "    aL_vals = np.insert(aL_vals, 0, 0)\n",
    "\n",
    "    circuit_params = (Kd_t, Kd_c, aR, gR, dR, gT, aL_vals[0], gL, gC, gN)\n",
    "\n",
    "    # Define time series\n",
    "    hr = 48.0 # simulation of 48 hours\n",
    "    interval = 5 # 5 minutes between time steps\n",
    "\n",
    "    convergence_crit = 1 # ≤ 1 percent change in 5 minutes = steady state achieved\n",
    "\n",
    "    # Simulate ligand titration\n",
    "    N_vect, cis_act, cis_inh = titrate_ligand(aL_vals, circuit_params, \n",
    "                                              hr, interval, convergence_crit)\n",
    "\n",
    "    # Print cis-activation and -inhibition metrics\n",
    "    print('Cis-activation fold-diff:', cis_act)\n",
    "    print('Cis-inhibition efficacy:', cis_inh, '%')\n",
    "    \n",
    "    # Added this in to quantify peak width \n",
    "    for i, element in enumerate(significant_change(aL_vals)):\n",
    "        if element == 1:\n",
    "            start_of_peak = aL_vals[i]\n",
    "            break\n",
    "\n",
    "    for i, element in reversed(list(enumerate(significant_change(aL_vals)))):\n",
    "        if element == 1:\n",
    "            end_of_peak = aL_vals[i + 1]\n",
    "            break\n",
    "\n",
    "    peak_width = end_of_peak - start_of_peak\n",
    "    \n",
    "    # Plot\n",
    "    fig, ax = plt.subplots(1, 1, figsize=(7, 6))\n",
    "\n",
    "    plt.plot(aL_vals, N_vect)\n",
    "    plt.title('aR = ' + str(aR)+', peak width: '+str(peak_width))\n",
    "    plt.ylabel('Steady state $N$')\n",
    "    plt.xlabel('$\\\\alpha_L$')\n",
    "    plt.ylim((0,1))\n",
    "    ax.set_xscale('log')\n",
    "    plt.show()\n",
    "    \n",
    "    "
   ]
  },
  {
   "cell_type": "code",
   "execution_count": null,
   "metadata": {},
   "outputs": [],
   "source": [
    "peakrise = np.max(N_vect)-N_vect[0]\n",
    "peakrise"
   ]
  },
  {
   "cell_type": "code",
   "execution_count": null,
   "metadata": {},
   "outputs": [],
   "source": [
    "inhibition_drop = np.abs(N_vect[-1]-N_vect[0])\n",
    "inhibition_drop"
   ]
  },
  {
   "cell_type": "code",
   "execution_count": null,
   "metadata": {},
   "outputs": [],
   "source": [
    "peakrise-inhibition_drop"
   ]
  },
  {
   "cell_type": "code",
   "execution_count": null,
   "metadata": {},
   "outputs": [],
   "source": [
    "aL_vals"
   ]
  },
  {
   "cell_type": "code",
   "execution_count": null,
   "metadata": {},
   "outputs": [],
   "source": [
    "new_array = np.array((aL_vals,N_vect))"
   ]
  },
  {
   "cell_type": "code",
   "execution_count": null,
   "metadata": {},
   "outputs": [],
   "source": [
    "new_array.shape"
   ]
  },
  {
   "cell_type": "code",
   "execution_count": null,
   "metadata": {},
   "outputs": [],
   "source": [
    "index_of_peak = np.argmax(N_vect)"
   ]
  },
  {
   "cell_type": "code",
   "execution_count": null,
   "metadata": {},
   "outputs": [],
   "source": [
    "aL_of_peak = aL_vals[index_of_peak]"
   ]
  },
  {
   "cell_type": "code",
   "execution_count": null,
   "metadata": {},
   "outputs": [],
   "source": [
    "def significant_change(aL_vals):\n",
    "    new_list = []\n",
    "    for i, aL in enumerate(aL_vals):\n",
    "        if (i + 1) <= len(aL_vals) - 1:\n",
    "            change = N_vect[i + 1] - N_vect[i]\n",
    "            # print(aL_vals[i])\n",
    "        if np.abs(change) > 0.05:\n",
    "            new_list.append(1)\n",
    "        else:\n",
    "            new_list.append(0)\n",
    "    new_array2 = np.array(new_list)\n",
    "    return new_array2\n",
    "\n",
    "for i, element in enumerate(significant_change(aL_vals)):\n",
    "    if element == 1:\n",
    "        start_of_peak = aL_vals[i]\n",
    "        \n",
    "        break\n",
    "        \n",
    "for i, element in reversed(list(enumerate(significant_change(aL_vals)))):\n",
    "    if element == 1:\n",
    "        end_of_peak = aL_vals[i + 1]\n",
    "        break\n",
    "        \n",
    "peak_width = end_of_peak - start_of_peak # peak width in terms of aL\n"
   ]
  },
  {
   "cell_type": "markdown",
   "metadata": {},
   "source": [
    "# Looping through Kd_t Kd_c and aR"
   ]
  },
  {
   "cell_type": "code",
   "execution_count": 26,
   "metadata": {},
   "outputs": [],
   "source": [
    "def populate_ligand_states(L, C_minus_prev):\n",
    "    \"\"\"Computes fraction of free ligand (including protein\n",
    "    and membrane state) that exists in trans-like vs. cis-\n",
    "    like state (Lt vs Lc, respectively). This fraction \n",
    "    is computed based on a logistic function defined by\n",
    "    three parameters that you must pass it.\n",
    "    Returns Lt_tot, Lc_tot.\"\"\"\n",
    "    \n",
    "    max_Lt_frac = 0.4 # 40%\n",
    "    inflection_pt = .05 # TEMPORARY! MUST CHANGE\n",
    "    curvature = 5 * (1/inflection_pt) # try 5 * \n",
    "    \n",
    "    frac_Lt = logistic(C_minus_prev, max_Lt_frac, inflection_pt, curvature)\n",
    "    \n",
    "    Lt = frac_Lt * L\n",
    "    Lc = (1 - frac_Lt) * L\n",
    "    \n",
    "    return Lt, Lc\n",
    "    \n",
    "    # I like the idea of sampling from a binomial distribution, \n",
    "    # where theta is returned by the logistic function,\n",
    "    # but I think it's unnecessarily complicated.\n",
    "    \n",
    "    "
   ]
  },
  {
   "cell_type": "code",
   "execution_count": null,
   "metadata": {},
   "outputs": [],
   "source": [
    "# Define params values that give good fold differences at reasonably high production rates\n",
    "# Receptor = Notch1, Ligand = Dll4\n",
    "\n",
    "Kd_t_vals = np.around(np.linspace(0.1,10,num=6),decimals =4)\n",
    "Kd_c_vals = np.around(np.linspace(0.1,10,num=6),decimals =4)\n",
    "aR_vals = np.around(np.linspace(.05, 0.15, num=6), decimals=4) # this range of aR values gives good curve\n",
    "gR = np.log(2) / .8\n",
    "dR = 0.01\n",
    "gT = np.log(2) / .07\n",
    "# aL = 0.4\n",
    "gC = gR # setting gC == gR for now\n",
    "gL = np.log(2) / .3\n",
    "gN = np.log(2) / 1.25\n",
    "\n",
    "for aR in aR_vals:\n",
    "    for Kd_t in Kd_t_vals:\n",
    "        for Kd_c in Kd_c_vals:\n",
    "            \n",
    "            # Define ligand range for titration- x axis for plot; adding ligands \n",
    "            aL_vals = np.around(np.logspace(-2, 2, num=6, base=10.0), decimals=4)\n",
    "            aL_vals = np.insert(aL_vals, 0, 0)\n",
    "\n",
    "            circuit_params = (Kd_t, Kd_c, aR, gR, dR, gT, aL_vals[0], gL, gC, gN)\n",
    "\n",
    "            # Define time series\n",
    "            hr = 48.0 # simulation of 48 hours\n",
    "            interval = 5 # 5 minutes between time steps\n",
    "\n",
    "            convergence_crit = 1 # ≤ 1 percent change in 5 minutes = steady state achieved\n",
    "\n",
    "            # Simulate ligand titration\n",
    "            N_vect, cis_act, cis_inh = titrate_ligand(aL_vals, circuit_params, \n",
    "                                                      hr, interval, convergence_crit)\n",
    "\n",
    "            # Print cis-activation and -inhibition metrics\n",
    "            print('Cis-activation fold-diff:', cis_act)\n",
    "            print('Cis-inhibition efficacy:', cis_inh, '%')\n",
    "\n",
    "            # Added this in to quantify peak width \n",
    "            for i, element in enumerate(significant_change(aL_vals)):\n",
    "                if element == 1:\n",
    "                    start_of_peak = i\n",
    "                    break\n",
    "\n",
    "            for i, element in reversed(list(enumerate(significant_change(aL_vals)))):\n",
    "                if element == 1:\n",
    "                    end_of_peak = i + 1\n",
    "                    break\n",
    "\n",
    "            peak_width = end_of_peak - start_of_peak\n",
    "\n",
    "            # Plot\n",
    "           \n",
    "            if (cis_act>1.5) & (cis_inh >90):\n",
    "                fig, ax = plt.subplots(1, 1, figsize=(7, 6))\n",
    "                plt.plot(aL_vals, N_vect)\n",
    "                plt.title('aR = ' + str(aR)+', peak width: '+str(peak_width))\n",
    "                plt.ylabel('Steady state $N$')\n",
    "                plt.xlabel('$\\\\alpha_L$')\n",
    "                #plt.ylim((0,1))\n",
    "                ax.set_xscale('log')\n",
    "                plt.show()\n",
    "    \n",
    "    "
   ]
  },
  {
   "cell_type": "markdown",
   "metadata": {},
   "source": [
    "# Plotting aR, Kd_t, and Kd_c by peak width"
   ]
  },
  {
   "cell_type": "code",
   "execution_count": null,
   "metadata": {},
   "outputs": [],
   "source": [
    "# Define params values that give good fold differences at reasonably high production rates\n",
    "# Receptor = Notch1, Ligand = Dll4\n",
    "master_array = np.array(())\n",
    "\n",
    "Kd_t_vals = np.around(np.linspace(0.1,10,num=6),decimals =4)\n",
    "Kd_c_vals = np.around(np.linspace(0.1,10,num=6),decimals =4)\n",
    "aR_vals = np.around(np.linspace(.05, 0.15, num=6), decimals=4) # this range of aR values gives good curve\n",
    "gR = np.log(2) / .8\n",
    "dR = 0.01\n",
    "gT = np.log(2) / .07\n",
    "# aL = 0.4\n",
    "gC = gR # setting gC == gR for now\n",
    "gL = np.log(2) / .3\n",
    "gN = np.log(2) / 1.25\n",
    "\n",
    "for aR in aR_vals:\n",
    "    for Kd_t in Kd_t_vals:\n",
    "        for Kd_c in Kd_c_vals:\n",
    "            \n",
    "            # Define ligand range for titration- x axis for plot; adding ligands \n",
    "            aL_vals = np.around(np.logspace(-2, 2, num=6, base=10.0), decimals=4)\n",
    "            aL_vals = np.insert(aL_vals, 0, 0)\n",
    "\n",
    "            circuit_params = (Kd_t, Kd_c, aR, gR, dR, gT, aL_vals[0], gL, gC, gN)\n",
    "\n",
    "            # Define time series\n",
    "            hr = 48.0 # simulation of 48 hours\n",
    "            interval = 5 # 5 minutes between time steps\n",
    "\n",
    "            convergence_crit = 1 # ≤ 1 percent change in 5 minutes = steady state achieved\n",
    "\n",
    "            # Simulate ligand titration\n",
    "            N_vect, cis_act, cis_inh = titrate_ligand(aL_vals, circuit_params, \n",
    "                                                      hr, interval, convergence_crit)\n",
    "\n",
    "            # Print cis-activation and -inhibition metrics\n",
    "            #print('Cis-activation fold-diff:', cis_act)\n",
    "            #print('Cis-inhibition efficacy:', cis_inh, '%')\n",
    "\n",
    "            # Added this in to quantify peak width \n",
    "            for i, element in enumerate(significant_change(aL_vals)):\n",
    "                if element == 1:\n",
    "                    start_of_peak = i\n",
    "                    break\n",
    "\n",
    "            for i, element in reversed(list(enumerate(significant_change(aL_vals)))):\n",
    "                if element == 1:\n",
    "                    end_of_peak = i + 1\n",
    "                    break\n",
    "\n",
    "            peak_width = end_of_peak - start_of_peak\n",
    "            Kd_t, Kd_c, aR, gR, dR, gT, aL_vals[0], gL, gC, gN = circuit_params\n",
    "            \n",
    "            create_list = [Kd_t, Kd_c, aR, gR, dR, gT, aL_vals[0], gL, gC, gN, cis_act,cis_inh, peak_width]\n",
    "            \n",
    "            master_array = np.append(master_array,create_list)\n",
    "            #print(master_array)\n",
    "            \n",
    "            # Plot\n",
    "            '''\n",
    "            if (cis_act>1.5) & (cis_inh >90):\n",
    "                fig, ax = plt.subplots(1, 1, figsize=(7, 6))\n",
    "                plt.plot(aL_vals, N_vect)\n",
    "                plt.title('aR = ' + str(aR)+', peak width: '+str(peak_width))\n",
    "                plt.ylabel('Steady state $N$')\n",
    "                plt.xlabel('$\\\\alpha_L$')\n",
    "                plt.ylim((0,1))\n",
    "                ax.set_xscale('log')\n",
    "                plt.show()\n",
    "            '''"
   ]
  },
  {
   "cell_type": "code",
   "execution_count": null,
   "metadata": {},
   "outputs": [],
   "source": [
    "rows = master_array.size/13"
   ]
  },
  {
   "cell_type": "code",
   "execution_count": null,
   "metadata": {},
   "outputs": [],
   "source": [
    "master_array = master_array.reshape((int(rows),13))"
   ]
  },
  {
   "cell_type": "code",
   "execution_count": null,
   "metadata": {},
   "outputs": [],
   "source": [
    "masterdf = pd.DataFrame(master_array)"
   ]
  },
  {
   "cell_type": "code",
   "execution_count": null,
   "metadata": {},
   "outputs": [],
   "source": [
    "masterdf.columns = ['Kd_t', 'Kd_c', 'aR', 'gR', 'dR', 'gT', 'aL_vals[0]', 'gL', 'gC', 'gN', 'cis_act','cis_inh', 'peak_width']"
   ]
  },
  {
   "cell_type": "code",
   "execution_count": null,
   "metadata": {},
   "outputs": [],
   "source": [
    "masterdf.head()"
   ]
  },
  {
   "cell_type": "markdown",
   "metadata": {},
   "source": [
    "# when $Kd_t=Kd_c \\implies$ larger peak width\n",
    "\n",
    "# USE HEAT MAPS"
   ]
  },
  {
   "cell_type": "code",
   "execution_count": null,
   "metadata": {},
   "outputs": [],
   "source": [
    "plt.hist(df_subset['aR'],df_subset['peak_width'])"
   ]
  },
  {
   "cell_type": "code",
   "execution_count": null,
   "metadata": {},
   "outputs": [],
   "source": [
    "df_subset = masterdf.loc[(masterdf['Kd_t']==np.around(Kd_t_vals[1],decimals=4)) &\\\n",
    "                         (masterdf['Kd_c']==np.around(Kd_c_vals[1],decimals=4))]\n",
    "import bokeh.io\n",
    "import bokeh.plotting\n",
    "\n",
    "bokeh.io.output_notebook()\n",
    "\n",
    "p = bokeh.plotting.figure(\n",
    "    frame_width=400,\n",
    "    frame_height=300,\n",
    "    x_axis_label='aR',\n",
    "    y_axis_label='peak_width',\n",
    "    #x_axis_type='log'\n",
    ")\n",
    "\n",
    "p.circle(\n",
    "    source=df_subset,\n",
    "    x='aR',\n",
    "    y='peak_width'\n",
    ")\n",
    "\n",
    "bokeh.io.show(p)\n",
    "\n",
    "print('Kd_t',Kd_t_vals[1])\n",
    "print('Kd_c',Kd_c_vals[1])\n",
    "\n",
    "#plt.scatter(masterdf['Kd_t'],masterdf['peak_width'])\n"
   ]
  },
  {
   "cell_type": "code",
   "execution_count": null,
   "metadata": {},
   "outputs": [],
   "source": [
    "df_subset = masterdf.loc[(masterdf['Kd_t']==np.around(Kd_t_vals[0],decimals=4)) &\\\n",
    "                         (masterdf['Kd_c']==np.around(Kd_c_vals[1],decimals=4))]\n",
    "import bokeh.io\n",
    "import bokeh.plotting\n",
    "\n",
    "bokeh.io.output_notebook()\n",
    "\n",
    "p = bokeh.plotting.figure(\n",
    "    frame_width=400,\n",
    "    frame_height=300,\n",
    "    x_axis_label='aR',\n",
    "    y_axis_label='peak_width',\n",
    "    #x_axis_type='log'\n",
    ")\n",
    "\n",
    "p.circle(\n",
    "    source=df_subset,\n",
    "    x='aR',\n",
    "    y='peak_width'\n",
    ")\n",
    "\n",
    "bokeh.io.show(p)\n",
    "\n",
    "print('Kd_t',Kd_t_vals[0])\n",
    "print('Kd_c',Kd_c_vals[1])\n",
    "\n",
    "#plt.scatter(masterdf['Kd_t'],masterdf['peak_width'])"
   ]
  },
  {
   "cell_type": "code",
   "execution_count": null,
   "metadata": {},
   "outputs": [],
   "source": [
    "df_subset = masterdf.loc[(masterdf['Kd_t']==np.around(Kd_t_vals[0],decimals=4)) &\\\n",
    "                         (masterdf['Kd_c']==np.around(Kd_c_vals[0],decimals=4))]\n",
    "import bokeh.io\n",
    "import bokeh.plotting\n",
    "\n",
    "bokeh.io.output_notebook()\n",
    "\n",
    "p = bokeh.plotting.figure(\n",
    "    frame_width=400,\n",
    "    frame_height=300,\n",
    "    x_axis_label='aR',\n",
    "    y_axis_label='peak_width',\n",
    "    #x_axis_type='log'\n",
    ")\n",
    "\n",
    "p.circle(\n",
    "    source=df_subset,\n",
    "    x='aR',\n",
    "    y='peak_width'\n",
    ")\n",
    "\n",
    "bokeh.io.show(p)\n",
    "\n",
    "print('Kd_t',Kd_t_vals[0])\n",
    "print('Kd_c',Kd_c_vals[0])\n",
    "\n",
    "#plt.scatter(masterdf['Kd_t'],masterdf['peak_width'])"
   ]
  },
  {
   "cell_type": "code",
   "execution_count": null,
   "metadata": {},
   "outputs": [],
   "source": [
    "df_subset = masterdf.loc[(masterdf['Kd_t']==np.around(Kd_t_vals[1],decimals=4)) &\\\n",
    "                         (masterdf['Kd_c']==np.around(Kd_c_vals[0],decimals=4))]\n",
    "import bokeh.io\n",
    "import bokeh.plotting\n",
    "\n",
    "bokeh.io.output_notebook()\n",
    "\n",
    "p = bokeh.plotting.figure(\n",
    "    frame_width=400,\n",
    "    frame_height=300,\n",
    "    x_axis_label='aR',\n",
    "    y_axis_label='peak_width',\n",
    "    #x_axis_type='log'\n",
    ")\n",
    "\n",
    "p.circle(\n",
    "    source=df_subset,\n",
    "    x='aR',\n",
    "    y='peak_width'\n",
    ")\n",
    "\n",
    "bokeh.io.show(p)\n",
    "\n",
    "print('Kd_t',Kd_t_vals[1])\n",
    "print('Kd_c',Kd_c_vals[0])\n",
    "\n",
    "#plt.scatter(masterdf['Kd_t'],masterdf['peak_width'])"
   ]
  },
  {
   "cell_type": "code",
   "execution_count": null,
   "metadata": {},
   "outputs": [],
   "source": []
  },
  {
   "cell_type": "code",
   "execution_count": null,
   "metadata": {},
   "outputs": [],
   "source": []
  },
  {
   "cell_type": "code",
   "execution_count": null,
   "metadata": {},
   "outputs": [],
   "source": []
  },
  {
   "cell_type": "code",
   "execution_count": null,
   "metadata": {},
   "outputs": [],
   "source": []
  },
  {
   "cell_type": "code",
   "execution_count": null,
   "metadata": {},
   "outputs": [],
   "source": []
  },
  {
   "cell_type": "code",
   "execution_count": null,
   "metadata": {},
   "outputs": [],
   "source": [
    "df_subset = masterdf.loc[(masterdf['aR']==np.around(aR_vals[1],decimals=4)) &\\\n",
    "                         (masterdf['Kd_c']==np.around(Kd_c_vals[1],decimals=4))]\n",
    "import bokeh.io\n",
    "import bokeh.plotting\n",
    "\n",
    "bokeh.io.output_notebook()\n",
    "\n",
    "p = bokeh.plotting.figure(\n",
    "    frame_width=400,\n",
    "    frame_height=300,\n",
    "    x_axis_label='Kd_t',\n",
    "    y_axis_label='peak_width',\n",
    "    #x_axis_type='log'\n",
    ")\n",
    "\n",
    "p.circle(\n",
    "    source=df_subset,\n",
    "    x='Kd_t',\n",
    "    y='peak_width'\n",
    ")\n",
    "\n",
    "bokeh.io.show(p)\n",
    "\n",
    "#plt.scatter(masterdf['Kd_t'],masterdf['peak_width'])"
   ]
  },
  {
   "cell_type": "markdown",
   "metadata": {},
   "source": [
    "Kd_t and Kd_c both showed constant peak width acorss the range I chose"
   ]
  },
  {
   "cell_type": "code",
   "execution_count": null,
   "metadata": {},
   "outputs": [],
   "source": [
    "df_subset"
   ]
  },
  {
   "cell_type": "code",
   "execution_count": null,
   "metadata": {},
   "outputs": [],
   "source": [
    "plt.hist(df_subset.loc[df_subset['aR']==aR_vals[0]]['peak_width'])"
   ]
  },
  {
   "cell_type": "code",
   "execution_count": null,
   "metadata": {},
   "outputs": [],
   "source": [
    "df_subset.loc[df_subset['aR']==aR_vals[0]]['peak_width']"
   ]
  },
  {
   "cell_type": "code",
   "execution_count": null,
   "metadata": {},
   "outputs": [],
   "source": [
    "df_subset"
   ]
  },
  {
   "cell_type": "code",
   "execution_count": null,
   "metadata": {},
   "outputs": [],
   "source": []
  }
 ],
 "metadata": {
  "kernelspec": {
   "display_name": "Python 3",
   "language": "python",
   "name": "python3"
  },
  "language_info": {
   "codemirror_mode": {
    "name": "ipython",
    "version": 3
   },
   "file_extension": ".py",
   "mimetype": "text/x-python",
   "name": "python",
   "nbconvert_exporter": "python",
   "pygments_lexer": "ipython3",
   "version": "3.7.7"
  }
 },
 "nbformat": 4,
 "nbformat_minor": 4
}

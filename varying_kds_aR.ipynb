{
 "cells": [
  {
   "cell_type": "code",
   "execution_count": 1,
   "metadata": {},
   "outputs": [
    {
     "data": {
      "text/html": [
       "\n",
       "    <div class=\"bk-root\">\n",
       "        <a href=\"https://bokeh.org\" target=\"_blank\" class=\"bk-logo bk-logo-small bk-logo-notebook\"></a>\n",
       "        <span id=\"1001\">Loading BokehJS ...</span>\n",
       "    </div>"
      ]
     },
     "metadata": {},
     "output_type": "display_data"
    },
    {
     "data": {
      "application/javascript": [
       "\n",
       "(function(root) {\n",
       "  function now() {\n",
       "    return new Date();\n",
       "  }\n",
       "\n",
       "  var force = true;\n",
       "\n",
       "  if (typeof root._bokeh_onload_callbacks === \"undefined\" || force === true) {\n",
       "    root._bokeh_onload_callbacks = [];\n",
       "    root._bokeh_is_loading = undefined;\n",
       "  }\n",
       "\n",
       "  var JS_MIME_TYPE = 'application/javascript';\n",
       "  var HTML_MIME_TYPE = 'text/html';\n",
       "  var EXEC_MIME_TYPE = 'application/vnd.bokehjs_exec.v0+json';\n",
       "  var CLASS_NAME = 'output_bokeh rendered_html';\n",
       "\n",
       "  /**\n",
       "   * Render data to the DOM node\n",
       "   */\n",
       "  function render(props, node) {\n",
       "    var script = document.createElement(\"script\");\n",
       "    node.appendChild(script);\n",
       "  }\n",
       "\n",
       "  /**\n",
       "   * Handle when an output is cleared or removed\n",
       "   */\n",
       "  function handleClearOutput(event, handle) {\n",
       "    var cell = handle.cell;\n",
       "\n",
       "    var id = cell.output_area._bokeh_element_id;\n",
       "    var server_id = cell.output_area._bokeh_server_id;\n",
       "    // Clean up Bokeh references\n",
       "    if (id != null && id in Bokeh.index) {\n",
       "      Bokeh.index[id].model.document.clear();\n",
       "      delete Bokeh.index[id];\n",
       "    }\n",
       "\n",
       "    if (server_id !== undefined) {\n",
       "      // Clean up Bokeh references\n",
       "      var cmd = \"from bokeh.io.state import curstate; print(curstate().uuid_to_server['\" + server_id + \"'].get_sessions()[0].document.roots[0]._id)\";\n",
       "      cell.notebook.kernel.execute(cmd, {\n",
       "        iopub: {\n",
       "          output: function(msg) {\n",
       "            var id = msg.content.text.trim();\n",
       "            if (id in Bokeh.index) {\n",
       "              Bokeh.index[id].model.document.clear();\n",
       "              delete Bokeh.index[id];\n",
       "            }\n",
       "          }\n",
       "        }\n",
       "      });\n",
       "      // Destroy server and session\n",
       "      var cmd = \"import bokeh.io.notebook as ion; ion.destroy_server('\" + server_id + \"')\";\n",
       "      cell.notebook.kernel.execute(cmd);\n",
       "    }\n",
       "  }\n",
       "\n",
       "  /**\n",
       "   * Handle when a new output is added\n",
       "   */\n",
       "  function handleAddOutput(event, handle) {\n",
       "    var output_area = handle.output_area;\n",
       "    var output = handle.output;\n",
       "\n",
       "    // limit handleAddOutput to display_data with EXEC_MIME_TYPE content only\n",
       "    if ((output.output_type != \"display_data\") || (!output.data.hasOwnProperty(EXEC_MIME_TYPE))) {\n",
       "      return\n",
       "    }\n",
       "\n",
       "    var toinsert = output_area.element.find(\".\" + CLASS_NAME.split(' ')[0]);\n",
       "\n",
       "    if (output.metadata[EXEC_MIME_TYPE][\"id\"] !== undefined) {\n",
       "      toinsert[toinsert.length - 1].firstChild.textContent = output.data[JS_MIME_TYPE];\n",
       "      // store reference to embed id on output_area\n",
       "      output_area._bokeh_element_id = output.metadata[EXEC_MIME_TYPE][\"id\"];\n",
       "    }\n",
       "    if (output.metadata[EXEC_MIME_TYPE][\"server_id\"] !== undefined) {\n",
       "      var bk_div = document.createElement(\"div\");\n",
       "      bk_div.innerHTML = output.data[HTML_MIME_TYPE];\n",
       "      var script_attrs = bk_div.children[0].attributes;\n",
       "      for (var i = 0; i < script_attrs.length; i++) {\n",
       "        toinsert[toinsert.length - 1].firstChild.setAttribute(script_attrs[i].name, script_attrs[i].value);\n",
       "        toinsert[toinsert.length - 1].firstChild.textContent = bk_div.children[0].textContent\n",
       "      }\n",
       "      // store reference to server id on output_area\n",
       "      output_area._bokeh_server_id = output.metadata[EXEC_MIME_TYPE][\"server_id\"];\n",
       "    }\n",
       "  }\n",
       "\n",
       "  function register_renderer(events, OutputArea) {\n",
       "\n",
       "    function append_mime(data, metadata, element) {\n",
       "      // create a DOM node to render to\n",
       "      var toinsert = this.create_output_subarea(\n",
       "        metadata,\n",
       "        CLASS_NAME,\n",
       "        EXEC_MIME_TYPE\n",
       "      );\n",
       "      this.keyboard_manager.register_events(toinsert);\n",
       "      // Render to node\n",
       "      var props = {data: data, metadata: metadata[EXEC_MIME_TYPE]};\n",
       "      render(props, toinsert[toinsert.length - 1]);\n",
       "      element.append(toinsert);\n",
       "      return toinsert\n",
       "    }\n",
       "\n",
       "    /* Handle when an output is cleared or removed */\n",
       "    events.on('clear_output.CodeCell', handleClearOutput);\n",
       "    events.on('delete.Cell', handleClearOutput);\n",
       "\n",
       "    /* Handle when a new output is added */\n",
       "    events.on('output_added.OutputArea', handleAddOutput);\n",
       "\n",
       "    /**\n",
       "     * Register the mime type and append_mime function with output_area\n",
       "     */\n",
       "    OutputArea.prototype.register_mime_type(EXEC_MIME_TYPE, append_mime, {\n",
       "      /* Is output safe? */\n",
       "      safe: true,\n",
       "      /* Index of renderer in `output_area.display_order` */\n",
       "      index: 0\n",
       "    });\n",
       "  }\n",
       "\n",
       "  // register the mime type if in Jupyter Notebook environment and previously unregistered\n",
       "  if (root.Jupyter !== undefined) {\n",
       "    var events = require('base/js/events');\n",
       "    var OutputArea = require('notebook/js/outputarea').OutputArea;\n",
       "\n",
       "    if (OutputArea.prototype.mime_types().indexOf(EXEC_MIME_TYPE) == -1) {\n",
       "      register_renderer(events, OutputArea);\n",
       "    }\n",
       "  }\n",
       "\n",
       "  \n",
       "  if (typeof (root._bokeh_timeout) === \"undefined\" || force === true) {\n",
       "    root._bokeh_timeout = Date.now() + 5000;\n",
       "    root._bokeh_failed_load = false;\n",
       "  }\n",
       "\n",
       "  var NB_LOAD_WARNING = {'data': {'text/html':\n",
       "     \"<div style='background-color: #fdd'>\\n\"+\n",
       "     \"<p>\\n\"+\n",
       "     \"BokehJS does not appear to have successfully loaded. If loading BokehJS from CDN, this \\n\"+\n",
       "     \"may be due to a slow or bad network connection. Possible fixes:\\n\"+\n",
       "     \"</p>\\n\"+\n",
       "     \"<ul>\\n\"+\n",
       "     \"<li>re-rerun `output_notebook()` to attempt to load from CDN again, or</li>\\n\"+\n",
       "     \"<li>use INLINE resources instead, as so:</li>\\n\"+\n",
       "     \"</ul>\\n\"+\n",
       "     \"<code>\\n\"+\n",
       "     \"from bokeh.resources import INLINE\\n\"+\n",
       "     \"output_notebook(resources=INLINE)\\n\"+\n",
       "     \"</code>\\n\"+\n",
       "     \"</div>\"}};\n",
       "\n",
       "  function display_loaded() {\n",
       "    var el = document.getElementById(\"1001\");\n",
       "    if (el != null) {\n",
       "      el.textContent = \"BokehJS is loading...\";\n",
       "    }\n",
       "    if (root.Bokeh !== undefined) {\n",
       "      if (el != null) {\n",
       "        el.textContent = \"BokehJS \" + root.Bokeh.version + \" successfully loaded.\";\n",
       "      }\n",
       "    } else if (Date.now() < root._bokeh_timeout) {\n",
       "      setTimeout(display_loaded, 100)\n",
       "    }\n",
       "  }\n",
       "\n",
       "\n",
       "  function run_callbacks() {\n",
       "    try {\n",
       "      root._bokeh_onload_callbacks.forEach(function(callback) {\n",
       "        if (callback != null)\n",
       "          callback();\n",
       "      });\n",
       "    } finally {\n",
       "      delete root._bokeh_onload_callbacks\n",
       "    }\n",
       "    console.debug(\"Bokeh: all callbacks have finished\");\n",
       "  }\n",
       "\n",
       "  function load_libs(css_urls, js_urls, callback) {\n",
       "    if (css_urls == null) css_urls = [];\n",
       "    if (js_urls == null) js_urls = [];\n",
       "\n",
       "    root._bokeh_onload_callbacks.push(callback);\n",
       "    if (root._bokeh_is_loading > 0) {\n",
       "      console.debug(\"Bokeh: BokehJS is being loaded, scheduling callback at\", now());\n",
       "      return null;\n",
       "    }\n",
       "    if (js_urls == null || js_urls.length === 0) {\n",
       "      run_callbacks();\n",
       "      return null;\n",
       "    }\n",
       "    console.debug(\"Bokeh: BokehJS not loaded, scheduling load and callback at\", now());\n",
       "    root._bokeh_is_loading = css_urls.length + js_urls.length;\n",
       "\n",
       "    function on_load() {\n",
       "      root._bokeh_is_loading--;\n",
       "      if (root._bokeh_is_loading === 0) {\n",
       "        console.debug(\"Bokeh: all BokehJS libraries/stylesheets loaded\");\n",
       "        run_callbacks()\n",
       "      }\n",
       "    }\n",
       "\n",
       "    function on_error() {\n",
       "      console.error(\"failed to load \" + url);\n",
       "    }\n",
       "\n",
       "    for (var i = 0; i < css_urls.length; i++) {\n",
       "      var url = css_urls[i];\n",
       "      const element = document.createElement(\"link\");\n",
       "      element.onload = on_load;\n",
       "      element.onerror = on_error;\n",
       "      element.rel = \"stylesheet\";\n",
       "      element.type = \"text/css\";\n",
       "      element.href = url;\n",
       "      console.debug(\"Bokeh: injecting link tag for BokehJS stylesheet: \", url);\n",
       "      document.body.appendChild(element);\n",
       "    }\n",
       "\n",
       "    const hashes = {\"https://cdn.bokeh.org/bokeh/release/bokeh-2.0.2.min.js\": \"ufR9RFnRs6lniiaFvtJziE0YeidtAgBRH6ux2oUItHw5WTvE1zuk9uzhUU/FJXDp\", \"https://cdn.bokeh.org/bokeh/release/bokeh-widgets-2.0.2.min.js\": \"8QM/PGWBT+IssZuRcDcjzwIh1mkOmJSoNMmyYDZbCfXJg3Ap1lEvdVgFuSAwhb/J\", \"https://cdn.bokeh.org/bokeh/release/bokeh-tables-2.0.2.min.js\": \"Jm8cH3Rg0P6UeZhVY5cLy1WzKajUT9KImCY+76hEqrcJt59/d8GPvFHjCkYgnSIn\", \"https://cdn.bokeh.org/bokeh/release/bokeh-gl-2.0.2.min.js\": \"Ozhzj+SI7ywm74aOI/UajcWz+C0NjsPunEVyVIrxzYkB+jA+2tUw8x5xJCbVtK5I\"};\n",
       "\n",
       "    for (var i = 0; i < js_urls.length; i++) {\n",
       "      var url = js_urls[i];\n",
       "      var element = document.createElement('script');\n",
       "      element.onload = on_load;\n",
       "      element.onerror = on_error;\n",
       "      element.async = false;\n",
       "      element.src = url;\n",
       "      if (url in hashes) {\n",
       "        element.crossOrigin = \"anonymous\";\n",
       "        element.integrity = \"sha384-\" + hashes[url];\n",
       "      }\n",
       "      console.debug(\"Bokeh: injecting script tag for BokehJS library: \", url);\n",
       "      document.head.appendChild(element);\n",
       "    }\n",
       "  };\n",
       "\n",
       "  function inject_raw_css(css) {\n",
       "    const element = document.createElement(\"style\");\n",
       "    element.appendChild(document.createTextNode(css));\n",
       "    document.body.appendChild(element);\n",
       "  }\n",
       "\n",
       "  \n",
       "  var js_urls = [\"https://cdn.bokeh.org/bokeh/release/bokeh-2.0.2.min.js\", \"https://cdn.bokeh.org/bokeh/release/bokeh-widgets-2.0.2.min.js\", \"https://cdn.bokeh.org/bokeh/release/bokeh-tables-2.0.2.min.js\", \"https://cdn.bokeh.org/bokeh/release/bokeh-gl-2.0.2.min.js\"];\n",
       "  var css_urls = [];\n",
       "  \n",
       "\n",
       "  var inline_js = [\n",
       "    function(Bokeh) {\n",
       "      Bokeh.set_log_level(\"info\");\n",
       "    },\n",
       "    function(Bokeh) {\n",
       "    \n",
       "    \n",
       "    }\n",
       "  ];\n",
       "\n",
       "  function run_inline_js() {\n",
       "    \n",
       "    if (root.Bokeh !== undefined || force === true) {\n",
       "      \n",
       "    for (var i = 0; i < inline_js.length; i++) {\n",
       "      inline_js[i].call(root, root.Bokeh);\n",
       "    }\n",
       "    if (force === true) {\n",
       "        display_loaded();\n",
       "      }} else if (Date.now() < root._bokeh_timeout) {\n",
       "      setTimeout(run_inline_js, 100);\n",
       "    } else if (!root._bokeh_failed_load) {\n",
       "      console.log(\"Bokeh: BokehJS failed to load within specified timeout.\");\n",
       "      root._bokeh_failed_load = true;\n",
       "    } else if (force !== true) {\n",
       "      var cell = $(document.getElementById(\"1001\")).parents('.cell').data().cell;\n",
       "      cell.output_area.append_execute_result(NB_LOAD_WARNING)\n",
       "    }\n",
       "\n",
       "  }\n",
       "\n",
       "  if (root._bokeh_is_loading === 0) {\n",
       "    console.debug(\"Bokeh: BokehJS loaded, going straight to plotting\");\n",
       "    run_inline_js();\n",
       "  } else {\n",
       "    load_libs(css_urls, js_urls, function() {\n",
       "      console.debug(\"Bokeh: BokehJS plotting callback run at\", now());\n",
       "      run_inline_js();\n",
       "    });\n",
       "  }\n",
       "}(window));"
      ],
      "application/vnd.bokehjs_load.v0+json": "\n(function(root) {\n  function now() {\n    return new Date();\n  }\n\n  var force = true;\n\n  if (typeof root._bokeh_onload_callbacks === \"undefined\" || force === true) {\n    root._bokeh_onload_callbacks = [];\n    root._bokeh_is_loading = undefined;\n  }\n\n  \n\n  \n  if (typeof (root._bokeh_timeout) === \"undefined\" || force === true) {\n    root._bokeh_timeout = Date.now() + 5000;\n    root._bokeh_failed_load = false;\n  }\n\n  var NB_LOAD_WARNING = {'data': {'text/html':\n     \"<div style='background-color: #fdd'>\\n\"+\n     \"<p>\\n\"+\n     \"BokehJS does not appear to have successfully loaded. If loading BokehJS from CDN, this \\n\"+\n     \"may be due to a slow or bad network connection. Possible fixes:\\n\"+\n     \"</p>\\n\"+\n     \"<ul>\\n\"+\n     \"<li>re-rerun `output_notebook()` to attempt to load from CDN again, or</li>\\n\"+\n     \"<li>use INLINE resources instead, as so:</li>\\n\"+\n     \"</ul>\\n\"+\n     \"<code>\\n\"+\n     \"from bokeh.resources import INLINE\\n\"+\n     \"output_notebook(resources=INLINE)\\n\"+\n     \"</code>\\n\"+\n     \"</div>\"}};\n\n  function display_loaded() {\n    var el = document.getElementById(\"1001\");\n    if (el != null) {\n      el.textContent = \"BokehJS is loading...\";\n    }\n    if (root.Bokeh !== undefined) {\n      if (el != null) {\n        el.textContent = \"BokehJS \" + root.Bokeh.version + \" successfully loaded.\";\n      }\n    } else if (Date.now() < root._bokeh_timeout) {\n      setTimeout(display_loaded, 100)\n    }\n  }\n\n\n  function run_callbacks() {\n    try {\n      root._bokeh_onload_callbacks.forEach(function(callback) {\n        if (callback != null)\n          callback();\n      });\n    } finally {\n      delete root._bokeh_onload_callbacks\n    }\n    console.debug(\"Bokeh: all callbacks have finished\");\n  }\n\n  function load_libs(css_urls, js_urls, callback) {\n    if (css_urls == null) css_urls = [];\n    if (js_urls == null) js_urls = [];\n\n    root._bokeh_onload_callbacks.push(callback);\n    if (root._bokeh_is_loading > 0) {\n      console.debug(\"Bokeh: BokehJS is being loaded, scheduling callback at\", now());\n      return null;\n    }\n    if (js_urls == null || js_urls.length === 0) {\n      run_callbacks();\n      return null;\n    }\n    console.debug(\"Bokeh: BokehJS not loaded, scheduling load and callback at\", now());\n    root._bokeh_is_loading = css_urls.length + js_urls.length;\n\n    function on_load() {\n      root._bokeh_is_loading--;\n      if (root._bokeh_is_loading === 0) {\n        console.debug(\"Bokeh: all BokehJS libraries/stylesheets loaded\");\n        run_callbacks()\n      }\n    }\n\n    function on_error() {\n      console.error(\"failed to load \" + url);\n    }\n\n    for (var i = 0; i < css_urls.length; i++) {\n      var url = css_urls[i];\n      const element = document.createElement(\"link\");\n      element.onload = on_load;\n      element.onerror = on_error;\n      element.rel = \"stylesheet\";\n      element.type = \"text/css\";\n      element.href = url;\n      console.debug(\"Bokeh: injecting link tag for BokehJS stylesheet: \", url);\n      document.body.appendChild(element);\n    }\n\n    const hashes = {\"https://cdn.bokeh.org/bokeh/release/bokeh-2.0.2.min.js\": \"ufR9RFnRs6lniiaFvtJziE0YeidtAgBRH6ux2oUItHw5WTvE1zuk9uzhUU/FJXDp\", \"https://cdn.bokeh.org/bokeh/release/bokeh-widgets-2.0.2.min.js\": \"8QM/PGWBT+IssZuRcDcjzwIh1mkOmJSoNMmyYDZbCfXJg3Ap1lEvdVgFuSAwhb/J\", \"https://cdn.bokeh.org/bokeh/release/bokeh-tables-2.0.2.min.js\": \"Jm8cH3Rg0P6UeZhVY5cLy1WzKajUT9KImCY+76hEqrcJt59/d8GPvFHjCkYgnSIn\", \"https://cdn.bokeh.org/bokeh/release/bokeh-gl-2.0.2.min.js\": \"Ozhzj+SI7ywm74aOI/UajcWz+C0NjsPunEVyVIrxzYkB+jA+2tUw8x5xJCbVtK5I\"};\n\n    for (var i = 0; i < js_urls.length; i++) {\n      var url = js_urls[i];\n      var element = document.createElement('script');\n      element.onload = on_load;\n      element.onerror = on_error;\n      element.async = false;\n      element.src = url;\n      if (url in hashes) {\n        element.crossOrigin = \"anonymous\";\n        element.integrity = \"sha384-\" + hashes[url];\n      }\n      console.debug(\"Bokeh: injecting script tag for BokehJS library: \", url);\n      document.head.appendChild(element);\n    }\n  };\n\n  function inject_raw_css(css) {\n    const element = document.createElement(\"style\");\n    element.appendChild(document.createTextNode(css));\n    document.body.appendChild(element);\n  }\n\n  \n  var js_urls = [\"https://cdn.bokeh.org/bokeh/release/bokeh-2.0.2.min.js\", \"https://cdn.bokeh.org/bokeh/release/bokeh-widgets-2.0.2.min.js\", \"https://cdn.bokeh.org/bokeh/release/bokeh-tables-2.0.2.min.js\", \"https://cdn.bokeh.org/bokeh/release/bokeh-gl-2.0.2.min.js\"];\n  var css_urls = [];\n  \n\n  var inline_js = [\n    function(Bokeh) {\n      Bokeh.set_log_level(\"info\");\n    },\n    function(Bokeh) {\n    \n    \n    }\n  ];\n\n  function run_inline_js() {\n    \n    if (root.Bokeh !== undefined || force === true) {\n      \n    for (var i = 0; i < inline_js.length; i++) {\n      inline_js[i].call(root, root.Bokeh);\n    }\n    if (force === true) {\n        display_loaded();\n      }} else if (Date.now() < root._bokeh_timeout) {\n      setTimeout(run_inline_js, 100);\n    } else if (!root._bokeh_failed_load) {\n      console.log(\"Bokeh: BokehJS failed to load within specified timeout.\");\n      root._bokeh_failed_load = true;\n    } else if (force !== true) {\n      var cell = $(document.getElementById(\"1001\")).parents('.cell').data().cell;\n      cell.output_area.append_execute_result(NB_LOAD_WARNING)\n    }\n\n  }\n\n  if (root._bokeh_is_loading === 0) {\n    console.debug(\"Bokeh: BokehJS loaded, going straight to plotting\");\n    run_inline_js();\n  } else {\n    load_libs(css_urls, js_urls, function() {\n      console.debug(\"Bokeh: BokehJS plotting callback run at\", now());\n      run_inline_js();\n    });\n  }\n}(window));"
     },
     "metadata": {},
     "output_type": "display_data"
    }
   ],
   "source": [
    "# NumPy and odeint, our workhorses\n",
    "import numpy as np\n",
    "import scipy.integrate\n",
    "import numba\n",
    "import eqtk\n",
    "import pandas as pd\n",
    "from matplotlib.colors import LogNorm\n",
    "import bokeh.io\n",
    "import bokeh.plotting\n",
    "\n",
    "bokeh.io.output_notebook()\n",
    "\n",
    "# # For interactive plots\n",
    "# import ipywidgets\n",
    "\n",
    "# Import plotting stuff\n",
    "import matplotlib.pyplot as plt\n",
    "import seaborn as sns\n",
    "# Set matplotlib rc params.\n",
    "rc = {'lines.linewidth' : 2, 'axes.labelsize' : 20, 'legend.fontsize': 12,\n",
    "        'axes.titlesize' : 25, 'xtick.labelsize': 15, 'ytick.labelsize': 15}\n",
    "\n",
    "sns.set(rc=rc)\n",
    "sns.set_style(\"whitegrid\")\n",
    "\n",
    "%load_ext blackcellmagic\n",
    "%matplotlib inline"
   ]
  },
  {
   "cell_type": "code",
   "execution_count": 2,
   "metadata": {},
   "outputs": [],
   "source": [
    "def assess_steady_state_convergence(RLN, interval, convergence_crit):\n",
    "    \"\"\"Determines whether the system has reached\n",
    "    steady-state.\"\"\"\n",
    "    \n",
    "    converged = True\n",
    "    \n",
    "    # Compute gradient across last hour and compute percent difference\n",
    "    \n",
    "    back_idx = int(60 / interval + 1)\n",
    "    \n",
    "    # initialize\n",
    "    (R_err, L_err, N_err) = (0.0, 0.0, 0.0)\n",
    "    \n",
    "    # Replace values while avoiding divide by zero errors\n",
    "    # Multiply by 100 to get percent difference\n",
    "    if RLN[-1,0] != 0:\n",
    "        R_err = 100 * abs(RLN[-1,0] - RLN[-back_idx,0]) / RLN[-1,0]\n",
    "    if RLN[-1,1] != 0:\n",
    "        L1_err = 100 * abs(RLN[-1,1] - RLN[-back_idx,1]) / RLN[-1,1]\n",
    "    if RLN[-1,2] != 0:\n",
    "        L2_err = 100 * abs(RLN[-1,2] - RLN[-back_idx,2]) / RLN[-1,2]\n",
    "    \n",
    "    RLN_err = np.array((R_err, L_err, N_err))\n",
    "    \n",
    "    # Evaluate convergence   \n",
    "    failed_arr = RLN_err > convergence_crit\n",
    "    \n",
    "    if np.sum(failed_arr) > 0:\n",
    "#         print('The system has not reached steady state.')\n",
    "        \n",
    "        converged = False\n",
    "        \n",
    "    return converged"
   ]
  },
  {
   "cell_type": "code",
   "execution_count": 3,
   "metadata": {},
   "outputs": [],
   "source": [
    "def solve_EQTK(c0_vect, stoich, K_vect):\n",
    "    '''Takes in:\n",
    "    - c0_vect = initial concentrations of all species in proper order\n",
    "    - stoichiometric matrix\n",
    "    - K_vect = list of Kd values in proper order '''\n",
    "\n",
    "    N = stoich\n",
    "    \n",
    "    c = eqtk.solve(c0_vect, N, K_vect, units=None)\n",
    "    \n",
    "    R, Lt, Lc, C_plus, C_minus = c #all of the steady state concentrations after equilibrium is reached \n",
    "    \n",
    "    # Sanity check of mass conservation:\n",
    "    Rtot = c0_vect[0]\n",
    "         \n",
    "    return c"
   ]
  },
  {
   "cell_type": "code",
   "execution_count": 4,
   "metadata": {},
   "outputs": [],
   "source": [
    "def plot_dynamics(t, y_vals, normalized=False, \n",
    "                  normalize_to_max=True, leg_loc='center right', \n",
    "                  leg_lab = ('Total receptor','Total ligand',\n",
    "                             'Activated receptor','Trans R:L complex'),\n",
    "                  xlab = 'time (hr)', ylim = False,\n",
    "                  ylab = 'dimensionless conc.', title = '',\n",
    "                 filesave = 'NA'):\n",
    "    \"\"\"Convenient plotting function for results\"\"\"\n",
    "    \n",
    "    fig, ax = plt.subplots(1, 1, figsize=(7, 6))\n",
    "    \n",
    "    # Get plot of stimulus dynamics\n",
    "\n",
    "    if normalized:\n",
    "        ylab = 'normalized ' + ylab\n",
    "        if normalize_to_max:\n",
    "            ax = plt.plot(t, y_vals[:,0]/y_vals[:,0].max())\n",
    "            ax = plt.plot(t, y_vals[:,1]/y_vals[:,1].max())\n",
    "            ax = plt.plot(t, y_vals[:,2]/y_vals[:,2].max())\n",
    "            if np.shape(y_vals)[1] > 3:\n",
    "                ax = plt.plot(t, y_vals[:,3]/y_vals[:,3].max())\n",
    "            if np.shape(y_vals)[1] > 4:\n",
    "                ax = plt.plot(t, y_vals[:,4]/y_vals[:,4].max())\n",
    "\n",
    "        else:\n",
    "            ax = plt.plot(t, y_vals[:,0]/y_vals[-1,0])\n",
    "            ax = plt.plot(t, y_vals[:,1]/y_vals[-1,1])\n",
    "            ax = plt.plot(t, y_vals[:,2]/y_vals[-1,2])\n",
    "            if np.shape(y_vals)[1] > 3:\n",
    "                ax = plt.plot(t, y_vals[:,3]/y_vals[-1,3])\n",
    "            if np.shape(y_vals)[1] > 4:\n",
    "                ax = plt.plot(t, y_vals[:,4]/y_vals[-1,4])\n",
    "\n",
    "    else:\n",
    "        ax = plt.plot(t, y_vals[:,0])\n",
    "        ax = plt.plot(t, y_vals[:,1])\n",
    "        ax = plt.plot(t, y_vals[:,2])\n",
    "        if np.shape(y_vals)[1] > 3:\n",
    "            ax = plt.plot(t, y_vals[:,3])\n",
    "        if np.shape(y_vals)[1] > 4:\n",
    "            ax = plt.plot(t, y_vals[:,4])\n",
    "\n",
    "    plt.xlabel(xlab)\n",
    "    plt.ylabel(ylab)\n",
    "    if ylim != False:\n",
    "        plt.ylim(ylim)\n",
    "    plt.legend(leg_lab,loc=leg_loc, fontsize = 14)\n",
    "    plt.title(title, size=22)\n",
    "    \n",
    "    if filesave != 'NA':\n",
    "        print('image saved.')\n",
    "        filename =  '/Users/catherineko/Desktop/FSRI/Research/temp/' + filesave +  '.pdf'\n",
    "        plt.savefig(filename, bbox_inches='tight', format='pdf')\n",
    "    \n",
    "    return ax"
   ]
  },
  {
   "cell_type": "code",
   "execution_count": 5,
   "metadata": {},
   "outputs": [],
   "source": [
    "def get_steady_state_vals(RLN, interval, convergence_crit):\n",
    "    '''Extracts steady-state values from end\n",
    "    of simulation and reports percent difference \n",
    "    across last hour of simulation to assist \n",
    "    evaluation of whether steady-state was reached.\n",
    "    Convergence criterion is the maximum percent\n",
    "    difference allowed before we say the system has \n",
    "    reached steady-state. E.g. 1 for one percent.'''\n",
    "    \n",
    "    # Compute steady state vals\n",
    "    \n",
    "    R0 = RLN[-1,0]\n",
    "    L0 = RLN[-1,1]\n",
    "    N0 = RLN[-1,2]\n",
    "    \n",
    "    RLN0 = np.array((R0, L0, N0)) \n",
    "    \n",
    "    # Determine whether system has reached steady-state\n",
    "    \n",
    "    converged = assess_steady_state_convergence(RLN, interval, convergence_crit)\n",
    "    \n",
    "    if converged:\n",
    "        return RLN0\n",
    "    else:\n",
    "        return np.array((np.nan, np.nan, np.nan))"
   ]
  },
  {
   "cell_type": "code",
   "execution_count": 6,
   "metadata": {},
   "outputs": [],
   "source": [
    "def concat_initial_value(RLN, RLN_initial, hr, tpts):\n",
    "    \"\"\"Adds on initial value to simulation output\n",
    "    in order to see how 'mixing' senders and receivers\n",
    "    altered receptor and ligand levels.\n",
    "    Can take RLN or RLNT of any shape as long as the\n",
    "    dimensions of RLN and RLN_initial are compatible.\"\"\"\n",
    "    \n",
    "    # concat on initial values\n",
    "    RLN = np.concatenate((RLN_initial, RLN), axis = 0)\n",
    "    \n",
    "    # update t accordingly:\n",
    "    t = np.linspace(0, hr + (hr/tpts), tpts+1)\n",
    "    \n",
    "    return RLN, t"
   ]
  },
  {
   "cell_type": "code",
   "execution_count": 7,
   "metadata": {},
   "outputs": [],
   "source": [
    "def compute_cis_activation_potency(N_vect): #peak over leaky \n",
    "    '''This function returns the peak activation\n",
    "    over leaky activation (latter assumed to be first \n",
    "    N-value).'''\n",
    "    \n",
    "    return np.around(np.max(N_vect) / N_vect[0], decimals = 2)\n",
    "\n",
    "def compute_cis_inhibition_potency(N_vect):#??? metric of cis inhibition\n",
    "    '''This function returns the inhibitory potential,\n",
    "    defined as how close to 'leaky' activation the inhibitory\n",
    "    ligand dampens the signal.\n",
    "    This is expressed as a fraction, where 1 is the maximal\n",
    "    inhibition possible, and 0 = no inhibition.'''\n",
    "    \n",
    "    # (peak activation - activation at highest cis ligand level) / \n",
    "    # (peak activation - leaky activation)\n",
    "    \n",
    "    cis_inh = 100 * (np.max(N_vect) - N_vect[-1]) / (np.max(N_vect) - N_vect[0])\n",
    "    \n",
    "    return np.around(cis_inh, decimals = 2)\n"
   ]
  },
  {
   "cell_type": "code",
   "execution_count": 8,
   "metadata": {},
   "outputs": [],
   "source": [
    "def titrate_ligand(aL_vect, params, hr, interval, convergence_crit):\n",
    "    '''This runs a series of simulations to calculate\n",
    "    steady-state N (NICD) values for a range of ligand \n",
    "    levels.\n",
    "    aL_vect is the range of ligand values to explore'''\n",
    "    \n",
    "    N_vect = []\n",
    "    \n",
    "    for aL in aL_vect:\n",
    "        \n",
    "        Kd_t, Kd_c, aR, gR, dR, gT, aL_prev, gL, gC, gN = params\n",
    "        params = Kd_t, Kd_c, aR, gR, dR, gT, aL, gL, gC, gN\n",
    "        \n",
    "        # Simulate\n",
    "        RLN_initial, RLN, t = simulate_Notch_signaling(params, hr, interval)\n",
    "        \n",
    "        # get steady state value\n",
    "        RLN0 = get_steady_state_vals(RLN, interval, convergence_crit)\n",
    "        N = RLN0[2]\n",
    "        \n",
    "        N_vect.append(N)\n",
    "        \n",
    "    # Determine cis-activation potency\n",
    "    cis_act = compute_cis_activation_potency(N_vect)\n",
    "    \n",
    "    # Determine cis-inhibition potency???\n",
    "    cis_inh = compute_cis_inhibition_potency(N_vect)\n",
    "        \n",
    "    return np.array(N_vect), cis_act, cis_inh\n",
    "    "
   ]
  },
  {
   "cell_type": "code",
   "execution_count": 9,
   "metadata": {},
   "outputs": [],
   "source": [
    "def logistic(x, max_Lt_frac, inflection_pt, curvature):\n",
    "    \"\"\"Returns y value of logistic function at \n",
    "    x value(s) provided based on three curve parameters.\"\"\"\n",
    "\n",
    "    return max_Lt_frac / (1 + np.exp(curvature * (x - inflection_pt)))"
   ]
  },
  {
   "cell_type": "code",
   "execution_count": 10,
   "metadata": {},
   "outputs": [
    {
     "data": {
      "text/plain": [
       "Text(0.5, 0, '$C^-$')"
      ]
     },
     "execution_count": 10,
     "metadata": {},
     "output_type": "execute_result"
    },
    {
     "data": {
      "image/png": "[encoded data removed]",
      "text/plain": [
       "<Figure size 504x432 with 1 Axes>"
      ]
     },
     "metadata": {
      "needs_background": "light"
     },
     "output_type": "display_data"
    }
   ],
   "source": [
    "fig, ax = plt.subplots(1, 1, figsize=(7, 6))\n",
    "\n",
    "# x = np.around(np.logspace(1.5, 3.4, num=100, base=10.0), decimals=4)\n",
    "x = np.linspace(0.01,2, num=100)\n",
    "\n",
    "inflection_pt = .5\n",
    "\n",
    "plt.plot(x, logistic(x, .4, inflection_pt, 5 * (1/inflection_pt)))\n",
    "# plt.xscale('log')\n",
    "# plt.ylim(0,.42)\n",
    "plt.xlim(-.1,inflection_pt * 2)\n",
    "# plt.ylabel(\"$L_t$ / ($L_t$ + $L_c$)\")\n",
    "plt.ylabel(\"$\\\\frac{L_t}{L_t + L_c}$\")\n",
    "plt.xlabel(\"$C^-$\")"
   ]
  },
  {
   "cell_type": "code",
   "execution_count": 11,
   "metadata": {},
   "outputs": [],
   "source": [
    "def populate_ligand_states(L, C_minus_prev):\n",
    "    \"\"\"Computes fraction of free ligand (including protein\n",
    "    and membrane state) that exists in trans-like vs. cis-\n",
    "    like state (Lt vs Lc, respectively). This fraction \n",
    "    is computed based on a logistic function defined by\n",
    "    three parameters that you must pass it.\n",
    "    Returns Lt_tot, Lc_tot.\"\"\"\n",
    "    \n",
    "    max_Lt_frac = 0.4 # 40%\n",
    "    inflection_pt = .05 # TEMPORARY! MUST CHANGE\n",
    "    curvature = 5 * (1/inflection_pt) # try 5 * \n",
    "    \n",
    "    frac_Lt = logistic(C_minus_prev, max_Lt_frac, inflection_pt, curvature)\n",
    "    \n",
    "    Lt = frac_Lt * L\n",
    "    Lc = (1 - frac_Lt) * L\n",
    "    \n",
    "    return Lt, Lc\n",
    "    \n",
    "    # I like the idea of sampling from a binomial distribution, \n",
    "    # where theta is returned by the logistic function,\n",
    "    # but I think it's unnecessarily complicated.\n",
    "    \n",
    "    "
   ]
  },
  {
   "cell_type": "code",
   "execution_count": 12,
   "metadata": {},
   "outputs": [],
   "source": [
    "#ODES\n",
    "def dN_dt(R, L, N, Rfree, Lt_free, Lc_free, C_p, C_m, circuit_params):\n",
    "    \"\"\"\n",
    "    Dynamics of activated receptor (ICD); I'm passing\n",
    "    all variables and parameters for easy editing as needed.\n",
    "    \"\"\"\n",
    "    Kd_t, Kd_c, aR, gR, dR, gT, aL, gL, gC, gN = circuit_params\n",
    "    return gT * C_p + dR * Rfree - gN * N\n",
    "\n",
    "\n",
    "def dR_dt(R, L, N, Rfree, Lt_free, Lc_free, C_p, C_m, circuit_params):\n",
    "    \"\"\"\n",
    "    Dynamics of surface receptor (total receptor); I'm passing\n",
    "    all variables and parameters for easy editing as needed.\n",
    "    \"\"\"\n",
    "    Kd_t, Kd_c, aR, gR, dR, gT, aL, gL, gC, gN = circuit_params\n",
    "    return aR - gR * (R - C_m) - gC * C_m - gT * C_p - dR * Rfree\n",
    "\n",
    "\n",
    "def dL_dt(R, L, N, Rfree, Lt_free, Lc_free, C_p, C_m, circuit_params):\n",
    "    \"\"\"\n",
    "    Dynamics of surface ligand (total ligand); I'm passing\n",
    "    all variables and parameters for easy editing as needed.\n",
    "    \"\"\"\n",
    "    Kd_t, Kd_c, aR, gR, dR, gT, aL, gL, gC, gN = circuit_params\n",
    "    return aL - gL * (Lt_free + Lc_free) - gR * C_p - gC * C_m - gT * C_p\n"
   ]
  },
  {
   "cell_type": "code",
   "execution_count": 13,
   "metadata": {},
   "outputs": [],
   "source": [
    "def get_equilibrium_concentrations(R, Lt, Lc, circuit_params):\n",
    "    \"\"\"Gathers info needed to call EQTK\n",
    "    and calls EQTK.\"\"\"\n",
    "    \n",
    "    # Unpack params\n",
    "    Kd_t, Kd_c, aR, gR, dR, gT, aL, gL, gC, gN = circuit_params\n",
    "    \n",
    "    # Stoichiometry matrix\n",
    "    N_1_2 = [[1,  1,  0, -1,  0], #(1)R + (1)L_t + (0)L_c ⇌ (-1)C^+ + (0)C^-\n",
    "         [1,  0,  1,  0, -1]] #(1)R + (0)L_t + (1)L_c ⇌ (0)C^+ + (-1)C^-\n",
    "    \n",
    "    # Array of Kd values\n",
    "    K_vect = [Kd_t, Kd_c]\n",
    "\n",
    "    # Initial concentration vector to pass to EQTK\n",
    "    c0_vect = np.array((R, Lt, Lc, 0.0, 0.0)) # R_tot, Lt_tot, Lc_tot, C_plus, C_minus\n",
    "    if np.isnan(c0_vect).any():\n",
    "        print(c0_vect)\n",
    "    neg = c0_vect[c0_vect < 0]\n",
    "    if len(neg) > 0:\n",
    "        print('negative found:', c0_vect)\n",
    "        \n",
    "    # Compute T based on R_tot and L_tot using EQTK\n",
    "    Rfree, Lt_free, Lc_free, C_plus, C_minus = solve_EQTK(c0_vect, N_1_2, K_vect)\n",
    "        \n",
    "    return np.array([Rfree, Lt_free, Lc_free, C_plus, C_minus])"
   ]
  },
  {
   "cell_type": "code",
   "execution_count": 14,
   "metadata": {},
   "outputs": [],
   "source": [
    "def Euler_integration(RLN_initial, circuit_params, dt, t_stop):    \n",
    "    \"\"\"\n",
    "    Use Euler integration to solve ODEs\n",
    "    for model of Notch cis interactions\n",
    "    between one ligand and one receptor.\n",
    "    \"\"\"    \n",
    "\n",
    "    # Time points\n",
    "    t = np.linspace(0, t_stop, int(t_stop / dt) + 1)\n",
    "    \n",
    "    # Initialize output arrays\n",
    "    R0, L0, N0 = RLN_initial\n",
    "    #print('starting R, L, N at', R0, L0, N0)\n",
    "    R = R0 * np.ones_like(t)\n",
    "    L = L0 * np.ones_like(t)\n",
    "    N = N0 * np.ones_like(t)\n",
    "    C_minus = 0.0 * np.ones_like(t)\n",
    "    \n",
    "    # Do Euler stepping, preventing negative concentration values\n",
    "    for i in range(0, len(t) - 1):\n",
    "            \n",
    "        # Compute fraction of ligand in 'trans-like' vs. 'cis-like' state\n",
    "        # This must use prev value of C_minus, because current value is computed based on Lt, Lc\n",
    "        Lt, Lc = populate_ligand_states(L[i], 0.0)\n",
    "        if i > 0:\n",
    "            Lt, Lc = populate_ligand_states(L[i], C_minus[i-1]) # Lt_tot, Lc_tot\n",
    "        \n",
    "        # Get equilibrium concentrations\n",
    "        EQTK_output = get_equilibrium_concentrations(R[i], Lt, Lc, circuit_params)\n",
    "        Rfree, Lt_free, Lc_free, C_p, C_m = EQTK_output # equilibrium concentrations at current step i\n",
    "        \n",
    "        # Add C_minus to array for CURRENT INDEX\n",
    "        C_minus[i] = C_m\n",
    "#         print('C_minus', C_m)\n",
    "            \n",
    "        # Compute new R\n",
    "        R[i+1] = R[i] + dt * dR_dt(R[i], L[i], N[i], Rfree, Lt_free, Lc_free, C_p, C_m, circuit_params)\n",
    "        if R[i+1] < 0:\n",
    "            R[i+1] = 0\n",
    "        \n",
    "        # Compute new L\n",
    "        L[i+1] = L[i] + dt * dL_dt(R[i], L[i], N[i], Rfree, Lt_free, Lc_free, C_p, C_m, circuit_params)\n",
    "        if L[i+1] < 0:\n",
    "            L[i+1] = 0\n",
    "        \n",
    "        # Compute new N\n",
    "        N[i+1] = N[i] + dt * dN_dt(R[i], L[i], N[i], Rfree, Lt_free, Lc_free, C_p, C_m, circuit_params)\n",
    "        if N[i+1] < 0:\n",
    "            N[i+1] = 0\n",
    "        \n",
    "    # Concatenate arrays\n",
    "    #print('final C_minus = ', C_m)\n",
    "    RLN = np.concatenate(([R,], [L,], [N,]), axis=0)\n",
    "    RLN = np.transpose(RLN)\n",
    "        \n",
    "    return RLN, t\n"
   ]
  },
  {
   "cell_type": "code",
   "execution_count": 15,
   "metadata": {},
   "outputs": [],
   "source": [
    "def simulate_Notch_signaling(circuit_params, hr, interval):\n",
    "    \"\"\"Runs Euler integration and returns \n",
    "    initial values (initial steady state) as \n",
    "    well as simulation output (with total receptor\n",
    "    and ligand, not free) and time series.\n",
    "    Takes as input one set of circuit parameters \n",
    "    and values that define the time series:\n",
    "    - hr (simulation duration in hr) \n",
    "    - interval (time step in minutes)\n",
    "    \"\"\"\n",
    "    \n",
    "    # Define time series\n",
    "    dt = interval / 60 # convert interval from minutes to hours\n",
    "    \n",
    "    # Start values at steady state\n",
    "    Kd_t, Kd_c, aR, gR, dR, gT, aL, gL, gC, gN = circuit_params\n",
    "    R0 = aR/(gR + dR)\n",
    "    L0 = aL/gL\n",
    "    N0 = dR * R0 / gN\n",
    "    RLN_initial = (R0, L0, N0) \n",
    "    \n",
    "    # Initiate Euler stepping\n",
    "    RLN, t = Euler_integration(RLN_initial, circuit_params, dt, hr)\n",
    "\n",
    "    # Return initial values and simulation output\n",
    "    return RLN_initial, RLN, t"
   ]
  },
  {
   "cell_type": "code",
   "execution_count": 16,
   "metadata": {},
   "outputs": [],
   "source": [
    "def significant_change(aL_vals, N_vect):\n",
    "    \"\"\"Creates array of 0,1,-1 values that represent no change, positive change, negative change respectively. \n",
    "    Used for peak_params to calculate whether a peak is occurring.\"\"\"\n",
    "\n",
    "    new_list = []\n",
    "\n",
    "    for i, aL in enumerate(aL_vals):\n",
    "\n",
    "        if i >0:\n",
    "            change = N_vect[i] - N_vect[i-1]\n",
    "            #print(N_vect[i],'-',N_vect[i-1],'=',change)\n",
    "            if change > 0.05:\n",
    "                #print(1)\n",
    "                new_list.append(1)\n",
    "            if change < -0.08:\n",
    "                #print(-1)\n",
    "                new_list.append(-1)\n",
    "            if change <= 0.05 and change >= -0.1: \n",
    "                new_list.append(0)\n",
    "                #print(0)\n",
    "\n",
    "    new_array2 = np.array(new_list)\n",
    "\n",
    "    return new_array2"
   ]
  },
  {
   "cell_type": "code",
   "execution_count": 17,
   "metadata": {},
   "outputs": [],
   "source": [
    "def peak_params(aL_vals, N_vect):\n",
    "    \"\"\"Gives peak_width, start of peak, end of peak in terms of aL\"\"\"\n",
    "\n",
    "    start_of_peak = np.nan\n",
    "    end_of_peak = np.nan\n",
    "    peak_width = np.nan\n",
    "\n",
    "    for i, element in enumerate(significant_change(aL_vals, N_vect)):\n",
    "        if element == 1:\n",
    "            start_of_peak = aL_vals[i]\n",
    "            break\n",
    "\n",
    "    for i, element in reversed(list(enumerate(significant_change(aL_vals, N_vect)))):\n",
    "        if element == -1:\n",
    "            #if i+1==len(aL_vals):\n",
    "            end_of_peak=aL_vals[i+1]\n",
    "            #if i+1<len(significant_change(aL_vals)):\n",
    "                #end_of_peak = aL_vals[i+1]\n",
    "            break\n",
    "\n",
    "    if start_of_peak != 0.0:\n",
    "        peak_width = end_of_peak / start_of_peak  # beware of Nan\n",
    "\n",
    "    return peak_width, start_of_peak, end_of_peak"
   ]
  },
  {
   "cell_type": "markdown",
   "metadata": {},
   "source": [
    "# Plotting aR, Kd_t, and Kd_c by peak width"
   ]
  },
  {
   "cell_type": "code",
   "execution_count": 18,
   "metadata": {},
   "outputs": [],
   "source": [
    "Kd_t_vals = np.around(np.linspace(0.1,10,num=6),decimals =4)\n",
    "Kd_c_vals = np.around(np.linspace(0.1,10,num=6),decimals =4)\n",
    "aR_vals = np.around(np.linspace(.05, 0.15, num=6), decimals=4) # this range of aR values gives good curve\n",
    "gR = np.log(2) / .8\n",
    "dR = 0.01\n",
    "gT = np.log(2) / .07\n",
    "# aL = 0.4\n",
    "gC = gR # setting gC == gR for now\n",
    "gL = np.log(2) / .3\n",
    "gN = np.log(2) / 1.25"
   ]
  },
  {
   "cell_type": "markdown",
   "metadata": {},
   "source": [
    "# Dont run below cell unless reloading data"
   ]
  },
  {
   "cell_type": "code",
   "execution_count": 38,
   "metadata": {},
   "outputs": [
    {
     "name": "stdout",
     "output_type": "stream",
     "text": [
      "CPU times: user 7min 31s, sys: 5.36 s, total: 7min 36s\n",
      "Wall time: 8min 12s\n"
     ]
    }
   ],
   "source": [
    "%%time \n",
    "# Define params values that give good fold differences at reasonably high production rates\n",
    "# Receptor = Notch1, Ligand = Dll4\n",
    "\n",
    "master_array = np.array(())\n",
    "\n",
    "for aR in aR_vals:\n",
    "    for Kd_t in Kd_t_vals:\n",
    "        for Kd_c in Kd_c_vals:\n",
    "\n",
    "            # Define ligand range for titration- x axis for plot; adding ligands\n",
    "            aL_vals = np.around(np.logspace(-3, 2, num=6, base=10.0), decimals=4)\n",
    "            aL_vals = np.insert(aL_vals, 0, 0)\n",
    "\n",
    "            circuit_params = (Kd_t, Kd_c, aR, gR, dR, gT, aL_vals[0], gL, gC, gN)\n",
    "\n",
    "            # Define time series\n",
    "            hr = 48.0  # simulation of 48 hours\n",
    "            interval = 5  # 5 minutes between time steps\n",
    "\n",
    "            # ≤ 1 percent change in 5 minutes = steady state achieved\n",
    "            convergence_crit = 1\n",
    "\n",
    "            # Simulate ligand titration\n",
    "            N_vect, cis_act, cis_inh = titrate_ligand(\n",
    "                aL_vals, circuit_params, hr, interval, convergence_crit\n",
    "            )\n",
    "\n",
    "            # Added this in to quantify peak width\n",
    "            peak_width, startpeak, endpeak = peak_params(aL_vals,N_vect)\n",
    "            sig_change=significant_change(aL_vals,N_vect)\n",
    "\n",
    "            Kd_t, Kd_c, aR, gR, dR, gT, aL_vals[0], gL, gC, gN = circuit_params\n",
    "\n",
    "            create_list = [\n",
    "                Kd_t,\n",
    "                Kd_c,\n",
    "                aR,\n",
    "                gR,\n",
    "                dR,\n",
    "                gT,\n",
    "                aL_vals[0],\n",
    "                gL,\n",
    "                gC,\n",
    "                gN,\n",
    "                cis_act,\n",
    "                cis_inh,\n",
    "                startpeak,\n",
    "                endpeak,\n",
    "                peak_width,\n",
    "                sig_change\n",
    "            ]\n",
    "\n",
    "            master_array = np.append(master_array, create_list)"
   ]
  },
  {
   "cell_type": "code",
   "execution_count": 39,
   "metadata": {},
   "outputs": [],
   "source": [
    "rows = master_array.size/16"
   ]
  },
  {
   "cell_type": "code",
   "execution_count": 40,
   "metadata": {},
   "outputs": [],
   "source": [
    "master_array = master_array.reshape((int(rows),16))"
   ]
  },
  {
   "cell_type": "code",
   "execution_count": 41,
   "metadata": {},
   "outputs": [],
   "source": [
    "masterdf = pd.DataFrame(master_array)"
   ]
  },
  {
   "cell_type": "code",
   "execution_count": 42,
   "metadata": {},
   "outputs": [],
   "source": [
    "masterdf.columns = ['Kd_t', 'Kd_c', 'aR', 'gR', 'dR', 'gT', 'aL_vals[0]', 'gL', 'gC', 'gN', 'cis_act','cis_inh', 'startpeak','endpeak','peak_width','sig_change']"
   ]
  },
  {
   "cell_type": "code",
   "execution_count": 43,
   "metadata": {},
   "outputs": [
    {
     "data": {
      "text/html": [
       "<div>\n",
       "<style scoped>\n",
       "    .dataframe tbody tr th:only-of-type {\n",
       "        vertical-align: middle;\n",
       "    }\n",
       "\n",
       "    .dataframe tbody tr th {\n",
       "        vertical-align: top;\n",
       "    }\n",
       "\n",
       "    .dataframe thead th {\n",
       "        text-align: right;\n",
       "    }\n",
       "</style>\n",
       "<table border=\"1\" class=\"dataframe\">\n",
       "  <thead>\n",
       "    <tr style=\"text-align: right;\">\n",
       "      <th></th>\n",
       "      <th>Kd_t</th>\n",
       "      <th>Kd_c</th>\n",
       "      <th>aR</th>\n",
       "      <th>gR</th>\n",
       "      <th>dR</th>\n",
       "      <th>gT</th>\n",
       "      <th>aL_vals[0]</th>\n",
       "      <th>gL</th>\n",
       "      <th>gC</th>\n",
       "      <th>gN</th>\n",
       "      <th>cis_act</th>\n",
       "      <th>cis_inh</th>\n",
       "      <th>startpeak</th>\n",
       "      <th>endpeak</th>\n",
       "      <th>peak_width</th>\n",
       "      <th>sig_change</th>\n",
       "    </tr>\n",
       "  </thead>\n",
       "  <tbody>\n",
       "    <tr>\n",
       "      <th>0</th>\n",
       "      <td>0.1</td>\n",
       "      <td>0.1</td>\n",
       "      <td>0.05</td>\n",
       "      <td>0.866434</td>\n",
       "      <td>0.01</td>\n",
       "      <td>9.9021</td>\n",
       "      <td>0</td>\n",
       "      <td>2.31049</td>\n",
       "      <td>0.866434</td>\n",
       "      <td>0.554518</td>\n",
       "      <td>71.72</td>\n",
       "      <td>0</td>\n",
       "      <td>NaN</td>\n",
       "      <td>NaN</td>\n",
       "      <td>NaN</td>\n",
       "      <td>[0, 0, 0, 0, 0, 0]</td>\n",
       "    </tr>\n",
       "    <tr>\n",
       "      <th>1</th>\n",
       "      <td>0.1</td>\n",
       "      <td>2.08</td>\n",
       "      <td>0.05</td>\n",
       "      <td>0.866434</td>\n",
       "      <td>0.01</td>\n",
       "      <td>9.9021</td>\n",
       "      <td>0</td>\n",
       "      <td>2.31049</td>\n",
       "      <td>0.866434</td>\n",
       "      <td>0.554518</td>\n",
       "      <td>80.08</td>\n",
       "      <td>0</td>\n",
       "      <td>NaN</td>\n",
       "      <td>NaN</td>\n",
       "      <td>NaN</td>\n",
       "      <td>[0, 0, 0, 0, 0, 0]</td>\n",
       "    </tr>\n",
       "    <tr>\n",
       "      <th>2</th>\n",
       "      <td>0.1</td>\n",
       "      <td>4.06</td>\n",
       "      <td>0.05</td>\n",
       "      <td>0.866434</td>\n",
       "      <td>0.01</td>\n",
       "      <td>9.9021</td>\n",
       "      <td>0</td>\n",
       "      <td>2.31049</td>\n",
       "      <td>0.866434</td>\n",
       "      <td>0.554518</td>\n",
       "      <td>80.31</td>\n",
       "      <td>0</td>\n",
       "      <td>NaN</td>\n",
       "      <td>NaN</td>\n",
       "      <td>NaN</td>\n",
       "      <td>[0, 0, 0, 0, 0, 0]</td>\n",
       "    </tr>\n",
       "    <tr>\n",
       "      <th>3</th>\n",
       "      <td>0.1</td>\n",
       "      <td>6.04</td>\n",
       "      <td>0.05</td>\n",
       "      <td>0.866434</td>\n",
       "      <td>0.01</td>\n",
       "      <td>9.9021</td>\n",
       "      <td>0</td>\n",
       "      <td>2.31049</td>\n",
       "      <td>0.866434</td>\n",
       "      <td>0.554518</td>\n",
       "      <td>80.39</td>\n",
       "      <td>0</td>\n",
       "      <td>NaN</td>\n",
       "      <td>NaN</td>\n",
       "      <td>NaN</td>\n",
       "      <td>[0, 0, 0, 0, 0, 0]</td>\n",
       "    </tr>\n",
       "    <tr>\n",
       "      <th>4</th>\n",
       "      <td>0.1</td>\n",
       "      <td>8.02</td>\n",
       "      <td>0.05</td>\n",
       "      <td>0.866434</td>\n",
       "      <td>0.01</td>\n",
       "      <td>9.9021</td>\n",
       "      <td>0</td>\n",
       "      <td>2.31049</td>\n",
       "      <td>0.866434</td>\n",
       "      <td>0.554518</td>\n",
       "      <td>80.43</td>\n",
       "      <td>0</td>\n",
       "      <td>NaN</td>\n",
       "      <td>NaN</td>\n",
       "      <td>NaN</td>\n",
       "      <td>[0, 0, 0, 0, 0, 0]</td>\n",
       "    </tr>\n",
       "  </tbody>\n",
       "</table>\n",
       "</div>"
      ],
      "text/plain": [
       "  Kd_t  Kd_c    aR        gR    dR      gT aL_vals[0]       gL        gC  \\\n",
       "0  0.1   0.1  0.05  0.866434  0.01  9.9021          0  2.31049  0.866434   \n",
       "1  0.1  2.08  0.05  0.866434  0.01  9.9021          0  2.31049  0.866434   \n",
       "2  0.1  4.06  0.05  0.866434  0.01  9.9021          0  2.31049  0.866434   \n",
       "3  0.1  6.04  0.05  0.866434  0.01  9.9021          0  2.31049  0.866434   \n",
       "4  0.1  8.02  0.05  0.866434  0.01  9.9021          0  2.31049  0.866434   \n",
       "\n",
       "         gN cis_act cis_inh startpeak endpeak peak_width          sig_change  \n",
       "0  0.554518   71.72       0       NaN     NaN        NaN  [0, 0, 0, 0, 0, 0]  \n",
       "1  0.554518   80.08       0       NaN     NaN        NaN  [0, 0, 0, 0, 0, 0]  \n",
       "2  0.554518   80.31       0       NaN     NaN        NaN  [0, 0, 0, 0, 0, 0]  \n",
       "3  0.554518   80.39       0       NaN     NaN        NaN  [0, 0, 0, 0, 0, 0]  \n",
       "4  0.554518   80.43       0       NaN     NaN        NaN  [0, 0, 0, 0, 0, 0]  "
      ]
     },
     "execution_count": 43,
     "metadata": {},
     "output_type": "execute_result"
    }
   ],
   "source": [
    "masterdf.head()"
   ]
  },
  {
   "cell_type": "code",
   "execution_count": 44,
   "metadata": {},
   "outputs": [],
   "source": [
    "filename = '/Users/cjko/git/bootcamp/2020-08-01_aR_Kdt_Kdc.csv'\n",
    "\n",
    "masterdf.to_csv(filename, sep = ',', index=False)"
   ]
  },
  {
   "cell_type": "markdown",
   "metadata": {},
   "source": [
    "### Read in data"
   ]
  },
  {
   "cell_type": "code",
   "execution_count": 19,
   "metadata": {},
   "outputs": [],
   "source": [
    "file = '/Users/cjko/git/bootcamp/2020-08-01_aR_Kdt_Kdc.csv'\n",
    "masterdf = pd.read_csv(file)"
   ]
  },
  {
   "cell_type": "code",
   "execution_count": 20,
   "metadata": {},
   "outputs": [],
   "source": [
    "masterdf=masterdf.sort_values(by=['peak_width']).reset_index()"
   ]
  },
  {
   "cell_type": "code",
   "execution_count": 21,
   "metadata": {},
   "outputs": [
    {
     "data": {
      "text/html": [
       "<div>\n",
       "<style scoped>\n",
       "    .dataframe tbody tr th:only-of-type {\n",
       "        vertical-align: middle;\n",
       "    }\n",
       "\n",
       "    .dataframe tbody tr th {\n",
       "        vertical-align: top;\n",
       "    }\n",
       "\n",
       "    .dataframe thead th {\n",
       "        text-align: right;\n",
       "    }\n",
       "</style>\n",
       "<table border=\"1\" class=\"dataframe\">\n",
       "  <thead>\n",
       "    <tr style=\"text-align: right;\">\n",
       "      <th></th>\n",
       "      <th>index</th>\n",
       "      <th>Kd_t</th>\n",
       "      <th>Kd_c</th>\n",
       "      <th>aR</th>\n",
       "      <th>gR</th>\n",
       "      <th>dR</th>\n",
       "      <th>gT</th>\n",
       "      <th>aL_vals[0]</th>\n",
       "      <th>gL</th>\n",
       "      <th>gC</th>\n",
       "      <th>gN</th>\n",
       "      <th>cis_act</th>\n",
       "      <th>cis_inh</th>\n",
       "      <th>startpeak</th>\n",
       "      <th>endpeak</th>\n",
       "      <th>peak_width</th>\n",
       "      <th>sig_change</th>\n",
       "    </tr>\n",
       "  </thead>\n",
       "  <tbody>\n",
       "    <tr>\n",
       "      <th>0</th>\n",
       "      <td>85</td>\n",
       "      <td>4.06</td>\n",
       "      <td>2.08</td>\n",
       "      <td>0.09</td>\n",
       "      <td>0.866434</td>\n",
       "      <td>0.01</td>\n",
       "      <td>9.902103</td>\n",
       "      <td>0.0</td>\n",
       "      <td>2.310491</td>\n",
       "      <td>0.866434</td>\n",
       "      <td>0.554518</td>\n",
       "      <td>55.70</td>\n",
       "      <td>98.54</td>\n",
       "      <td>1.0</td>\n",
       "      <td>100.0</td>\n",
       "      <td>100.0</td>\n",
       "      <td>[ 0  0  0  0  1 -1  0]</td>\n",
       "    </tr>\n",
       "    <tr>\n",
       "      <th>1</th>\n",
       "      <td>166</td>\n",
       "      <td>6.04</td>\n",
       "      <td>8.02</td>\n",
       "      <td>0.13</td>\n",
       "      <td>0.866434</td>\n",
       "      <td>0.01</td>\n",
       "      <td>9.902103</td>\n",
       "      <td>0.0</td>\n",
       "      <td>2.310491</td>\n",
       "      <td>0.866434</td>\n",
       "      <td>0.554518</td>\n",
       "      <td>58.35</td>\n",
       "      <td>101.08</td>\n",
       "      <td>1.0</td>\n",
       "      <td>100.0</td>\n",
       "      <td>100.0</td>\n",
       "      <td>[ 0  0  0  0  1 -1]</td>\n",
       "    </tr>\n",
       "    <tr>\n",
       "      <th>2</th>\n",
       "      <td>214</td>\n",
       "      <td>10.00</td>\n",
       "      <td>8.02</td>\n",
       "      <td>0.15</td>\n",
       "      <td>0.866434</td>\n",
       "      <td>0.01</td>\n",
       "      <td>9.902103</td>\n",
       "      <td>0.0</td>\n",
       "      <td>2.310491</td>\n",
       "      <td>0.866434</td>\n",
       "      <td>0.554518</td>\n",
       "      <td>49.11</td>\n",
       "      <td>101.71</td>\n",
       "      <td>1.0</td>\n",
       "      <td>100.0</td>\n",
       "      <td>100.0</td>\n",
       "      <td>[ 0  0  0  0  1 -1]</td>\n",
       "    </tr>\n",
       "    <tr>\n",
       "      <th>3</th>\n",
       "      <td>171</td>\n",
       "      <td>8.02</td>\n",
       "      <td>6.04</td>\n",
       "      <td>0.13</td>\n",
       "      <td>0.866434</td>\n",
       "      <td>0.01</td>\n",
       "      <td>9.902103</td>\n",
       "      <td>0.0</td>\n",
       "      <td>2.310491</td>\n",
       "      <td>0.866434</td>\n",
       "      <td>0.554518</td>\n",
       "      <td>51.83</td>\n",
       "      <td>101.57</td>\n",
       "      <td>1.0</td>\n",
       "      <td>100.0</td>\n",
       "      <td>100.0</td>\n",
       "      <td>[ 0  0  0  0  1 -1]</td>\n",
       "    </tr>\n",
       "    <tr>\n",
       "      <th>4</th>\n",
       "      <td>172</td>\n",
       "      <td>8.02</td>\n",
       "      <td>8.02</td>\n",
       "      <td>0.13</td>\n",
       "      <td>0.866434</td>\n",
       "      <td>0.01</td>\n",
       "      <td>9.902103</td>\n",
       "      <td>0.0</td>\n",
       "      <td>2.310491</td>\n",
       "      <td>0.866434</td>\n",
       "      <td>0.554518</td>\n",
       "      <td>53.45</td>\n",
       "      <td>101.29</td>\n",
       "      <td>1.0</td>\n",
       "      <td>100.0</td>\n",
       "      <td>100.0</td>\n",
       "      <td>[ 0  0  0  0  1 -1]</td>\n",
       "    </tr>\n",
       "  </tbody>\n",
       "</table>\n",
       "</div>"
      ],
      "text/plain": [
       "   index   Kd_t  Kd_c    aR        gR    dR        gT  aL_vals[0]        gL  \\\n",
       "0     85   4.06  2.08  0.09  0.866434  0.01  9.902103         0.0  2.310491   \n",
       "1    166   6.04  8.02  0.13  0.866434  0.01  9.902103         0.0  2.310491   \n",
       "2    214  10.00  8.02  0.15  0.866434  0.01  9.902103         0.0  2.310491   \n",
       "3    171   8.02  6.04  0.13  0.866434  0.01  9.902103         0.0  2.310491   \n",
       "4    172   8.02  8.02  0.13  0.866434  0.01  9.902103         0.0  2.310491   \n",
       "\n",
       "         gC        gN  cis_act  cis_inh  startpeak  endpeak  peak_width  \\\n",
       "0  0.866434  0.554518    55.70    98.54        1.0    100.0       100.0   \n",
       "1  0.866434  0.554518    58.35   101.08        1.0    100.0       100.0   \n",
       "2  0.866434  0.554518    49.11   101.71        1.0    100.0       100.0   \n",
       "3  0.866434  0.554518    51.83   101.57        1.0    100.0       100.0   \n",
       "4  0.866434  0.554518    53.45   101.29        1.0    100.0       100.0   \n",
       "\n",
       "               sig_change  \n",
       "0  [ 0  0  0  0  1 -1  0]  \n",
       "1     [ 0  0  0  0  1 -1]  \n",
       "2     [ 0  0  0  0  1 -1]  \n",
       "3     [ 0  0  0  0  1 -1]  \n",
       "4     [ 0  0  0  0  1 -1]  "
      ]
     },
     "execution_count": 21,
     "metadata": {},
     "output_type": "execute_result"
    }
   ],
   "source": [
    "masterdf.head()"
   ]
  },
  {
   "cell_type": "code",
   "execution_count": 22,
   "metadata": {},
   "outputs": [],
   "source": [
    "no_nan_df= masterdf[masterdf['peak_width'].notna()]"
   ]
  },
  {
   "cell_type": "markdown",
   "metadata": {},
   "source": [
    "%%black -l 49"
   ]
  },
  {
   "cell_type": "code",
   "execution_count": 23,
   "metadata": {},
   "outputs": [
    {
     "data": {
      "text/plain": [
       "index           int64\n",
       "Kd_t          float64\n",
       "Kd_c          float64\n",
       "aR            float64\n",
       "gR            float64\n",
       "dR            float64\n",
       "gT            float64\n",
       "aL_vals[0]    float64\n",
       "gL            float64\n",
       "gC            float64\n",
       "gN            float64\n",
       "cis_act       float64\n",
       "cis_inh       float64\n",
       "startpeak     float64\n",
       "endpeak       float64\n",
       "peak_width    float64\n",
       "sig_change     object\n",
       "dtype: object"
      ]
     },
     "execution_count": 23,
     "metadata": {},
     "output_type": "execute_result"
    }
   ],
   "source": [
    "for i,j in enumerate(masterdf.columns):\n",
    "    if i <15:\n",
    "        masterdf[str(j)]=pd.to_numeric(masterdf[str(j)])\n",
    "masterdf.dtypes"
   ]
  },
  {
   "cell_type": "markdown",
   "metadata": {},
   "source": [
    "# Peak Width"
   ]
  },
  {
   "cell_type": "code",
   "execution_count": 50,
   "metadata": {},
   "outputs": [],
   "source": [
    "def loopheatmaps(values,index,columns,loop,loopvals,startofloop=0,dataset=masterdf,vmin=None,vmax=None):\n",
    "    \"\"\"This function is for looping through creating a bunch of heat maps.\n",
    "    values = what you want the color scale to represent STR\n",
    "    index=y-axes STR\n",
    "    columns=x-axis STR \n",
    "    loop= the variable staying constant that you are looping through for each map\n",
    "    loopvals = ^ but the vals array\n",
    "    startofloop = start of range; default = 0\"\"\"\n",
    "    \n",
    "    for i in range(startofloop,len(loopvals)):\n",
    "\n",
    "        df_subset = dataset.loc[(dataset[str(loop)] == np.around(loopvals[i],decimals=4))]\n",
    "\n",
    "        # I HAD A ROUNDING ERROR ^ BUT FIXED W NP.AROUND\n",
    "\n",
    "        # I think dependence on aR == aL equivalence is only true for certain gR values. try gR = g_vals[3] vs [1]\n",
    "\n",
    "        # pandas pivot\n",
    "        heatmap_data = pd.pivot_table(df_subset, values=str(values), \n",
    "                             index=[str(index)], \n",
    "                             columns=str(columns))\n",
    "\n",
    "        print('===============')\n",
    "        print(str(loop),loopvals[i])\n",
    "        sns.heatmap(heatmap_data,norm=LogNorm(),vmin=vmin,vmax=vmax)\n",
    "        df_subset\n",
    "        plt.show()\n",
    "        plt.figure()\n",
    "        \n",
    "    "
   ]
  },
  {
   "cell_type": "code",
   "execution_count": 51,
   "metadata": {},
   "outputs": [
    {
     "name": "stdout",
     "output_type": "stream",
     "text": [
      "===============\n",
      "aR 0.09\n"
     ]
    },
    {
     "name": "stderr",
     "output_type": "stream",
     "text": [
      "/Users/cjko/opt/anaconda3/lib/python3.7/site-packages/matplotlib/colors.py:1110: RuntimeWarning: invalid value encountered in less_equal\n",
      "  mask |= resdat <= 0\n"
     ]
    },
    {
     "data": {
      "image/png": "[encoded data removed]",
      "text/plain": [
       "<Figure size 432x288 with 2 Axes>"
      ]
     },
     "metadata": {
      "needs_background": "light"
     },
     "output_type": "display_data"
    },
    {
     "name": "stdout",
     "output_type": "stream",
     "text": [
      "===============\n",
      "aR 0.11\n"
     ]
    },
    {
     "data": {
      "image/png": "[encoded data removed]",
      "text/plain": [
       "<Figure size 432x288 with 2 Axes>"
      ]
     },
     "metadata": {
      "needs_background": "light"
     },
     "output_type": "display_data"
    },
    {
     "name": "stdout",
     "output_type": "stream",
     "text": [
      "===============\n",
      "aR 0.13\n"
     ]
    },
    {
     "data": {
      "image/png": "[encoded data removed]",
      "text/plain": [
       "<Figure size 432x288 with 2 Axes>"
      ]
     },
     "metadata": {
      "needs_background": "light"
     },
     "output_type": "display_data"
    },
    {
     "name": "stdout",
     "output_type": "stream",
     "text": [
      "===============\n",
      "aR 0.15\n"
     ]
    },
    {
     "data": {
      "image/png": "[encoded data removed]",
      "text/plain": [
       "<Figure size 432x288 with 2 Axes>"
      ]
     },
     "metadata": {
      "needs_background": "light"
     },
     "output_type": "display_data"
    },
    {
     "data": {
      "text/plain": [
       "<Figure size 432x288 with 0 Axes>"
      ]
     },
     "metadata": {},
     "output_type": "display_data"
    }
   ],
   "source": [
    "loopheatmaps(\n",
    "    values=\"peak_width\",\n",
    "    index=\"Kd_t\",\n",
    "    columns=\"Kd_c\",\n",
    "    loop=\"aR\",\n",
    "    loopvals=aR_vals,\n",
    "    startofloop=2,\n",
    "    vmin=10,\n",
    "    vmax=1000\n",
    ")"
   ]
  },
  {
   "cell_type": "code",
   "execution_count": 52,
   "metadata": {},
   "outputs": [
    {
     "name": "stdout",
     "output_type": "stream",
     "text": [
      "===============\n",
      "aR 0.05\n"
     ]
    },
    {
     "data": {
      "image/png": "[encoded data removed]",
      "text/plain": [
       "<Figure size 432x288 with 2 Axes>"
      ]
     },
     "metadata": {
      "needs_background": "light"
     },
     "output_type": "display_data"
    },
    {
     "name": "stdout",
     "output_type": "stream",
     "text": [
      "===============\n",
      "aR 0.07\n"
     ]
    },
    {
     "data": {
      "image/png": "[encoded data removed]",
      "text/plain": [
       "<Figure size 432x288 with 2 Axes>"
      ]
     },
     "metadata": {
      "needs_background": "light"
     },
     "output_type": "display_data"
    },
    {
     "name": "stdout",
     "output_type": "stream",
     "text": [
      "===============\n",
      "aR 0.09\n"
     ]
    },
    {
     "data": {
      "image/png": "[encoded data removed]",
      "text/plain": [
       "<Figure size 432x288 with 2 Axes>"
      ]
     },
     "metadata": {
      "needs_background": "light"
     },
     "output_type": "display_data"
    },
    {
     "name": "stdout",
     "output_type": "stream",
     "text": [
      "===============\n",
      "aR 0.11\n"
     ]
    },
    {
     "data": {
      "image/png": "[encoded data removed]",
      "text/plain": [
       "<Figure size 432x288 with 2 Axes>"
      ]
     },
     "metadata": {
      "needs_background": "light"
     },
     "output_type": "display_data"
    },
    {
     "name": "stdout",
     "output_type": "stream",
     "text": [
      "===============\n",
      "aR 0.13\n"
     ]
    },
    {
     "data": {
      "image/png": "[encoded data removed]",
      "text/plain": [
       "<Figure size 432x288 with 2 Axes>"
      ]
     },
     "metadata": {
      "needs_background": "light"
     },
     "output_type": "display_data"
    },
    {
     "name": "stdout",
     "output_type": "stream",
     "text": [
      "===============\n",
      "aR 0.15\n"
     ]
    },
    {
     "data": {
      "image/png": "[encoded data removed]",
      "text/plain": [
       "<Figure size 432x288 with 2 Axes>"
      ]
     },
     "metadata": {
      "needs_background": "light"
     },
     "output_type": "display_data"
    },
    {
     "data": {
      "text/plain": [
       "<Figure size 432x288 with 0 Axes>"
      ]
     },
     "metadata": {},
     "output_type": "display_data"
    }
   ],
   "source": [
    "loopheatmaps(\n",
    "    values=\"cis_act\",\n",
    "    index=\"Kd_t\",\n",
    "    columns=\"Kd_c\",\n",
    "    loop=\"aR\",\n",
    "    loopvals=aR_vals,\n",
    "    vmin=None,\n",
    "    vmax=None,\n",
    "    startofloop=0\n",
    ")"
   ]
  },
  {
   "cell_type": "code",
   "execution_count": 53,
   "metadata": {},
   "outputs": [
    {
     "name": "stdout",
     "output_type": "stream",
     "text": [
      "===============\n",
      "aR 0.05\n"
     ]
    },
    {
     "name": "stderr",
     "output_type": "stream",
     "text": [
      "/Users/cjko/opt/anaconda3/lib/python3.7/site-packages/seaborn/matrix.py:305: UserWarning: Attempting to set identical bottom == top == 0 results in singular transformations; automatically expanding.\n",
      "  ax.set(xlim=(0, self.data.shape[1]), ylim=(0, self.data.shape[0]))\n",
      "/Users/cjko/opt/anaconda3/lib/python3.7/site-packages/seaborn/matrix.py:305: UserWarning: Attempting to set identical left == right == 0 results in singular transformations; automatically expanding.\n",
      "  ax.set(xlim=(0, self.data.shape[1]), ylim=(0, self.data.shape[0]))\n"
     ]
    },
    {
     "data": {
      "image/png": "[encoded data removed]",
      "text/plain": [
       "<Figure size 432x288 with 2 Axes>"
      ]
     },
     "metadata": {
      "needs_background": "light"
     },
     "output_type": "display_data"
    },
    {
     "name": "stdout",
     "output_type": "stream",
     "text": [
      "===============\n",
      "aR 0.07\n"
     ]
    },
    {
     "data": {
      "image/png": "[encoded data removed]",
      "text/plain": [
       "<Figure size 432x288 with 2 Axes>"
      ]
     },
     "metadata": {
      "needs_background": "light"
     },
     "output_type": "display_data"
    },
    {
     "name": "stdout",
     "output_type": "stream",
     "text": [
      "===============\n",
      "aR 0.09\n"
     ]
    },
    {
     "data": {
      "image/png": "[encoded data removed]",
      "text/plain": [
       "<Figure size 432x288 with 2 Axes>"
      ]
     },
     "metadata": {
      "needs_background": "light"
     },
     "output_type": "display_data"
    },
    {
     "name": "stdout",
     "output_type": "stream",
     "text": [
      "===============\n",
      "aR 0.11\n"
     ]
    },
    {
     "data": {
      "image/png": "[encoded data removed]",
      "text/plain": [
       "<Figure size 432x288 with 2 Axes>"
      ]
     },
     "metadata": {
      "needs_background": "light"
     },
     "output_type": "display_data"
    },
    {
     "name": "stdout",
     "output_type": "stream",
     "text": [
      "===============\n",
      "aR 0.13\n"
     ]
    },
    {
     "data": {
      "image/png": "[encoded data removed]",
      "text/plain": [
       "<Figure size 432x288 with 2 Axes>"
      ]
     },
     "metadata": {
      "needs_background": "light"
     },
     "output_type": "display_data"
    },
    {
     "name": "stdout",
     "output_type": "stream",
     "text": [
      "===============\n",
      "aR 0.15\n"
     ]
    },
    {
     "data": {
      "image/png": "[encoded data removed]",
      "text/plain": [
       "<Figure size 432x288 with 2 Axes>"
      ]
     },
     "metadata": {
      "needs_background": "light"
     },
     "output_type": "display_data"
    },
    {
     "data": {
      "text/plain": [
       "<Figure size 432x288 with 0 Axes>"
      ]
     },
     "metadata": {},
     "output_type": "display_data"
    }
   ],
   "source": [
    "loopheatmaps(\n",
    "    values=\"cis_inh\",\n",
    "    index=\"Kd_t\",\n",
    "    columns=\"Kd_c\",\n",
    "    loop=\"aR\",\n",
    "    loopvals=aR_vals,\n",
    "    vmin=1,\n",
    "    vmax=120,\n",
    "    dataset=no_nan_df\n",
    ")"
   ]
  },
  {
   "cell_type": "code",
   "execution_count": 27,
   "metadata": {},
   "outputs": [],
   "source": [
    "def plotter(Kd_t = 0.1,\n",
    "    Kd_c = 0.1,\n",
    "    aR = 0.11,\n",
    "    gR = np.log(2) / .8,\n",
    "    dR = 0.01,\n",
    "    gT = np.log(2) / .07,\n",
    "    gC = np.log(2)/.8,\n",
    "    gL = np.log(2) / .3,\n",
    "    gN = np.log(2) / 1.25,\n",
    "    aL_vals = np.around(np.logspace(-3, 2, num=6, base=10.0), decimals=4),\n",
    "):\n",
    "    \"\"\"Kd_c = 0.1,\n",
    "    aR = .11,\n",
    "    gR = np.log(2) / .8,\n",
    "    dR = 0.01,\n",
    "    gT = np.log(2) / .07,\n",
    "    gC = np.log(2)/.8,\n",
    "    gL = np.log(2) / .3,\n",
    "    gN = np.log(2) / 1.25,\n",
    "    aL_vals = np.around(np.logspace(-3, 2, num=6, base=10.0), decimals=4)\"\"\"\n",
    "    circuit_params = (Kd_t, Kd_c, aR, gR, dR, gT, aL_vals[0], gL, gC, gN)\n",
    "\n",
    "    # Define time series\n",
    "    hr = 48.0  # simulation of 48 hours\n",
    "    interval = 5  # 5 minutes between time steps\n",
    "\n",
    "    convergence_crit = 1  # ≤ 1 percent change in 5 minutes = steady state achieved\n",
    "\n",
    "    # Simulate ligand titration\n",
    "    N_vect, cis_act, cis_inh = titrate_ligand(\n",
    "        aL_vals, circuit_params, hr, interval, convergence_crit\n",
    "    )\n",
    "\n",
    "    # Added this in to quantify peak width\n",
    "    peak_width, startpeak, endpeak = peak_params(aL_vals, N_vect)\n",
    "    \n",
    "    # Print cis-activation and -inhibition metrics\n",
    "#     for i, j in enumerate(circuit_params):\n",
    "#         print(masterdf.columns[i+1], j)\n",
    "#     print(\"Cis-activation fold-diff:\", cis_act)\n",
    "#     print(\"Cis-inhibition efficacy:\", cis_inh, \"%\")\n",
    "#     print(\"start of peak\", startpeak)\n",
    "#     print(\"end of peak\", endpeak)\n",
    "#     print(\"peak_width\", peak_width)\n",
    "#     print(\"sig change\", significant_change(aL_vals, N_vect))\n",
    "\n",
    "    p=bokeh.plotting.figure(\n",
    "        frame_height=100,\n",
    "        frame_width=200,\n",
    "        x_axis_label=\"⍺L\",\n",
    "        y_axis_label=\"Steady state N\",\n",
    "        y_range=(0,.25),\n",
    "        x_axis_type='log',\n",
    "        title='Kd_c: '+str(Kd_c)+'; Kd_t: '+str(Kd_t)\n",
    "        \n",
    "    )\n",
    "    p.line(\n",
    "        y=N_vect,\n",
    "        x=aL_vals\n",
    "    )\n",
    "    return p\n",
    "    #bokeh.io.show(p)\n",
    "#     Plot\n",
    "#     fig, ax = plt.subplots(1, 1, figsize=(7, 6))\n",
    "\n",
    "#     plt.plot(aL_vals, N_vect)\n",
    "#     plt.ylabel(\"Steady state $N$\")\n",
    "#     plt.xlabel(\"$\\\\alpha_L$\")\n",
    "#     plt.ylim((0, 1))\n",
    "#     ax.set_xscale(\"log\")\n",
    "#     plt.show()\n"
   ]
  },
  {
   "cell_type": "code",
   "execution_count": 28,
   "metadata": {},
   "outputs": [
    {
     "data": {
      "text/html": [
       "<div style=\"display: table;\"><div style=\"display: table-row;\"><div style=\"display: table-cell;\"><b title=\"bokeh.plotting.figure.Figure\">Figure</b>(</div><div style=\"display: table-cell;\">id&nbsp;=&nbsp;'1119', <span id=\"1158\" style=\"cursor: pointer;\">&hellip;)</span></div></div><div class=\"1157\" style=\"display: none;\"><div style=\"display: table-cell;\"></div><div style=\"display: table-cell;\">above&nbsp;=&nbsp;[],</div></div><div class=\"1157\" style=\"display: none;\"><div style=\"display: table-cell;\"></div><div style=\"display: table-cell;\">align&nbsp;=&nbsp;'start',</div></div><div class=\"1157\" style=\"display: none;\"><div style=\"display: table-cell;\"></div><div style=\"display: table-cell;\">aspect_ratio&nbsp;=&nbsp;None,</div></div><div class=\"1157\" style=\"display: none;\"><div style=\"display: table-cell;\"></div><div style=\"display: table-cell;\">aspect_scale&nbsp;=&nbsp;1,</div></div><div class=\"1157\" style=\"display: none;\"><div style=\"display: table-cell;\"></div><div style=\"display: table-cell;\">background&nbsp;=&nbsp;None,</div></div><div class=\"1157\" style=\"display: none;\"><div style=\"display: table-cell;\"></div><div style=\"display: table-cell;\">background_fill_alpha&nbsp;=&nbsp;1.0,</div></div><div class=\"1157\" style=\"display: none;\"><div style=\"display: table-cell;\"></div><div style=\"display: table-cell;\">background_fill_color&nbsp;=&nbsp;'#ffffff',</div></div><div class=\"1157\" style=\"display: none;\"><div style=\"display: table-cell;\"></div><div style=\"display: table-cell;\">below&nbsp;=&nbsp;[LogAxis(id='1130', ...)],</div></div><div class=\"1157\" style=\"display: none;\"><div style=\"display: table-cell;\"></div><div style=\"display: table-cell;\">border_fill_alpha&nbsp;=&nbsp;1.0,</div></div><div class=\"1157\" style=\"display: none;\"><div style=\"display: table-cell;\"></div><div style=\"display: table-cell;\">border_fill_color&nbsp;=&nbsp;'#ffffff',</div></div><div class=\"1157\" style=\"display: none;\"><div style=\"display: table-cell;\"></div><div style=\"display: table-cell;\">center&nbsp;=&nbsp;[Grid(id='1133', ...), Grid(id='1137', ...)],</div></div><div class=\"1157\" style=\"display: none;\"><div style=\"display: table-cell;\"></div><div style=\"display: table-cell;\">css_classes&nbsp;=&nbsp;[],</div></div><div class=\"1157\" style=\"display: none;\"><div style=\"display: table-cell;\"></div><div style=\"display: table-cell;\">disabled&nbsp;=&nbsp;False,</div></div><div class=\"1157\" style=\"display: none;\"><div style=\"display: table-cell;\"></div><div style=\"display: table-cell;\">extra_x_ranges&nbsp;=&nbsp;{},</div></div><div class=\"1157\" style=\"display: none;\"><div style=\"display: table-cell;\"></div><div style=\"display: table-cell;\">extra_y_ranges&nbsp;=&nbsp;{},</div></div><div class=\"1157\" style=\"display: none;\"><div style=\"display: table-cell;\"></div><div style=\"display: table-cell;\">frame_height&nbsp;=&nbsp;100,</div></div><div class=\"1157\" style=\"display: none;\"><div style=\"display: table-cell;\"></div><div style=\"display: table-cell;\">frame_width&nbsp;=&nbsp;200,</div></div><div class=\"1157\" style=\"display: none;\"><div style=\"display: table-cell;\"></div><div style=\"display: table-cell;\">height&nbsp;=&nbsp;None,</div></div><div class=\"1157\" style=\"display: none;\"><div style=\"display: table-cell;\"></div><div style=\"display: table-cell;\">height_policy&nbsp;=&nbsp;'auto',</div></div><div class=\"1157\" style=\"display: none;\"><div style=\"display: table-cell;\"></div><div style=\"display: table-cell;\">hidpi&nbsp;=&nbsp;True,</div></div><div class=\"1157\" style=\"display: none;\"><div style=\"display: table-cell;\"></div><div style=\"display: table-cell;\">js_event_callbacks&nbsp;=&nbsp;{},</div></div><div class=\"1157\" style=\"display: none;\"><div style=\"display: table-cell;\"></div><div style=\"display: table-cell;\">js_property_callbacks&nbsp;=&nbsp;{},</div></div><div class=\"1157\" style=\"display: none;\"><div style=\"display: table-cell;\"></div><div style=\"display: table-cell;\">left&nbsp;=&nbsp;[LinearAxis(id='1134', ...)],</div></div><div class=\"1157\" style=\"display: none;\"><div style=\"display: table-cell;\"></div><div style=\"display: table-cell;\">lod_factor&nbsp;=&nbsp;10,</div></div><div class=\"1157\" style=\"display: none;\"><div style=\"display: table-cell;\"></div><div style=\"display: table-cell;\">lod_interval&nbsp;=&nbsp;300,</div></div><div class=\"1157\" style=\"display: none;\"><div style=\"display: table-cell;\"></div><div style=\"display: table-cell;\">lod_threshold&nbsp;=&nbsp;2000,</div></div><div class=\"1157\" style=\"display: none;\"><div style=\"display: table-cell;\"></div><div style=\"display: table-cell;\">lod_timeout&nbsp;=&nbsp;500,</div></div><div class=\"1157\" style=\"display: none;\"><div style=\"display: table-cell;\"></div><div style=\"display: table-cell;\">margin&nbsp;=&nbsp;(0, 0, 0, 0),</div></div><div class=\"1157\" style=\"display: none;\"><div style=\"display: table-cell;\"></div><div style=\"display: table-cell;\">match_aspect&nbsp;=&nbsp;False,</div></div><div class=\"1157\" style=\"display: none;\"><div style=\"display: table-cell;\"></div><div style=\"display: table-cell;\">max_height&nbsp;=&nbsp;None,</div></div><div class=\"1157\" style=\"display: none;\"><div style=\"display: table-cell;\"></div><div style=\"display: table-cell;\">max_width&nbsp;=&nbsp;None,</div></div><div class=\"1157\" style=\"display: none;\"><div style=\"display: table-cell;\"></div><div style=\"display: table-cell;\">min_border&nbsp;=&nbsp;5,</div></div><div class=\"1157\" style=\"display: none;\"><div style=\"display: table-cell;\"></div><div style=\"display: table-cell;\">min_border_bottom&nbsp;=&nbsp;None,</div></div><div class=\"1157\" style=\"display: none;\"><div style=\"display: table-cell;\"></div><div style=\"display: table-cell;\">min_border_left&nbsp;=&nbsp;None,</div></div><div class=\"1157\" style=\"display: none;\"><div style=\"display: table-cell;\"></div><div style=\"display: table-cell;\">min_border_right&nbsp;=&nbsp;None,</div></div><div class=\"1157\" style=\"display: none;\"><div style=\"display: table-cell;\"></div><div style=\"display: table-cell;\">min_border_top&nbsp;=&nbsp;None,</div></div><div class=\"1157\" style=\"display: none;\"><div style=\"display: table-cell;\"></div><div style=\"display: table-cell;\">min_height&nbsp;=&nbsp;None,</div></div><div class=\"1157\" style=\"display: none;\"><div style=\"display: table-cell;\"></div><div style=\"display: table-cell;\">min_width&nbsp;=&nbsp;None,</div></div><div class=\"1157\" style=\"display: none;\"><div style=\"display: table-cell;\"></div><div style=\"display: table-cell;\">name&nbsp;=&nbsp;None,</div></div><div class=\"1157\" style=\"display: none;\"><div style=\"display: table-cell;\"></div><div style=\"display: table-cell;\">outline_line_alpha&nbsp;=&nbsp;1.0,</div></div><div class=\"1157\" style=\"display: none;\"><div style=\"display: table-cell;\"></div><div style=\"display: table-cell;\">outline_line_cap&nbsp;=&nbsp;'butt',</div></div><div class=\"1157\" style=\"display: none;\"><div style=\"display: table-cell;\"></div><div style=\"display: table-cell;\">outline_line_color&nbsp;=&nbsp;'#e5e5e5',</div></div><div class=\"1157\" style=\"display: none;\"><div style=\"display: table-cell;\"></div><div style=\"display: table-cell;\">outline_line_dash&nbsp;=&nbsp;[],</div></div><div class=\"1157\" style=\"display: none;\"><div style=\"display: table-cell;\"></div><div style=\"display: table-cell;\">outline_line_dash_offset&nbsp;=&nbsp;0,</div></div><div class=\"1157\" style=\"display: none;\"><div style=\"display: table-cell;\"></div><div style=\"display: table-cell;\">outline_line_join&nbsp;=&nbsp;'bevel',</div></div><div class=\"1157\" style=\"display: none;\"><div style=\"display: table-cell;\"></div><div style=\"display: table-cell;\">outline_line_width&nbsp;=&nbsp;1,</div></div><div class=\"1157\" style=\"display: none;\"><div style=\"display: table-cell;\"></div><div style=\"display: table-cell;\">output_backend&nbsp;=&nbsp;'canvas',</div></div><div class=\"1157\" style=\"display: none;\"><div style=\"display: table-cell;\"></div><div style=\"display: table-cell;\">plot_height&nbsp;=&nbsp;600,</div></div><div class=\"1157\" style=\"display: none;\"><div style=\"display: table-cell;\"></div><div style=\"display: table-cell;\">plot_width&nbsp;=&nbsp;600,</div></div><div class=\"1157\" style=\"display: none;\"><div style=\"display: table-cell;\"></div><div style=\"display: table-cell;\">renderers&nbsp;=&nbsp;[GlyphRenderer(id='1155', ...)],</div></div><div class=\"1157\" style=\"display: none;\"><div style=\"display: table-cell;\"></div><div style=\"display: table-cell;\">reset_policy&nbsp;=&nbsp;'standard',</div></div><div class=\"1157\" style=\"display: none;\"><div style=\"display: table-cell;\"></div><div style=\"display: table-cell;\">right&nbsp;=&nbsp;[],</div></div><div class=\"1157\" style=\"display: none;\"><div style=\"display: table-cell;\"></div><div style=\"display: table-cell;\">sizing_mode&nbsp;=&nbsp;None,</div></div><div class=\"1157\" style=\"display: none;\"><div style=\"display: table-cell;\"></div><div style=\"display: table-cell;\">subscribed_events&nbsp;=&nbsp;[],</div></div><div class=\"1157\" style=\"display: none;\"><div style=\"display: table-cell;\"></div><div style=\"display: table-cell;\">tags&nbsp;=&nbsp;[],</div></div><div class=\"1157\" style=\"display: none;\"><div style=\"display: table-cell;\"></div><div style=\"display: table-cell;\">title&nbsp;=&nbsp;Title(id='1120', ...),</div></div><div class=\"1157\" style=\"display: none;\"><div style=\"display: table-cell;\"></div><div style=\"display: table-cell;\">title_location&nbsp;=&nbsp;'above',</div></div><div class=\"1157\" style=\"display: none;\"><div style=\"display: table-cell;\"></div><div style=\"display: table-cell;\">toolbar&nbsp;=&nbsp;Toolbar(id='1145', ...),</div></div><div class=\"1157\" style=\"display: none;\"><div style=\"display: table-cell;\"></div><div style=\"display: table-cell;\">toolbar_location&nbsp;=&nbsp;'right',</div></div><div class=\"1157\" style=\"display: none;\"><div style=\"display: table-cell;\"></div><div style=\"display: table-cell;\">toolbar_sticky&nbsp;=&nbsp;True,</div></div><div class=\"1157\" style=\"display: none;\"><div style=\"display: table-cell;\"></div><div style=\"display: table-cell;\">visible&nbsp;=&nbsp;True,</div></div><div class=\"1157\" style=\"display: none;\"><div style=\"display: table-cell;\"></div><div style=\"display: table-cell;\">width&nbsp;=&nbsp;None,</div></div><div class=\"1157\" style=\"display: none;\"><div style=\"display: table-cell;\"></div><div style=\"display: table-cell;\">width_policy&nbsp;=&nbsp;'auto',</div></div><div class=\"1157\" style=\"display: none;\"><div style=\"display: table-cell;\"></div><div style=\"display: table-cell;\">x_range&nbsp;=&nbsp;DataRange1d(id='1122', ...),</div></div><div class=\"1157\" style=\"display: none;\"><div style=\"display: table-cell;\"></div><div style=\"display: table-cell;\">x_scale&nbsp;=&nbsp;LogScale(id='1126', ...),</div></div><div class=\"1157\" style=\"display: none;\"><div style=\"display: table-cell;\"></div><div style=\"display: table-cell;\">y_range&nbsp;=&nbsp;Range1d(id='1124', ...),</div></div><div class=\"1157\" style=\"display: none;\"><div style=\"display: table-cell;\"></div><div style=\"display: table-cell;\">y_scale&nbsp;=&nbsp;LinearScale(id='1128', ...))</div></div></div>\n",
       "<script>\n",
       "(function() {\n",
       "  var expanded = false;\n",
       "  var ellipsis = document.getElementById(\"1158\");\n",
       "  ellipsis.addEventListener(\"click\", function() {\n",
       "    var rows = document.getElementsByClassName(\"1157\");\n",
       "    for (var i = 0; i < rows.length; i++) {\n",
       "      var el = rows[i];\n",
       "      el.style.display = expanded ? \"none\" : \"table-row\";\n",
       "    }\n",
       "    ellipsis.innerHTML = expanded ? \"&hellip;)\" : \"&lsaquo;&lsaquo;&lsaquo;\";\n",
       "    expanded = !expanded;\n",
       "  });\n",
       "})();\n",
       "</script>\n"
      ],
      "text/plain": [
       "Figure(id='1119', ...)"
      ]
     },
     "execution_count": 28,
     "metadata": {},
     "output_type": "execute_result"
    }
   ],
   "source": [
    "plotter()"
   ]
  },
  {
   "cell_type": "code",
   "execution_count": 29,
   "metadata": {},
   "outputs": [],
   "source": [
    "list_of_graphs = []\n",
    "\n",
    "for Kd_t in Kd_t_vals:\n",
    "    for Kd_c in Kd_c_vals:\n",
    "        list_of_graphs.append(plotter(\n",
    "            aR = 0.11,\n",
    "            Kd_t=Kd_t,\n",
    "            Kd_c=Kd_c))"
   ]
  },
  {
   "cell_type": "code",
   "execution_count": 30,
   "metadata": {},
   "outputs": [
    {
     "data": {
      "text/html": [
       "\n",
       "\n",
       "\n",
       "\n",
       "\n",
       "\n",
       "  <div class=\"bk-root\" id=\"50b51ac3-52fd-4d07-8f42-fcdbe6ccbc8a\" data-root-id=\"2855\"></div>\n"
      ]
     },
     "metadata": {},
     "output_type": "display_data"
    },
    {
     "data": {
      "application/javascript": [
       "(function(root) {\n",
       "  function embed_document(root) {\n",
       "    \n",
       "  var docs_json = {\"2a49d74b-e320-439a-8632-c7561a27796f\":{\"roots\":{\"references\":[{\"attributes\":{\"children\":[{\"id\":\"2854\"},{\"id\":\"2852\"}]},\"id\":\"2855\",\"type\":\"Column\"},{\"attributes\":{},\"id\":\"1678\",\"type\":\"HelpTool\"},{\"attributes\":{\"num_minor_ticks\":10},\"id\":\"2274\",\"type\":\"LogTicker\"},{\"attributes\":{\"data_source\":{\"id\":\"2371\"},\"glyph\":{\"id\":\"2372\"},\"hover_glyph\":null,\"muted_glyph\":null,\"nonselection_glyph\":{\"id\":\"2373\"},\"selection_glyph\":null,\"view\":{\"id\":\"2375\"}},\"id\":\"2374\",\"type\":\"GlyphRenderer\"},{\"attributes\":{},\"id\":\"2357\",\"type\":\"PanTool\"},{\"attributes\":{\"axis\":{\"id\":\"2273\"},\"ticker\":null},\"id\":\"2276\",\"type\":\"Grid\"},{\"attributes\":{},\"id\":\"2534\",\"type\":\"UnionRenderers\"},{\"attributes\":{\"active_drag\":\"auto\",\"active_inspect\":\"auto\",\"active_multi\":null,\"active_scroll\":\"auto\",\"active_tap\":\"auto\",\"tools\":[{\"id\":\"2357\"},{\"id\":\"2358\"},{\"id\":\"2359\"},{\"id\":\"2360\"},{\"id\":\"2361\"},{\"id\":\"2362\"}]},\"id\":\"2364\",\"type\":\"Toolbar\"},{\"attributes\":{\"axis\":{\"id\":\"1741\"},\"ticker\":null},\"id\":\"1744\",\"type\":\"Grid\"},{\"attributes\":{\"line_alpha\":0.1,\"line_color\":\"#1f77b4\",\"x\":{\"field\":\"x\"},\"y\":{\"field\":\"y\"}},\"id\":\"2373\",\"type\":\"Line\"},{\"attributes\":{\"text\":\"Kd_c: 0.1; Kd_t: 0.1\"},\"id\":\"1161\",\"type\":\"Title\"},{\"attributes\":{\"axis\":{\"id\":\"2277\"},\"dimension\":1,\"ticker\":null},\"id\":\"2280\",\"type\":\"Grid\"},{\"attributes\":{\"line_color\":\"#1f77b4\",\"x\":{\"field\":\"x\"},\"y\":{\"field\":\"y\"}},\"id\":\"2410\",\"type\":\"Line\"},{\"attributes\":{\"active_drag\":\"auto\",\"active_inspect\":\"auto\",\"active_multi\":null,\"active_scroll\":\"auto\",\"active_tap\":\"auto\",\"tools\":[{\"id\":\"2167\"},{\"id\":\"2168\"},{\"id\":\"2169\"},{\"id\":\"2170\"},{\"id\":\"2171\"},{\"id\":\"2172\"}]},\"id\":\"2174\",\"type\":\"Toolbar\"},{\"attributes\":{},\"id\":\"2358\",\"type\":\"WheelZoomTool\"},{\"attributes\":{},\"id\":\"1739\",\"type\":\"LinearScale\"},{\"attributes\":{},\"id\":\"2278\",\"type\":\"BasicTicker\"},{\"attributes\":{\"axis_label\":\"\\u237aL\",\"formatter\":{\"id\":\"2666\"},\"ticker\":{\"id\":\"1742\"}},\"id\":\"1741\",\"type\":\"LogAxis\"},{\"attributes\":{\"overlay\":{\"id\":\"2363\"}},\"id\":\"2359\",\"type\":\"BoxZoomTool\"},{\"attributes\":{},\"id\":\"1746\",\"type\":\"BasicTicker\"},{\"attributes\":{\"line_color\":\"#1f77b4\",\"x\":{\"field\":\"x\"},\"y\":{\"field\":\"y\"}},\"id\":\"2296\",\"type\":\"Line\"},{\"attributes\":{},\"id\":\"2360\",\"type\":\"SaveTool\"},{\"attributes\":{\"axis_label\":\"Steady state N\",\"formatter\":{\"id\":\"2664\"},\"ticker\":{\"id\":\"1746\"}},\"id\":\"1745\",\"type\":\"LinearAxis\"},{\"attributes\":{\"axis_label\":\"\\u237aL\",\"formatter\":{\"id\":\"2792\"},\"ticker\":{\"id\":\"2274\"}},\"id\":\"2273\",\"type\":\"LogAxis\"},{\"attributes\":{},\"id\":\"2547\",\"type\":\"BasicTickFormatter\"},{\"attributes\":{\"bottom_units\":\"screen\",\"fill_alpha\":0.5,\"fill_color\":\"lightgrey\",\"left_units\":\"screen\",\"level\":\"overlay\",\"line_alpha\":1.0,\"line_color\":\"black\",\"line_dash\":[4,4],\"line_width\":2,\"render_mode\":\"css\",\"right_units\":\"screen\",\"top_units\":\"screen\"},\"id\":\"2135\",\"type\":\"BoxAnnotation\"},{\"attributes\":{\"num_minor_ticks\":10},\"id\":\"1742\",\"type\":\"LogTicker\"},{\"attributes\":{},\"id\":\"2361\",\"type\":\"ResetTool\"},{\"attributes\":{\"axis_label\":\"Steady state N\",\"formatter\":{\"id\":\"2790\"},\"ticker\":{\"id\":\"2278\"}},\"id\":\"2277\",\"type\":\"LinearAxis\"},{\"attributes\":{},\"id\":\"1737\",\"type\":\"LogScale\"},{\"attributes\":{\"toolbar\":{\"id\":\"2853\"},\"toolbar_location\":\"above\"},\"id\":\"2854\",\"type\":\"ToolbarBox\"},{\"attributes\":{\"below\":[{\"id\":\"2159\"}],\"center\":[{\"id\":\"2162\"},{\"id\":\"2166\"}],\"frame_height\":100,\"frame_width\":200,\"left\":[{\"id\":\"2163\"}],\"renderers\":[{\"id\":\"2184\"}],\"title\":{\"id\":\"2149\"},\"toolbar\":{\"id\":\"2174\"},\"toolbar_location\":null,\"x_range\":{\"id\":\"2151\"},\"x_scale\":{\"id\":\"2155\"},\"y_range\":{\"id\":\"2153\"},\"y_scale\":{\"id\":\"2157\"}},\"id\":\"2148\",\"subtype\":\"Figure\",\"type\":\"Plot\"},{\"attributes\":{},\"id\":\"2362\",\"type\":\"HelpTool\"},{\"attributes\":{\"bottom_units\":\"screen\",\"fill_alpha\":0.5,\"fill_color\":\"lightgrey\",\"left_units\":\"screen\",\"level\":\"overlay\",\"line_alpha\":1.0,\"line_color\":\"black\",\"line_dash\":[4,4],\"line_width\":2,\"render_mode\":\"css\",\"right_units\":\"screen\",\"top_units\":\"screen\"},\"id\":\"1679\",\"type\":\"BoxAnnotation\"},{\"attributes\":{\"end\":0.25},\"id\":\"1735\",\"type\":\"Range1d\"},{\"attributes\":{},\"id\":\"2544\",\"type\":\"Selection\"},{\"attributes\":{\"active_drag\":\"auto\",\"active_inspect\":\"auto\",\"active_multi\":null,\"active_scroll\":\"auto\",\"active_tap\":\"auto\",\"tools\":[{\"id\":\"1673\"},{\"id\":\"1674\"},{\"id\":\"1675\"},{\"id\":\"1676\"},{\"id\":\"1677\"},{\"id\":\"1678\"}]},\"id\":\"1680\",\"type\":\"Toolbar\"},{\"attributes\":{\"axis_label\":\"\\u237aL\",\"formatter\":{\"id\":\"2828\"},\"ticker\":{\"id\":\"2426\"}},\"id\":\"2425\",\"type\":\"LogAxis\"},{\"attributes\":{\"below\":[{\"id\":\"2425\"}],\"center\":[{\"id\":\"2428\"},{\"id\":\"2432\"}],\"frame_height\":100,\"frame_width\":200,\"left\":[{\"id\":\"2429\"}],\"renderers\":[{\"id\":\"2450\"}],\"title\":{\"id\":\"2415\"},\"toolbar\":{\"id\":\"2440\"},\"toolbar_location\":null,\"x_range\":{\"id\":\"2417\"},\"x_scale\":{\"id\":\"2421\"},\"y_range\":{\"id\":\"2419\"},\"y_scale\":{\"id\":\"2423\"}},\"id\":\"2414\",\"subtype\":\"Figure\",\"type\":\"Plot\"},{\"attributes\":{\"text\":\"Kd_c: 4.06; Kd_t: 4.06\"},\"id\":\"1693\",\"type\":\"Title\"},{\"attributes\":{\"text\":\"Kd_c: 4.06; Kd_t: 8.02\"},\"id\":\"2149\",\"type\":\"Title\"},{\"attributes\":{},\"id\":\"2151\",\"type\":\"DataRange1d\"},{\"attributes\":{\"line_alpha\":0.1,\"line_color\":\"#1f77b4\",\"x\":{\"field\":\"x\"},\"y\":{\"field\":\"y\"}},\"id\":\"1727\",\"type\":\"Line\"},{\"attributes\":{\"below\":[{\"id\":\"1703\"}],\"center\":[{\"id\":\"1706\"},{\"id\":\"1710\"}],\"frame_height\":100,\"frame_width\":200,\"left\":[{\"id\":\"1707\"}],\"renderers\":[{\"id\":\"1728\"}],\"title\":{\"id\":\"1693\"},\"toolbar\":{\"id\":\"1718\"},\"toolbar_location\":null,\"x_range\":{\"id\":\"1695\"},\"x_scale\":{\"id\":\"1699\"},\"y_range\":{\"id\":\"1697\"},\"y_scale\":{\"id\":\"1701\"}},\"id\":\"1692\",\"subtype\":\"Figure\",\"type\":\"Plot\"},{\"attributes\":{},\"id\":\"2157\",\"type\":\"LinearScale\"},{\"attributes\":{},\"id\":\"2421\",\"type\":\"LogScale\"},{\"attributes\":{},\"id\":\"1695\",\"type\":\"DataRange1d\"},{\"attributes\":{},\"id\":\"2155\",\"type\":\"LogScale\"},{\"attributes\":{\"end\":0.25},\"id\":\"2419\",\"type\":\"Range1d\"},{\"attributes\":{\"end\":0.25},\"id\":\"2153\",\"type\":\"Range1d\"},{\"attributes\":{},\"id\":\"2423\",\"type\":\"LinearScale\"},{\"attributes\":{},\"id\":\"1701\",\"type\":\"LinearScale\"},{\"attributes\":{\"active_drag\":\"auto\",\"active_inspect\":\"auto\",\"active_multi\":null,\"active_scroll\":\"auto\",\"active_tap\":\"auto\",\"tools\":[{\"id\":\"1179\"},{\"id\":\"1180\"},{\"id\":\"1181\"},{\"id\":\"1182\"},{\"id\":\"1183\"},{\"id\":\"1184\"}]},\"id\":\"1186\",\"type\":\"Toolbar\"},{\"attributes\":{},\"id\":\"1699\",\"type\":\"LogScale\"},{\"attributes\":{\"line_color\":\"#1f77b4\",\"x\":{\"field\":\"x\"},\"y\":{\"field\":\"y\"}},\"id\":\"2448\",\"type\":\"Line\"},{\"attributes\":{\"end\":0.25},\"id\":\"1697\",\"type\":\"Range1d\"},{\"attributes\":{},\"id\":\"2417\",\"type\":\"DataRange1d\"},{\"attributes\":{\"below\":[{\"id\":\"1209\"}],\"center\":[{\"id\":\"1212\"},{\"id\":\"1216\"}],\"frame_height\":100,\"frame_width\":200,\"left\":[{\"id\":\"1213\"}],\"renderers\":[{\"id\":\"1234\"}],\"title\":{\"id\":\"1199\"},\"toolbar\":{\"id\":\"1224\"},\"toolbar_location\":null,\"x_range\":{\"id\":\"1201\"},\"x_scale\":{\"id\":\"1205\"},\"y_range\":{\"id\":\"1203\"},\"y_scale\":{\"id\":\"1207\"}},\"id\":\"1198\",\"subtype\":\"Figure\",\"type\":\"Plot\"},{\"attributes\":{\"axis_label\":\"\\u237aL\",\"formatter\":{\"id\":\"2765\"},\"ticker\":{\"id\":\"2160\"}},\"id\":\"2159\",\"type\":\"LogAxis\"},{\"attributes\":{\"bottom_units\":\"screen\",\"fill_alpha\":0.5,\"fill_color\":\"lightgrey\",\"left_units\":\"screen\",\"level\":\"overlay\",\"line_alpha\":1.0,\"line_color\":\"black\",\"line_dash\":[4,4],\"line_width\":2,\"render_mode\":\"css\",\"right_units\":\"screen\",\"top_units\":\"screen\"},\"id\":\"2363\",\"type\":\"BoxAnnotation\"},{\"attributes\":{\"ticker\":null},\"id\":\"2549\",\"type\":\"LogTickFormatter\"},{\"attributes\":{\"text\":\"Kd_c: 6.04; Kd_t: 10.0\"},\"id\":\"2415\",\"type\":\"Title\"},{\"attributes\":{},\"id\":\"2164\",\"type\":\"BasicTicker\"},{\"attributes\":{\"text\":\"Kd_c: 2.08; Kd_t: 0.1\"},\"id\":\"1199\",\"type\":\"Title\"},{\"attributes\":{\"num_minor_ticks\":10},\"id\":\"2160\",\"type\":\"LogTicker\"},{\"attributes\":{\"line_alpha\":0.1,\"line_color\":\"#1f77b4\",\"x\":{\"field\":\"x\"},\"y\":{\"field\":\"y\"}},\"id\":\"1233\",\"type\":\"Line\"},{\"attributes\":{},\"id\":\"1205\",\"type\":\"LogScale\"},{\"attributes\":{\"axis_label\":\"\\u237aL\",\"formatter\":{\"id\":\"2657\"},\"ticker\":{\"id\":\"1704\"}},\"id\":\"1703\",\"type\":\"LogAxis\"},{\"attributes\":{\"axis\":{\"id\":\"2159\"},\"ticker\":null},\"id\":\"2162\",\"type\":\"Grid\"},{\"attributes\":{\"source\":{\"id\":\"2371\"}},\"id\":\"2375\",\"type\":\"CDSView\"},{\"attributes\":{\"end\":0.25},\"id\":\"1203\",\"type\":\"Range1d\"},{\"attributes\":{},\"id\":\"1708\",\"type\":\"BasicTicker\"},{\"attributes\":{},\"id\":\"2552\",\"type\":\"UnionRenderers\"},{\"attributes\":{},\"id\":\"1217\",\"type\":\"PanTool\"},{\"attributes\":{\"axis\":{\"id\":\"2163\"},\"dimension\":1,\"ticker\":null},\"id\":\"2166\",\"type\":\"Grid\"},{\"attributes\":{\"num_minor_ticks\":10},\"id\":\"1704\",\"type\":\"LogTicker\"},{\"attributes\":{},\"id\":\"1201\",\"type\":\"DataRange1d\"},{\"attributes\":{\"axis_label\":\"Steady state N\",\"formatter\":{\"id\":\"2763\"},\"ticker\":{\"id\":\"2164\"}},\"id\":\"2163\",\"type\":\"LinearAxis\"},{\"attributes\":{\"below\":[{\"id\":\"2387\"}],\"center\":[{\"id\":\"2390\"},{\"id\":\"2394\"}],\"frame_height\":100,\"frame_width\":200,\"left\":[{\"id\":\"2391\"}],\"renderers\":[{\"id\":\"2412\"}],\"title\":{\"id\":\"2377\"},\"toolbar\":{\"id\":\"2402\"},\"toolbar_location\":null,\"x_range\":{\"id\":\"2379\"},\"x_scale\":{\"id\":\"2383\"},\"y_range\":{\"id\":\"2381\"},\"y_scale\":{\"id\":\"2385\"}},\"id\":\"2376\",\"subtype\":\"Figure\",\"type\":\"Plot\"},{\"attributes\":{\"axis\":{\"id\":\"1703\"},\"ticker\":null},\"id\":\"1706\",\"type\":\"Grid\"},{\"attributes\":{\"text\":\"Kd_c: 4.06; Kd_t: 10.0\"},\"id\":\"2377\",\"type\":\"Title\"},{\"attributes\":{\"data\":{\"x\":{\"__ndarray__\":\"/Knx0k1iUD97FK5H4XqEP5qZmZmZmbk/AAAAAAAA8D8AAAAAAAAkQAAAAAAAAFlA\",\"dtype\":\"float64\",\"shape\":[6]},\"y\":{\"__ndarray__\":\"54zZIULrYj95gfwo8E1mP147yiCHkXs/TBicFLERoz9NeksWwV28P9xeWxNX40k/\",\"dtype\":\"float64\",\"shape\":[6]}},\"selected\":{\"id\":\"2769\"},\"selection_policy\":{\"id\":\"2768\"}},\"id\":\"2181\",\"type\":\"ColumnDataSource\"},{\"attributes\":{\"axis\":{\"id\":\"1707\"},\"dimension\":1,\"ticker\":null},\"id\":\"1710\",\"type\":\"Grid\"},{\"attributes\":{},\"id\":\"2379\",\"type\":\"DataRange1d\"},{\"attributes\":{\"axis_label\":\"Steady state N\",\"formatter\":{\"id\":\"2655\"},\"ticker\":{\"id\":\"1708\"}},\"id\":\"1707\",\"type\":\"LinearAxis\"},{\"attributes\":{\"source\":{\"id\":\"2181\"}},\"id\":\"2185\",\"type\":\"CDSView\"},{\"attributes\":{},\"id\":\"2385\",\"type\":\"LinearScale\"},{\"attributes\":{\"data\":{\"x\":{\"__ndarray__\":\"/Knx0k1iUD97FK5H4XqEP5qZmZmZmbk/AAAAAAAA8D8AAAAAAAAkQAAAAAAAAFlA\",\"dtype\":\"float64\",\"shape\":[6]},\"y\":{\"__ndarray__\":\"DuiLwgVDYz9+ImultbVpP43z9OViwYU/55Ct9ASQrj/CawhTu7PBPzZl/OfgG1c/\",\"dtype\":\"float64\",\"shape\":[6]}},\"selected\":{\"id\":\"2661\"},\"selection_policy\":{\"id\":\"2660\"}},\"id\":\"1725\",\"type\":\"ColumnDataSource\"},{\"attributes\":{\"data_source\":{\"id\":\"2181\"},\"glyph\":{\"id\":\"2182\"},\"hover_glyph\":null,\"muted_glyph\":null,\"nonselection_glyph\":{\"id\":\"2183\"},\"selection_glyph\":null,\"view\":{\"id\":\"2185\"}},\"id\":\"2184\",\"type\":\"GlyphRenderer\"},{\"attributes\":{},\"id\":\"2383\",\"type\":\"LogScale\"},{\"attributes\":{\"end\":0.25},\"id\":\"2381\",\"type\":\"Range1d\"},{\"attributes\":{\"line_color\":\"#1f77b4\",\"x\":{\"field\":\"x\"},\"y\":{\"field\":\"y\"}},\"id\":\"2182\",\"type\":\"Line\"},{\"attributes\":{\"data_source\":{\"id\":\"1725\"},\"glyph\":{\"id\":\"1726\"},\"hover_glyph\":null,\"muted_glyph\":null,\"nonselection_glyph\":{\"id\":\"1727\"},\"selection_glyph\":null,\"view\":{\"id\":\"1729\"}},\"id\":\"1728\",\"type\":\"GlyphRenderer\"},{\"attributes\":{},\"id\":\"2167\",\"type\":\"PanTool\"},{\"attributes\":{\"source\":{\"id\":\"1725\"}},\"id\":\"1729\",\"type\":\"CDSView\"},{\"attributes\":{},\"id\":\"2168\",\"type\":\"WheelZoomTool\"},{\"attributes\":{\"line_color\":\"#1f77b4\",\"x\":{\"field\":\"x\"},\"y\":{\"field\":\"y\"}},\"id\":\"1726\",\"type\":\"Line\"},{\"attributes\":{},\"id\":\"1711\",\"type\":\"PanTool\"},{\"attributes\":{\"overlay\":{\"id\":\"2173\"}},\"id\":\"2169\",\"type\":\"BoxZoomTool\"},{\"attributes\":{\"axis_label\":\"\\u237aL\",\"formatter\":{\"id\":\"2819\"},\"ticker\":{\"id\":\"2388\"}},\"id\":\"2387\",\"type\":\"LogAxis\"},{\"attributes\":{\"axis_label\":\"Steady state N\",\"formatter\":{\"id\":\"2817\"},\"ticker\":{\"id\":\"2392\"}},\"id\":\"2391\",\"type\":\"LinearAxis\"},{\"attributes\":{},\"id\":\"1712\",\"type\":\"WheelZoomTool\"},{\"attributes\":{},\"id\":\"2170\",\"type\":\"SaveTool\"},{\"attributes\":{\"num_minor_ticks\":10},\"id\":\"2388\",\"type\":\"LogTicker\"},{\"attributes\":{},\"id\":\"1714\",\"type\":\"SaveTool\"},{\"attributes\":{\"overlay\":{\"id\":\"1717\"}},\"id\":\"1713\",\"type\":\"BoxZoomTool\"},{\"attributes\":{},\"id\":\"2171\",\"type\":\"ResetTool\"},{\"attributes\":{\"axis\":{\"id\":\"2387\"},\"ticker\":null},\"id\":\"2390\",\"type\":\"Grid\"},{\"attributes\":{},\"id\":\"2553\",\"type\":\"Selection\"},{\"attributes\":{},\"id\":\"2723\",\"type\":\"UnionRenderers\"},{\"attributes\":{\"line_alpha\":0.1,\"line_color\":\"#1f77b4\",\"x\":{\"field\":\"x\"},\"y\":{\"field\":\"y\"}},\"id\":\"2183\",\"type\":\"Line\"},{\"attributes\":{},\"id\":\"2392\",\"type\":\"BasicTicker\"},{\"attributes\":{\"axis_label\":\"\\u237aL\",\"formatter\":{\"id\":\"2558\"},\"ticker\":{\"id\":\"1286\"}},\"id\":\"1285\",\"type\":\"LogAxis\"},{\"attributes\":{\"end\":0.25},\"id\":\"1659\",\"type\":\"Range1d\"},{\"attributes\":{\"num_minor_ticks\":10},\"id\":\"1172\",\"type\":\"LogTicker\"},{\"attributes\":{\"ticker\":null},\"id\":\"2693\",\"type\":\"LogTickFormatter\"},{\"attributes\":{},\"id\":\"1256\",\"type\":\"WheelZoomTool\"},{\"attributes\":{},\"id\":\"2512\",\"type\":\"SaveTool\"},{\"attributes\":{\"axis\":{\"id\":\"2391\"},\"dimension\":1,\"ticker\":null},\"id\":\"2394\",\"type\":\"Grid\"},{\"attributes\":{},\"id\":\"2571\",\"type\":\"Selection\"},{\"attributes\":{},\"id\":\"2733\",\"type\":\"Selection\"},{\"attributes\":{\"axis\":{\"id\":\"1175\"},\"dimension\":1,\"ticker\":null},\"id\":\"1178\",\"type\":\"Grid\"},{\"attributes\":{\"overlay\":{\"id\":\"2515\"}},\"id\":\"2511\",\"type\":\"BoxZoomTool\"},{\"attributes\":{\"bottom_units\":\"screen\",\"fill_alpha\":0.5,\"fill_color\":\"lightgrey\",\"left_units\":\"screen\",\"level\":\"overlay\",\"line_alpha\":1.0,\"line_color\":\"black\",\"line_dash\":[4,4],\"line_width\":2,\"render_mode\":\"css\",\"right_units\":\"screen\",\"top_units\":\"screen\"},\"id\":\"1527\",\"type\":\"BoxAnnotation\"},{\"attributes\":{},\"id\":\"2697\",\"type\":\"Selection\"},{\"attributes\":{\"axis_label\":\"Steady state N\",\"formatter\":{\"id\":\"2529\"},\"ticker\":{\"id\":\"1176\"}},\"id\":\"1175\",\"type\":\"LinearAxis\"},{\"attributes\":{\"overlay\":{\"id\":\"1261\"}},\"id\":\"1257\",\"type\":\"BoxZoomTool\"},{\"attributes\":{\"axis\":{\"id\":\"2425\"},\"ticker\":null},\"id\":\"2428\",\"type\":\"Grid\"},{\"attributes\":{},\"id\":\"2513\",\"type\":\"ResetTool\"},{\"attributes\":{\"axis_label\":\"\\u237aL\",\"formatter\":{\"id\":\"2531\"},\"ticker\":{\"id\":\"1172\"}},\"id\":\"1171\",\"type\":\"LogAxis\"},{\"attributes\":{\"data\":{\"x\":{\"__ndarray__\":\"/Knx0k1iUD97FK5H4XqEP5qZmZmZmbk/AAAAAAAA8D8AAAAAAAAkQAAAAAAAAFlA\",\"dtype\":\"float64\",\"shape\":[6]},\"y\":{\"__ndarray__\":\"ET5w9K8naz/q/heYiMyJPwReb/lNcrU/gxZ9fnzNwz/+MO8JbQdEP5ydjDC55Tw/\",\"dtype\":\"float64\",\"shape\":[6]}},\"selected\":{\"id\":\"2535\"},\"selection_policy\":{\"id\":\"2534\"}},\"id\":\"1193\",\"type\":\"ColumnDataSource\"},{\"attributes\":{\"ticker\":null},\"id\":\"2702\",\"type\":\"LogTickFormatter\"},{\"attributes\":{\"source\":{\"id\":\"2409\"}},\"id\":\"2413\",\"type\":\"CDSView\"},{\"attributes\":{\"active_drag\":\"auto\",\"active_inspect\":\"auto\",\"active_multi\":null,\"active_scroll\":\"auto\",\"active_tap\":\"auto\",\"tools\":[{\"id\":\"2395\"},{\"id\":\"2396\"},{\"id\":\"2397\"},{\"id\":\"2398\"},{\"id\":\"2399\"},{\"id\":\"2400\"}]},\"id\":\"2402\",\"type\":\"Toolbar\"},{\"attributes\":{\"below\":[{\"id\":\"1551\"}],\"center\":[{\"id\":\"1554\"},{\"id\":\"1558\"}],\"frame_height\":100,\"frame_width\":200,\"left\":[{\"id\":\"1555\"}],\"renderers\":[{\"id\":\"1576\"}],\"title\":{\"id\":\"1541\"},\"toolbar\":{\"id\":\"1566\"},\"toolbar_location\":null,\"x_range\":{\"id\":\"1543\"},\"x_scale\":{\"id\":\"1547\"},\"y_range\":{\"id\":\"1545\"},\"y_scale\":{\"id\":\"1549\"}},\"id\":\"1540\",\"subtype\":\"Figure\",\"type\":\"Plot\"},{\"attributes\":{},\"id\":\"1258\",\"type\":\"SaveTool\"},{\"attributes\":{},\"id\":\"2514\",\"type\":\"HelpTool\"},{\"attributes\":{},\"id\":\"1255\",\"type\":\"PanTool\"},{\"attributes\":{},\"id\":\"1176\",\"type\":\"BasicTicker\"},{\"attributes\":{},\"id\":\"2700\",\"type\":\"BasicTickFormatter\"},{\"attributes\":{\"data\":{\"x\":{\"__ndarray__\":\"/Knx0k1iUD97FK5H4XqEP5qZmZmZmbk/AAAAAAAA8D8AAAAAAAAkQAAAAAAAAFlA\",\"dtype\":\"float64\",\"shape\":[6]},\"y\":{\"__ndarray__\":\"aI/xUqfYYj9wCaoLvJRlPxy9jXkTHHg/CsdVBlwloD9fhA4VKqi5PxXigR6L7kU/\",\"dtype\":\"float64\",\"shape\":[6]}},\"selected\":{\"id\":\"2823\"},\"selection_policy\":{\"id\":\"2822\"}},\"id\":\"2409\",\"type\":\"ColumnDataSource\"},{\"attributes\":{\"axis\":{\"id\":\"1171\"},\"ticker\":null},\"id\":\"1174\",\"type\":\"Grid\"},{\"attributes\":{},\"id\":\"2705\",\"type\":\"UnionRenderers\"},{\"attributes\":{},\"id\":\"2395\",\"type\":\"PanTool\"},{\"attributes\":{\"text\":\"Kd_c: 8.02; Kd_t: 2.08\"},\"id\":\"1541\",\"type\":\"Title\"},{\"attributes\":{},\"id\":\"2706\",\"type\":\"Selection\"},{\"attributes\":{},\"id\":\"2396\",\"type\":\"WheelZoomTool\"},{\"attributes\":{\"line_color\":\"#1f77b4\",\"x\":{\"field\":\"x\"},\"y\":{\"field\":\"y\"}},\"id\":\"1954\",\"type\":\"Line\"},{\"attributes\":{},\"id\":\"2510\",\"type\":\"WheelZoomTool\"},{\"attributes\":{},\"id\":\"1543\",\"type\":\"DataRange1d\"},{\"attributes\":{},\"id\":\"1259\",\"type\":\"ResetTool\"},{\"attributes\":{\"overlay\":{\"id\":\"2401\"}},\"id\":\"2397\",\"type\":\"BoxZoomTool\"},{\"attributes\":{\"bottom_units\":\"screen\",\"fill_alpha\":0.5,\"fill_color\":\"lightgrey\",\"left_units\":\"screen\",\"level\":\"overlay\",\"line_alpha\":1.0,\"line_color\":\"black\",\"line_dash\":[4,4],\"line_width\":2,\"render_mode\":\"css\",\"right_units\":\"screen\",\"top_units\":\"screen\"},\"id\":\"2477\",\"type\":\"BoxAnnotation\"},{\"attributes\":{\"line_color\":\"#1f77b4\",\"x\":{\"field\":\"x\"},\"y\":{\"field\":\"y\"}},\"id\":\"1194\",\"type\":\"Line\"},{\"attributes\":{},\"id\":\"2709\",\"type\":\"BasicTickFormatter\"},{\"attributes\":{\"ticker\":null},\"id\":\"2711\",\"type\":\"LogTickFormatter\"},{\"attributes\":{},\"id\":\"2398\",\"type\":\"SaveTool\"},{\"attributes\":{},\"id\":\"1163\",\"type\":\"DataRange1d\"},{\"attributes\":{},\"id\":\"1549\",\"type\":\"LinearScale\"},{\"attributes\":{},\"id\":\"2714\",\"type\":\"UnionRenderers\"},{\"attributes\":{\"text\":\"Kd_c: 6.04; Kd_t: 0.1\"},\"id\":\"1275\",\"type\":\"Title\"},{\"attributes\":{},\"id\":\"1547\",\"type\":\"LogScale\"},{\"attributes\":{\"below\":[{\"id\":\"2501\"}],\"center\":[{\"id\":\"2504\"},{\"id\":\"2508\"}],\"frame_height\":100,\"frame_width\":200,\"left\":[{\"id\":\"2505\"}],\"renderers\":[{\"id\":\"2526\"}],\"title\":{\"id\":\"2491\"},\"toolbar\":{\"id\":\"2516\"},\"toolbar_location\":null,\"x_range\":{\"id\":\"2493\"},\"x_scale\":{\"id\":\"2497\"},\"y_range\":{\"id\":\"2495\"},\"y_scale\":{\"id\":\"2499\"}},\"id\":\"2490\",\"subtype\":\"Figure\",\"type\":\"Plot\"},{\"attributes\":{},\"id\":\"1260\",\"type\":\"HelpTool\"},{\"attributes\":{},\"id\":\"2399\",\"type\":\"ResetTool\"},{\"attributes\":{\"end\":0.25},\"id\":\"1545\",\"type\":\"Range1d\"},{\"attributes\":{},\"id\":\"2543\",\"type\":\"UnionRenderers\"},{\"attributes\":{},\"id\":\"2715\",\"type\":\"Selection\"},{\"attributes\":{\"axis_label\":\"Steady state N\",\"formatter\":{\"id\":\"2556\"},\"ticker\":{\"id\":\"1290\"}},\"id\":\"1289\",\"type\":\"LinearAxis\"},{\"attributes\":{},\"id\":\"2400\",\"type\":\"HelpTool\"},{\"attributes\":{},\"id\":\"1290\",\"type\":\"BasicTicker\"},{\"attributes\":{\"text\":\"Kd_c: 10.0; Kd_t: 10.0\"},\"id\":\"2491\",\"type\":\"Title\"},{\"attributes\":{\"ticker\":null},\"id\":\"2720\",\"type\":\"LogTickFormatter\"},{\"attributes\":{},\"id\":\"1663\",\"type\":\"LinearScale\"},{\"attributes\":{},\"id\":\"2718\",\"type\":\"BasicTickFormatter\"},{\"attributes\":{},\"id\":\"2433\",\"type\":\"PanTool\"},{\"attributes\":{\"axis_label\":\"\\u237aL\",\"formatter\":{\"id\":\"2621\"},\"ticker\":{\"id\":\"1552\"}},\"id\":\"1551\",\"type\":\"LogAxis\"},{\"attributes\":{},\"id\":\"2493\",\"type\":\"DataRange1d\"},{\"attributes\":{\"ticker\":null},\"id\":\"2738\",\"type\":\"LogTickFormatter\"},{\"attributes\":{\"data_source\":{\"id\":\"1269\"},\"glyph\":{\"id\":\"1270\"},\"hover_glyph\":null,\"muted_glyph\":null,\"nonselection_glyph\":{\"id\":\"1271\"},\"selection_glyph\":null,\"view\":{\"id\":\"1273\"}},\"id\":\"1272\",\"type\":\"GlyphRenderer\"},{\"attributes\":{},\"id\":\"1556\",\"type\":\"BasicTicker\"},{\"attributes\":{},\"id\":\"1245\",\"type\":\"LinearScale\"},{\"attributes\":{\"num_minor_ticks\":10},\"id\":\"1552\",\"type\":\"LogTicker\"},{\"attributes\":{},\"id\":\"2050\",\"type\":\"BasicTicker\"},{\"attributes\":{},\"id\":\"2434\",\"type\":\"WheelZoomTool\"},{\"attributes\":{},\"id\":\"1167\",\"type\":\"LogScale\"},{\"attributes\":{\"axis\":{\"id\":\"1551\"},\"ticker\":null},\"id\":\"1554\",\"type\":\"Grid\"},{\"attributes\":{},\"id\":\"2497\",\"type\":\"LogScale\"},{\"attributes\":{\"end\":0.25},\"id\":\"2495\",\"type\":\"Range1d\"},{\"attributes\":{},\"id\":\"2742\",\"type\":\"Selection\"},{\"attributes\":{\"axis_label\":\"\\u237aL\",\"formatter\":{\"id\":\"2648\"},\"ticker\":{\"id\":\"1666\"}},\"id\":\"1665\",\"type\":\"LogAxis\"},{\"attributes\":{\"data_source\":{\"id\":\"2447\"},\"glyph\":{\"id\":\"2448\"},\"hover_glyph\":null,\"muted_glyph\":null,\"nonselection_glyph\":{\"id\":\"2449\"},\"selection_glyph\":null,\"view\":{\"id\":\"2451\"}},\"id\":\"2450\",\"type\":\"GlyphRenderer\"},{\"attributes\":{},\"id\":\"2509\",\"type\":\"PanTool\"},{\"attributes\":{\"axis_label\":\"Steady state N\",\"formatter\":{\"id\":\"2619\"},\"ticker\":{\"id\":\"1556\"}},\"id\":\"1555\",\"type\":\"LinearAxis\"},{\"attributes\":{\"line_color\":\"#1f77b4\",\"x\":{\"field\":\"x\"},\"y\":{\"field\":\"y\"}},\"id\":\"1992\",\"type\":\"Line\"},{\"attributes\":{\"ticker\":null},\"id\":\"2747\",\"type\":\"LogTickFormatter\"},{\"attributes\":{\"axis_label\":\"\\u237aL\",\"formatter\":{\"id\":\"2549\"},\"ticker\":{\"id\":\"1248\"}},\"id\":\"1247\",\"type\":\"LogAxis\"},{\"attributes\":{},\"id\":\"2745\",\"type\":\"BasicTickFormatter\"},{\"attributes\":{\"data\":{\"x\":{\"__ndarray__\":\"/Knx0k1iUD97FK5H4XqEP5qZmZmZmbk/AAAAAAAA8D8AAAAAAAAkQAAAAAAAAFlA\",\"dtype\":\"float64\",\"shape\":[6]},\"y\":{\"__ndarray__\":\"9O1s4XfYYj/yog4uC5NlP1G1bBZiG3g/7f9flMtkoD+lSOXifai7P8p10S4e51Y/\",\"dtype\":\"float64\",\"shape\":[6]}},\"selected\":{\"id\":\"2832\"},\"selection_policy\":{\"id\":\"2831\"}},\"id\":\"2447\",\"type\":\"ColumnDataSource\"},{\"attributes\":{\"line_alpha\":0.1,\"line_color\":\"#1f77b4\",\"x\":{\"field\":\"x\"},\"y\":{\"field\":\"y\"}},\"id\":\"2449\",\"type\":\"Line\"},{\"attributes\":{\"num_minor_ticks\":10},\"id\":\"1666\",\"type\":\"LogTicker\"},{\"attributes\":{\"source\":{\"id\":\"2447\"}},\"id\":\"2451\",\"type\":\"CDSView\"},{\"attributes\":{\"source\":{\"id\":\"2523\"}},\"id\":\"2527\",\"type\":\"CDSView\"},{\"attributes\":{},\"id\":\"2750\",\"type\":\"UnionRenderers\"},{\"attributes\":{},\"id\":\"2538\",\"type\":\"BasicTickFormatter\"},{\"attributes\":{\"axis\":{\"id\":\"1665\"},\"ticker\":null},\"id\":\"1668\",\"type\":\"Grid\"},{\"attributes\":{},\"id\":\"1252\",\"type\":\"BasicTicker\"},{\"attributes\":{},\"id\":\"1661\",\"type\":\"LogScale\"},{\"attributes\":{\"axis_label\":\"Steady state N\",\"formatter\":{\"id\":\"2826\"},\"ticker\":{\"id\":\"2430\"}},\"id\":\"2429\",\"type\":\"LinearAxis\"},{\"attributes\":{\"data\":{\"x\":{\"__ndarray__\":\"/Knx0k1iUD97FK5H4XqEP5qZmZmZmbk/AAAAAAAA8D8AAAAAAAAkQAAAAAAAAFlA\",\"dtype\":\"float64\",\"shape\":[6]},\"y\":{\"__ndarray__\":\"Qz7XOGA4aj8ShHJ0OZmHP/gWU2cgs7Q/eDd7hv8Uxj8ZjrG8ICvHP7QHpUx9RMc/\",\"dtype\":\"float64\",\"shape\":[6]}},\"selected\":{\"id\":\"2553\"},\"selection_policy\":{\"id\":\"2552\"}},\"id\":\"1269\",\"type\":\"ColumnDataSource\"},{\"attributes\":{\"data\":{\"x\":{\"__ndarray__\":\"/Knx0k1iUD97FK5H4XqEP5qZmZmZmbk/AAAAAAAA8D8AAAAAAAAkQAAAAAAAAFlA\",\"dtype\":\"float64\",\"shape\":[6]},\"y\":{\"__ndarray__\":\"s9Ar6VDYYj/UzFNQp5FlPy0QJLfCGng/ZyebOAuZoD9QMjMgVz29P4x1VsEl5cM/\",\"dtype\":\"float64\",\"shape\":[6]}},\"selected\":{\"id\":\"2850\"},\"selection_policy\":{\"id\":\"2849\"}},\"id\":\"2523\",\"type\":\"ColumnDataSource\"},{\"attributes\":{\"active_drag\":\"auto\",\"active_inspect\":\"auto\",\"active_multi\":null,\"active_scroll\":\"auto\",\"active_tap\":\"auto\",\"tools\":[{\"id\":\"1255\"},{\"id\":\"1256\"},{\"id\":\"1257\"},{\"id\":\"1258\"},{\"id\":\"1259\"},{\"id\":\"1260\"}]},\"id\":\"1262\",\"type\":\"Toolbar\"},{\"attributes\":{\"active_drag\":\"auto\",\"active_inspect\":\"auto\",\"active_multi\":null,\"active_scroll\":\"auto\",\"active_tap\":\"auto\",\"tools\":[{\"id\":\"2509\"},{\"id\":\"2510\"},{\"id\":\"2511\"},{\"id\":\"2512\"},{\"id\":\"2513\"},{\"id\":\"2514\"}]},\"id\":\"2516\",\"type\":\"Toolbar\"},{\"attributes\":{\"axis\":{\"id\":\"2429\"},\"dimension\":1,\"ticker\":null},\"id\":\"2432\",\"type\":\"Grid\"},{\"attributes\":{},\"id\":\"2751\",\"type\":\"Selection\"},{\"attributes\":{\"bottom_units\":\"screen\",\"fill_alpha\":0.5,\"fill_color\":\"lightgrey\",\"left_units\":\"screen\",\"level\":\"overlay\",\"line_alpha\":1.0,\"line_color\":\"black\",\"line_dash\":[4,4],\"line_width\":2,\"render_mode\":\"css\",\"right_units\":\"screen\",\"top_units\":\"screen\"},\"id\":\"2401\",\"type\":\"BoxAnnotation\"},{\"attributes\":{\"data\":{\"x\":{\"__ndarray__\":\"/Knx0k1iUD97FK5H4XqEP5qZmZmZmbk/AAAAAAAA8D8AAAAAAAAkQAAAAAAAAFlA\",\"dtype\":\"float64\",\"shape\":[6]},\"y\":{\"__ndarray__\":\"Jsqggn80aj+VJ69pQJCHP8XHTnEHsLQ/EMMjJYUaxj/aot3I+DDHP5Aqzi5aSsc/\",\"dtype\":\"float64\",\"shape\":[6]}},\"selected\":{\"id\":\"2562\"},\"selection_policy\":{\"id\":\"2561\"}},\"id\":\"1307\",\"type\":\"ColumnDataSource\"},{\"attributes\":{\"bottom_units\":\"screen\",\"fill_alpha\":0.5,\"fill_color\":\"lightgrey\",\"left_units\":\"screen\",\"level\":\"overlay\",\"line_alpha\":1.0,\"line_color\":\"black\",\"line_dash\":[4,4],\"line_width\":2,\"render_mode\":\"css\",\"right_units\":\"screen\",\"top_units\":\"screen\"},\"id\":\"1565\",\"type\":\"BoxAnnotation\"},{\"attributes\":{\"line_alpha\":0.1,\"line_color\":\"#1f77b4\",\"x\":{\"field\":\"x\"},\"y\":{\"field\":\"y\"}},\"id\":\"1271\",\"type\":\"Line\"},{\"attributes\":{\"ticker\":null},\"id\":\"2756\",\"type\":\"LogTickFormatter\"},{\"attributes\":{},\"id\":\"1657\",\"type\":\"DataRange1d\"},{\"attributes\":{},\"id\":\"2754\",\"type\":\"BasicTickFormatter\"},{\"attributes\":{},\"id\":\"2786\",\"type\":\"UnionRenderers\"},{\"attributes\":{\"data_source\":{\"id\":\"2409\"},\"glyph\":{\"id\":\"2410\"},\"hover_glyph\":null,\"muted_glyph\":null,\"nonselection_glyph\":{\"id\":\"2411\"},\"selection_glyph\":null,\"view\":{\"id\":\"2413\"}},\"id\":\"2412\",\"type\":\"GlyphRenderer\"},{\"attributes\":{\"ticker\":null},\"id\":\"2567\",\"type\":\"LogTickFormatter\"},{\"attributes\":{},\"id\":\"2759\",\"type\":\"UnionRenderers\"},{\"attributes\":{\"line_color\":\"#1f77b4\",\"x\":{\"field\":\"x\"},\"y\":{\"field\":\"y\"}},\"id\":\"1308\",\"type\":\"Line\"},{\"attributes\":{},\"id\":\"2570\",\"type\":\"UnionRenderers\"},{\"attributes\":{\"axis\":{\"id\":\"1285\"},\"ticker\":null},\"id\":\"1288\",\"type\":\"Grid\"},{\"attributes\":{\"text\":\"Kd_c: 10.0; Kd_t: 2.08\"},\"id\":\"1579\",\"type\":\"Title\"},{\"attributes\":{\"num_minor_ticks\":10},\"id\":\"2426\",\"type\":\"LogTicker\"},{\"attributes\":{\"below\":[{\"id\":\"1285\"}],\"center\":[{\"id\":\"1288\"},{\"id\":\"1292\"}],\"frame_height\":100,\"frame_width\":200,\"left\":[{\"id\":\"1289\"}],\"renderers\":[{\"id\":\"1310\"}],\"title\":{\"id\":\"1275\"},\"toolbar\":{\"id\":\"1300\"},\"toolbar_location\":null,\"x_range\":{\"id\":\"1277\"},\"x_scale\":{\"id\":\"1281\"},\"y_range\":{\"id\":\"1279\"},\"y_scale\":{\"id\":\"1283\"}},\"id\":\"1274\",\"subtype\":\"Figure\",\"type\":\"Plot\"},{\"attributes\":{},\"id\":\"2760\",\"type\":\"Selection\"},{\"attributes\":{\"source\":{\"id\":\"1269\"}},\"id\":\"1273\",\"type\":\"CDSView\"},{\"attributes\":{},\"id\":\"2565\",\"type\":\"BasicTickFormatter\"},{\"attributes\":{\"overlay\":{\"id\":\"1565\"}},\"id\":\"1561\",\"type\":\"BoxZoomTool\"},{\"attributes\":{\"line_color\":\"#1f77b4\",\"x\":{\"field\":\"x\"},\"y\":{\"field\":\"y\"}},\"id\":\"1612\",\"type\":\"Line\"},{\"attributes\":{\"ticker\":null},\"id\":\"2765\",\"type\":\"LogTickFormatter\"},{\"attributes\":{\"line_alpha\":0.1,\"line_color\":\"#1f77b4\",\"x\":{\"field\":\"x\"},\"y\":{\"field\":\"y\"}},\"id\":\"2411\",\"type\":\"Line\"},{\"attributes\":{},\"id\":\"2562\",\"type\":\"Selection\"},{\"attributes\":{\"below\":[{\"id\":\"1589\"}],\"center\":[{\"id\":\"1592\"},{\"id\":\"1596\"}],\"frame_height\":100,\"frame_width\":200,\"left\":[{\"id\":\"1593\"}],\"renderers\":[{\"id\":\"1614\"}],\"title\":{\"id\":\"1579\"},\"toolbar\":{\"id\":\"1604\"},\"toolbar_location\":null,\"x_range\":{\"id\":\"1581\"},\"x_scale\":{\"id\":\"1585\"},\"y_range\":{\"id\":\"1583\"},\"y_scale\":{\"id\":\"1587\"}},\"id\":\"1578\",\"subtype\":\"Figure\",\"type\":\"Plot\"},{\"attributes\":{},\"id\":\"2763\",\"type\":\"BasicTickFormatter\"},{\"attributes\":{},\"id\":\"2430\",\"type\":\"BasicTicker\"},{\"attributes\":{},\"id\":\"1581\",\"type\":\"DataRange1d\"},{\"attributes\":{},\"id\":\"2768\",\"type\":\"UnionRenderers\"},{\"attributes\":{\"overlay\":{\"id\":\"2439\"}},\"id\":\"2435\",\"type\":\"BoxZoomTool\"},{\"attributes\":{\"axis\":{\"id\":\"1289\"},\"dimension\":1,\"ticker\":null},\"id\":\"1292\",\"type\":\"Grid\"},{\"attributes\":{\"bottom_units\":\"screen\",\"fill_alpha\":0.5,\"fill_color\":\"lightgrey\",\"left_units\":\"screen\",\"level\":\"overlay\",\"line_alpha\":1.0,\"line_color\":\"black\",\"line_dash\":[4,4],\"line_width\":2,\"render_mode\":\"css\",\"right_units\":\"screen\",\"top_units\":\"screen\"},\"id\":\"2515\",\"type\":\"BoxAnnotation\"},{\"attributes\":{\"end\":0.25},\"id\":\"1165\",\"type\":\"Range1d\"},{\"attributes\":{},\"id\":\"1283\",\"type\":\"LinearScale\"},{\"attributes\":{\"ticker\":null},\"id\":\"2558\",\"type\":\"LogTickFormatter\"},{\"attributes\":{},\"id\":\"2436\",\"type\":\"SaveTool\"},{\"attributes\":{},\"id\":\"1587\",\"type\":\"LinearScale\"},{\"attributes\":{},\"id\":\"2769\",\"type\":\"Selection\"},{\"attributes\":{},\"id\":\"1585\",\"type\":\"LogScale\"},{\"attributes\":{\"data_source\":{\"id\":\"2523\"},\"glyph\":{\"id\":\"2524\"},\"hover_glyph\":null,\"muted_glyph\":null,\"nonselection_glyph\":{\"id\":\"2525\"},\"selection_glyph\":null,\"view\":{\"id\":\"2527\"}},\"id\":\"2526\",\"type\":\"GlyphRenderer\"},{\"attributes\":{\"num_minor_ticks\":10},\"id\":\"1248\",\"type\":\"LogTicker\"},{\"attributes\":{\"source\":{\"id\":\"2219\"}},\"id\":\"2223\",\"type\":\"CDSView\"},{\"attributes\":{},\"id\":\"2437\",\"type\":\"ResetTool\"},{\"attributes\":{\"end\":0.25},\"id\":\"1583\",\"type\":\"Range1d\"},{\"attributes\":{\"num_minor_ticks\":10},\"id\":\"1286\",\"type\":\"LogTicker\"},{\"attributes\":{},\"id\":\"1488\",\"type\":\"HelpTool\"},{\"attributes\":{\"bottom_units\":\"screen\",\"fill_alpha\":0.5,\"fill_color\":\"lightgrey\",\"left_units\":\"screen\",\"level\":\"overlay\",\"line_alpha\":1.0,\"line_color\":\"black\",\"line_dash\":[4,4],\"line_width\":2,\"render_mode\":\"css\",\"right_units\":\"screen\",\"top_units\":\"screen\"},\"id\":\"1261\",\"type\":\"BoxAnnotation\"},{\"attributes\":{\"ticker\":null},\"id\":\"2774\",\"type\":\"LogTickFormatter\"},{\"attributes\":{},\"id\":\"2772\",\"type\":\"BasicTickFormatter\"},{\"attributes\":{},\"id\":\"2438\",\"type\":\"HelpTool\"},{\"attributes\":{\"active_drag\":\"auto\",\"active_inspect\":\"auto\",\"active_multi\":null,\"active_scroll\":\"auto\",\"active_tap\":\"auto\",\"tools\":[{\"id\":\"1483\"},{\"id\":\"1484\"},{\"id\":\"1485\"},{\"id\":\"1486\"},{\"id\":\"1487\"},{\"id\":\"1488\"}]},\"id\":\"1490\",\"type\":\"Toolbar\"},{\"attributes\":{\"axis\":{\"id\":\"1251\"},\"dimension\":1,\"ticker\":null},\"id\":\"1254\",\"type\":\"Grid\"},{\"attributes\":{},\"id\":\"2777\",\"type\":\"UnionRenderers\"},{\"attributes\":{\"axis_label\":\"Steady state N\",\"formatter\":{\"id\":\"2547\"},\"ticker\":{\"id\":\"1252\"}},\"id\":\"1251\",\"type\":\"LinearAxis\"},{\"attributes\":{\"active_drag\":\"auto\",\"active_inspect\":\"auto\",\"active_multi\":null,\"active_scroll\":\"auto\",\"active_tap\":\"auto\",\"tools\":[{\"id\":\"2433\"},{\"id\":\"2434\"},{\"id\":\"2435\"},{\"id\":\"2436\"},{\"id\":\"2437\"},{\"id\":\"2438\"}]},\"id\":\"2440\",\"type\":\"Toolbar\"},{\"attributes\":{\"line_alpha\":0.1,\"line_color\":\"#1f77b4\",\"x\":{\"field\":\"x\"},\"y\":{\"field\":\"y\"}},\"id\":\"2525\",\"type\":\"Line\"},{\"attributes\":{\"axis_label\":\"\\u237aL\",\"formatter\":{\"id\":\"2630\"},\"ticker\":{\"id\":\"1590\"}},\"id\":\"1589\",\"type\":\"LogAxis\"},{\"attributes\":{},\"id\":\"2778\",\"type\":\"Selection\"},{\"attributes\":{\"axis\":{\"id\":\"1589\"},\"ticker\":null},\"id\":\"1592\",\"type\":\"Grid\"},{\"attributes\":{},\"id\":\"2499\",\"type\":\"LinearScale\"},{\"attributes\":{},\"id\":\"1169\",\"type\":\"LinearScale\"},{\"attributes\":{\"toolbars\":[{\"id\":\"1186\"},{\"id\":\"1224\"},{\"id\":\"1262\"},{\"id\":\"1300\"},{\"id\":\"1338\"},{\"id\":\"1376\"},{\"id\":\"1414\"},{\"id\":\"1452\"},{\"id\":\"1490\"},{\"id\":\"1528\"},{\"id\":\"1566\"},{\"id\":\"1604\"},{\"id\":\"1642\"},{\"id\":\"1680\"},{\"id\":\"1718\"},{\"id\":\"1756\"},{\"id\":\"1794\"},{\"id\":\"1832\"},{\"id\":\"1870\"},{\"id\":\"1908\"},{\"id\":\"1946\"},{\"id\":\"1984\"},{\"id\":\"2022\"},{\"id\":\"2060\"},{\"id\":\"2098\"},{\"id\":\"2136\"},{\"id\":\"2174\"},{\"id\":\"2212\"},{\"id\":\"2250\"},{\"id\":\"2288\"},{\"id\":\"2326\"},{\"id\":\"2364\"},{\"id\":\"2402\"},{\"id\":\"2440\"},{\"id\":\"2478\"},{\"id\":\"2516\"}],\"tools\":[{\"id\":\"1179\"},{\"id\":\"1180\"},{\"id\":\"1181\"},{\"id\":\"1182\"},{\"id\":\"1183\"},{\"id\":\"1184\"},{\"id\":\"1217\"},{\"id\":\"1218\"},{\"id\":\"1219\"},{\"id\":\"1220\"},{\"id\":\"1221\"},{\"id\":\"1222\"},{\"id\":\"1255\"},{\"id\":\"1256\"},{\"id\":\"1257\"},{\"id\":\"1258\"},{\"id\":\"1259\"},{\"id\":\"1260\"},{\"id\":\"1293\"},{\"id\":\"1294\"},{\"id\":\"1295\"},{\"id\":\"1296\"},{\"id\":\"1297\"},{\"id\":\"1298\"},{\"id\":\"1331\"},{\"id\":\"1332\"},{\"id\":\"1333\"},{\"id\":\"1334\"},{\"id\":\"1335\"},{\"id\":\"1336\"},{\"id\":\"1369\"},{\"id\":\"1370\"},{\"id\":\"1371\"},{\"id\":\"1372\"},{\"id\":\"1373\"},{\"id\":\"1374\"},{\"id\":\"1407\"},{\"id\":\"1408\"},{\"id\":\"1409\"},{\"id\":\"1410\"},{\"id\":\"1411\"},{\"id\":\"1412\"},{\"id\":\"1445\"},{\"id\":\"1446\"},{\"id\":\"1447\"},{\"id\":\"1448\"},{\"id\":\"1449\"},{\"id\":\"1450\"},{\"id\":\"1483\"},{\"id\":\"1484\"},{\"id\":\"1485\"},{\"id\":\"1486\"},{\"id\":\"1487\"},{\"id\":\"1488\"},{\"id\":\"1521\"},{\"id\":\"1522\"},{\"id\":\"1523\"},{\"id\":\"1524\"},{\"id\":\"1525\"},{\"id\":\"1526\"},{\"id\":\"1559\"},{\"id\":\"1560\"},{\"id\":\"1561\"},{\"id\":\"1562\"},{\"id\":\"1563\"},{\"id\":\"1564\"},{\"id\":\"1597\"},{\"id\":\"1598\"},{\"id\":\"1599\"},{\"id\":\"1600\"},{\"id\":\"1601\"},{\"id\":\"1602\"},{\"id\":\"1635\"},{\"id\":\"1636\"},{\"id\":\"1637\"},{\"id\":\"1638\"},{\"id\":\"1639\"},{\"id\":\"1640\"},{\"id\":\"1673\"},{\"id\":\"1674\"},{\"id\":\"1675\"},{\"id\":\"1676\"},{\"id\":\"1677\"},{\"id\":\"1678\"},{\"id\":\"1711\"},{\"id\":\"1712\"},{\"id\":\"1713\"},{\"id\":\"1714\"},{\"id\":\"1715\"},{\"id\":\"1716\"},{\"id\":\"1749\"},{\"id\":\"1750\"},{\"id\":\"1751\"},{\"id\":\"1752\"},{\"id\":\"1753\"},{\"id\":\"1754\"},{\"id\":\"1787\"},{\"id\":\"1788\"},{\"id\":\"1789\"},{\"id\":\"1790\"},{\"id\":\"1791\"},{\"id\":\"1792\"},{\"id\":\"1825\"},{\"id\":\"1826\"},{\"id\":\"1827\"},{\"id\":\"1828\"},{\"id\":\"1829\"},{\"id\":\"1830\"},{\"id\":\"1863\"},{\"id\":\"1864\"},{\"id\":\"1865\"},{\"id\":\"1866\"},{\"id\":\"1867\"},{\"id\":\"1868\"},{\"id\":\"1901\"},{\"id\":\"1902\"},{\"id\":\"1903\"},{\"id\":\"1904\"},{\"id\":\"1905\"},{\"id\":\"1906\"},{\"id\":\"1939\"},{\"id\":\"1940\"},{\"id\":\"1941\"},{\"id\":\"1942\"},{\"id\":\"1943\"},{\"id\":\"1944\"},{\"id\":\"1977\"},{\"id\":\"1978\"},{\"id\":\"1979\"},{\"id\":\"1980\"},{\"id\":\"1981\"},{\"id\":\"1982\"},{\"id\":\"2015\"},{\"id\":\"2016\"},{\"id\":\"2017\"},{\"id\":\"2018\"},{\"id\":\"2019\"},{\"id\":\"2020\"},{\"id\":\"2053\"},{\"id\":\"2054\"},{\"id\":\"2055\"},{\"id\":\"2056\"},{\"id\":\"2057\"},{\"id\":\"2058\"},{\"id\":\"2091\"},{\"id\":\"2092\"},{\"id\":\"2093\"},{\"id\":\"2094\"},{\"id\":\"2095\"},{\"id\":\"2096\"},{\"id\":\"2129\"},{\"id\":\"2130\"},{\"id\":\"2131\"},{\"id\":\"2132\"},{\"id\":\"2133\"},{\"id\":\"2134\"},{\"id\":\"2167\"},{\"id\":\"2168\"},{\"id\":\"2169\"},{\"id\":\"2170\"},{\"id\":\"2171\"},{\"id\":\"2172\"},{\"id\":\"2205\"},{\"id\":\"2206\"},{\"id\":\"2207\"},{\"id\":\"2208\"},{\"id\":\"2209\"},{\"id\":\"2210\"},{\"id\":\"2243\"},{\"id\":\"2244\"},{\"id\":\"2245\"},{\"id\":\"2246\"},{\"id\":\"2247\"},{\"id\":\"2248\"},{\"id\":\"2281\"},{\"id\":\"2282\"},{\"id\":\"2283\"},{\"id\":\"2284\"},{\"id\":\"2285\"},{\"id\":\"2286\"},{\"id\":\"2319\"},{\"id\":\"2320\"},{\"id\":\"2321\"},{\"id\":\"2322\"},{\"id\":\"2323\"},{\"id\":\"2324\"},{\"id\":\"2357\"},{\"id\":\"2358\"},{\"id\":\"2359\"},{\"id\":\"2360\"},{\"id\":\"2361\"},{\"id\":\"2362\"},{\"id\":\"2395\"},{\"id\":\"2396\"},{\"id\":\"2397\"},{\"id\":\"2398\"},{\"id\":\"2399\"},{\"id\":\"2400\"},{\"id\":\"2433\"},{\"id\":\"2434\"},{\"id\":\"2435\"},{\"id\":\"2436\"},{\"id\":\"2437\"},{\"id\":\"2438\"},{\"id\":\"2471\"},{\"id\":\"2472\"},{\"id\":\"2473\"},{\"id\":\"2474\"},{\"id\":\"2475\"},{\"id\":\"2476\"},{\"id\":\"2509\"},{\"id\":\"2510\"},{\"id\":\"2511\"},{\"id\":\"2512\"},{\"id\":\"2513\"},{\"id\":\"2514\"}]},\"id\":\"2853\",\"type\":\"ProxyToolbar\"},{\"attributes\":{\"axis\":{\"id\":\"1247\"},\"ticker\":null},\"id\":\"1250\",\"type\":\"Grid\"},{\"attributes\":{\"axis_label\":\"\\u237aL\",\"formatter\":{\"id\":\"2846\"},\"ticker\":{\"id\":\"2502\"}},\"id\":\"2501\",\"type\":\"LogAxis\"},{\"attributes\":{\"num_minor_ticks\":10},\"id\":\"1590\",\"type\":\"LogTicker\"},{\"attributes\":{\"below\":[{\"id\":\"1969\"}],\"center\":[{\"id\":\"1972\"},{\"id\":\"1976\"}],\"frame_height\":100,\"frame_width\":200,\"left\":[{\"id\":\"1973\"}],\"renderers\":[{\"id\":\"1994\"}],\"title\":{\"id\":\"1959\"},\"toolbar\":{\"id\":\"1984\"},\"toolbar_location\":null,\"x_range\":{\"id\":\"1961\"},\"x_scale\":{\"id\":\"1965\"},\"y_range\":{\"id\":\"1963\"},\"y_scale\":{\"id\":\"1967\"}},\"id\":\"1958\",\"subtype\":\"Figure\",\"type\":\"Plot\"},{\"attributes\":{\"text\":\"Kd_c: 6.04; Kd_t: 6.04\"},\"id\":\"1959\",\"type\":\"Title\"},{\"attributes\":{},\"id\":\"2619\",\"type\":\"BasicTickFormatter\"},{\"attributes\":{},\"id\":\"1961\",\"type\":\"DataRange1d\"},{\"attributes\":{},\"id\":\"1967\",\"type\":\"LinearScale\"},{\"attributes\":{},\"id\":\"1965\",\"type\":\"LogScale\"},{\"attributes\":{},\"id\":\"2624\",\"type\":\"UnionRenderers\"},{\"attributes\":{\"end\":0.25},\"id\":\"1963\",\"type\":\"Range1d\"},{\"attributes\":{\"axis_label\":\"\\u237aL\",\"formatter\":{\"id\":\"2720\"},\"ticker\":{\"id\":\"1970\"}},\"id\":\"1969\",\"type\":\"LogAxis\"},{\"attributes\":{},\"id\":\"1974\",\"type\":\"BasicTicker\"},{\"attributes\":{\"num_minor_ticks\":10},\"id\":\"1970\",\"type\":\"LogTicker\"},{\"attributes\":{\"axis\":{\"id\":\"1969\"},\"ticker\":null},\"id\":\"1972\",\"type\":\"Grid\"},{\"attributes\":{\"axis\":{\"id\":\"1973\"},\"dimension\":1,\"ticker\":null},\"id\":\"1976\",\"type\":\"Grid\"},{\"attributes\":{\"axis_label\":\"Steady state N\",\"formatter\":{\"id\":\"2718\"},\"ticker\":{\"id\":\"1974\"}},\"id\":\"1973\",\"type\":\"LinearAxis\"},{\"attributes\":{\"line_alpha\":0.1,\"line_color\":\"#1f77b4\",\"x\":{\"field\":\"x\"},\"y\":{\"field\":\"y\"}},\"id\":\"1993\",\"type\":\"Line\"},{\"attributes\":{},\"id\":\"1563\",\"type\":\"ResetTool\"},{\"attributes\":{\"source\":{\"id\":\"1991\"}},\"id\":\"1995\",\"type\":\"CDSView\"},{\"attributes\":{\"active_drag\":\"auto\",\"active_inspect\":\"auto\",\"active_multi\":null,\"active_scroll\":\"auto\",\"active_tap\":\"auto\",\"tools\":[{\"id\":\"1977\"},{\"id\":\"1978\"},{\"id\":\"1979\"},{\"id\":\"1980\"},{\"id\":\"1981\"},{\"id\":\"1982\"}]},\"id\":\"1984\",\"type\":\"Toolbar\"},{\"attributes\":{},\"id\":\"1564\",\"type\":\"HelpTool\"},{\"attributes\":{\"data\":{\"x\":{\"__ndarray__\":\"/Knx0k1iUD97FK5H4XqEP5qZmZmZmbk/AAAAAAAA8D8AAAAAAAAkQAAAAAAAAFlA\",\"dtype\":\"float64\",\"shape\":[6]},\"y\":{\"__ndarray__\":\"gJ+zOBsJYz+0W1MyA3dnP6Js0QXIjYA/ya8/TG27pz/CMtwj7ojAP1FINMnKI2I/\",\"dtype\":\"float64\",\"shape\":[6]}},\"selected\":{\"id\":\"2724\"},\"selection_policy\":{\"id\":\"2723\"}},\"id\":\"1991\",\"type\":\"ColumnDataSource\"},{\"attributes\":{\"data_source\":{\"id\":\"1991\"},\"glyph\":{\"id\":\"1992\"},\"hover_glyph\":null,\"muted_glyph\":null,\"nonselection_glyph\":{\"id\":\"1993\"},\"selection_glyph\":null,\"view\":{\"id\":\"1995\"}},\"id\":\"1994\",\"type\":\"GlyphRenderer\"},{\"attributes\":{\"line_color\":\"#1f77b4\",\"x\":{\"field\":\"x\"},\"y\":{\"field\":\"y\"}},\"id\":\"1574\",\"type\":\"Line\"},{\"attributes\":{},\"id\":\"1977\",\"type\":\"PanTool\"},{\"attributes\":{\"axis\":{\"id\":\"1213\"},\"dimension\":1,\"ticker\":null},\"id\":\"1216\",\"type\":\"Grid\"},{\"attributes\":{},\"id\":\"1978\",\"type\":\"WheelZoomTool\"},{\"attributes\":{\"active_drag\":\"auto\",\"active_inspect\":\"auto\",\"active_multi\":null,\"active_scroll\":\"auto\",\"active_tap\":\"auto\",\"tools\":[{\"id\":\"1559\"},{\"id\":\"1560\"},{\"id\":\"1561\"},{\"id\":\"1562\"},{\"id\":\"1563\"},{\"id\":\"1564\"}]},\"id\":\"1566\",\"type\":\"Toolbar\"},{\"attributes\":{\"overlay\":{\"id\":\"1983\"}},\"id\":\"1979\",\"type\":\"BoxZoomTool\"},{\"attributes\":{},\"id\":\"1980\",\"type\":\"SaveTool\"},{\"attributes\":{\"overlay\":{\"id\":\"1223\"}},\"id\":\"1219\",\"type\":\"BoxZoomTool\"},{\"attributes\":{},\"id\":\"1562\",\"type\":\"SaveTool\"},{\"attributes\":{},\"id\":\"1981\",\"type\":\"ResetTool\"},{\"attributes\":{\"text\":\"Kd_c: 2.08; Kd_t: 4.06\"},\"id\":\"1655\",\"type\":\"Title\"},{\"attributes\":{},\"id\":\"1982\",\"type\":\"HelpTool\"},{\"attributes\":{\"bottom_units\":\"screen\",\"fill_alpha\":0.5,\"fill_color\":\"lightgrey\",\"left_units\":\"screen\",\"level\":\"overlay\",\"line_alpha\":1.0,\"line_color\":\"black\",\"line_dash\":[4,4],\"line_width\":2,\"render_mode\":\"css\",\"right_units\":\"screen\",\"top_units\":\"screen\"},\"id\":\"1983\",\"type\":\"BoxAnnotation\"},{\"attributes\":{\"axis\":{\"id\":\"2007\"},\"ticker\":null},\"id\":\"2010\",\"type\":\"Grid\"},{\"attributes\":{},\"id\":\"2005\",\"type\":\"LinearScale\"},{\"attributes\":{},\"id\":\"2012\",\"type\":\"BasicTicker\"},{\"attributes\":{\"axis_label\":\"Steady state N\",\"formatter\":{\"id\":\"2727\"},\"ticker\":{\"id\":\"2012\"}},\"id\":\"2011\",\"type\":\"LinearAxis\"},{\"attributes\":{\"num_minor_ticks\":10},\"id\":\"2008\",\"type\":\"LogTicker\"},{\"attributes\":{\"axis_label\":\"\\u237aL\",\"formatter\":{\"id\":\"2729\"},\"ticker\":{\"id\":\"2008\"}},\"id\":\"2007\",\"type\":\"LogAxis\"},{\"attributes\":{},\"id\":\"2003\",\"type\":\"LogScale\"},{\"attributes\":{},\"id\":\"1560\",\"type\":\"WheelZoomTool\"},{\"attributes\":{\"axis\":{\"id\":\"1209\"},\"ticker\":null},\"id\":\"1212\",\"type\":\"Grid\"},{\"attributes\":{\"axis\":{\"id\":\"1593\"},\"dimension\":1,\"ticker\":null},\"id\":\"1596\",\"type\":\"Grid\"},{\"attributes\":{\"bottom_units\":\"screen\",\"fill_alpha\":0.5,\"fill_color\":\"lightgrey\",\"left_units\":\"screen\",\"level\":\"overlay\",\"line_alpha\":1.0,\"line_color\":\"black\",\"line_dash\":[4,4],\"line_width\":2,\"render_mode\":\"css\",\"right_units\":\"screen\",\"top_units\":\"screen\"},\"id\":\"1489\",\"type\":\"BoxAnnotation\"},{\"attributes\":{},\"id\":\"1214\",\"type\":\"BasicTicker\"},{\"attributes\":{\"line_color\":\"#1f77b4\",\"x\":{\"field\":\"x\"},\"y\":{\"field\":\"y\"}},\"id\":\"2524\",\"type\":\"Line\"},{\"attributes\":{},\"id\":\"1207\",\"type\":\"LinearScale\"},{\"attributes\":{\"axis\":{\"id\":\"2501\"},\"ticker\":null},\"id\":\"2504\",\"type\":\"Grid\"},{\"attributes\":{},\"id\":\"2625\",\"type\":\"Selection\"},{\"attributes\":{\"data_source\":{\"id\":\"1231\"},\"glyph\":{\"id\":\"1232\"},\"hover_glyph\":null,\"muted_glyph\":null,\"nonselection_glyph\":{\"id\":\"1233\"},\"selection_glyph\":null,\"view\":{\"id\":\"1235\"}},\"id\":\"1234\",\"type\":\"GlyphRenderer\"},{\"attributes\":{\"axis\":{\"id\":\"2505\"},\"dimension\":1,\"ticker\":null},\"id\":\"2508\",\"type\":\"Grid\"},{\"attributes\":{\"axis_label\":\"Steady state N\",\"formatter\":{\"id\":\"2844\"},\"ticker\":{\"id\":\"2506\"}},\"id\":\"2505\",\"type\":\"LinearAxis\"},{\"attributes\":{},\"id\":\"1594\",\"type\":\"BasicTicker\"},{\"attributes\":{\"axis_label\":\"Steady state N\",\"formatter\":{\"id\":\"2628\"},\"ticker\":{\"id\":\"1594\"}},\"id\":\"1593\",\"type\":\"LinearAxis\"},{\"attributes\":{\"ticker\":null},\"id\":\"2630\",\"type\":\"LogTickFormatter\"},{\"attributes\":{\"data\":{\"x\":{\"__ndarray__\":\"/Knx0k1iUD97FK5H4XqEP5qZmZmZmbk/AAAAAAAA8D8AAAAAAAAkQAAAAAAAAFlA\",\"dtype\":\"float64\",\"shape\":[6]},\"y\":{\"__ndarray__\":\"2PRWwi3ZYj9U1JJdhJllPzOtEIWnHXg/iq6P8CXhnj97NV4S1ht2P8fIZpxrpjA/\",\"dtype\":\"float64\",\"shape\":[6]}},\"selected\":{\"id\":\"2814\"},\"selection_policy\":{\"id\":\"2813\"}},\"id\":\"2371\",\"type\":\"ColumnDataSource\"},{\"attributes\":{},\"id\":\"1505\",\"type\":\"DataRange1d\"},{\"attributes\":{},\"id\":\"2628\",\"type\":\"BasicTickFormatter\"},{\"attributes\":{\"line_color\":\"#1f77b4\",\"x\":{\"field\":\"x\"},\"y\":{\"field\":\"y\"}},\"id\":\"1650\",\"type\":\"Line\"},{\"attributes\":{},\"id\":\"2633\",\"type\":\"UnionRenderers\"},{\"attributes\":{\"below\":[{\"id\":\"1627\"}],\"center\":[{\"id\":\"1630\"},{\"id\":\"1634\"}],\"frame_height\":100,\"frame_width\":200,\"left\":[{\"id\":\"1631\"}],\"renderers\":[{\"id\":\"1652\"}],\"title\":{\"id\":\"1617\"},\"toolbar\":{\"id\":\"1642\"},\"toolbar_location\":null,\"x_range\":{\"id\":\"1619\"},\"x_scale\":{\"id\":\"1623\"},\"y_range\":{\"id\":\"1621\"},\"y_scale\":{\"id\":\"1625\"}},\"id\":\"1616\",\"subtype\":\"Figure\",\"type\":\"Plot\"},{\"attributes\":{},\"id\":\"2506\",\"type\":\"BasicTicker\"},{\"attributes\":{\"axis_label\":\"\\u237aL\",\"formatter\":{\"id\":\"2540\"},\"ticker\":{\"id\":\"1210\"}},\"id\":\"1209\",\"type\":\"LogAxis\"},{\"attributes\":{\"text\":\"Kd_c: 6.04; Kd_t: 2.08\"},\"id\":\"1503\",\"type\":\"Title\"},{\"attributes\":{\"source\":{\"id\":\"1611\"}},\"id\":\"1615\",\"type\":\"CDSView\"},{\"attributes\":{\"num_minor_ticks\":10},\"id\":\"2502\",\"type\":\"LogTicker\"},{\"attributes\":{\"active_drag\":\"auto\",\"active_inspect\":\"auto\",\"active_multi\":null,\"active_scroll\":\"auto\",\"active_tap\":\"auto\",\"tools\":[{\"id\":\"1597\"},{\"id\":\"1598\"},{\"id\":\"1599\"},{\"id\":\"1600\"},{\"id\":\"1601\"},{\"id\":\"1602\"}]},\"id\":\"1604\",\"type\":\"Toolbar\"},{\"attributes\":{\"bottom_units\":\"screen\",\"fill_alpha\":0.5,\"fill_color\":\"lightgrey\",\"left_units\":\"screen\",\"level\":\"overlay\",\"line_alpha\":1.0,\"line_color\":\"black\",\"line_dash\":[4,4],\"line_width\":2,\"render_mode\":\"css\",\"right_units\":\"screen\",\"top_units\":\"screen\"},\"id\":\"2439\",\"type\":\"BoxAnnotation\"},{\"attributes\":{\"num_minor_ticks\":10},\"id\":\"1210\",\"type\":\"LogTicker\"},{\"attributes\":{},\"id\":\"2634\",\"type\":\"Selection\"},{\"attributes\":{\"data\":{\"x\":{\"__ndarray__\":\"/Knx0k1iUD97FK5H4XqEP5qZmZmZmbk/AAAAAAAA8D8AAAAAAAAkQAAAAAAAAFlA\",\"dtype\":\"float64\",\"shape\":[6]},\"y\":{\"__ndarray__\":\"pV+NxPzZYz9SVQ04+ItvPz2vBd2SepE/qld3OLe1tj8U4E5ARMXEP+QFmNarjcY/\",\"dtype\":\"float64\",\"shape\":[6]}},\"selected\":{\"id\":\"2634\"},\"selection_policy\":{\"id\":\"2633\"}},\"id\":\"1611\",\"type\":\"ColumnDataSource\"},{\"attributes\":{},\"id\":\"1511\",\"type\":\"LinearScale\"},{\"attributes\":{\"ticker\":null},\"id\":\"2639\",\"type\":\"LogTickFormatter\"},{\"attributes\":{},\"id\":\"1597\",\"type\":\"PanTool\"},{\"attributes\":{},\"id\":\"1509\",\"type\":\"LogScale\"},{\"attributes\":{},\"id\":\"2637\",\"type\":\"BasicTickFormatter\"},{\"attributes\":{\"below\":[{\"id\":\"2463\"}],\"center\":[{\"id\":\"2466\"},{\"id\":\"2470\"}],\"frame_height\":100,\"frame_width\":200,\"left\":[{\"id\":\"2467\"}],\"renderers\":[{\"id\":\"2488\"}],\"title\":{\"id\":\"2453\"},\"toolbar\":{\"id\":\"2478\"},\"toolbar_location\":null,\"x_range\":{\"id\":\"2455\"},\"x_scale\":{\"id\":\"2459\"},\"y_range\":{\"id\":\"2457\"},\"y_scale\":{\"id\":\"2461\"}},\"id\":\"2452\",\"subtype\":\"Figure\",\"type\":\"Plot\"},{\"attributes\":{\"end\":0.25},\"id\":\"1507\",\"type\":\"Range1d\"},{\"attributes\":{\"line_color\":\"#1f77b4\",\"x\":{\"field\":\"x\"},\"y\":{\"field\":\"y\"}},\"id\":\"1232\",\"type\":\"Line\"},{\"attributes\":{},\"id\":\"2642\",\"type\":\"UnionRenderers\"},{\"attributes\":{},\"id\":\"1598\",\"type\":\"WheelZoomTool\"},{\"attributes\":{\"bottom_units\":\"screen\",\"fill_alpha\":0.5,\"fill_color\":\"lightgrey\",\"left_units\":\"screen\",\"level\":\"overlay\",\"line_alpha\":1.0,\"line_color\":\"black\",\"line_dash\":[4,4],\"line_width\":2,\"render_mode\":\"css\",\"right_units\":\"screen\",\"top_units\":\"screen\"},\"id\":\"2059\",\"type\":\"BoxAnnotation\"},{\"attributes\":{\"overlay\":{\"id\":\"1603\"}},\"id\":\"1599\",\"type\":\"BoxZoomTool\"},{\"attributes\":{},\"id\":\"2556\",\"type\":\"BasicTickFormatter\"},{\"attributes\":{},\"id\":\"2643\",\"type\":\"Selection\"},{\"attributes\":{\"text\":\"Kd_c: 8.02; Kd_t: 10.0\"},\"id\":\"2453\",\"type\":\"Title\"},{\"attributes\":{},\"id\":\"1600\",\"type\":\"SaveTool\"},{\"attributes\":{\"axis_label\":\"\\u237aL\",\"formatter\":{\"id\":\"2612\"},\"ticker\":{\"id\":\"1514\"}},\"id\":\"1513\",\"type\":\"LogAxis\"},{\"attributes\":{},\"id\":\"2455\",\"type\":\"DataRange1d\"},{\"attributes\":{\"ticker\":null},\"id\":\"2648\",\"type\":\"LogTickFormatter\"},{\"attributes\":{},\"id\":\"1601\",\"type\":\"ResetTool\"},{\"attributes\":{\"axis_label\":\"Steady state N\",\"formatter\":{\"id\":\"2691\"},\"ticker\":{\"id\":\"1860\"}},\"id\":\"1859\",\"type\":\"LinearAxis\"},{\"attributes\":{},\"id\":\"1518\",\"type\":\"BasicTicker\"},{\"attributes\":{},\"id\":\"2646\",\"type\":\"BasicTickFormatter\"},{\"attributes\":{\"num_minor_ticks\":10},\"id\":\"1514\",\"type\":\"LogTicker\"},{\"attributes\":{},\"id\":\"2651\",\"type\":\"UnionRenderers\"},{\"attributes\":{\"text\":\"Kd_c: 0.1; Kd_t: 4.06\"},\"id\":\"1617\",\"type\":\"Title\"},{\"attributes\":{},\"id\":\"2461\",\"type\":\"LinearScale\"},{\"attributes\":{},\"id\":\"1602\",\"type\":\"HelpTool\"},{\"attributes\":{\"axis\":{\"id\":\"1513\"},\"ticker\":null},\"id\":\"1516\",\"type\":\"Grid\"},{\"attributes\":{},\"id\":\"2459\",\"type\":\"LogScale\"},{\"attributes\":{\"end\":0.25},\"id\":\"2457\",\"type\":\"Range1d\"},{\"attributes\":{},\"id\":\"2652\",\"type\":\"Selection\"},{\"attributes\":{\"axis\":{\"id\":\"1517\"},\"dimension\":1,\"ticker\":null},\"id\":\"1520\",\"type\":\"Grid\"},{\"attributes\":{\"axis_label\":\"Steady state N\",\"formatter\":{\"id\":\"2610\"},\"ticker\":{\"id\":\"1518\"}},\"id\":\"1517\",\"type\":\"LinearAxis\"},{\"attributes\":{\"line_color\":\"#1f77b4\",\"x\":{\"field\":\"x\"},\"y\":{\"field\":\"y\"}},\"id\":\"1688\",\"type\":\"Line\"},{\"attributes\":{\"ticker\":null},\"id\":\"2657\",\"type\":\"LogTickFormatter\"},{\"attributes\":{\"data\":{\"x\":{\"__ndarray__\":\"/Knx0k1iUD97FK5H4XqEP5qZmZmZmbk/AAAAAAAA8D8AAAAAAAAkQAAAAAAAAFlA\",\"dtype\":\"float64\",\"shape\":[6]},\"y\":{\"__ndarray__\":\"3fz9F9jaYz+9tziL6JNvP/cSuX2ufZE/oxxX8V6Ktj/xAx9KJnbEP2bC9/EVMcY/\",\"dtype\":\"float64\",\"shape\":[6]}},\"selected\":{\"id\":\"2616\"},\"selection_policy\":{\"id\":\"2615\"}},\"id\":\"1535\",\"type\":\"ColumnDataSource\"},{\"attributes\":{\"line_alpha\":0.1,\"line_color\":\"#1f77b4\",\"x\":{\"field\":\"x\"},\"y\":{\"field\":\"y\"}},\"id\":\"1651\",\"type\":\"Line\"},{\"attributes\":{},\"id\":\"2655\",\"type\":\"BasicTickFormatter\"},{\"attributes\":{\"below\":[{\"id\":\"1171\"}],\"center\":[{\"id\":\"1174\"},{\"id\":\"1178\"}],\"frame_height\":100,\"frame_width\":200,\"left\":[{\"id\":\"1175\"}],\"renderers\":[{\"id\":\"1196\"}],\"title\":{\"id\":\"1161\"},\"toolbar\":{\"id\":\"1186\"},\"toolbar_location\":null,\"x_range\":{\"id\":\"1163\"},\"x_scale\":{\"id\":\"1167\"},\"y_range\":{\"id\":\"1165\"},\"y_scale\":{\"id\":\"1169\"}},\"id\":\"1160\",\"subtype\":\"Figure\",\"type\":\"Plot\"},{\"attributes\":{},\"id\":\"2660\",\"type\":\"UnionRenderers\"},{\"attributes\":{\"axis_label\":\"\\u237aL\",\"formatter\":{\"id\":\"2837\"},\"ticker\":{\"id\":\"2464\"}},\"id\":\"2463\",\"type\":\"LogAxis\"},{\"attributes\":{\"data\":{\"x\":{\"__ndarray__\":\"/Knx0k1iUD97FK5H4XqEP5qZmZmZmbk/AAAAAAAA8D8AAAAAAAAkQAAAAAAAAFlA\",\"dtype\":\"float64\",\"shape\":[6]},\"y\":{\"__ndarray__\":\"0XnlIE1Daj+WGARehbKHPyFQF3Dau7Q/ahcLoQwFxj/0juN3NxrHP0iqEzyFM8c/\",\"dtype\":\"float64\",\"shape\":[6]}},\"selected\":{\"id\":\"2544\"},\"selection_policy\":{\"id\":\"2543\"}},\"id\":\"1231\",\"type\":\"ColumnDataSource\"},{\"attributes\":{\"source\":{\"id\":\"1535\"}},\"id\":\"1539\",\"type\":\"CDSView\"},{\"attributes\":{},\"id\":\"2468\",\"type\":\"BasicTicker\"},{\"attributes\":{\"num_minor_ticks\":10},\"id\":\"2464\",\"type\":\"LogTicker\"},{\"attributes\":{},\"id\":\"2661\",\"type\":\"Selection\"},{\"attributes\":{\"data_source\":{\"id\":\"1535\"},\"glyph\":{\"id\":\"1536\"},\"hover_glyph\":null,\"muted_glyph\":null,\"nonselection_glyph\":{\"id\":\"1537\"},\"selection_glyph\":null,\"view\":{\"id\":\"1539\"}},\"id\":\"1538\",\"type\":\"GlyphRenderer\"},{\"attributes\":{\"line_alpha\":0.1,\"line_color\":\"#1f77b4\",\"x\":{\"field\":\"x\"},\"y\":{\"field\":\"y\"}},\"id\":\"1955\",\"type\":\"Line\"},{\"attributes\":{\"axis\":{\"id\":\"2463\"},\"ticker\":null},\"id\":\"2466\",\"type\":\"Grid\"},{\"attributes\":{\"line_color\":\"#1f77b4\",\"x\":{\"field\":\"x\"},\"y\":{\"field\":\"y\"}},\"id\":\"1536\",\"type\":\"Line\"},{\"attributes\":{\"below\":[{\"id\":\"1665\"}],\"center\":[{\"id\":\"1668\"},{\"id\":\"1672\"}],\"frame_height\":100,\"frame_width\":200,\"left\":[{\"id\":\"1669\"}],\"renderers\":[{\"id\":\"1690\"}],\"title\":{\"id\":\"1655\"},\"toolbar\":{\"id\":\"1680\"},\"toolbar_location\":null,\"x_range\":{\"id\":\"1657\"},\"x_scale\":{\"id\":\"1661\"},\"y_range\":{\"id\":\"1659\"},\"y_scale\":{\"id\":\"1663\"}},\"id\":\"1654\",\"subtype\":\"Figure\",\"type\":\"Plot\"},{\"attributes\":{},\"id\":\"1220\",\"type\":\"SaveTool\"},{\"attributes\":{\"ticker\":null},\"id\":\"2666\",\"type\":\"LogTickFormatter\"},{\"attributes\":{},\"id\":\"1521\",\"type\":\"PanTool\"},{\"attributes\":{\"data_source\":{\"id\":\"1649\"},\"glyph\":{\"id\":\"1650\"},\"hover_glyph\":null,\"muted_glyph\":null,\"nonselection_glyph\":{\"id\":\"1651\"},\"selection_glyph\":null,\"view\":{\"id\":\"1653\"}},\"id\":\"1652\",\"type\":\"GlyphRenderer\"},{\"attributes\":{\"axis\":{\"id\":\"2467\"},\"dimension\":1,\"ticker\":null},\"id\":\"2470\",\"type\":\"Grid\"},{\"attributes\":{},\"id\":\"2664\",\"type\":\"BasicTickFormatter\"},{\"attributes\":{\"axis_label\":\"Steady state N\",\"formatter\":{\"id\":\"2835\"},\"ticker\":{\"id\":\"2468\"}},\"id\":\"2467\",\"type\":\"LinearAxis\"},{\"attributes\":{\"source\":{\"id\":\"1649\"}},\"id\":\"1653\",\"type\":\"CDSView\"},{\"attributes\":{},\"id\":\"2669\",\"type\":\"UnionRenderers\"},{\"attributes\":{},\"id\":\"1522\",\"type\":\"WheelZoomTool\"},{\"attributes\":{\"active_drag\":\"auto\",\"active_inspect\":\"auto\",\"active_multi\":null,\"active_scroll\":\"auto\",\"active_tap\":\"auto\",\"tools\":[{\"id\":\"1635\"},{\"id\":\"1636\"},{\"id\":\"1637\"},{\"id\":\"1638\"},{\"id\":\"1639\"},{\"id\":\"1640\"}]},\"id\":\"1642\",\"type\":\"Toolbar\"},{\"attributes\":{\"data\":{\"x\":{\"__ndarray__\":\"/Knx0k1iUD97FK5H4XqEP5qZmZmZmbk/AAAAAAAA8D8AAAAAAAAkQAAAAAAAAFlA\",\"dtype\":\"float64\",\"shape\":[6]},\"y\":{\"__ndarray__\":\"Q+buoV/YYj8rV6jILZJlP6P1yF8AG3g/wdHCDkiFoD+k6e+BLqS8P6S9J0LBGmY/\",\"dtype\":\"float64\",\"shape\":[6]}},\"selected\":{\"id\":\"2841\"},\"selection_policy\":{\"id\":\"2840\"}},\"id\":\"2485\",\"type\":\"ColumnDataSource\"},{\"attributes\":{\"overlay\":{\"id\":\"1527\"}},\"id\":\"1523\",\"type\":\"BoxZoomTool\"},{\"attributes\":{\"bottom_units\":\"screen\",\"fill_alpha\":0.5,\"fill_color\":\"lightgrey\",\"left_units\":\"screen\",\"level\":\"overlay\",\"line_alpha\":1.0,\"line_color\":\"black\",\"line_dash\":[4,4],\"line_width\":2,\"render_mode\":\"css\",\"right_units\":\"screen\",\"top_units\":\"screen\"},\"id\":\"1603\",\"type\":\"BoxAnnotation\"},{\"attributes\":{},\"id\":\"2670\",\"type\":\"Selection\"},{\"attributes\":{\"data\":{\"x\":{\"__ndarray__\":\"/Knx0k1iUD97FK5H4XqEP5qZmZmZmbk/AAAAAAAA8D8AAAAAAAAkQAAAAAAAAFlA\",\"dtype\":\"float64\",\"shape\":[6]},\"y\":{\"__ndarray__\":\"VfEJzlloYz/zrP3HughrP/nOgUy984U/9LDpknGXQz+dTtgDtkgRPwz2Wgm4hfA+\",\"dtype\":\"float64\",\"shape\":[6]}},\"selected\":{\"id\":\"2643\"},\"selection_policy\":{\"id\":\"2642\"}},\"id\":\"1649\",\"type\":\"ColumnDataSource\"},{\"attributes\":{\"source\":{\"id\":\"2485\"}},\"id\":\"2489\",\"type\":\"CDSView\"},{\"attributes\":{},\"id\":\"1524\",\"type\":\"SaveTool\"},{\"attributes\":{\"data_source\":{\"id\":\"1611\"},\"glyph\":{\"id\":\"1612\"},\"hover_glyph\":null,\"muted_glyph\":null,\"nonselection_glyph\":{\"id\":\"1613\"},\"selection_glyph\":null,\"view\":{\"id\":\"1615\"}},\"id\":\"1614\",\"type\":\"GlyphRenderer\"},{\"attributes\":{\"ticker\":null},\"id\":\"2675\",\"type\":\"LogTickFormatter\"},{\"attributes\":{},\"id\":\"2561\",\"type\":\"UnionRenderers\"},{\"attributes\":{},\"id\":\"1525\",\"type\":\"ResetTool\"},{\"attributes\":{\"data_source\":{\"id\":\"2485\"},\"glyph\":{\"id\":\"2486\"},\"hover_glyph\":null,\"muted_glyph\":null,\"nonselection_glyph\":{\"id\":\"2487\"},\"selection_glyph\":null,\"view\":{\"id\":\"2489\"}},\"id\":\"2488\",\"type\":\"GlyphRenderer\"},{\"attributes\":{},\"id\":\"2673\",\"type\":\"BasicTickFormatter\"},{\"attributes\":{\"line_color\":\"#1f77b4\",\"x\":{\"field\":\"x\"},\"y\":{\"field\":\"y\"}},\"id\":\"2486\",\"type\":\"Line\"},{\"attributes\":{},\"id\":\"2678\",\"type\":\"UnionRenderers\"},{\"attributes\":{\"line_alpha\":0.1,\"line_color\":\"#1f77b4\",\"x\":{\"field\":\"x\"},\"y\":{\"field\":\"y\"}},\"id\":\"1537\",\"type\":\"Line\"},{\"attributes\":{},\"id\":\"1526\",\"type\":\"HelpTool\"},{\"attributes\":{},\"id\":\"2471\",\"type\":\"PanTool\"},{\"attributes\":{},\"id\":\"2679\",\"type\":\"Selection\"},{\"attributes\":{},\"id\":\"2472\",\"type\":\"WheelZoomTool\"},{\"attributes\":{\"active_drag\":\"auto\",\"active_inspect\":\"auto\",\"active_multi\":null,\"active_scroll\":\"auto\",\"active_tap\":\"auto\",\"tools\":[{\"id\":\"1521\"},{\"id\":\"1522\"},{\"id\":\"1523\"},{\"id\":\"1524\"},{\"id\":\"1525\"},{\"id\":\"1526\"}]},\"id\":\"1528\",\"type\":\"Toolbar\"},{\"attributes\":{\"line_alpha\":0.1,\"line_color\":\"#1f77b4\",\"x\":{\"field\":\"x\"},\"y\":{\"field\":\"y\"}},\"id\":\"1613\",\"type\":\"Line\"},{\"attributes\":{},\"id\":\"1619\",\"type\":\"DataRange1d\"},{\"attributes\":{\"data\":{\"x\":{\"__ndarray__\":\"/Knx0k1iUD97FK5H4XqEP5qZmZmZmbk/AAAAAAAA8D8AAAAAAAAkQAAAAAAAAFlA\",\"dtype\":\"float64\",\"shape\":[6]},\"y\":{\"__ndarray__\":\"L2N9oU/aYz+kEw0v+I5vP1sTibzAe5E/M5O7ZFOltj86bNXIQ6fEPwp2Ak2KasY/\",\"dtype\":\"float64\",\"shape\":[6]}},\"selected\":{\"id\":\"2625\"},\"selection_policy\":{\"id\":\"2624\"}},\"id\":\"1573\",\"type\":\"ColumnDataSource\"},{\"attributes\":{\"overlay\":{\"id\":\"2477\"}},\"id\":\"2473\",\"type\":\"BoxZoomTool\"},{\"attributes\":{\"ticker\":null},\"id\":\"2684\",\"type\":\"LogTickFormatter\"},{\"attributes\":{},\"id\":\"2682\",\"type\":\"BasicTickFormatter\"},{\"attributes\":{},\"id\":\"2474\",\"type\":\"SaveTool\"},{\"attributes\":{\"axis\":{\"id\":\"1555\"},\"dimension\":1,\"ticker\":null},\"id\":\"1558\",\"type\":\"Grid\"},{\"attributes\":{},\"id\":\"1625\",\"type\":\"LinearScale\"},{\"attributes\":{},\"id\":\"2687\",\"type\":\"UnionRenderers\"},{\"attributes\":{},\"id\":\"1559\",\"type\":\"PanTool\"},{\"attributes\":{},\"id\":\"1623\",\"type\":\"LogScale\"},{\"attributes\":{},\"id\":\"2475\",\"type\":\"ResetTool\"},{\"attributes\":{\"data_source\":{\"id\":\"1573\"},\"glyph\":{\"id\":\"1574\"},\"hover_glyph\":null,\"muted_glyph\":null,\"nonselection_glyph\":{\"id\":\"1575\"},\"selection_glyph\":null,\"view\":{\"id\":\"1577\"}},\"id\":\"1576\",\"type\":\"GlyphRenderer\"},{\"attributes\":{\"end\":0.25},\"id\":\"1621\",\"type\":\"Range1d\"},{\"attributes\":{},\"id\":\"2688\",\"type\":\"Selection\"},{\"attributes\":{\"num_minor_ticks\":10},\"id\":\"1628\",\"type\":\"LogTicker\"},{\"attributes\":{\"line_alpha\":0.1,\"line_color\":\"#1f77b4\",\"x\":{\"field\":\"x\"},\"y\":{\"field\":\"y\"}},\"id\":\"2487\",\"type\":\"Line\"},{\"attributes\":{},\"id\":\"2476\",\"type\":\"HelpTool\"},{\"attributes\":{},\"id\":\"2691\",\"type\":\"BasicTickFormatter\"},{\"attributes\":{\"line_alpha\":0.1,\"line_color\":\"#1f77b4\",\"x\":{\"field\":\"x\"},\"y\":{\"field\":\"y\"}},\"id\":\"1575\",\"type\":\"Line\"},{\"attributes\":{\"line_alpha\":0.1,\"line_color\":\"#1f77b4\",\"x\":{\"field\":\"x\"},\"y\":{\"field\":\"y\"}},\"id\":\"2069\",\"type\":\"Line\"},{\"attributes\":{\"active_drag\":\"auto\",\"active_inspect\":\"auto\",\"active_multi\":null,\"active_scroll\":\"auto\",\"active_tap\":\"auto\",\"tools\":[{\"id\":\"2471\"},{\"id\":\"2472\"},{\"id\":\"2473\"},{\"id\":\"2474\"},{\"id\":\"2475\"},{\"id\":\"2476\"}]},\"id\":\"2478\",\"type\":\"Toolbar\"},{\"attributes\":{\"axis_label\":\"\\u237aL\",\"formatter\":{\"id\":\"2639\"},\"ticker\":{\"id\":\"1628\"}},\"id\":\"1627\",\"type\":\"LogAxis\"},{\"attributes\":{\"source\":{\"id\":\"1573\"}},\"id\":\"1577\",\"type\":\"CDSView\"},{\"attributes\":{},\"id\":\"2696\",\"type\":\"UnionRenderers\"},{\"attributes\":{\"data\":{\"x\":{\"__ndarray__\":\"/Knx0k1iUD97FK5H4XqEP5qZmZmZmbk/AAAAAAAA8D8AAAAAAAAkQAAAAAAAAFlA\",\"dtype\":\"float64\",\"shape\":[6]},\"y\":{\"__ndarray__\":\"T0DeB4Myaj+1ObQLqIuHPwCDzTxxrrQ/j9FBQlIdxj+wdW0n7zPHPyqRwvJSTcc/\",\"dtype\":\"float64\",\"shape\":[6]}},\"selected\":{\"id\":\"2571\"},\"selection_policy\":{\"id\":\"2570\"}},\"id\":\"1345\",\"type\":\"ColumnDataSource\"},{\"attributes\":{\"text\":\"Kd_c: 8.02; Kd_t: 4.06\"},\"id\":\"1769\",\"type\":\"Title\"},{\"attributes\":{},\"id\":\"1771\",\"type\":\"DataRange1d\"},{\"attributes\":{\"line_alpha\":0.1,\"line_color\":\"#1f77b4\",\"x\":{\"field\":\"x\"},\"y\":{\"field\":\"y\"}},\"id\":\"1347\",\"type\":\"Line\"},{\"attributes\":{\"line_color\":\"#1f77b4\",\"x\":{\"field\":\"x\"},\"y\":{\"field\":\"y\"}},\"id\":\"1346\",\"type\":\"Line\"},{\"attributes\":{\"axis\":{\"id\":\"1893\"},\"ticker\":null},\"id\":\"1896\",\"type\":\"Grid\"},{\"attributes\":{},\"id\":\"1777\",\"type\":\"LinearScale\"},{\"attributes\":{},\"id\":\"1775\",\"type\":\"LogScale\"},{\"attributes\":{},\"id\":\"1277\",\"type\":\"DataRange1d\"},{\"attributes\":{\"end\":0.25},\"id\":\"1773\",\"type\":\"Range1d\"},{\"attributes\":{\"end\":0.25},\"id\":\"1279\",\"type\":\"Range1d\"},{\"attributes\":{},\"id\":\"1281\",\"type\":\"LogScale\"},{\"attributes\":{\"line_alpha\":0.1,\"line_color\":\"#1f77b4\",\"x\":{\"field\":\"x\"},\"y\":{\"field\":\"y\"}},\"id\":\"1461\",\"type\":\"Line\"},{\"attributes\":{\"active_drag\":\"auto\",\"active_inspect\":\"auto\",\"active_multi\":null,\"active_scroll\":\"auto\",\"active_tap\":\"auto\",\"tools\":[{\"id\":\"1293\"},{\"id\":\"1294\"},{\"id\":\"1295\"},{\"id\":\"1296\"},{\"id\":\"1297\"},{\"id\":\"1298\"}]},\"id\":\"1300\",\"type\":\"Toolbar\"},{\"attributes\":{\"axis_label\":\"\\u237aL\",\"formatter\":{\"id\":\"2675\"},\"ticker\":{\"id\":\"1780\"}},\"id\":\"1779\",\"type\":\"LogAxis\"},{\"attributes\":{\"text\":\"Kd_c: 8.02; Kd_t: 0.1\"},\"id\":\"1313\",\"type\":\"Title\"},{\"attributes\":{},\"id\":\"1784\",\"type\":\"BasicTicker\"},{\"attributes\":{\"num_minor_ticks\":10},\"id\":\"1780\",\"type\":\"LogTicker\"},{\"attributes\":{},\"id\":\"1297\",\"type\":\"ResetTool\"},{\"attributes\":{\"axis\":{\"id\":\"1779\"},\"ticker\":null},\"id\":\"1782\",\"type\":\"Grid\"},{\"attributes\":{},\"id\":\"1332\",\"type\":\"WheelZoomTool\"},{\"attributes\":{},\"id\":\"1239\",\"type\":\"DataRange1d\"},{\"attributes\":{\"axis\":{\"id\":\"1783\"},\"dimension\":1,\"ticker\":null},\"id\":\"1786\",\"type\":\"Grid\"},{\"attributes\":{},\"id\":\"1179\",\"type\":\"PanTool\"},{\"attributes\":{\"axis_label\":\"Steady state N\",\"formatter\":{\"id\":\"2673\"},\"ticker\":{\"id\":\"1784\"}},\"id\":\"1783\",\"type\":\"LinearAxis\"},{\"attributes\":{\"bottom_units\":\"screen\",\"fill_alpha\":0.5,\"fill_color\":\"lightgrey\",\"left_units\":\"screen\",\"level\":\"overlay\",\"line_alpha\":1.0,\"line_color\":\"black\",\"line_dash\":[4,4],\"line_width\":2,\"render_mode\":\"css\",\"right_units\":\"screen\",\"top_units\":\"screen\"},\"id\":\"1299\",\"type\":\"BoxAnnotation\"},{\"attributes\":{\"below\":[{\"id\":\"1323\"}],\"center\":[{\"id\":\"1326\"},{\"id\":\"1330\"}],\"frame_height\":100,\"frame_width\":200,\"left\":[{\"id\":\"1327\"}],\"renderers\":[{\"id\":\"1348\"}],\"title\":{\"id\":\"1313\"},\"toolbar\":{\"id\":\"1338\"},\"toolbar_location\":null,\"x_range\":{\"id\":\"1315\"},\"x_scale\":{\"id\":\"1319\"},\"y_range\":{\"id\":\"1317\"},\"y_scale\":{\"id\":\"1321\"}},\"id\":\"1312\",\"subtype\":\"Figure\",\"type\":\"Plot\"},{\"attributes\":{},\"id\":\"1331\",\"type\":\"PanTool\"},{\"attributes\":{\"data\":{\"x\":{\"__ndarray__\":\"/Knx0k1iUD97FK5H4XqEP5qZmZmZmbk/AAAAAAAA8D8AAAAAAAAkQAAAAAAAAFlA\",\"dtype\":\"float64\",\"shape\":[6]},\"y\":{\"__ndarray__\":\"tlKUtzBCYz/Lxfmf/q1pP7XPgOH1u4U/GCn8fg8frz/8ER+jNJvCP/f4c0zxlcU/\",\"dtype\":\"float64\",\"shape\":[6]}},\"selected\":{\"id\":\"2679\"},\"selection_policy\":{\"id\":\"2678\"}},\"id\":\"1801\",\"type\":\"ColumnDataSource\"},{\"attributes\":{},\"id\":\"1315\",\"type\":\"DataRange1d\"},{\"attributes\":{\"source\":{\"id\":\"1801\"}},\"id\":\"1805\",\"type\":\"CDSView\"},{\"attributes\":{\"data_source\":{\"id\":\"2295\"},\"glyph\":{\"id\":\"2296\"},\"hover_glyph\":null,\"muted_glyph\":null,\"nonselection_glyph\":{\"id\":\"2297\"},\"selection_glyph\":null,\"view\":{\"id\":\"2299\"}},\"id\":\"2298\",\"type\":\"GlyphRenderer\"},{\"attributes\":{\"source\":{\"id\":\"1231\"}},\"id\":\"1235\",\"type\":\"CDSView\"},{\"attributes\":{},\"id\":\"1298\",\"type\":\"HelpTool\"},{\"attributes\":{\"data_source\":{\"id\":\"1801\"},\"glyph\":{\"id\":\"1802\"},\"hover_glyph\":null,\"muted_glyph\":null,\"nonselection_glyph\":{\"id\":\"1803\"},\"selection_glyph\":null,\"view\":{\"id\":\"1805\"}},\"id\":\"1804\",\"type\":\"GlyphRenderer\"},{\"attributes\":{\"line_color\":\"#1f77b4\",\"x\":{\"field\":\"x\"},\"y\":{\"field\":\"y\"}},\"id\":\"2144\",\"type\":\"Line\"},{\"attributes\":{\"line_color\":\"#1f77b4\",\"x\":{\"field\":\"x\"},\"y\":{\"field\":\"y\"}},\"id\":\"1802\",\"type\":\"Line\"},{\"attributes\":{},\"id\":\"1787\",\"type\":\"PanTool\"},{\"attributes\":{},\"id\":\"1321\",\"type\":\"LinearScale\"},{\"attributes\":{\"end\":0.25},\"id\":\"1393\",\"type\":\"Range1d\"},{\"attributes\":{},\"id\":\"1788\",\"type\":\"WheelZoomTool\"},{\"attributes\":{},\"id\":\"1319\",\"type\":\"LogScale\"},{\"attributes\":{},\"id\":\"1397\",\"type\":\"LinearScale\"},{\"attributes\":{\"source\":{\"id\":\"1345\"}},\"id\":\"1349\",\"type\":\"CDSView\"},{\"attributes\":{\"overlay\":{\"id\":\"1793\"}},\"id\":\"1789\",\"type\":\"BoxZoomTool\"},{\"attributes\":{\"end\":0.25},\"id\":\"1317\",\"type\":\"Range1d\"},{\"attributes\":{},\"id\":\"1790\",\"type\":\"SaveTool\"},{\"attributes\":{},\"id\":\"1791\",\"type\":\"ResetTool\"},{\"attributes\":{\"line_alpha\":0.1,\"line_color\":\"#1f77b4\",\"x\":{\"field\":\"x\"},\"y\":{\"field\":\"y\"}},\"id\":\"1803\",\"type\":\"Line\"},{\"attributes\":{},\"id\":\"1792\",\"type\":\"HelpTool\"},{\"attributes\":{},\"id\":\"1395\",\"type\":\"LogScale\"},{\"attributes\":{},\"id\":\"1334\",\"type\":\"SaveTool\"},{\"attributes\":{\"active_drag\":\"auto\",\"active_inspect\":\"auto\",\"active_multi\":null,\"active_scroll\":\"auto\",\"active_tap\":\"auto\",\"tools\":[{\"id\":\"1787\"},{\"id\":\"1788\"},{\"id\":\"1789\"},{\"id\":\"1790\"},{\"id\":\"1791\"},{\"id\":\"1792\"}]},\"id\":\"1794\",\"type\":\"Toolbar\"},{\"attributes\":{\"axis_label\":\"\\u237aL\",\"formatter\":{\"id\":\"2585\"},\"ticker\":{\"id\":\"1400\"}},\"id\":\"1399\",\"type\":\"LogAxis\"},{\"attributes\":{\"data_source\":{\"id\":\"1345\"},\"glyph\":{\"id\":\"1346\"},\"hover_glyph\":null,\"muted_glyph\":null,\"nonselection_glyph\":{\"id\":\"1347\"},\"selection_glyph\":null,\"view\":{\"id\":\"1349\"}},\"id\":\"1348\",\"type\":\"GlyphRenderer\"},{\"attributes\":{},\"id\":\"1391\",\"type\":\"DataRange1d\"},{\"attributes\":{\"num_minor_ticks\":10},\"id\":\"1932\",\"type\":\"LogTicker\"},{\"attributes\":{\"axis_label\":\"\\u237aL\",\"formatter\":{\"id\":\"2567\"},\"ticker\":{\"id\":\"1324\"}},\"id\":\"1323\",\"type\":\"LogAxis\"},{\"attributes\":{\"axis_label\":\"\\u237aL\",\"formatter\":{\"id\":\"2711\"},\"ticker\":{\"id\":\"1932\"}},\"id\":\"1931\",\"type\":\"LogAxis\"},{\"attributes\":{\"num_minor_ticks\":10},\"id\":\"1400\",\"type\":\"LogTicker\"},{\"attributes\":{},\"id\":\"1927\",\"type\":\"LogScale\"},{\"attributes\":{},\"id\":\"1328\",\"type\":\"BasicTicker\"},{\"attributes\":{\"overlay\":{\"id\":\"1337\"}},\"id\":\"1333\",\"type\":\"BoxZoomTool\"},{\"attributes\":{\"axis\":{\"id\":\"1931\"},\"ticker\":null},\"id\":\"1934\",\"type\":\"Grid\"},{\"attributes\":{\"num_minor_ticks\":10},\"id\":\"1324\",\"type\":\"LogTicker\"},{\"attributes\":{\"axis_label\":\"Steady state N\",\"formatter\":{\"id\":\"2709\"},\"ticker\":{\"id\":\"1936\"}},\"id\":\"1935\",\"type\":\"LinearAxis\"},{\"attributes\":{\"line_color\":\"#1f77b4\",\"x\":{\"field\":\"x\"},\"y\":{\"field\":\"y\"}},\"id\":\"1422\",\"type\":\"Line\"},{\"attributes\":{},\"id\":\"1335\",\"type\":\"ResetTool\"},{\"attributes\":{},\"id\":\"1336\",\"type\":\"HelpTool\"},{\"attributes\":{\"axis\":{\"id\":\"1323\"},\"ticker\":null},\"id\":\"1326\",\"type\":\"Grid\"},{\"attributes\":{},\"id\":\"1929\",\"type\":\"LinearScale\"},{\"attributes\":{\"active_drag\":\"auto\",\"active_inspect\":\"auto\",\"active_multi\":null,\"active_scroll\":\"auto\",\"active_tap\":\"auto\",\"tools\":[{\"id\":\"1331\"},{\"id\":\"1332\"},{\"id\":\"1333\"},{\"id\":\"1334\"},{\"id\":\"1335\"},{\"id\":\"1336\"}]},\"id\":\"1338\",\"type\":\"Toolbar\"},{\"attributes\":{\"active_drag\":\"auto\",\"active_inspect\":\"auto\",\"active_multi\":null,\"active_scroll\":\"auto\",\"active_tap\":\"auto\",\"tools\":[{\"id\":\"1825\"},{\"id\":\"1826\"},{\"id\":\"1827\"},{\"id\":\"1828\"},{\"id\":\"1829\"},{\"id\":\"1830\"}]},\"id\":\"1832\",\"type\":\"Toolbar\"},{\"attributes\":{\"data_source\":{\"id\":\"1383\"},\"glyph\":{\"id\":\"1384\"},\"hover_glyph\":null,\"muted_glyph\":null,\"nonselection_glyph\":{\"id\":\"1385\"},\"selection_glyph\":null,\"view\":{\"id\":\"1387\"}},\"id\":\"1386\",\"type\":\"GlyphRenderer\"},{\"attributes\":{\"data\":{\"x\":{\"__ndarray__\":\"/Knx0k1iUD97FK5H4XqEP5qZmZmZmbk/AAAAAAAA8D8AAAAAAAAkQAAAAAAAAFlA\",\"dtype\":\"float64\",\"shape\":[6]},\"y\":{\"__ndarray__\":\"7YaM9gRCYz/VG/C3aKxpP+6QRrfSuoU/OJRNiIo8rz+JuHLewcvCP6pFmd/e1sU/\",\"dtype\":\"float64\",\"shape\":[6]}},\"selected\":{\"id\":\"2688\"},\"selection_policy\":{\"id\":\"2687\"}},\"id\":\"1839\",\"type\":\"ColumnDataSource\"},{\"attributes\":{\"axis\":{\"id\":\"1327\"},\"dimension\":1,\"ticker\":null},\"id\":\"1330\",\"type\":\"Grid\"},{\"attributes\":{\"bottom_units\":\"screen\",\"fill_alpha\":0.5,\"fill_color\":\"lightgrey\",\"left_units\":\"screen\",\"level\":\"overlay\",\"line_alpha\":1.0,\"line_color\":\"black\",\"line_dash\":[4,4],\"line_width\":2,\"render_mode\":\"css\",\"right_units\":\"screen\",\"top_units\":\"screen\"},\"id\":\"1375\",\"type\":\"BoxAnnotation\"},{\"attributes\":{\"bottom_units\":\"screen\",\"fill_alpha\":0.5,\"fill_color\":\"lightgrey\",\"left_units\":\"screen\",\"level\":\"overlay\",\"line_alpha\":1.0,\"line_color\":\"black\",\"line_dash\":[4,4],\"line_width\":2,\"render_mode\":\"css\",\"right_units\":\"screen\",\"top_units\":\"screen\"},\"id\":\"1793\",\"type\":\"BoxAnnotation\"},{\"attributes\":{\"text\":\"Kd_c: 0.1; Kd_t: 2.08\"},\"id\":\"1389\",\"type\":\"Title\"},{\"attributes\":{\"axis\":{\"id\":\"2201\"},\"dimension\":1,\"ticker\":null},\"id\":\"2204\",\"type\":\"Grid\"},{\"attributes\":{\"line_color\":\"#1f77b4\",\"x\":{\"field\":\"x\"},\"y\":{\"field\":\"y\"}},\"id\":\"1840\",\"type\":\"Line\"},{\"attributes\":{\"axis_label\":\"Steady state N\",\"formatter\":{\"id\":\"2565\"},\"ticker\":{\"id\":\"1328\"}},\"id\":\"1327\",\"type\":\"LinearAxis\"},{\"attributes\":{},\"id\":\"2781\",\"type\":\"BasicTickFormatter\"},{\"attributes\":{},\"id\":\"1715\",\"type\":\"ResetTool\"},{\"attributes\":{\"ticker\":null},\"id\":\"2783\",\"type\":\"LogTickFormatter\"},{\"attributes\":{},\"id\":\"1369\",\"type\":\"PanTool\"},{\"attributes\":{},\"id\":\"1716\",\"type\":\"HelpTool\"},{\"attributes\":{},\"id\":\"1372\",\"type\":\"SaveTool\"},{\"attributes\":{},\"id\":\"2787\",\"type\":\"Selection\"},{\"attributes\":{},\"id\":\"1373\",\"type\":\"ResetTool\"},{\"attributes\":{},\"id\":\"1218\",\"type\":\"WheelZoomTool\"},{\"attributes\":{},\"id\":\"1750\",\"type\":\"WheelZoomTool\"},{\"attributes\":{\"ticker\":null},\"id\":\"2792\",\"type\":\"LogTickFormatter\"},{\"attributes\":{},\"id\":\"1370\",\"type\":\"WheelZoomTool\"},{\"attributes\":{},\"id\":\"2790\",\"type\":\"BasicTickFormatter\"},{\"attributes\":{\"below\":[{\"id\":\"1475\"}],\"center\":[{\"id\":\"1478\"},{\"id\":\"1482\"}],\"frame_height\":100,\"frame_width\":200,\"left\":[{\"id\":\"1479\"}],\"renderers\":[{\"id\":\"1500\"}],\"title\":{\"id\":\"1465\"},\"toolbar\":{\"id\":\"1490\"},\"toolbar_location\":null,\"x_range\":{\"id\":\"1467\"},\"x_scale\":{\"id\":\"1471\"},\"y_range\":{\"id\":\"1469\"},\"y_scale\":{\"id\":\"1473\"}},\"id\":\"1464\",\"subtype\":\"Figure\",\"type\":\"Plot\"},{\"attributes\":{},\"id\":\"1749\",\"type\":\"PanTool\"},{\"attributes\":{},\"id\":\"2795\",\"type\":\"UnionRenderers\"},{\"attributes\":{},\"id\":\"1754\",\"type\":\"HelpTool\"},{\"attributes\":{\"source\":{\"id\":\"1383\"}},\"id\":\"1387\",\"type\":\"CDSView\"},{\"attributes\":{\"overlay\":{\"id\":\"1375\"}},\"id\":\"1371\",\"type\":\"BoxZoomTool\"},{\"attributes\":{\"overlay\":{\"id\":\"1755\"}},\"id\":\"1751\",\"type\":\"BoxZoomTool\"},{\"attributes\":{\"below\":[{\"id\":\"1513\"}],\"center\":[{\"id\":\"1516\"},{\"id\":\"1520\"}],\"frame_height\":100,\"frame_width\":200,\"left\":[{\"id\":\"1517\"}],\"renderers\":[{\"id\":\"1538\"}],\"title\":{\"id\":\"1503\"},\"toolbar\":{\"id\":\"1528\"},\"toolbar_location\":null,\"x_range\":{\"id\":\"1505\"},\"x_scale\":{\"id\":\"1509\"},\"y_range\":{\"id\":\"1507\"},\"y_scale\":{\"id\":\"1511\"}},\"id\":\"1502\",\"subtype\":\"Figure\",\"type\":\"Plot\"},{\"attributes\":{},\"id\":\"1752\",\"type\":\"SaveTool\"},{\"attributes\":{},\"id\":\"2796\",\"type\":\"Selection\"},{\"attributes\":{},\"id\":\"1359\",\"type\":\"LinearScale\"},{\"attributes\":{\"ticker\":null},\"id\":\"2801\",\"type\":\"LogTickFormatter\"},{\"attributes\":{},\"id\":\"1753\",\"type\":\"ResetTool\"},{\"attributes\":{\"source\":{\"id\":\"1459\"}},\"id\":\"1463\",\"type\":\"CDSView\"},{\"attributes\":{},\"id\":\"2799\",\"type\":\"BasicTickFormatter\"},{\"attributes\":{},\"id\":\"2804\",\"type\":\"UnionRenderers\"},{\"attributes\":{\"data_source\":{\"id\":\"1763\"},\"glyph\":{\"id\":\"1764\"},\"hover_glyph\":null,\"muted_glyph\":null,\"nonselection_glyph\":{\"id\":\"1765\"},\"selection_glyph\":null,\"view\":{\"id\":\"1767\"}},\"id\":\"1766\",\"type\":\"GlyphRenderer\"},{\"attributes\":{\"line_alpha\":0.1,\"line_color\":\"#1f77b4\",\"x\":{\"field\":\"x\"},\"y\":{\"field\":\"y\"}},\"id\":\"1385\",\"type\":\"Line\"},{\"attributes\":{\"line_color\":\"#1f77b4\",\"x\":{\"field\":\"x\"},\"y\":{\"field\":\"y\"}},\"id\":\"1764\",\"type\":\"Line\"},{\"attributes\":{\"bottom_units\":\"screen\",\"fill_alpha\":0.5,\"fill_color\":\"lightgrey\",\"left_units\":\"screen\",\"level\":\"overlay\",\"line_alpha\":1.0,\"line_color\":\"black\",\"line_dash\":[4,4],\"line_width\":2,\"render_mode\":\"css\",\"right_units\":\"screen\",\"top_units\":\"screen\"},\"id\":\"1717\",\"type\":\"BoxAnnotation\"},{\"attributes\":{},\"id\":\"2805\",\"type\":\"Selection\"},{\"attributes\":{\"active_drag\":\"auto\",\"active_inspect\":\"auto\",\"active_multi\":null,\"active_scroll\":\"auto\",\"active_tap\":\"auto\",\"tools\":[{\"id\":\"1749\"},{\"id\":\"1750\"},{\"id\":\"1751\"},{\"id\":\"1752\"},{\"id\":\"1753\"},{\"id\":\"1754\"}]},\"id\":\"1756\",\"type\":\"Toolbar\"},{\"attributes\":{\"axis_label\":\"\\u237aL\",\"formatter\":{\"id\":\"2576\"},\"ticker\":{\"id\":\"1362\"}},\"id\":\"1361\",\"type\":\"LogAxis\"},{\"attributes\":{\"active_drag\":\"auto\",\"active_inspect\":\"auto\",\"active_multi\":null,\"active_scroll\":\"auto\",\"active_tap\":\"auto\",\"tools\":[{\"id\":\"1711\"},{\"id\":\"1712\"},{\"id\":\"1713\"},{\"id\":\"1714\"},{\"id\":\"1715\"},{\"id\":\"1716\"}]},\"id\":\"1718\",\"type\":\"Toolbar\"},{\"attributes\":{\"ticker\":null},\"id\":\"2810\",\"type\":\"LogTickFormatter\"},{\"attributes\":{\"text\":\"Kd_c: 6.04; Kd_t: 4.06\"},\"id\":\"1731\",\"type\":\"Title\"},{\"attributes\":{},\"id\":\"2808\",\"type\":\"BasicTickFormatter\"},{\"attributes\":{\"num_minor_ticks\":10},\"id\":\"1362\",\"type\":\"LogTicker\"},{\"attributes\":{},\"id\":\"2813\",\"type\":\"UnionRenderers\"},{\"attributes\":{},\"id\":\"1366\",\"type\":\"BasicTicker\"},{\"attributes\":{\"axis_label\":\"Steady state N\",\"formatter\":{\"id\":\"2574\"},\"ticker\":{\"id\":\"1366\"}},\"id\":\"1365\",\"type\":\"LinearAxis\"},{\"attributes\":{\"source\":{\"id\":\"1763\"}},\"id\":\"1767\",\"type\":\"CDSView\"},{\"attributes\":{},\"id\":\"2814\",\"type\":\"Selection\"},{\"attributes\":{\"below\":[{\"id\":\"1741\"}],\"center\":[{\"id\":\"1744\"},{\"id\":\"1748\"}],\"frame_height\":100,\"frame_width\":200,\"left\":[{\"id\":\"1745\"}],\"renderers\":[{\"id\":\"1766\"}],\"title\":{\"id\":\"1731\"},\"toolbar\":{\"id\":\"1756\"},\"toolbar_location\":null,\"x_range\":{\"id\":\"1733\"},\"x_scale\":{\"id\":\"1737\"},\"y_range\":{\"id\":\"1735\"},\"y_scale\":{\"id\":\"1739\"}},\"id\":\"1730\",\"subtype\":\"Figure\",\"type\":\"Plot\"},{\"attributes\":{\"axis\":{\"id\":\"1361\"},\"ticker\":null},\"id\":\"1364\",\"type\":\"Grid\"},{\"attributes\":{},\"id\":\"1733\",\"type\":\"DataRange1d\"},{\"attributes\":{\"ticker\":null},\"id\":\"2819\",\"type\":\"LogTickFormatter\"},{\"attributes\":{},\"id\":\"2817\",\"type\":\"BasicTickFormatter\"},{\"attributes\":{\"axis\":{\"id\":\"1365\"},\"dimension\":1,\"ticker\":null},\"id\":\"1368\",\"type\":\"Grid\"},{\"attributes\":{},\"id\":\"2822\",\"type\":\"UnionRenderers\"},{\"attributes\":{\"data\":{\"x\":{\"__ndarray__\":\"/Knx0k1iUD97FK5H4XqEP5qZmZmZmbk/AAAAAAAA8D8AAAAAAAAkQAAAAAAAAFlA\",\"dtype\":\"float64\",\"shape\":[6]},\"y\":{\"__ndarray__\":\"JtEB+U0xaj+Ycz0O3YiHP+Z7Sk96rbQ/s5AV4gMfxj8+a7qKuTXHP0nYNMQeT8c/\",\"dtype\":\"float64\",\"shape\":[6]}},\"selected\":{\"id\":\"2580\"},\"selection_policy\":{\"id\":\"2579\"}},\"id\":\"1383\",\"type\":\"ColumnDataSource\"},{\"attributes\":{\"data\":{\"x\":{\"__ndarray__\":\"/Knx0k1iUD97FK5H4XqEP5qZmZmZmbk/AAAAAAAA8D8AAAAAAAAkQAAAAAAAAFlA\",\"dtype\":\"float64\",\"shape\":[6]},\"y\":{\"__ndarray__\":\"++KRx3hCYz8J8tjvmrBpP9Qi4wnRvYU/agnG85jurj9NH+zyIkzCPw4a/9N/LMU/\",\"dtype\":\"float64\",\"shape\":[6]}},\"selected\":{\"id\":\"2670\"},\"selection_policy\":{\"id\":\"2669\"}},\"id\":\"1763\",\"type\":\"ColumnDataSource\"},{\"attributes\":{},\"id\":\"2823\",\"type\":\"Selection\"},{\"attributes\":{\"below\":[{\"id\":\"1399\"}],\"center\":[{\"id\":\"1402\"},{\"id\":\"1406\"}],\"frame_height\":100,\"frame_width\":200,\"left\":[{\"id\":\"1403\"}],\"renderers\":[{\"id\":\"1424\"}],\"title\":{\"id\":\"1389\"},\"toolbar\":{\"id\":\"1414\"},\"toolbar_location\":null,\"x_range\":{\"id\":\"1391\"},\"x_scale\":{\"id\":\"1395\"},\"y_range\":{\"id\":\"1393\"},\"y_scale\":{\"id\":\"1397\"}},\"id\":\"1388\",\"subtype\":\"Figure\",\"type\":\"Plot\"},{\"attributes\":{\"below\":[{\"id\":\"1779\"}],\"center\":[{\"id\":\"1782\"},{\"id\":\"1786\"}],\"frame_height\":100,\"frame_width\":200,\"left\":[{\"id\":\"1783\"}],\"renderers\":[{\"id\":\"1804\"}],\"title\":{\"id\":\"1769\"},\"toolbar\":{\"id\":\"1794\"},\"toolbar_location\":null,\"x_range\":{\"id\":\"1771\"},\"x_scale\":{\"id\":\"1775\"},\"y_range\":{\"id\":\"1773\"},\"y_scale\":{\"id\":\"1777\"}},\"id\":\"1768\",\"subtype\":\"Figure\",\"type\":\"Plot\"},{\"attributes\":{\"axis_label\":\"Steady state N\",\"formatter\":{\"id\":\"2538\"},\"ticker\":{\"id\":\"1214\"}},\"id\":\"1213\",\"type\":\"LinearAxis\"},{\"attributes\":{\"axis\":{\"id\":\"1745\"},\"dimension\":1,\"ticker\":null},\"id\":\"1748\",\"type\":\"Grid\"},{\"attributes\":{},\"id\":\"1353\",\"type\":\"DataRange1d\"},{\"attributes\":{\"ticker\":null},\"id\":\"2828\",\"type\":\"LogTickFormatter\"},{\"attributes\":{},\"id\":\"2826\",\"type\":\"BasicTickFormatter\"},{\"attributes\":{},\"id\":\"2831\",\"type\":\"UnionRenderers\"},{\"attributes\":{\"end\":0.25},\"id\":\"1355\",\"type\":\"Range1d\"},{\"attributes\":{},\"id\":\"1357\",\"type\":\"LogScale\"},{\"attributes\":{\"below\":[{\"id\":\"1361\"}],\"center\":[{\"id\":\"1364\"},{\"id\":\"1368\"}],\"frame_height\":100,\"frame_width\":200,\"left\":[{\"id\":\"1365\"}],\"renderers\":[{\"id\":\"1386\"}],\"title\":{\"id\":\"1351\"},\"toolbar\":{\"id\":\"1376\"},\"toolbar_location\":null,\"x_range\":{\"id\":\"1353\"},\"x_scale\":{\"id\":\"1357\"},\"y_range\":{\"id\":\"1355\"},\"y_scale\":{\"id\":\"1359\"}},\"id\":\"1350\",\"subtype\":\"Figure\",\"type\":\"Plot\"},{\"attributes\":{},\"id\":\"2832\",\"type\":\"Selection\"},{\"attributes\":{},\"id\":\"1374\",\"type\":\"HelpTool\"},{\"attributes\":{},\"id\":\"1923\",\"type\":\"DataRange1d\"},{\"attributes\":{\"data_source\":{\"id\":\"1839\"},\"glyph\":{\"id\":\"1840\"},\"hover_glyph\":null,\"muted_glyph\":null,\"nonselection_glyph\":{\"id\":\"1841\"},\"selection_glyph\":null,\"view\":{\"id\":\"1843\"}},\"id\":\"1842\",\"type\":\"GlyphRenderer\"},{\"attributes\":{\"active_drag\":\"auto\",\"active_inspect\":\"auto\",\"active_multi\":null,\"active_scroll\":\"auto\",\"active_tap\":\"auto\",\"tools\":[{\"id\":\"1369\"},{\"id\":\"1370\"},{\"id\":\"1371\"},{\"id\":\"1372\"},{\"id\":\"1373\"},{\"id\":\"1374\"}]},\"id\":\"1376\",\"type\":\"Toolbar\"},{\"attributes\":{\"line_alpha\":0.1,\"line_color\":\"#1f77b4\",\"x\":{\"field\":\"x\"},\"y\":{\"field\":\"y\"}},\"id\":\"1841\",\"type\":\"Line\"},{\"attributes\":{\"ticker\":null},\"id\":\"2837\",\"type\":\"LogTickFormatter\"},{\"attributes\":{\"data_source\":{\"id\":\"1459\"},\"glyph\":{\"id\":\"1460\"},\"hover_glyph\":null,\"muted_glyph\":null,\"nonselection_glyph\":{\"id\":\"1461\"},\"selection_glyph\":null,\"view\":{\"id\":\"1463\"}},\"id\":\"1462\",\"type\":\"GlyphRenderer\"},{\"attributes\":{\"source\":{\"id\":\"1839\"}},\"id\":\"1843\",\"type\":\"CDSView\"},{\"attributes\":{},\"id\":\"2835\",\"type\":\"BasicTickFormatter\"},{\"attributes\":{\"text\":\"Kd_c: 4.06; Kd_t: 2.08\"},\"id\":\"1465\",\"type\":\"Title\"},{\"attributes\":{},\"id\":\"2840\",\"type\":\"UnionRenderers\"},{\"attributes\":{\"bottom_units\":\"screen\",\"fill_alpha\":0.5,\"fill_color\":\"lightgrey\",\"left_units\":\"screen\",\"level\":\"overlay\",\"line_alpha\":1.0,\"line_color\":\"black\",\"line_dash\":[4,4],\"line_width\":2,\"render_mode\":\"css\",\"right_units\":\"screen\",\"top_units\":\"screen\"},\"id\":\"1337\",\"type\":\"BoxAnnotation\"},{\"attributes\":{},\"id\":\"2841\",\"type\":\"Selection\"},{\"attributes\":{\"source\":{\"id\":\"2257\"}},\"id\":\"2261\",\"type\":\"CDSView\"},{\"attributes\":{\"bottom_units\":\"screen\",\"fill_alpha\":0.5,\"fill_color\":\"lightgrey\",\"left_units\":\"screen\",\"level\":\"overlay\",\"line_alpha\":1.0,\"line_color\":\"black\",\"line_dash\":[4,4],\"line_width\":2,\"render_mode\":\"css\",\"right_units\":\"screen\",\"top_units\":\"screen\"},\"id\":\"1831\",\"type\":\"BoxAnnotation\"},{\"attributes\":{\"end\":0.25},\"id\":\"1925\",\"type\":\"Range1d\"},{\"attributes\":{\"ticker\":null},\"id\":\"2846\",\"type\":\"LogTickFormatter\"},{\"attributes\":{\"bottom_units\":\"screen\",\"fill_alpha\":0.5,\"fill_color\":\"lightgrey\",\"left_units\":\"screen\",\"level\":\"overlay\",\"line_alpha\":1.0,\"line_color\":\"black\",\"line_dash\":[4,4],\"line_width\":2,\"render_mode\":\"css\",\"right_units\":\"screen\",\"top_units\":\"screen\"},\"id\":\"1755\",\"type\":\"BoxAnnotation\"},{\"attributes\":{\"line_color\":\"#1f77b4\",\"x\":{\"field\":\"x\"},\"y\":{\"field\":\"y\"}},\"id\":\"1384\",\"type\":\"Line\"},{\"attributes\":{},\"id\":\"2844\",\"type\":\"BasicTickFormatter\"},{\"attributes\":{},\"id\":\"2849\",\"type\":\"UnionRenderers\"},{\"attributes\":{\"text\":\"Kd_c: 10.0; Kd_t: 0.1\"},\"id\":\"1351\",\"type\":\"Title\"},{\"attributes\":{\"line_alpha\":0.1,\"line_color\":\"#1f77b4\",\"x\":{\"field\":\"x\"},\"y\":{\"field\":\"y\"}},\"id\":\"1765\",\"type\":\"Line\"},{\"attributes\":{\"line_color\":\"#1f77b4\",\"x\":{\"field\":\"x\"},\"y\":{\"field\":\"y\"}},\"id\":\"1498\",\"type\":\"Line\"},{\"attributes\":{},\"id\":\"2850\",\"type\":\"Selection\"},{\"attributes\":{\"below\":[{\"id\":\"2311\"}],\"center\":[{\"id\":\"2314\"},{\"id\":\"2318\"}],\"frame_height\":100,\"frame_width\":200,\"left\":[{\"id\":\"2315\"}],\"renderers\":[{\"id\":\"2336\"}],\"title\":{\"id\":\"2301\"},\"toolbar\":{\"id\":\"2326\"},\"toolbar_location\":null,\"x_range\":{\"id\":\"2303\"},\"x_scale\":{\"id\":\"2307\"},\"y_range\":{\"id\":\"2305\"},\"y_scale\":{\"id\":\"2309\"}},\"id\":\"2300\",\"subtype\":\"Figure\",\"type\":\"Plot\"},{\"attributes\":{},\"id\":\"2172\",\"type\":\"HelpTool\"},{\"attributes\":{\"data_source\":{\"id\":\"1193\"},\"glyph\":{\"id\":\"1194\"},\"hover_glyph\":null,\"muted_glyph\":null,\"nonselection_glyph\":{\"id\":\"1195\"},\"selection_glyph\":null,\"view\":{\"id\":\"1197\"}},\"id\":\"1196\",\"type\":\"GlyphRenderer\"},{\"attributes\":{\"axis\":{\"id\":\"2049\"},\"dimension\":1,\"ticker\":null},\"id\":\"2052\",\"type\":\"Grid\"},{\"attributes\":{\"below\":[{\"id\":\"2197\"}],\"center\":[{\"id\":\"2200\"},{\"id\":\"2204\"}],\"frame_height\":100,\"frame_width\":200,\"left\":[{\"id\":\"2201\"}],\"renderers\":[{\"id\":\"2222\"}],\"title\":{\"id\":\"2187\"},\"toolbar\":{\"id\":\"2212\"},\"toolbar_location\":null,\"x_range\":{\"id\":\"2189\"},\"x_scale\":{\"id\":\"2193\"},\"y_range\":{\"id\":\"2191\"},\"y_scale\":{\"id\":\"2195\"}},\"id\":\"2186\",\"subtype\":\"Figure\",\"type\":\"Plot\"},{\"attributes\":{\"axis\":{\"id\":\"1437\"},\"ticker\":null},\"id\":\"1440\",\"type\":\"Grid\"},{\"attributes\":{\"axis\":{\"id\":\"1897\"},\"dimension\":1,\"ticker\":null},\"id\":\"1900\",\"type\":\"Grid\"},{\"attributes\":{\"num_minor_ticks\":10},\"id\":\"1476\",\"type\":\"LogTicker\"},{\"attributes\":{},\"id\":\"2088\",\"type\":\"BasicTicker\"},{\"attributes\":{},\"id\":\"2210\",\"type\":\"HelpTool\"},{\"attributes\":{\"axis\":{\"id\":\"1475\"},\"ticker\":null},\"id\":\"1478\",\"type\":\"Grid\"},{\"attributes\":{\"text\":\"Kd_c: 6.04; Kd_t: 8.02\"},\"id\":\"2187\",\"type\":\"Title\"},{\"attributes\":{\"below\":[{\"id\":\"2083\"}],\"center\":[{\"id\":\"2086\"},{\"id\":\"2090\"}],\"frame_height\":100,\"frame_width\":200,\"left\":[{\"id\":\"2087\"}],\"renderers\":[{\"id\":\"2108\"}],\"title\":{\"id\":\"2073\"},\"toolbar\":{\"id\":\"2098\"},\"toolbar_location\":null,\"x_range\":{\"id\":\"2075\"},\"x_scale\":{\"id\":\"2079\"},\"y_range\":{\"id\":\"2077\"},\"y_scale\":{\"id\":\"2081\"}},\"id\":\"2072\",\"subtype\":\"Figure\",\"type\":\"Plot\"},{\"attributes\":{\"text\":\"Kd_c: 0.1; Kd_t: 10.0\"},\"id\":\"2301\",\"type\":\"Title\"},{\"attributes\":{\"text\":\"Kd_c: 2.08; Kd_t: 10.0\"},\"id\":\"2339\",\"type\":\"Title\"},{\"attributes\":{},\"id\":\"1471\",\"type\":\"LogScale\"},{\"attributes\":{\"axis\":{\"id\":\"1935\"},\"dimension\":1,\"ticker\":null},\"id\":\"1938\",\"type\":\"Grid\"},{\"attributes\":{},\"id\":\"2271\",\"type\":\"LinearScale\"},{\"attributes\":{},\"id\":\"2303\",\"type\":\"DataRange1d\"},{\"attributes\":{},\"id\":\"1412\",\"type\":\"HelpTool\"},{\"attributes\":{\"active_drag\":\"auto\",\"active_inspect\":\"auto\",\"active_multi\":null,\"active_scroll\":\"auto\",\"active_tap\":\"auto\",\"tools\":[{\"id\":\"2053\"},{\"id\":\"2054\"},{\"id\":\"2055\"},{\"id\":\"2056\"},{\"id\":\"2057\"},{\"id\":\"2058\"}]},\"id\":\"2060\",\"type\":\"Toolbar\"},{\"attributes\":{\"source\":{\"id\":\"2067\"}},\"id\":\"2071\",\"type\":\"CDSView\"},{\"attributes\":{\"active_drag\":\"auto\",\"active_inspect\":\"auto\",\"active_multi\":null,\"active_scroll\":\"auto\",\"active_tap\":\"auto\",\"tools\":[{\"id\":\"1901\"},{\"id\":\"1902\"},{\"id\":\"1903\"},{\"id\":\"1904\"},{\"id\":\"1905\"},{\"id\":\"1906\"}]},\"id\":\"1908\",\"type\":\"Toolbar\"},{\"attributes\":{\"data\":{\"x\":{\"__ndarray__\":\"/Knx0k1iUD97FK5H4XqEP5qZmZmZmbk/AAAAAAAA8D8AAAAAAAAkQAAAAAAAAFlA\",\"dtype\":\"float64\",\"shape\":[6]},\"y\":{\"__ndarray__\":\"naSuf9AIYz8hwXxPUHRnP+GlMh8wjIA/Q+/4Xd3+pz+nP8vR0ynBP7bvpv5jKcU/\",\"dtype\":\"float64\",\"shape\":[6]}},\"selected\":{\"id\":\"2742\"},\"selection_policy\":{\"id\":\"2741\"}},\"id\":\"2067\",\"type\":\"ColumnDataSource\"},{\"attributes\":{\"active_drag\":\"auto\",\"active_inspect\":\"auto\",\"active_multi\":null,\"active_scroll\":\"auto\",\"active_tap\":\"auto\",\"tools\":[{\"id\":\"1445\"},{\"id\":\"1446\"},{\"id\":\"1447\"},{\"id\":\"1448\"},{\"id\":\"1449\"},{\"id\":\"1450\"}]},\"id\":\"1452\",\"type\":\"Toolbar\"},{\"attributes\":{\"axis_label\":\"\\u237aL\",\"formatter\":{\"id\":\"2603\"},\"ticker\":{\"id\":\"1476\"}},\"id\":\"1475\",\"type\":\"LogAxis\"},{\"attributes\":{},\"id\":\"2309\",\"type\":\"LinearScale\"},{\"attributes\":{},\"id\":\"1936\",\"type\":\"BasicTicker\"},{\"attributes\":{},\"id\":\"2053\",\"type\":\"PanTool\"},{\"attributes\":{\"axis\":{\"id\":\"1479\"},\"dimension\":1,\"ticker\":null},\"id\":\"1482\",\"type\":\"Grid\"},{\"attributes\":{},\"id\":\"2307\",\"type\":\"LogScale\"},{\"attributes\":{\"bottom_units\":\"screen\",\"fill_alpha\":0.5,\"fill_color\":\"lightgrey\",\"left_units\":\"screen\",\"level\":\"overlay\",\"line_alpha\":1.0,\"line_color\":\"black\",\"line_dash\":[4,4],\"line_width\":2,\"render_mode\":\"css\",\"right_units\":\"screen\",\"top_units\":\"screen\"},\"id\":\"2173\",\"type\":\"BoxAnnotation\"},{\"attributes\":{},\"id\":\"1901\",\"type\":\"PanTool\"},{\"attributes\":{\"data_source\":{\"id\":\"1421\"},\"glyph\":{\"id\":\"1422\"},\"hover_glyph\":null,\"muted_glyph\":null,\"nonselection_glyph\":{\"id\":\"1423\"},\"selection_glyph\":null,\"view\":{\"id\":\"1425\"}},\"id\":\"1424\",\"type\":\"GlyphRenderer\"},{\"attributes\":{\"end\":0.25},\"id\":\"2305\",\"type\":\"Range1d\"},{\"attributes\":{\"bottom_units\":\"screen\",\"fill_alpha\":0.5,\"fill_color\":\"lightgrey\",\"left_units\":\"screen\",\"level\":\"overlay\",\"line_alpha\":1.0,\"line_color\":\"black\",\"line_dash\":[4,4],\"line_width\":2,\"render_mode\":\"css\",\"right_units\":\"screen\",\"top_units\":\"screen\"},\"id\":\"2097\",\"type\":\"BoxAnnotation\"},{\"attributes\":{},\"id\":\"2054\",\"type\":\"WheelZoomTool\"},{\"attributes\":{},\"id\":\"2265\",\"type\":\"DataRange1d\"},{\"attributes\":{},\"id\":\"1902\",\"type\":\"WheelZoomTool\"},{\"attributes\":{\"data_source\":{\"id\":\"1497\"},\"glyph\":{\"id\":\"1498\"},\"hover_glyph\":null,\"muted_glyph\":null,\"nonselection_glyph\":{\"id\":\"1499\"},\"selection_glyph\":null,\"view\":{\"id\":\"1501\"}},\"id\":\"1500\",\"type\":\"GlyphRenderer\"},{\"attributes\":{\"end\":0.25},\"id\":\"2267\",\"type\":\"Range1d\"},{\"attributes\":{\"overlay\":{\"id\":\"2059\"}},\"id\":\"2055\",\"type\":\"BoxZoomTool\"},{\"attributes\":{\"data_source\":{\"id\":\"2257\"},\"glyph\":{\"id\":\"2258\"},\"hover_glyph\":null,\"muted_glyph\":null,\"nonselection_glyph\":{\"id\":\"2259\"},\"selection_glyph\":null,\"view\":{\"id\":\"2261\"}},\"id\":\"2260\",\"type\":\"GlyphRenderer\"},{\"attributes\":{\"below\":[{\"id\":\"2121\"}],\"center\":[{\"id\":\"2124\"},{\"id\":\"2128\"}],\"frame_height\":100,\"frame_width\":200,\"left\":[{\"id\":\"2125\"}],\"renderers\":[{\"id\":\"2146\"}],\"title\":{\"id\":\"2111\"},\"toolbar\":{\"id\":\"2136\"},\"toolbar_location\":null,\"x_range\":{\"id\":\"2113\"},\"x_scale\":{\"id\":\"2117\"},\"y_range\":{\"id\":\"2115\"},\"y_scale\":{\"id\":\"2119\"}},\"id\":\"2110\",\"subtype\":\"Figure\",\"type\":\"Plot\"},{\"attributes\":{\"overlay\":{\"id\":\"1907\"}},\"id\":\"1903\",\"type\":\"BoxZoomTool\"},{\"attributes\":{},\"id\":\"1446\",\"type\":\"WheelZoomTool\"},{\"attributes\":{},\"id\":\"2056\",\"type\":\"SaveTool\"},{\"attributes\":{},\"id\":\"2269\",\"type\":\"LogScale\"},{\"attributes\":{},\"id\":\"1904\",\"type\":\"SaveTool\"},{\"attributes\":{},\"id\":\"1467\",\"type\":\"DataRange1d\"},{\"attributes\":{\"axis_label\":\"\\u237aL\",\"formatter\":{\"id\":\"2801\"},\"ticker\":{\"id\":\"2312\"}},\"id\":\"2311\",\"type\":\"LogAxis\"},{\"attributes\":{\"line_alpha\":0.1,\"line_color\":\"#1f77b4\",\"x\":{\"field\":\"x\"},\"y\":{\"field\":\"y\"}},\"id\":\"1195\",\"type\":\"Line\"},{\"attributes\":{},\"id\":\"1445\",\"type\":\"PanTool\"},{\"attributes\":{},\"id\":\"2057\",\"type\":\"ResetTool\"},{\"attributes\":{},\"id\":\"1480\",\"type\":\"BasicTicker\"},{\"attributes\":{\"line_alpha\":0.1,\"line_color\":\"#1f77b4\",\"x\":{\"field\":\"x\"},\"y\":{\"field\":\"y\"}},\"id\":\"2259\",\"type\":\"Line\"},{\"attributes\":{},\"id\":\"1905\",\"type\":\"ResetTool\"},{\"attributes\":{\"text\":\"Kd_c: 2.08; Kd_t: 8.02\"},\"id\":\"2111\",\"type\":\"Title\"},{\"attributes\":{\"bottom_units\":\"screen\",\"fill_alpha\":0.5,\"fill_color\":\"lightgrey\",\"left_units\":\"screen\",\"level\":\"overlay\",\"line_alpha\":1.0,\"line_color\":\"black\",\"line_dash\":[4,4],\"line_width\":2,\"render_mode\":\"css\",\"right_units\":\"screen\",\"top_units\":\"screen\"},\"id\":\"1413\",\"type\":\"BoxAnnotation\"},{\"attributes\":{},\"id\":\"2316\",\"type\":\"BasicTicker\"},{\"attributes\":{},\"id\":\"1487\",\"type\":\"ResetTool\"},{\"attributes\":{\"end\":0.25},\"id\":\"1469\",\"type\":\"Range1d\"},{\"attributes\":{\"text\":\"Kd_c: 0.1; Kd_t: 8.02\"},\"id\":\"2073\",\"type\":\"Title\"},{\"attributes\":{\"bottom_units\":\"screen\",\"fill_alpha\":0.5,\"fill_color\":\"lightgrey\",\"left_units\":\"screen\",\"level\":\"overlay\",\"line_alpha\":1.0,\"line_color\":\"black\",\"line_dash\":[4,4],\"line_width\":2,\"render_mode\":\"css\",\"right_units\":\"screen\",\"top_units\":\"screen\"},\"id\":\"2211\",\"type\":\"BoxAnnotation\"},{\"attributes\":{},\"id\":\"2058\",\"type\":\"HelpTool\"},{\"attributes\":{},\"id\":\"2113\",\"type\":\"DataRange1d\"},{\"attributes\":{\"axis\":{\"id\":\"2311\"},\"ticker\":null},\"id\":\"2314\",\"type\":\"Grid\"},{\"attributes\":{\"source\":{\"id\":\"1193\"}},\"id\":\"1197\",\"type\":\"CDSView\"},{\"attributes\":{\"overlay\":{\"id\":\"1451\"}},\"id\":\"1447\",\"type\":\"BoxZoomTool\"},{\"attributes\":{},\"id\":\"1906\",\"type\":\"HelpTool\"},{\"attributes\":{\"active_drag\":\"auto\",\"active_inspect\":\"auto\",\"active_multi\":null,\"active_scroll\":\"auto\",\"active_tap\":\"auto\",\"tools\":[{\"id\":\"2205\"},{\"id\":\"2206\"},{\"id\":\"2207\"},{\"id\":\"2208\"},{\"id\":\"2209\"},{\"id\":\"2210\"}]},\"id\":\"2212\",\"type\":\"Toolbar\"},{\"attributes\":{\"axis_label\":\"Steady state N\",\"formatter\":{\"id\":\"2601\"},\"ticker\":{\"id\":\"1480\"}},\"id\":\"1479\",\"type\":\"LinearAxis\"},{\"attributes\":{\"axis\":{\"id\":\"2315\"},\"dimension\":1,\"ticker\":null},\"id\":\"2318\",\"type\":\"Grid\"},{\"attributes\":{},\"id\":\"2092\",\"type\":\"WheelZoomTool\"},{\"attributes\":{},\"id\":\"2119\",\"type\":\"LinearScale\"},{\"attributes\":{\"text\":\"Kd_c: 8.02; Kd_t: 8.02\"},\"id\":\"2225\",\"type\":\"Title\"},{\"attributes\":{\"axis_label\":\"Steady state N\",\"formatter\":{\"id\":\"2799\"},\"ticker\":{\"id\":\"2316\"}},\"id\":\"2315\",\"type\":\"LinearAxis\"},{\"attributes\":{},\"id\":\"1448\",\"type\":\"SaveTool\"},{\"attributes\":{},\"id\":\"1944\",\"type\":\"HelpTool\"},{\"attributes\":{},\"id\":\"2117\",\"type\":\"LogScale\"},{\"attributes\":{\"line_alpha\":0.1,\"line_color\":\"#1f77b4\",\"x\":{\"field\":\"x\"},\"y\":{\"field\":\"y\"}},\"id\":\"1423\",\"type\":\"Line\"},{\"attributes\":{},\"id\":\"1410\",\"type\":\"SaveTool\"},{\"attributes\":{\"overlay\":{\"id\":\"1945\"}},\"id\":\"1941\",\"type\":\"BoxZoomTool\"},{\"attributes\":{\"overlay\":{\"id\":\"2097\"}},\"id\":\"2093\",\"type\":\"BoxZoomTool\"},{\"attributes\":{\"end\":0.25},\"id\":\"2115\",\"type\":\"Range1d\"},{\"attributes\":{},\"id\":\"1449\",\"type\":\"ResetTool\"},{\"attributes\":{\"text\":\"Kd_c: 2.08; Kd_t: 2.08\"},\"id\":\"1427\",\"type\":\"Title\"},{\"attributes\":{\"data\":{\"x\":{\"__ndarray__\":\"/Knx0k1iUD97FK5H4XqEP5qZmZmZmbk/AAAAAAAA8D8AAAAAAAAkQAAAAAAAAFlA\",\"dtype\":\"float64\",\"shape\":[6]},\"y\":{\"__ndarray__\":\"PCvepEjlYj8c5SMMyQRmPyNm2ebYlXc//OI2LWn1QD+eN7WtoE4OP5vPA+Ps/uM+\",\"dtype\":\"float64\",\"shape\":[6]}},\"selected\":{\"id\":\"2805\"},\"selection_policy\":{\"id\":\"2804\"}},\"id\":\"2333\",\"type\":\"ColumnDataSource\"},{\"attributes\":{\"below\":[{\"id\":\"2273\"}],\"center\":[{\"id\":\"2276\"},{\"id\":\"2280\"}],\"frame_height\":100,\"frame_width\":200,\"left\":[{\"id\":\"2277\"}],\"renderers\":[{\"id\":\"2298\"}],\"title\":{\"id\":\"2263\"},\"toolbar\":{\"id\":\"2288\"},\"toolbar_location\":null,\"x_range\":{\"id\":\"2265\"},\"x_scale\":{\"id\":\"2269\"},\"y_range\":{\"id\":\"2267\"},\"y_scale\":{\"id\":\"2271\"}},\"id\":\"2262\",\"subtype\":\"Figure\",\"type\":\"Plot\"},{\"attributes\":{},\"id\":\"1940\",\"type\":\"WheelZoomTool\"},{\"attributes\":{\"source\":{\"id\":\"2333\"}},\"id\":\"2337\",\"type\":\"CDSView\"},{\"attributes\":{\"below\":[{\"id\":\"2235\"}],\"center\":[{\"id\":\"2238\"},{\"id\":\"2242\"}],\"frame_height\":100,\"frame_width\":200,\"left\":[{\"id\":\"2239\"}],\"renderers\":[{\"id\":\"2260\"}],\"title\":{\"id\":\"2225\"},\"toolbar\":{\"id\":\"2250\"},\"toolbar_location\":null,\"x_range\":{\"id\":\"2227\"},\"x_scale\":{\"id\":\"2231\"},\"y_range\":{\"id\":\"2229\"},\"y_scale\":{\"id\":\"2233\"}},\"id\":\"2224\",\"subtype\":\"Figure\",\"type\":\"Plot\"},{\"attributes\":{\"active_drag\":\"auto\",\"active_inspect\":\"auto\",\"active_multi\":null,\"active_scroll\":\"auto\",\"active_tap\":\"auto\",\"tools\":[{\"id\":\"1939\"},{\"id\":\"1940\"},{\"id\":\"1941\"},{\"id\":\"1942\"},{\"id\":\"1943\"},{\"id\":\"1944\"}]},\"id\":\"1946\",\"type\":\"Toolbar\"},{\"attributes\":{\"data_source\":{\"id\":\"2105\"},\"glyph\":{\"id\":\"2106\"},\"hover_glyph\":null,\"muted_glyph\":null,\"nonselection_glyph\":{\"id\":\"2107\"},\"selection_glyph\":null,\"view\":{\"id\":\"2109\"}},\"id\":\"2108\",\"type\":\"GlyphRenderer\"},{\"attributes\":{},\"id\":\"1942\",\"type\":\"SaveTool\"},{\"attributes\":{},\"id\":\"2227\",\"type\":\"DataRange1d\"},{\"attributes\":{},\"id\":\"1450\",\"type\":\"HelpTool\"},{\"attributes\":{},\"id\":\"1943\",\"type\":\"ResetTool\"},{\"attributes\":{},\"id\":\"2091\",\"type\":\"PanTool\"},{\"attributes\":{\"data_source\":{\"id\":\"2333\"},\"glyph\":{\"id\":\"2334\"},\"hover_glyph\":null,\"muted_glyph\":null,\"nonselection_glyph\":{\"id\":\"2335\"},\"selection_glyph\":null,\"view\":{\"id\":\"2337\"}},\"id\":\"2336\",\"type\":\"GlyphRenderer\"},{\"attributes\":{},\"id\":\"1473\",\"type\":\"LinearScale\"},{\"attributes\":{\"axis_label\":\"\\u237aL\",\"formatter\":{\"id\":\"2756\"},\"ticker\":{\"id\":\"2122\"}},\"id\":\"2121\",\"type\":\"LogAxis\"},{\"attributes\":{\"source\":{\"id\":\"2105\"}},\"id\":\"2109\",\"type\":\"CDSView\"},{\"attributes\":{\"line_color\":\"#1f77b4\",\"x\":{\"field\":\"x\"},\"y\":{\"field\":\"y\"}},\"id\":\"2334\",\"type\":\"Line\"},{\"attributes\":{},\"id\":\"2233\",\"type\":\"LinearScale\"},{\"attributes\":{\"data\":{\"x\":{\"__ndarray__\":\"/Knx0k1iUD97FK5H4XqEP5qZmZmZmbk/AAAAAAAA8D8AAAAAAAAkQAAAAAAAAFlA\",\"dtype\":\"float64\",\"shape\":[6]},\"y\":{\"__ndarray__\":\"MhmCm1L8Yj+o2Jr80uZmP0bj84GnNHs/76NXSyFnQT9cABsCrgYPP4sEDwptMuY+\",\"dtype\":\"float64\",\"shape\":[6]}},\"selected\":{\"id\":\"2751\"},\"selection_policy\":{\"id\":\"2750\"}},\"id\":\"2105\",\"type\":\"ColumnDataSource\"},{\"attributes\":{},\"id\":\"2126\",\"type\":\"BasicTicker\"},{\"attributes\":{},\"id\":\"1486\",\"type\":\"SaveTool\"},{\"attributes\":{},\"id\":\"2319\",\"type\":\"PanTool\"},{\"attributes\":{},\"id\":\"2231\",\"type\":\"LogScale\"},{\"attributes\":{\"num_minor_ticks\":10},\"id\":\"2122\",\"type\":\"LogTicker\"},{\"attributes\":{\"end\":0.25},\"id\":\"1431\",\"type\":\"Range1d\"},{\"attributes\":{\"end\":0.25},\"id\":\"2229\",\"type\":\"Range1d\"},{\"attributes\":{\"line_alpha\":0.1,\"line_color\":\"#1f77b4\",\"x\":{\"field\":\"x\"},\"y\":{\"field\":\"y\"}},\"id\":\"2107\",\"type\":\"Line\"},{\"attributes\":{},\"id\":\"2320\",\"type\":\"WheelZoomTool\"},{\"attributes\":{\"axis\":{\"id\":\"2121\"},\"ticker\":null},\"id\":\"2124\",\"type\":\"Grid\"},{\"attributes\":{},\"id\":\"1939\",\"type\":\"PanTool\"},{\"attributes\":{\"overlay\":{\"id\":\"2325\"}},\"id\":\"2321\",\"type\":\"BoxZoomTool\"},{\"attributes\":{\"axis\":{\"id\":\"1403\"},\"dimension\":1,\"ticker\":null},\"id\":\"1406\",\"type\":\"Grid\"},{\"attributes\":{\"axis\":{\"id\":\"2125\"},\"dimension\":1,\"ticker\":null},\"id\":\"2128\",\"type\":\"Grid\"},{\"attributes\":{\"overlay\":{\"id\":\"1489\"}},\"id\":\"1485\",\"type\":\"BoxZoomTool\"},{\"attributes\":{\"axis\":{\"id\":\"2087\"},\"dimension\":1,\"ticker\":null},\"id\":\"2090\",\"type\":\"Grid\"},{\"attributes\":{\"axis_label\":\"Steady state N\",\"formatter\":{\"id\":\"2754\"},\"ticker\":{\"id\":\"2126\"}},\"id\":\"2125\",\"type\":\"LinearAxis\"},{\"attributes\":{\"bottom_units\":\"screen\",\"fill_alpha\":0.5,\"fill_color\":\"lightgrey\",\"left_units\":\"screen\",\"level\":\"overlay\",\"line_alpha\":1.0,\"line_color\":\"black\",\"line_dash\":[4,4],\"line_width\":2,\"render_mode\":\"css\",\"right_units\":\"screen\",\"top_units\":\"screen\"},\"id\":\"1907\",\"type\":\"BoxAnnotation\"},{\"attributes\":{},\"id\":\"1411\",\"type\":\"ResetTool\"},{\"attributes\":{},\"id\":\"1483\",\"type\":\"PanTool\"},{\"attributes\":{},\"id\":\"2322\",\"type\":\"SaveTool\"},{\"attributes\":{\"source\":{\"id\":\"1421\"}},\"id\":\"1425\",\"type\":\"CDSView\"},{\"attributes\":{\"below\":[{\"id\":\"1437\"}],\"center\":[{\"id\":\"1440\"},{\"id\":\"1444\"}],\"frame_height\":100,\"frame_width\":200,\"left\":[{\"id\":\"1441\"}],\"renderers\":[{\"id\":\"1462\"}],\"title\":{\"id\":\"1427\"},\"toolbar\":{\"id\":\"1452\"},\"toolbar_location\":null,\"x_range\":{\"id\":\"1429\"},\"x_scale\":{\"id\":\"1433\"},\"y_range\":{\"id\":\"1431\"},\"y_scale\":{\"id\":\"1435\"}},\"id\":\"1426\",\"subtype\":\"Figure\",\"type\":\"Plot\"},{\"attributes\":{\"data_source\":{\"id\":\"2067\"},\"glyph\":{\"id\":\"2068\"},\"hover_glyph\":null,\"muted_glyph\":null,\"nonselection_glyph\":{\"id\":\"2069\"},\"selection_glyph\":null,\"view\":{\"id\":\"2071\"}},\"id\":\"2070\",\"type\":\"GlyphRenderer\"},{\"attributes\":{\"axis_label\":\"\\u237aL\",\"formatter\":{\"id\":\"2783\"},\"ticker\":{\"id\":\"2236\"}},\"id\":\"2235\",\"type\":\"LogAxis\"},{\"attributes\":{\"data\":{\"x\":{\"__ndarray__\":\"/Knx0k1iUD97FK5H4XqEP5qZmZmZmbk/AAAAAAAA8D8AAAAAAAAkQAAAAAAAAFlA\",\"dtype\":\"float64\",\"shape\":[6]},\"y\":{\"__ndarray__\":\"Z0uR6PfrYj+LSm7Qc1RmPzF2V7Rolns/GuMa3BVGoj9vk8ijhFR8P55V7BYWFjM/\",\"dtype\":\"float64\",\"shape\":[6]}},\"selected\":{\"id\":\"2760\"},\"selection_policy\":{\"id\":\"2759\"}},\"id\":\"2143\",\"type\":\"ColumnDataSource\"},{\"attributes\":{},\"id\":\"1484\",\"type\":\"WheelZoomTool\"},{\"attributes\":{},\"id\":\"2323\",\"type\":\"ResetTool\"},{\"attributes\":{},\"id\":\"2240\",\"type\":\"BasicTicker\"},{\"attributes\":{\"line_color\":\"#1f77b4\",\"x\":{\"field\":\"x\"},\"y\":{\"field\":\"y\"}},\"id\":\"1460\",\"type\":\"Line\"},{\"attributes\":{\"data\":{\"x\":{\"__ndarray__\":\"/Knx0k1iUD97FK5H4XqEP5qZmZmZmbk/AAAAAAAA8D8AAAAAAAAkQAAAAAAAAFlA\",\"dtype\":\"float64\",\"shape\":[6]},\"y\":{\"__ndarray__\":\"RtzIL3YJYz/JnuyfS3pnPzhYX/aqj4A/YrWI9ZNppz82VQn7nY6/P7N7w5a0R1A/\",\"dtype\":\"float64\",\"shape\":[6]}},\"selected\":{\"id\":\"2715\"},\"selection_policy\":{\"id\":\"2714\"}},\"id\":\"1953\",\"type\":\"ColumnDataSource\"},{\"attributes\":{\"source\":{\"id\":\"2143\"}},\"id\":\"2147\",\"type\":\"CDSView\"},{\"attributes\":{\"num_minor_ticks\":10},\"id\":\"2236\",\"type\":\"LogTicker\"},{\"attributes\":{\"below\":[{\"id\":\"2349\"}],\"center\":[{\"id\":\"2352\"},{\"id\":\"2356\"}],\"frame_height\":100,\"frame_width\":200,\"left\":[{\"id\":\"2353\"}],\"renderers\":[{\"id\":\"2374\"}],\"title\":{\"id\":\"2339\"},\"toolbar\":{\"id\":\"2364\"},\"toolbar_location\":null,\"x_range\":{\"id\":\"2341\"},\"x_scale\":{\"id\":\"2345\"},\"y_range\":{\"id\":\"2343\"},\"y_scale\":{\"id\":\"2347\"}},\"id\":\"2338\",\"subtype\":\"Figure\",\"type\":\"Plot\"},{\"attributes\":{\"data_source\":{\"id\":\"1953\"},\"glyph\":{\"id\":\"1954\"},\"hover_glyph\":null,\"muted_glyph\":null,\"nonselection_glyph\":{\"id\":\"1955\"},\"selection_glyph\":null,\"view\":{\"id\":\"1957\"}},\"id\":\"1956\",\"type\":\"GlyphRenderer\"},{\"attributes\":{\"data\":{\"x\":{\"__ndarray__\":\"/Knx0k1iUD97FK5H4XqEP5qZmZmZmbk/AAAAAAAA8D8AAAAAAAAkQAAAAAAAAFlA\",\"dtype\":\"float64\",\"shape\":[6]},\"y\":{\"__ndarray__\":\"aX27BOPbYz+5MdxqkJ1vP38mbi5ogZE/3LCv7r9Vtj8aS/wADBfEP0qC0xX6wcU/\",\"dtype\":\"float64\",\"shape\":[6]}},\"selected\":{\"id\":\"2607\"},\"selection_policy\":{\"id\":\"2606\"}},\"id\":\"1497\",\"type\":\"ColumnDataSource\"},{\"attributes\":{},\"id\":\"2016\",\"type\":\"WheelZoomTool\"},{\"attributes\":{},\"id\":\"2324\",\"type\":\"HelpTool\"},{\"attributes\":{},\"id\":\"1429\",\"type\":\"DataRange1d\"},{\"attributes\":{\"axis\":{\"id\":\"2235\"},\"ticker\":null},\"id\":\"2238\",\"type\":\"Grid\"},{\"attributes\":{\"data_source\":{\"id\":\"2143\"},\"glyph\":{\"id\":\"2144\"},\"hover_glyph\":null,\"muted_glyph\":null,\"nonselection_glyph\":{\"id\":\"2145\"},\"selection_glyph\":null,\"view\":{\"id\":\"2147\"}},\"id\":\"2146\",\"type\":\"GlyphRenderer\"},{\"attributes\":{\"source\":{\"id\":\"1497\"}},\"id\":\"1501\",\"type\":\"CDSView\"},{\"attributes\":{\"source\":{\"id\":\"1953\"}},\"id\":\"1957\",\"type\":\"CDSView\"},{\"attributes\":{\"active_drag\":\"auto\",\"active_inspect\":\"auto\",\"active_multi\":null,\"active_scroll\":\"auto\",\"active_tap\":\"auto\",\"tools\":[{\"id\":\"2319\"},{\"id\":\"2320\"},{\"id\":\"2321\"},{\"id\":\"2322\"},{\"id\":\"2323\"},{\"id\":\"2324\"}]},\"id\":\"2326\",\"type\":\"Toolbar\"},{\"attributes\":{\"data_source\":{\"id\":\"2029\"},\"glyph\":{\"id\":\"2030\"},\"hover_glyph\":null,\"muted_glyph\":null,\"nonselection_glyph\":{\"id\":\"2031\"},\"selection_glyph\":null,\"view\":{\"id\":\"2033\"}},\"id\":\"2032\",\"type\":\"GlyphRenderer\"},{\"attributes\":{\"axis\":{\"id\":\"2239\"},\"dimension\":1,\"ticker\":null},\"id\":\"2242\",\"type\":\"Grid\"},{\"attributes\":{\"bottom_units\":\"screen\",\"fill_alpha\":0.5,\"fill_color\":\"lightgrey\",\"left_units\":\"screen\",\"level\":\"overlay\",\"line_alpha\":1.0,\"line_color\":\"black\",\"line_dash\":[4,4],\"line_width\":2,\"render_mode\":\"css\",\"right_units\":\"screen\",\"top_units\":\"screen\"},\"id\":\"1451\",\"type\":\"BoxAnnotation\"},{\"attributes\":{\"overlay\":{\"id\":\"2021\"}},\"id\":\"2017\",\"type\":\"BoxZoomTool\"},{\"attributes\":{\"axis_label\":\"\\u237aL\",\"formatter\":{\"id\":\"2594\"},\"ticker\":{\"id\":\"1438\"}},\"id\":\"1437\",\"type\":\"LogAxis\"},{\"attributes\":{},\"id\":\"2075\",\"type\":\"DataRange1d\"},{\"attributes\":{\"axis_label\":\"Steady state N\",\"formatter\":{\"id\":\"2781\"},\"ticker\":{\"id\":\"2240\"}},\"id\":\"2239\",\"type\":\"LinearAxis\"},{\"attributes\":{},\"id\":\"2129\",\"type\":\"PanTool\"},{\"attributes\":{\"end\":0.25},\"id\":\"2343\",\"type\":\"Range1d\"},{\"attributes\":{},\"id\":\"1404\",\"type\":\"BasicTicker\"},{\"attributes\":{\"line_alpha\":0.1,\"line_color\":\"#1f77b4\",\"x\":{\"field\":\"x\"},\"y\":{\"field\":\"y\"}},\"id\":\"1499\",\"type\":\"Line\"},{\"attributes\":{\"axis_label\":\"Steady state N\",\"formatter\":{\"id\":\"2583\"},\"ticker\":{\"id\":\"1404\"}},\"id\":\"1403\",\"type\":\"LinearAxis\"},{\"attributes\":{\"data\":{\"x\":{\"__ndarray__\":\"/Knx0k1iUD97FK5H4XqEP5qZmZmZmbk/AAAAAAAA8D8AAAAAAAAkQAAAAAAAAFlA\",\"dtype\":\"float64\",\"shape\":[6]},\"y\":{\"__ndarray__\":\"y8+RMOHqYj/xA1gUdUpmP+6vPQmijns/+tstW919oz+xMBtTdwi/P0CcZl4Gtms/\",\"dtype\":\"float64\",\"shape\":[6]}},\"selected\":{\"id\":\"2787\"},\"selection_policy\":{\"id\":\"2786\"}},\"id\":\"2257\",\"type\":\"ColumnDataSource\"},{\"attributes\":{},\"id\":\"2130\",\"type\":\"WheelZoomTool\"},{\"attributes\":{\"axis_label\":\"Steady state N\",\"formatter\":{\"id\":\"2592\"},\"ticker\":{\"id\":\"1442\"}},\"id\":\"1441\",\"type\":\"LinearAxis\"},{\"attributes\":{},\"id\":\"2081\",\"type\":\"LinearScale\"},{\"attributes\":{\"axis\":{\"id\":\"1399\"},\"ticker\":null},\"id\":\"1402\",\"type\":\"Grid\"},{\"attributes\":{\"axis\":{\"id\":\"1441\"},\"dimension\":1,\"ticker\":null},\"id\":\"1444\",\"type\":\"Grid\"},{\"attributes\":{},\"id\":\"2079\",\"type\":\"LogScale\"},{\"attributes\":{\"line_alpha\":0.1,\"line_color\":\"#1f77b4\",\"x\":{\"field\":\"x\"},\"y\":{\"field\":\"y\"}},\"id\":\"2031\",\"type\":\"Line\"},{\"attributes\":{},\"id\":\"2015\",\"type\":\"PanTool\"},{\"attributes\":{\"overlay\":{\"id\":\"2135\"}},\"id\":\"2131\",\"type\":\"BoxZoomTool\"},{\"attributes\":{\"end\":0.25},\"id\":\"2077\",\"type\":\"Range1d\"},{\"attributes\":{},\"id\":\"2341\",\"type\":\"DataRange1d\"},{\"attributes\":{},\"id\":\"2345\",\"type\":\"LogScale\"},{\"attributes\":{\"data\":{\"x\":{\"__ndarray__\":\"/Knx0k1iUD97FK5H4XqEP5qZmZmZmbk/AAAAAAAA8D8AAAAAAAAkQAAAAAAAAFlA\",\"dtype\":\"float64\",\"shape\":[6]},\"y\":{\"__ndarray__\":\"TkSoyPkhZD/y7WGqGw5xP6qYrBl07JE/7/ObsEnQRz8T+A658LIUP9bZBRfb/Po+\",\"dtype\":\"float64\",\"shape\":[6]}},\"selected\":{\"id\":\"2589\"},\"selection_policy\":{\"id\":\"2588\"}},\"id\":\"1421\",\"type\":\"ColumnDataSource\"},{\"attributes\":{\"data\":{\"x\":{\"__ndarray__\":\"/Knx0k1iUD97FK5H4XqEP5qZmZmZmbk/AAAAAAAA8D8AAAAAAAAkQAAAAAAAAFlA\",\"dtype\":\"float64\",\"shape\":[6]},\"y\":{\"__ndarray__\":\"+8dFSM3qYj8wTLbxvUlmP5pCqV4Djns/7NMCHCeUoz9NqvbIw5S/P6XyVdnng8Q/\",\"dtype\":\"float64\",\"shape\":[6]}},\"selected\":{\"id\":\"2796\"},\"selection_policy\":{\"id\":\"2795\"}},\"id\":\"2295\",\"type\":\"ColumnDataSource\"},{\"attributes\":{\"overlay\":{\"id\":\"1413\"}},\"id\":\"1409\",\"type\":\"BoxZoomTool\"},{\"attributes\":{},\"id\":\"2132\",\"type\":\"SaveTool\"},{\"attributes\":{\"active_drag\":\"auto\",\"active_inspect\":\"auto\",\"active_multi\":null,\"active_scroll\":\"auto\",\"active_tap\":\"auto\",\"tools\":[{\"id\":\"2243\"},{\"id\":\"2244\"},{\"id\":\"2245\"},{\"id\":\"2246\"},{\"id\":\"2247\"},{\"id\":\"2248\"}]},\"id\":\"2250\",\"type\":\"Toolbar\"},{\"attributes\":{},\"id\":\"2347\",\"type\":\"LinearScale\"},{\"attributes\":{},\"id\":\"1407\",\"type\":\"PanTool\"},{\"attributes\":{\"line_color\":\"#1f77b4\",\"x\":{\"field\":\"x\"},\"y\":{\"field\":\"y\"}},\"id\":\"2030\",\"type\":\"Line\"},{\"attributes\":{\"line_color\":\"#1f77b4\",\"x\":{\"field\":\"x\"},\"y\":{\"field\":\"y\"}},\"id\":\"2258\",\"type\":\"Line\"},{\"attributes\":{\"line_alpha\":0.1,\"line_color\":\"#1f77b4\",\"x\":{\"field\":\"x\"},\"y\":{\"field\":\"y\"}},\"id\":\"2335\",\"type\":\"Line\"},{\"attributes\":{},\"id\":\"1408\",\"type\":\"WheelZoomTool\"},{\"attributes\":{},\"id\":\"2133\",\"type\":\"ResetTool\"},{\"attributes\":{\"text\":\"Kd_c: 10.0; Kd_t: 8.02\"},\"id\":\"2263\",\"type\":\"Title\"},{\"attributes\":{},\"id\":\"2243\",\"type\":\"PanTool\"},{\"attributes\":{\"active_drag\":\"auto\",\"active_inspect\":\"auto\",\"active_multi\":null,\"active_scroll\":\"auto\",\"active_tap\":\"auto\",\"tools\":[{\"id\":\"1407\"},{\"id\":\"1408\"},{\"id\":\"1409\"},{\"id\":\"1410\"},{\"id\":\"1411\"},{\"id\":\"1412\"}]},\"id\":\"1414\",\"type\":\"Toolbar\"},{\"attributes\":{},\"id\":\"1435\",\"type\":\"LinearScale\"},{\"attributes\":{\"axis_label\":\"Steady state N\",\"formatter\":{\"id\":\"2745\"},\"ticker\":{\"id\":\"2088\"}},\"id\":\"2087\",\"type\":\"LinearAxis\"},{\"attributes\":{\"axis\":{\"id\":\"2011\"},\"dimension\":1,\"ticker\":null},\"id\":\"2014\",\"type\":\"Grid\"},{\"attributes\":{\"axis_label\":\"\\u237aL\",\"formatter\":{\"id\":\"2747\"},\"ticker\":{\"id\":\"2084\"}},\"id\":\"2083\",\"type\":\"LogAxis\"},{\"attributes\":{\"data\":{\"x\":{\"__ndarray__\":\"/Knx0k1iUD97FK5H4XqEP5qZmZmZmbk/AAAAAAAA8D8AAAAAAAAkQAAAAAAAAFlA\",\"dtype\":\"float64\",\"shape\":[6]},\"y\":{\"__ndarray__\":\"RKg7uuwIYz/FZGxeVXVnP78/rGjLjIA/0IahdVvlpz+uipiRmuzAPyrlkbU3zcQ/\",\"dtype\":\"float64\",\"shape\":[6]}},\"selected\":{\"id\":\"2733\"},\"selection_policy\":{\"id\":\"2732\"}},\"id\":\"2029\",\"type\":\"ColumnDataSource\"},{\"attributes\":{\"line_alpha\":0.1,\"line_color\":\"#1f77b4\",\"x\":{\"field\":\"x\"},\"y\":{\"field\":\"y\"}},\"id\":\"2145\",\"type\":\"Line\"},{\"attributes\":{},\"id\":\"2134\",\"type\":\"HelpTool\"},{\"attributes\":{},\"id\":\"2244\",\"type\":\"WheelZoomTool\"},{\"attributes\":{},\"id\":\"1433\",\"type\":\"LogScale\"},{\"attributes\":{\"bottom_units\":\"screen\",\"fill_alpha\":0.5,\"fill_color\":\"lightgrey\",\"left_units\":\"screen\",\"level\":\"overlay\",\"line_alpha\":1.0,\"line_color\":\"black\",\"line_dash\":[4,4],\"line_width\":2,\"render_mode\":\"css\",\"right_units\":\"screen\",\"top_units\":\"screen\"},\"id\":\"1945\",\"type\":\"BoxAnnotation\"},{\"attributes\":{\"overlay\":{\"id\":\"2249\"}},\"id\":\"2245\",\"type\":\"BoxZoomTool\"},{\"attributes\":{},\"id\":\"1442\",\"type\":\"BasicTicker\"},{\"attributes\":{\"num_minor_ticks\":10},\"id\":\"2084\",\"type\":\"LogTicker\"},{\"attributes\":{\"active_drag\":\"auto\",\"active_inspect\":\"auto\",\"active_multi\":null,\"active_scroll\":\"auto\",\"active_tap\":\"auto\",\"tools\":[{\"id\":\"2129\"},{\"id\":\"2130\"},{\"id\":\"2131\"},{\"id\":\"2132\"},{\"id\":\"2133\"},{\"id\":\"2134\"}]},\"id\":\"2136\",\"type\":\"Toolbar\"},{\"attributes\":{\"axis\":{\"id\":\"2083\"},\"ticker\":null},\"id\":\"2086\",\"type\":\"Grid\"},{\"attributes\":{\"bottom_units\":\"screen\",\"fill_alpha\":0.5,\"fill_color\":\"lightgrey\",\"left_units\":\"screen\",\"level\":\"overlay\",\"line_alpha\":1.0,\"line_color\":\"black\",\"line_dash\":[4,4],\"line_width\":2,\"render_mode\":\"css\",\"right_units\":\"screen\",\"top_units\":\"screen\"},\"id\":\"2325\",\"type\":\"BoxAnnotation\"},{\"attributes\":{\"num_minor_ticks\":10},\"id\":\"1438\",\"type\":\"LogTicker\"},{\"attributes\":{\"num_minor_ticks\":10},\"id\":\"2312\",\"type\":\"LogTicker\"},{\"attributes\":{\"below\":[{\"id\":\"1817\"}],\"center\":[{\"id\":\"1820\"},{\"id\":\"1824\"}],\"frame_height\":100,\"frame_width\":200,\"left\":[{\"id\":\"1821\"}],\"renderers\":[{\"id\":\"1842\"}],\"title\":{\"id\":\"1807\"},\"toolbar\":{\"id\":\"1832\"},\"toolbar_location\":null,\"x_range\":{\"id\":\"1809\"},\"x_scale\":{\"id\":\"1813\"},\"y_range\":{\"id\":\"1811\"},\"y_scale\":{\"id\":\"1815\"}},\"id\":\"1806\",\"subtype\":\"Figure\",\"type\":\"Plot\"},{\"attributes\":{\"overlay\":{\"id\":\"1299\"}},\"id\":\"1295\",\"type\":\"BoxZoomTool\"},{\"attributes\":{},\"id\":\"2020\",\"type\":\"HelpTool\"},{\"attributes\":{},\"id\":\"2246\",\"type\":\"SaveTool\"},{\"attributes\":{\"data_source\":{\"id\":\"2219\"},\"glyph\":{\"id\":\"2220\"},\"hover_glyph\":null,\"muted_glyph\":null,\"nonselection_glyph\":{\"id\":\"2221\"},\"selection_glyph\":null,\"view\":{\"id\":\"2223\"}},\"id\":\"2222\",\"type\":\"GlyphRenderer\"},{\"attributes\":{},\"id\":\"1632\",\"type\":\"BasicTicker\"},{\"attributes\":{\"source\":{\"id\":\"1877\"}},\"id\":\"1881\",\"type\":\"CDSView\"},{\"attributes\":{\"line_color\":\"#1f77b4\",\"x\":{\"field\":\"x\"},\"y\":{\"field\":\"y\"}},\"id\":\"1916\",\"type\":\"Line\"},{\"attributes\":{\"below\":[{\"id\":\"1893\"}],\"center\":[{\"id\":\"1896\"},{\"id\":\"1900\"}],\"frame_height\":100,\"frame_width\":200,\"left\":[{\"id\":\"1897\"}],\"renderers\":[{\"id\":\"1918\"}],\"title\":{\"id\":\"1883\"},\"toolbar\":{\"id\":\"1908\"},\"toolbar_location\":null,\"x_range\":{\"id\":\"1885\"},\"x_scale\":{\"id\":\"1889\"},\"y_range\":{\"id\":\"1887\"},\"y_scale\":{\"id\":\"1891\"}},\"id\":\"1882\",\"subtype\":\"Figure\",\"type\":\"Plot\"},{\"attributes\":{\"below\":[{\"id\":\"2007\"}],\"center\":[{\"id\":\"2010\"},{\"id\":\"2014\"}],\"frame_height\":100,\"frame_width\":200,\"left\":[{\"id\":\"2011\"}],\"renderers\":[{\"id\":\"2032\"}],\"title\":{\"id\":\"1997\"},\"toolbar\":{\"id\":\"2022\"},\"toolbar_location\":null,\"x_range\":{\"id\":\"1999\"},\"x_scale\":{\"id\":\"2003\"},\"y_range\":{\"id\":\"2001\"},\"y_scale\":{\"id\":\"2005\"}},\"id\":\"1996\",\"subtype\":\"Figure\",\"type\":\"Plot\"},{\"attributes\":{},\"id\":\"2247\",\"type\":\"ResetTool\"},{\"attributes\":{},\"id\":\"1294\",\"type\":\"WheelZoomTool\"},{\"attributes\":{\"axis\":{\"id\":\"1627\"},\"ticker\":null},\"id\":\"1630\",\"type\":\"Grid\"},{\"attributes\":{\"children\":[[{\"id\":\"1160\"},0,0],[{\"id\":\"1198\"},0,1],[{\"id\":\"1236\"},0,2],[{\"id\":\"1274\"},0,3],[{\"id\":\"1312\"},0,4],[{\"id\":\"1350\"},0,5],[{\"id\":\"1388\"},1,0],[{\"id\":\"1426\"},1,1],[{\"id\":\"1464\"},1,2],[{\"id\":\"1502\"},1,3],[{\"id\":\"1540\"},1,4],[{\"id\":\"1578\"},1,5],[{\"id\":\"1616\"},2,0],[{\"id\":\"1654\"},2,1],[{\"id\":\"1692\"},2,2],[{\"id\":\"1730\"},2,3],[{\"id\":\"1768\"},2,4],[{\"id\":\"1806\"},2,5],[{\"id\":\"1844\"},3,0],[{\"id\":\"1882\"},3,1],[{\"id\":\"1920\"},3,2],[{\"id\":\"1958\"},3,3],[{\"id\":\"1996\"},3,4],[{\"id\":\"2034\"},3,5],[{\"id\":\"2072\"},4,0],[{\"id\":\"2110\"},4,1],[{\"id\":\"2148\"},4,2],[{\"id\":\"2186\"},4,3],[{\"id\":\"2224\"},4,4],[{\"id\":\"2262\"},4,5],[{\"id\":\"2300\"},5,0],[{\"id\":\"2338\"},5,1],[{\"id\":\"2376\"},5,2],[{\"id\":\"2414\"},5,3],[{\"id\":\"2452\"},5,4],[{\"id\":\"2490\"},5,5]]},\"id\":\"2852\",\"type\":\"GridBox\"},{\"attributes\":{\"active_drag\":\"auto\",\"active_inspect\":\"auto\",\"active_multi\":null,\"active_scroll\":\"auto\",\"active_tap\":\"auto\",\"tools\":[{\"id\":\"1863\"},{\"id\":\"1864\"},{\"id\":\"1865\"},{\"id\":\"1866\"},{\"id\":\"1867\"},{\"id\":\"1868\"}]},\"id\":\"1870\",\"type\":\"Toolbar\"},{\"attributes\":{\"text\":\"Kd_c: 10.0; Kd_t: 4.06\"},\"id\":\"1807\",\"type\":\"Title\"},{\"attributes\":{},\"id\":\"1293\",\"type\":\"PanTool\"},{\"attributes\":{},\"id\":\"2248\",\"type\":\"HelpTool\"},{\"attributes\":{\"axis\":{\"id\":\"1631\"},\"dimension\":1,\"ticker\":null},\"id\":\"1634\",\"type\":\"Grid\"},{\"attributes\":{\"data\":{\"x\":{\"__ndarray__\":\"/Knx0k1iUD97FK5H4XqEP5qZmZmZmbk/AAAAAAAA8D8AAAAAAAAkQAAAAAAAAFlA\",\"dtype\":\"float64\",\"shape\":[6]},\"y\":{\"__ndarray__\":\"5JVM/J4hYz9NfsE8cFRoP/MecgK0goA/0KysuWwjQj8b9UEMtRsQP17ombaL1+k+\",\"dtype\":\"float64\",\"shape\":[6]}},\"selected\":{\"id\":\"2697\"},\"selection_policy\":{\"id\":\"2696\"}},\"id\":\"1877\",\"type\":\"ColumnDataSource\"},{\"attributes\":{\"axis_label\":\"Steady state N\",\"formatter\":{\"id\":\"2637\"},\"ticker\":{\"id\":\"1632\"}},\"id\":\"1631\",\"type\":\"LinearAxis\"},{\"attributes\":{},\"id\":\"1809\",\"type\":\"DataRange1d\"},{\"attributes\":{\"text\":\"Kd_c: 8.02; Kd_t: 6.04\"},\"id\":\"1997\",\"type\":\"Title\"},{\"attributes\":{},\"id\":\"1863\",\"type\":\"PanTool\"},{\"attributes\":{\"text\":\"Kd_c: 10.0; Kd_t: 6.04\"},\"id\":\"2035\",\"type\":\"Title\"},{\"attributes\":{\"line_alpha\":0.1,\"line_color\":\"#1f77b4\",\"x\":{\"field\":\"x\"},\"y\":{\"field\":\"y\"}},\"id\":\"2297\",\"type\":\"Line\"},{\"attributes\":{},\"id\":\"1296\",\"type\":\"SaveTool\"},{\"attributes\":{},\"id\":\"1999\",\"type\":\"DataRange1d\"},{\"attributes\":{},\"id\":\"1670\",\"type\":\"BasicTicker\"},{\"attributes\":{},\"id\":\"1864\",\"type\":\"WheelZoomTool\"},{\"attributes\":{},\"id\":\"1815\",\"type\":\"LinearScale\"},{\"attributes\":{\"data_source\":{\"id\":\"1307\"},\"glyph\":{\"id\":\"1308\"},\"hover_glyph\":null,\"muted_glyph\":null,\"nonselection_glyph\":{\"id\":\"1309\"},\"selection_glyph\":null,\"view\":{\"id\":\"1311\"}},\"id\":\"1310\",\"type\":\"GlyphRenderer\"},{\"attributes\":{\"axis_label\":\"Steady state N\",\"formatter\":{\"id\":\"2646\"},\"ticker\":{\"id\":\"1670\"}},\"id\":\"1669\",\"type\":\"LinearAxis\"},{\"attributes\":{},\"id\":\"1813\",\"type\":\"LogScale\"},{\"attributes\":{},\"id\":\"2736\",\"type\":\"BasicTickFormatter\"},{\"attributes\":{\"overlay\":{\"id\":\"1869\"}},\"id\":\"1865\",\"type\":\"BoxZoomTool\"},{\"attributes\":{\"end\":0.25},\"id\":\"1811\",\"type\":\"Range1d\"},{\"attributes\":{},\"id\":\"2727\",\"type\":\"BasicTickFormatter\"},{\"attributes\":{},\"id\":\"2579\",\"type\":\"UnionRenderers\"},{\"attributes\":{\"axis\":{\"id\":\"1669\"},\"dimension\":1,\"ticker\":null},\"id\":\"1672\",\"type\":\"Grid\"},{\"attributes\":{},\"id\":\"1866\",\"type\":\"SaveTool\"},{\"attributes\":{\"data_source\":{\"id\":\"1687\"},\"glyph\":{\"id\":\"1688\"},\"hover_glyph\":null,\"muted_glyph\":null,\"nonselection_glyph\":{\"id\":\"1689\"},\"selection_glyph\":null,\"view\":{\"id\":\"1691\"}},\"id\":\"1690\",\"type\":\"GlyphRenderer\"},{\"attributes\":{\"end\":0.25},\"id\":\"2001\",\"type\":\"Range1d\"},{\"attributes\":{\"source\":{\"id\":\"1307\"}},\"id\":\"1311\",\"type\":\"CDSView\"},{\"attributes\":{},\"id\":\"2018\",\"type\":\"SaveTool\"},{\"attributes\":{\"line_alpha\":0.1,\"line_color\":\"#1f77b4\",\"x\":{\"field\":\"x\"},\"y\":{\"field\":\"y\"}},\"id\":\"1309\",\"type\":\"Line\"},{\"attributes\":{},\"id\":\"2741\",\"type\":\"UnionRenderers\"},{\"attributes\":{},\"id\":\"1867\",\"type\":\"ResetTool\"},{\"attributes\":{},\"id\":\"2019\",\"type\":\"ResetTool\"},{\"attributes\":{},\"id\":\"2724\",\"type\":\"Selection\"},{\"attributes\":{},\"id\":\"1222\",\"type\":\"HelpTool\"},{\"attributes\":{},\"id\":\"1635\",\"type\":\"PanTool\"},{\"attributes\":{\"axis_label\":\"\\u237aL\",\"formatter\":{\"id\":\"2684\"},\"ticker\":{\"id\":\"1818\"}},\"id\":\"1817\",\"type\":\"LogAxis\"},{\"attributes\":{\"text\":\"Kd_c: 2.08; Kd_t: 6.04\"},\"id\":\"1883\",\"type\":\"Title\"},{\"attributes\":{\"bottom_units\":\"screen\",\"fill_alpha\":0.5,\"fill_color\":\"lightgrey\",\"left_units\":\"screen\",\"level\":\"overlay\",\"line_alpha\":1.0,\"line_color\":\"black\",\"line_dash\":[4,4],\"line_width\":2,\"render_mode\":\"css\",\"right_units\":\"screen\",\"top_units\":\"screen\"},\"id\":\"1223\",\"type\":\"BoxAnnotation\"},{\"attributes\":{\"ticker\":null},\"id\":\"2531\",\"type\":\"LogTickFormatter\"},{\"attributes\":{},\"id\":\"1636\",\"type\":\"WheelZoomTool\"},{\"attributes\":{},\"id\":\"1868\",\"type\":\"HelpTool\"},{\"attributes\":{},\"id\":\"1822\",\"type\":\"BasicTicker\"},{\"attributes\":{\"source\":{\"id\":\"2029\"}},\"id\":\"2033\",\"type\":\"CDSView\"},{\"attributes\":{\"num_minor_ticks\":10},\"id\":\"1818\",\"type\":\"LogTicker\"},{\"attributes\":{\"line_alpha\":0.1,\"line_color\":\"#1f77b4\",\"x\":{\"field\":\"x\"},\"y\":{\"field\":\"y\"}},\"id\":\"2221\",\"type\":\"Line\"},{\"attributes\":{},\"id\":\"2535\",\"type\":\"Selection\"},{\"attributes\":{},\"id\":\"2732\",\"type\":\"UnionRenderers\"},{\"attributes\":{\"overlay\":{\"id\":\"1641\"}},\"id\":\"1637\",\"type\":\"BoxZoomTool\"},{\"attributes\":{\"bottom_units\":\"screen\",\"fill_alpha\":0.5,\"fill_color\":\"lightgrey\",\"left_units\":\"screen\",\"level\":\"overlay\",\"line_alpha\":1.0,\"line_color\":\"black\",\"line_dash\":[4,4],\"line_width\":2,\"render_mode\":\"css\",\"right_units\":\"screen\",\"top_units\":\"screen\"},\"id\":\"1185\",\"type\":\"BoxAnnotation\"},{\"attributes\":{\"ticker\":null},\"id\":\"2729\",\"type\":\"LogTickFormatter\"},{\"attributes\":{},\"id\":\"2208\",\"type\":\"SaveTool\"},{\"attributes\":{\"axis\":{\"id\":\"1817\"},\"ticker\":null},\"id\":\"1820\",\"type\":\"Grid\"},{\"attributes\":{\"line_color\":\"#1f77b4\",\"x\":{\"field\":\"x\"},\"y\":{\"field\":\"y\"}},\"id\":\"2106\",\"type\":\"Line\"},{\"attributes\":{},\"id\":\"1638\",\"type\":\"SaveTool\"},{\"attributes\":{\"end\":0.25},\"id\":\"2191\",\"type\":\"Range1d\"},{\"attributes\":{\"bottom_units\":\"screen\",\"fill_alpha\":0.5,\"fill_color\":\"lightgrey\",\"left_units\":\"screen\",\"level\":\"overlay\",\"line_alpha\":1.0,\"line_color\":\"black\",\"line_dash\":[4,4],\"line_width\":2,\"render_mode\":\"css\",\"right_units\":\"screen\",\"top_units\":\"screen\"},\"id\":\"2249\",\"type\":\"BoxAnnotation\"},{\"attributes\":{},\"id\":\"2574\",\"type\":\"BasicTickFormatter\"},{\"attributes\":{},\"id\":\"2095\",\"type\":\"ResetTool\"},{\"attributes\":{},\"id\":\"2205\",\"type\":\"PanTool\"},{\"attributes\":{\"axis\":{\"id\":\"1821\"},\"dimension\":1,\"ticker\":null},\"id\":\"1824\",\"type\":\"Grid\"},{\"attributes\":{},\"id\":\"2529\",\"type\":\"BasicTickFormatter\"},{\"attributes\":{},\"id\":\"1639\",\"type\":\"ResetTool\"},{\"attributes\":{},\"id\":\"2206\",\"type\":\"WheelZoomTool\"},{\"attributes\":{\"axis_label\":\"Steady state N\",\"formatter\":{\"id\":\"2682\"},\"ticker\":{\"id\":\"1822\"}},\"id\":\"1821\",\"type\":\"LinearAxis\"},{\"attributes\":{},\"id\":\"2193\",\"type\":\"LogScale\"},{\"attributes\":{\"ticker\":null},\"id\":\"2540\",\"type\":\"LogTickFormatter\"},{\"attributes\":{\"ticker\":null},\"id\":\"2576\",\"type\":\"LogTickFormatter\"},{\"attributes\":{\"text\":\"Kd_c: 4.06; Kd_t: 6.04\"},\"id\":\"1921\",\"type\":\"Title\"},{\"attributes\":{\"line_color\":\"#1f77b4\",\"x\":{\"field\":\"x\"},\"y\":{\"field\":\"y\"}},\"id\":\"1878\",\"type\":\"Line\"},{\"attributes\":{\"source\":{\"id\":\"2295\"}},\"id\":\"2299\",\"type\":\"CDSView\"},{\"attributes\":{},\"id\":\"2580\",\"type\":\"Selection\"},{\"attributes\":{\"below\":[{\"id\":\"1855\"}],\"center\":[{\"id\":\"1858\"},{\"id\":\"1862\"}],\"frame_height\":100,\"frame_width\":200,\"left\":[{\"id\":\"1859\"}],\"renderers\":[{\"id\":\"1880\"}],\"title\":{\"id\":\"1845\"},\"toolbar\":{\"id\":\"1870\"},\"toolbar_location\":null,\"x_range\":{\"id\":\"1847\"},\"x_scale\":{\"id\":\"1851\"},\"y_range\":{\"id\":\"1849\"},\"y_scale\":{\"id\":\"1853\"}},\"id\":\"1844\",\"subtype\":\"Figure\",\"type\":\"Plot\"},{\"attributes\":{},\"id\":\"1640\",\"type\":\"HelpTool\"},{\"attributes\":{\"overlay\":{\"id\":\"2211\"}},\"id\":\"2207\",\"type\":\"BoxZoomTool\"},{\"attributes\":{\"active_drag\":\"auto\",\"active_inspect\":\"auto\",\"active_multi\":null,\"active_scroll\":\"auto\",\"active_tap\":\"auto\",\"tools\":[{\"id\":\"2281\"},{\"id\":\"2282\"},{\"id\":\"2283\"},{\"id\":\"2284\"},{\"id\":\"2285\"},{\"id\":\"2286\"}]},\"id\":\"2288\",\"type\":\"Toolbar\"},{\"attributes\":{},\"id\":\"2096\",\"type\":\"HelpTool\"},{\"attributes\":{},\"id\":\"1847\",\"type\":\"DataRange1d\"},{\"attributes\":{\"data_source\":{\"id\":\"1915\"},\"glyph\":{\"id\":\"1916\"},\"hover_glyph\":null,\"muted_glyph\":null,\"nonselection_glyph\":{\"id\":\"1917\"},\"selection_glyph\":null,\"view\":{\"id\":\"1919\"}},\"id\":\"1918\",\"type\":\"GlyphRenderer\"},{\"attributes\":{},\"id\":\"2189\",\"type\":\"DataRange1d\"},{\"attributes\":{\"below\":[{\"id\":\"1931\"}],\"center\":[{\"id\":\"1934\"},{\"id\":\"1938\"}],\"frame_height\":100,\"frame_width\":200,\"left\":[{\"id\":\"1935\"}],\"renderers\":[{\"id\":\"1956\"}],\"title\":{\"id\":\"1921\"},\"toolbar\":{\"id\":\"1946\"},\"toolbar_location\":null,\"x_range\":{\"id\":\"1923\"},\"x_scale\":{\"id\":\"1927\"},\"y_range\":{\"id\":\"1925\"},\"y_scale\":{\"id\":\"1929\"}},\"id\":\"1920\",\"subtype\":\"Figure\",\"type\":\"Plot\"},{\"attributes\":{\"active_drag\":\"auto\",\"active_inspect\":\"auto\",\"active_multi\":null,\"active_scroll\":\"auto\",\"active_tap\":\"auto\",\"tools\":[{\"id\":\"2091\"},{\"id\":\"2092\"},{\"id\":\"2093\"},{\"id\":\"2094\"},{\"id\":\"2095\"},{\"id\":\"2096\"}]},\"id\":\"2098\",\"type\":\"Toolbar\"},{\"attributes\":{\"ticker\":null},\"id\":\"2585\",\"type\":\"LogTickFormatter\"},{\"attributes\":{\"line_alpha\":0.1,\"line_color\":\"#1f77b4\",\"x\":{\"field\":\"x\"},\"y\":{\"field\":\"y\"}},\"id\":\"1689\",\"type\":\"Line\"},{\"attributes\":{},\"id\":\"2281\",\"type\":\"PanTool\"},{\"attributes\":{},\"id\":\"2583\",\"type\":\"BasicTickFormatter\"},{\"attributes\":{},\"id\":\"2209\",\"type\":\"ResetTool\"},{\"attributes\":{},\"id\":\"1851\",\"type\":\"LogScale\"},{\"attributes\":{\"line_alpha\":0.1,\"line_color\":\"#1f77b4\",\"x\":{\"field\":\"x\"},\"y\":{\"field\":\"y\"}},\"id\":\"1917\",\"type\":\"Line\"},{\"attributes\":{\"num_minor_ticks\":10},\"id\":\"2198\",\"type\":\"LogTicker\"},{\"attributes\":{},\"id\":\"2282\",\"type\":\"WheelZoomTool\"},{\"attributes\":{\"text\":\"Kd_c: 0.1; Kd_t: 6.04\"},\"id\":\"1845\",\"type\":\"Title\"},{\"attributes\":{\"data\":{\"x\":{\"__ndarray__\":\"/Knx0k1iUD97FK5H4XqEP5qZmZmZmbk/AAAAAAAA8D8AAAAAAAAkQAAAAAAAAFlA\",\"dtype\":\"float64\",\"shape\":[6]},\"y\":{\"__ndarray__\":\"Ndg36XcKYz8Xf6MElYNnP6Umu7mylIA/JPy6hQ2Bpj8W97Mvtp2EP1ICTtqKJDc/\",\"dtype\":\"float64\",\"shape\":[6]}},\"selected\":{\"id\":\"2706\"},\"selection_policy\":{\"id\":\"2705\"}},\"id\":\"1915\",\"type\":\"ColumnDataSource\"},{\"attributes\":{\"line_color\":\"#1f77b4\",\"x\":{\"field\":\"x\"},\"y\":{\"field\":\"y\"}},\"id\":\"2220\",\"type\":\"Line\"},{\"attributes\":{},\"id\":\"2094\",\"type\":\"SaveTool\"},{\"attributes\":{},\"id\":\"1853\",\"type\":\"LinearScale\"},{\"attributes\":{\"axis_label\":\"\\u237aL\",\"formatter\":{\"id\":\"2774\"},\"ticker\":{\"id\":\"2198\"}},\"id\":\"2197\",\"type\":\"LogAxis\"},{\"attributes\":{},\"id\":\"1825\",\"type\":\"PanTool\"},{\"attributes\":{\"overlay\":{\"id\":\"2287\"}},\"id\":\"2283\",\"type\":\"BoxZoomTool\"},{\"attributes\":{\"axis_label\":\"Steady state N\",\"formatter\":{\"id\":\"2772\"},\"ticker\":{\"id\":\"2202\"}},\"id\":\"2201\",\"type\":\"LinearAxis\"},{\"attributes\":{\"bottom_units\":\"screen\",\"fill_alpha\":0.5,\"fill_color\":\"lightgrey\",\"left_units\":\"screen\",\"level\":\"overlay\",\"line_alpha\":1.0,\"line_color\":\"black\",\"line_dash\":[4,4],\"line_width\":2,\"render_mode\":\"css\",\"right_units\":\"screen\",\"top_units\":\"screen\"},\"id\":\"2021\",\"type\":\"BoxAnnotation\"},{\"attributes\":{\"bottom_units\":\"screen\",\"fill_alpha\":0.5,\"fill_color\":\"lightgrey\",\"left_units\":\"screen\",\"level\":\"overlay\",\"line_alpha\":1.0,\"line_color\":\"black\",\"line_dash\":[4,4],\"line_width\":2,\"render_mode\":\"css\",\"right_units\":\"screen\",\"top_units\":\"screen\"},\"id\":\"1869\",\"type\":\"BoxAnnotation\"},{\"attributes\":{\"source\":{\"id\":\"1915\"}},\"id\":\"1919\",\"type\":\"CDSView\"},{\"attributes\":{},\"id\":\"2589\",\"type\":\"Selection\"},{\"attributes\":{},\"id\":\"1826\",\"type\":\"WheelZoomTool\"},{\"attributes\":{},\"id\":\"2284\",\"type\":\"SaveTool\"},{\"attributes\":{\"text\":\"Kd_c: 4.06; Kd_t: 0.1\"},\"id\":\"1237\",\"type\":\"Title\"},{\"attributes\":{\"ticker\":null},\"id\":\"2594\",\"type\":\"LogTickFormatter\"},{\"attributes\":{\"active_drag\":\"auto\",\"active_inspect\":\"auto\",\"active_multi\":null,\"active_scroll\":\"auto\",\"active_tap\":\"auto\",\"tools\":[{\"id\":\"2015\"},{\"id\":\"2016\"},{\"id\":\"2017\"},{\"id\":\"2018\"},{\"id\":\"2019\"},{\"id\":\"2020\"}]},\"id\":\"2022\",\"type\":\"Toolbar\"},{\"attributes\":{\"active_drag\":\"auto\",\"active_inspect\":\"auto\",\"active_multi\":null,\"active_scroll\":\"auto\",\"active_tap\":\"auto\",\"tools\":[{\"id\":\"1217\"},{\"id\":\"1218\"},{\"id\":\"1219\"},{\"id\":\"1220\"},{\"id\":\"1221\"},{\"id\":\"1222\"}]},\"id\":\"1224\",\"type\":\"Toolbar\"},{\"attributes\":{},\"id\":\"2195\",\"type\":\"LinearScale\"},{\"attributes\":{\"below\":[{\"id\":\"2045\"}],\"center\":[{\"id\":\"2048\"},{\"id\":\"2052\"}],\"frame_height\":100,\"frame_width\":200,\"left\":[{\"id\":\"2049\"}],\"renderers\":[{\"id\":\"2070\"}],\"title\":{\"id\":\"2035\"},\"toolbar\":{\"id\":\"2060\"},\"toolbar_location\":null,\"x_range\":{\"id\":\"2037\"},\"x_scale\":{\"id\":\"2041\"},\"y_range\":{\"id\":\"2039\"},\"y_scale\":{\"id\":\"2043\"}},\"id\":\"2034\",\"subtype\":\"Figure\",\"type\":\"Plot\"},{\"attributes\":{\"overlay\":{\"id\":\"1831\"}},\"id\":\"1827\",\"type\":\"BoxZoomTool\"},{\"attributes\":{},\"id\":\"2285\",\"type\":\"ResetTool\"},{\"attributes\":{\"data_source\":{\"id\":\"1877\"},\"glyph\":{\"id\":\"1878\"},\"hover_glyph\":null,\"muted_glyph\":null,\"nonselection_glyph\":{\"id\":\"1879\"},\"selection_glyph\":null,\"view\":{\"id\":\"1881\"}},\"id\":\"1880\",\"type\":\"GlyphRenderer\"},{\"attributes\":{},\"id\":\"2592\",\"type\":\"BasicTickFormatter\"},{\"attributes\":{},\"id\":\"2597\",\"type\":\"UnionRenderers\"},{\"attributes\":{},\"id\":\"1828\",\"type\":\"SaveTool\"},{\"attributes\":{\"axis\":{\"id\":\"2197\"},\"ticker\":null},\"id\":\"2200\",\"type\":\"Grid\"},{\"attributes\":{\"line_color\":\"#1f77b4\",\"x\":{\"field\":\"x\"},\"y\":{\"field\":\"y\"}},\"id\":\"1270\",\"type\":\"Line\"},{\"attributes\":{},\"id\":\"2286\",\"type\":\"HelpTool\"},{\"attributes\":{},\"id\":\"2202\",\"type\":\"BasicTicker\"},{\"attributes\":{\"below\":[{\"id\":\"1247\"}],\"center\":[{\"id\":\"1250\"},{\"id\":\"1254\"}],\"frame_height\":100,\"frame_width\":200,\"left\":[{\"id\":\"1251\"}],\"renderers\":[{\"id\":\"1272\"}],\"title\":{\"id\":\"1237\"},\"toolbar\":{\"id\":\"1262\"},\"toolbar_location\":null,\"x_range\":{\"id\":\"1239\"},\"x_scale\":{\"id\":\"1243\"},\"y_range\":{\"id\":\"1241\"},\"y_scale\":{\"id\":\"1245\"}},\"id\":\"1236\",\"subtype\":\"Figure\",\"type\":\"Plot\"},{\"attributes\":{},\"id\":\"1829\",\"type\":\"ResetTool\"},{\"attributes\":{\"data\":{\"x\":{\"__ndarray__\":\"/Knx0k1iUD97FK5H4XqEP5qZmZmZmbk/AAAAAAAA8D8AAAAAAAAkQAAAAAAAAFlA\",\"dtype\":\"float64\",\"shape\":[6]},\"y\":{\"__ndarray__\":\"Y9CN+gHrYj8mPwqboktmP0RZaYyij3s/sO696TlZoz/Ji4+HTSO+P1DHp+2qy1s/\",\"dtype\":\"float64\",\"shape\":[6]}},\"selected\":{\"id\":\"2778\"},\"selection_policy\":{\"id\":\"2777\"}},\"id\":\"2219\",\"type\":\"ColumnDataSource\"},{\"attributes\":{},\"id\":\"2598\",\"type\":\"Selection\"},{\"attributes\":{\"line_color\":\"#1f77b4\",\"x\":{\"field\":\"x\"},\"y\":{\"field\":\"y\"}},\"id\":\"2068\",\"type\":\"Line\"},{\"attributes\":{},\"id\":\"2037\",\"type\":\"DataRange1d\"},{\"attributes\":{\"bottom_units\":\"screen\",\"fill_alpha\":0.5,\"fill_color\":\"lightgrey\",\"left_units\":\"screen\",\"level\":\"overlay\",\"line_alpha\":1.0,\"line_color\":\"black\",\"line_dash\":[4,4],\"line_width\":2,\"render_mode\":\"css\",\"right_units\":\"screen\",\"top_units\":\"screen\"},\"id\":\"1641\",\"type\":\"BoxAnnotation\"},{\"attributes\":{\"ticker\":null},\"id\":\"2603\",\"type\":\"LogTickFormatter\"},{\"attributes\":{\"line_alpha\":0.1,\"line_color\":\"#1f77b4\",\"x\":{\"field\":\"x\"},\"y\":{\"field\":\"y\"}},\"id\":\"1879\",\"type\":\"Line\"},{\"attributes\":{},\"id\":\"1830\",\"type\":\"HelpTool\"},{\"attributes\":{},\"id\":\"1885\",\"type\":\"DataRange1d\"},{\"attributes\":{\"ticker\":null},\"id\":\"2612\",\"type\":\"LogTickFormatter\"},{\"attributes\":{\"num_minor_ticks\":10},\"id\":\"2350\",\"type\":\"LogTicker\"},{\"attributes\":{},\"id\":\"1184\",\"type\":\"HelpTool\"},{\"attributes\":{},\"id\":\"2601\",\"type\":\"BasicTickFormatter\"},{\"attributes\":{\"end\":0.25},\"id\":\"1849\",\"type\":\"Range1d\"},{\"attributes\":{},\"id\":\"2043\",\"type\":\"LinearScale\"},{\"attributes\":{\"axis_label\":\"\\u237aL\",\"formatter\":{\"id\":\"2810\"},\"ticker\":{\"id\":\"2350\"}},\"id\":\"2349\",\"type\":\"LogAxis\"},{\"attributes\":{},\"id\":\"2606\",\"type\":\"UnionRenderers\"},{\"attributes\":{},\"id\":\"1891\",\"type\":\"LinearScale\"},{\"attributes\":{},\"id\":\"2041\",\"type\":\"LogScale\"},{\"attributes\":{\"data\":{\"x\":{\"__ndarray__\":\"/Knx0k1iUD97FK5H4XqEP5qZmZmZmbk/AAAAAAAA8D8AAAAAAAAkQAAAAAAAAFlA\",\"dtype\":\"float64\",\"shape\":[6]},\"y\":{\"__ndarray__\":\"B3t3zNbeYz+NnvXE3rhvP2woWXuei5E/mKSUkfnAtT8ZYm5Y9A3DPy15h+p4uEs/\",\"dtype\":\"float64\",\"shape\":[6]}},\"selected\":{\"id\":\"2598\"},\"selection_policy\":{\"id\":\"2597\"}},\"id\":\"1459\",\"type\":\"ColumnDataSource\"},{\"attributes\":{\"line_color\":\"#1f77b4\",\"x\":{\"field\":\"x\"},\"y\":{\"field\":\"y\"}},\"id\":\"2372\",\"type\":\"Line\"},{\"attributes\":{\"end\":0.25},\"id\":\"1241\",\"type\":\"Range1d\"},{\"attributes\":{},\"id\":\"1889\",\"type\":\"LogScale\"},{\"attributes\":{\"end\":0.25},\"id\":\"2039\",\"type\":\"Range1d\"},{\"attributes\":{\"axis\":{\"id\":\"2349\"},\"ticker\":null},\"id\":\"2352\",\"type\":\"Grid\"},{\"attributes\":{\"end\":0.25},\"id\":\"1887\",\"type\":\"Range1d\"},{\"attributes\":{\"axis\":{\"id\":\"2353\"},\"dimension\":1,\"ticker\":null},\"id\":\"2356\",\"type\":\"Grid\"},{\"attributes\":{\"source\":{\"id\":\"1687\"}},\"id\":\"1691\",\"type\":\"CDSView\"},{\"attributes\":{\"data\":{\"x\":{\"__ndarray__\":\"/Knx0k1iUD97FK5H4XqEP5qZmZmZmbk/AAAAAAAA8D8AAAAAAAAkQAAAAAAAAFlA\",\"dtype\":\"float64\",\"shape\":[6]},\"y\":{\"__ndarray__\":\"JgfeHpVEYz+pbhfqJcRpPx1I0rkPy4U/SEzjxweErT8QIKPDbPm/P8G+VizpPT8/\",\"dtype\":\"float64\",\"shape\":[6]}},\"selected\":{\"id\":\"2652\"},\"selection_policy\":{\"id\":\"2651\"}},\"id\":\"1687\",\"type\":\"ColumnDataSource\"},{\"attributes\":{},\"id\":\"1243\",\"type\":\"LogScale\"},{\"attributes\":{\"axis_label\":\"Steady state N\",\"formatter\":{\"id\":\"2808\"},\"ticker\":{\"id\":\"2354\"}},\"id\":\"2353\",\"type\":\"LinearAxis\"},{\"attributes\":{},\"id\":\"2588\",\"type\":\"UnionRenderers\"},{\"attributes\":{},\"id\":\"2607\",\"type\":\"Selection\"},{\"attributes\":{},\"id\":\"1673\",\"type\":\"PanTool\"},{\"attributes\":{},\"id\":\"2615\",\"type\":\"UnionRenderers\"},{\"attributes\":{\"overlay\":{\"id\":\"1185\"}},\"id\":\"1181\",\"type\":\"BoxZoomTool\"},{\"attributes\":{\"axis_label\":\"\\u237aL\",\"formatter\":{\"id\":\"2693\"},\"ticker\":{\"id\":\"1856\"}},\"id\":\"1855\",\"type\":\"LogAxis\"},{\"attributes\":{},\"id\":\"1182\",\"type\":\"SaveTool\"},{\"attributes\":{},\"id\":\"1674\",\"type\":\"WheelZoomTool\"},{\"attributes\":{},\"id\":\"2610\",\"type\":\"BasicTickFormatter\"},{\"attributes\":{},\"id\":\"1860\",\"type\":\"BasicTicker\"},{\"attributes\":{\"axis_label\":\"Steady state N\",\"formatter\":{\"id\":\"2700\"},\"ticker\":{\"id\":\"1898\"}},\"id\":\"1897\",\"type\":\"LinearAxis\"},{\"attributes\":{\"axis_label\":\"\\u237aL\",\"formatter\":{\"id\":\"2738\"},\"ticker\":{\"id\":\"2046\"}},\"id\":\"2045\",\"type\":\"LogAxis\"},{\"attributes\":{\"num_minor_ticks\":10},\"id\":\"1856\",\"type\":\"LogTicker\"},{\"attributes\":{},\"id\":\"2354\",\"type\":\"BasicTicker\"},{\"attributes\":{\"overlay\":{\"id\":\"1679\"}},\"id\":\"1675\",\"type\":\"BoxZoomTool\"},{\"attributes\":{\"axis_label\":\"\\u237aL\",\"formatter\":{\"id\":\"2702\"},\"ticker\":{\"id\":\"1894\"}},\"id\":\"1893\",\"type\":\"LogAxis\"},{\"attributes\":{\"axis_label\":\"Steady state N\",\"formatter\":{\"id\":\"2736\"},\"ticker\":{\"id\":\"2050\"}},\"id\":\"2049\",\"type\":\"LinearAxis\"},{\"attributes\":{},\"id\":\"2616\",\"type\":\"Selection\"},{\"attributes\":{},\"id\":\"1221\",\"type\":\"ResetTool\"},{\"attributes\":{\"axis\":{\"id\":\"1855\"},\"ticker\":null},\"id\":\"1858\",\"type\":\"Grid\"},{\"attributes\":{},\"id\":\"1898\",\"type\":\"BasicTicker\"},{\"attributes\":{\"num_minor_ticks\":10},\"id\":\"2046\",\"type\":\"LogTicker\"},{\"attributes\":{},\"id\":\"1180\",\"type\":\"WheelZoomTool\"},{\"attributes\":{},\"id\":\"1676\",\"type\":\"SaveTool\"},{\"attributes\":{\"bottom_units\":\"screen\",\"fill_alpha\":0.5,\"fill_color\":\"lightgrey\",\"left_units\":\"screen\",\"level\":\"overlay\",\"line_alpha\":1.0,\"line_color\":\"black\",\"line_dash\":[4,4],\"line_width\":2,\"render_mode\":\"css\",\"right_units\":\"screen\",\"top_units\":\"screen\"},\"id\":\"2287\",\"type\":\"BoxAnnotation\"},{\"attributes\":{\"num_minor_ticks\":10},\"id\":\"1894\",\"type\":\"LogTicker\"},{\"attributes\":{\"axis\":{\"id\":\"1859\"},\"dimension\":1,\"ticker\":null},\"id\":\"1862\",\"type\":\"Grid\"},{\"attributes\":{\"axis\":{\"id\":\"2045\"},\"ticker\":null},\"id\":\"2048\",\"type\":\"Grid\"},{\"attributes\":{\"ticker\":null},\"id\":\"2621\",\"type\":\"LogTickFormatter\"},{\"attributes\":{},\"id\":\"1677\",\"type\":\"ResetTool\"},{\"attributes\":{},\"id\":\"1183\",\"type\":\"ResetTool\"}],\"root_ids\":[\"2855\"]},\"title\":\"Bokeh Application\",\"version\":\"2.0.2\"}};\n",
       "  var render_items = [{\"docid\":\"2a49d74b-e320-439a-8632-c7561a27796f\",\"root_ids\":[\"2855\"],\"roots\":{\"2855\":\"50b51ac3-52fd-4d07-8f42-fcdbe6ccbc8a\"}}];\n",
       "  root.Bokeh.embed.embed_items_notebook(docs_json, render_items);\n",
       "\n",
       "  }\n",
       "  if (root.Bokeh !== undefined) {\n",
       "    embed_document(root);\n",
       "  } else {\n",
       "    var attempts = 0;\n",
       "    var timer = setInterval(function(root) {\n",
       "      if (root.Bokeh !== undefined) {\n",
       "        clearInterval(timer);\n",
       "        embed_document(root);\n",
       "      } else {\n",
       "        attempts++;\n",
       "        if (attempts > 100) {\n",
       "          clearInterval(timer);\n",
       "          console.log(\"Bokeh: ERROR: Unable to run BokehJS code because BokehJS library is missing\");\n",
       "        }\n",
       "      }\n",
       "    }, 10, root)\n",
       "  }\n",
       "})(window);"
      ],
      "application/vnd.bokehjs_exec.v0+json": ""
     },
     "metadata": {
      "application/vnd.bokehjs_exec.v0+json": {
       "id": "2855"
      }
     },
     "output_type": "display_data"
    }
   ],
   "source": [
    "bokeh.io.output_file(\"gridfromvaryingaR_kd.html\")\n",
    "bokeh.io.show(bokeh.layouts.gridplot(list_of_graphs, ncols=6))\n",
    "# bokeh.io.save(\n",
    "#     plotter(),\n",
    "#     filename='gridplots.html',\n",
    "#     title='Grid plots'\n",
    "# )\n"
   ]
  },
  {
   "cell_type": "code",
   "execution_count": null,
   "metadata": {},
   "outputs": [],
   "source": []
  }
 ],
 "metadata": {
  "kernelspec": {
   "display_name": "Python 3",
   "language": "python",
   "name": "python3"
  },
  "language_info": {
   "codemirror_mode": {
    "name": "ipython",
    "version": 3
   },
   "file_extension": ".py",
   "mimetype": "text/x-python",
   "name": "python",
   "nbconvert_exporter": "python",
   "pygments_lexer": "ipython3",
   "version": "3.7.7"
  }
 },
 "nbformat": 4,
 "nbformat_minor": 4
}

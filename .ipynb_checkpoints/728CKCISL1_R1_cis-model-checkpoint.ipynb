{
 "cells": [
  {
   "cell_type": "markdown",
   "metadata": {},
   "source": [
    "# Reminder to talk about RESEARCH FUNDS WITH RACHAEL"
   ]
  },
  {
   "cell_type": "markdown",
   "metadata": {},
   "source": [
    "\n",
    "\n",
    "\n",
    "# Cis-activation and cis-inhibition model"
   ]
  },
  {
   "cell_type": "markdown",
   "metadata": {},
   "source": [
    "**Background**: Nandagopal et al. 2019 came up with a model in the cis activation paper that enabled cis activation and inhibition to some extent. However, their model only considered interconversion between active and inactive cis complexes, without biological justification. In my model, I allow free receptor and ligand to either form active or inactive complexes, and active and inactive cannot directly interconvert without dissociation."
   ]
  },
  {
   "cell_type": "markdown",
   "metadata": {},
   "source": [
    "![Cis Notch Model](cis_model_schematic.png)"
   ]
  },
  {
   "cell_type": "markdown",
   "metadata": {},
   "source": [
    "# Note: the k values above take different values for $C^-$ formation vs. $C^+$, corresponding to distinct $K_d$ values in the code below."
   ]
  },
  {
   "cell_type": "markdown",
   "metadata": {},
   "source": [
    "### Variables:\n",
    "\n",
    "- $R$ is surface receptor concentration at cell interface\n",
    "- $N$ is activated receptor (NICD) concentration\n",
    "- $L$ is surface ligand concentration\n",
    "- $C^+$ = $R:L$, trans-like receptor-ligand complex\n",
    "- $C^-$ = $R:L$, true 'cis' receptor-ligand complex\n",
    "- $i$ is index of receptor. $i = \\{1, 2, 3\\}$ for receptor = {Notch1, Notch2, Notch3}.\n",
    "- $j$ is index of ligand. $j = \\{1, 2, 3, 4\\}$ for ligand = {Dll1, Dll4, Jag1, Jag2}.\n",
    "\n",
    "### Parameters\n",
    "\n",
    "- $\\alpha_L$, surface ligand production rate\n",
    "- $\\alpha_R$, surface receptor production rate\n",
    "- $\\gamma_L$, surface ligand endocytosis rate (unstimulated)\n",
    "- $\\gamma_R$, is surface receptor endocytosis rate\n",
    "- $\\gamma_C$, endocytosis rate of true cis receptor-ligand complexes ($C^-$)\n",
    "- $\\gamma_T$, surface ligand endocytosis rate (stimulated) - receptor activating\n",
    "- $\\gamma_{N}$, activated receptor degradation rate (known! ~75 min)\n",
    "- $d_R$, rate of leaky (ligand-independent) receptor activation\n",
    "- $K_d$, **relative** equilibrium dissociation constant"
   ]
  },
  {
   "cell_type": "markdown",
   "metadata": {},
   "source": [
    "## ODEs and other equations\n",
    "\n",
    "\\begin{align}\n",
    "L_{tot} = L_{t_{tot}} + L_{c_{tot}}; L_{tot} = L_c + L_t + C^+ + C^-; R_{tot} = R + C^+ + C^-\n",
    "\\end{align}\n",
    "\n",
    "\\begin{align}\n",
    "\\frac{dL_{tot}}{dt} = \\alpha_L - \\gamma_{L} (L_{tot} - C^+ - C^-) - \\gamma_R C^+ - \\gamma_C C^- - \\gamma_T C^+ \n",
    "\\end{align}\n",
    "\n",
    "\\begin{align}\n",
    "\\frac{dR_{tot}}{dt} = \\alpha_R - \\gamma_{R} (R_{tot} - C^-) - \\gamma_C C^- - \\gamma_T C^+  \n",
    "\\end{align}\n",
    "\n",
    "\\begin{align}\n",
    "\\frac{dN}{dt} =  \\gamma_T C^+ - \\gamma_{N} N\n",
    "\\end{align}\n",
    "\n",
    "With leaky activation:\n",
    "\n",
    "\\begin{align}\n",
    "\\frac{dL_{tot}}{dt} = \\alpha_L - \\gamma_{L} (L_{tot} - C^+ - C^-) - \\gamma_R C^+ - \\gamma_C C^- - \\gamma_T C^+ \n",
    "\\end{align}\n",
    "\n",
    "\\begin{align}\n",
    "\\frac{dR_{tot}}{dt} = \\alpha_R - \\gamma_{R} (R_{tot} - C^-) - \\gamma_C C^- - \\gamma_T C^+ - d_R (R_{tot} - C^- - C^+)\n",
    "\\end{align}\n",
    "\n",
    "\\begin{align}\n",
    "\\frac{dN}{dt} =  \\gamma_T C^+ - \\gamma_{N} N + d_R (R_{tot} - C^- - C^+)\n",
    "\\end{align}\n",
    "\n",
    "EQTK can be used to compute equilibrium concentrations promiscuously binding species, but it can't be used to compute equilibrium concentrations of just two species that can bind in two different orientations to form two distinct 'types' of complexes. Thus, we must find a work-around to solve for $C^+$ and $C^-$ using EQTK.\n",
    "\n",
    "**Ideas:**\n",
    "1. Free ligand can exist in one of two 'conformations' which we can think of as distinct molecular species or states: the 'trans' state and the 'cis' state. Biophysically, the true ligand structure is identical in each of these cases, and what is really different is the membrane topology--this works if we think of each protein species as a complex of ligand and membrane. \n",
    "    - I think we can then determine how much $L_t$ and $L_c$ ligand we have using a probabilistic model.\n",
    "    - This allows us to use EQTK to represent the formation of $C^+$ and $C^-$.\n",
    "\\begin{align}\n",
    "R + L_t \\rightleftharpoons C^+ \\overset{\\gamma_T}{\\rightarrow} N\n",
    "\\end{align}\n",
    "\n",
    "\\begin{align}\n",
    "C^+ \\overset{\\gamma_R}{\\rightarrow} Ø\n",
    "\\end{align}\n",
    "\n",
    "\\begin{align}\n",
    "R + L_c \\rightleftharpoons C^- \\overset{\\gamma_C}{\\rightarrow} Ø\n",
    "\\end{align}\n",
    "\n",
    "\\begin{align}\n",
    "L_c \\rightleftharpoons L_t\n",
    "\\end{align}\n",
    "\n",
    "Then this is the only change to the above equations:\n",
    "\n",
    "\\begin{align}\n",
    "L_{tot} = L_c + L_t + C^+ + C^-\n",
    "\\end{align}\n",
    "\n",
    "We can then solve for $C^+$ and $C^-$ using EQTK."
   ]
  },
  {
   "cell_type": "markdown",
   "metadata": {},
   "source": [
    "### Non-dimensionalization\n",
    "\n",
    "All concentration variables are relative to $K_d$. This works out so that the production rates ($\\alpha$) are also ratios of true production rate over $K_d$. \n",
    "\n"
   ]
  },
  {
   "cell_type": "code",
   "execution_count": 2,
   "metadata": {},
   "outputs": [],
   "source": [
    "# NumPy and odeint, our workhorses\n",
    "import numpy as np\n",
    "import scipy.integrate\n",
    "import numba\n",
    "import eqtk\n",
    "import pandas as pd\n",
    "\n",
    "# # For interactive plots\n",
    "# import ipywidgets\n",
    "\n",
    "# Import plotting stuff\n",
    "import matplotlib.pyplot as plt\n",
    "import seaborn as sns\n",
    "# Set matplotlib rc params.\n",
    "rc = {'lines.linewidth' : 2, 'axes.labelsize' : 20, 'legend.fontsize': 12,\n",
    "        'axes.titlesize' : 25, 'xtick.labelsize': 15, 'ytick.labelsize': 15}\n",
    "\n",
    "sns.set(rc=rc)\n",
    "sns.set_style(\"whitegrid\")\n",
    "\n",
    "%matplotlib inline"
   ]
  },
  {
   "cell_type": "code",
   "execution_count": 3,
   "metadata": {},
   "outputs": [],
   "source": [
    "def assess_steady_state_convergence(RLN, interval, convergence_crit):\n",
    "    \"\"\"Determines whether the system has reached\n",
    "    steady-state.\"\"\"\n",
    "    \n",
    "    converged = True\n",
    "    \n",
    "    # Compute gradient across last hour and compute percent difference\n",
    "    \n",
    "    back_idx = int(60 / interval + 1)\n",
    "    \n",
    "    # initialize\n",
    "    (R_err, L_err, N_err) = (0.0, 0.0, 0.0)\n",
    "    \n",
    "    # Replace values while avoiding divide by zero errors\n",
    "    # Multiply by 100 to get percent difference\n",
    "    if RLN[-1,0] != 0:\n",
    "        R_err = 100 * abs(RLN[-1,0] - RLN[-back_idx,0]) / RLN[-1,0]\n",
    "    if RLN[-1,1] != 0:\n",
    "        L1_err = 100 * abs(RLN[-1,1] - RLN[-back_idx,1]) / RLN[-1,1]\n",
    "    if RLN[-1,2] != 0:\n",
    "        L2_err = 100 * abs(RLN[-1,2] - RLN[-back_idx,2]) / RLN[-1,2]\n",
    "    \n",
    "    RLN_err = np.array((R_err, L_err, N_err))\n",
    "    \n",
    "    # Evaluate convergence   \n",
    "    failed_arr = RLN_err > convergence_crit\n",
    "    \n",
    "    if np.sum(failed_arr) > 0:\n",
    "#         print('The system has not reached steady state.')\n",
    "        \n",
    "        converged = False\n",
    "        \n",
    "    return converged"
   ]
  },
  {
   "cell_type": "code",
   "execution_count": 4,
   "metadata": {},
   "outputs": [],
   "source": [
    "def solve_EQTK(c0_vect, stoich, K_vect):\n",
    "    '''Takes in:\n",
    "    - c0_vect = initial concentrations of all species in proper order\n",
    "    - stoichiometric matrix\n",
    "    - K_vect = list of Kd values in proper order '''\n",
    "\n",
    "    N = stoich\n",
    "    \n",
    "    c = eqtk.solve(c0_vect, N, K_vect, units=None)\n",
    "    \n",
    "    R, Lt, Lc, C_plus, C_minus = c #all of the steady state concentrations after equilibrium is reached \n",
    "    \n",
    "    # Sanity check of mass conservation:\n",
    "    Rtot = c0_vect[0]\n",
    "         \n",
    "    return c"
   ]
  },
  {
   "cell_type": "code",
   "execution_count": 5,
   "metadata": {},
   "outputs": [],
   "source": [
    "def plot_dynamics(t, y_vals, normalized=False, \n",
    "                  normalize_to_max=True, leg_loc='center right', \n",
    "                  leg_lab = ('Total receptor','Total ligand',\n",
    "                             'Activated receptor','Trans R:L complex'),\n",
    "                  xlab = 'time (hr)', ylim = False,\n",
    "                  ylab = 'dimensionless conc.', title = '',\n",
    "                 filesave = 'NA'):\n",
    "    \"\"\"Convenient plotting function for results\"\"\"\n",
    "    \n",
    "    fig, ax = plt.subplots(1, 1, figsize=(7, 6))\n",
    "    \n",
    "    # Get plot of stimulus dynamics\n",
    "\n",
    "    if normalized:\n",
    "        ylab = 'normalized ' + ylab\n",
    "        if normalize_to_max:\n",
    "            ax = plt.plot(t, y_vals[:,0]/y_vals[:,0].max())\n",
    "            ax = plt.plot(t, y_vals[:,1]/y_vals[:,1].max())\n",
    "            ax = plt.plot(t, y_vals[:,2]/y_vals[:,2].max())\n",
    "            if np.shape(y_vals)[1] > 3:\n",
    "                ax = plt.plot(t, y_vals[:,3]/y_vals[:,3].max())\n",
    "            if np.shape(y_vals)[1] > 4:\n",
    "                ax = plt.plot(t, y_vals[:,4]/y_vals[:,4].max())\n",
    "\n",
    "        else:\n",
    "            ax = plt.plot(t, y_vals[:,0]/y_vals[-1,0])\n",
    "            ax = plt.plot(t, y_vals[:,1]/y_vals[-1,1])\n",
    "            ax = plt.plot(t, y_vals[:,2]/y_vals[-1,2])\n",
    "            if np.shape(y_vals)[1] > 3:\n",
    "                ax = plt.plot(t, y_vals[:,3]/y_vals[-1,3])\n",
    "            if np.shape(y_vals)[1] > 4:\n",
    "                ax = plt.plot(t, y_vals[:,4]/y_vals[-1,4])\n",
    "\n",
    "    else:\n",
    "        ax = plt.plot(t, y_vals[:,0])\n",
    "        ax = plt.plot(t, y_vals[:,1])\n",
    "        ax = plt.plot(t, y_vals[:,2])\n",
    "        if np.shape(y_vals)[1] > 3:\n",
    "            ax = plt.plot(t, y_vals[:,3])\n",
    "        if np.shape(y_vals)[1] > 4:\n",
    "            ax = plt.plot(t, y_vals[:,4])\n",
    "\n",
    "    plt.xlabel(xlab)\n",
    "    plt.ylabel(ylab)\n",
    "    if ylim != False:\n",
    "        plt.ylim(ylim)\n",
    "    plt.legend(leg_lab,loc=leg_loc, fontsize = 14)\n",
    "    plt.title(title, size=22)\n",
    "    \n",
    "    if filesave != 'NA':\n",
    "        print('image saved.')\n",
    "        filename =  '/Users/catherineko/Desktop/FSRI/Research/temp/' + filesave +  '.pdf'\n",
    "        plt.savefig(filename, bbox_inches='tight', format='pdf')\n",
    "    \n",
    "    return ax"
   ]
  },
  {
   "cell_type": "code",
   "execution_count": 6,
   "metadata": {},
   "outputs": [],
   "source": [
    "def get_steady_state_vals(RLN, interval, convergence_crit):\n",
    "    '''Extracts steady-state values from end\n",
    "    of simulation and reports percent difference \n",
    "    across last hour of simulation to assist \n",
    "    evaluation of whether steady-state was reached.\n",
    "    Convergence criterion is the maximum percent\n",
    "    difference allowed before we say the system has \n",
    "    reached steady-state. E.g. 1 for one percent.'''\n",
    "    \n",
    "    # Compute steady state vals\n",
    "    \n",
    "    R0 = RLN[-1,0]\n",
    "    L0 = RLN[-1,1]\n",
    "    N0 = RLN[-1,2]\n",
    "    \n",
    "    RLN0 = np.array((R0, L0, N0)) \n",
    "    \n",
    "    # Determine whether system has reached steady-state\n",
    "    \n",
    "    converged = assess_steady_state_convergence(RLN, interval, convergence_crit)\n",
    "    \n",
    "    if converged:\n",
    "        return RLN0\n",
    "    else:\n",
    "        return np.array((np.nan, np.nan, np.nan))"
   ]
  },
  {
   "cell_type": "code",
   "execution_count": 7,
   "metadata": {},
   "outputs": [],
   "source": [
    "def concat_initial_value(RLN, RLN_initial, hr, tpts):\n",
    "    \"\"\"Adds on initial value to simulation output\n",
    "    in order to see how 'mixing' senders and receivers\n",
    "    altered receptor and ligand levels.\n",
    "    Can take RLN or RLNT of any shape as long as the\n",
    "    dimensions of RLN and RLN_initial are compatible.\"\"\"\n",
    "    \n",
    "    # concat on initial values\n",
    "    RLN = np.concatenate((RLN_initial, RLN), axis = 0)\n",
    "    \n",
    "    # update t accordingly:\n",
    "    t = np.linspace(0, hr + (hr/tpts), tpts+1)\n",
    "    \n",
    "    return RLN, t"
   ]
  },
  {
   "cell_type": "code",
   "execution_count": 8,
   "metadata": {},
   "outputs": [],
   "source": [
    "def compute_cis_activation_potency(N_vect): #peak over leaky \n",
    "    '''This function returns the peak activation\n",
    "    over leaky activation (latter assumed to be first \n",
    "    N-value).'''\n",
    "    \n",
    "    return np.around(np.max(N_vect) / N_vect[0], decimals = 2)\n",
    "\n",
    "def compute_cis_inhibition_potency(N_vect):#??? metric of cis inhibition\n",
    "    '''This function returns the inhibitory potential,\n",
    "    defined as how close to 'leaky' activation the inhibitory\n",
    "    ligand dampens the signal.\n",
    "    This is expressed as a fraction, where 1 is the maximal\n",
    "    inhibition possible, and 0 = no inhibition.'''\n",
    "    \n",
    "    # (peak activation - activation at highest cis ligand level) / \n",
    "    # (peak activation - leaky activation)\n",
    "    \n",
    "    cis_inh = 100 * (np.max(N_vect) - N_vect[-1]) / (np.max(N_vect) - N_vect[0])\n",
    "    \n",
    "    return np.around(cis_inh, decimals = 2)\n"
   ]
  },
  {
   "cell_type": "code",
   "execution_count": 9,
   "metadata": {},
   "outputs": [],
   "source": [
    "def titrate_ligand(aL_vect, params, hr, interval, convergence_crit):\n",
    "    '''This runs a series of simulations to calculate\n",
    "    steady-state N (NICD) values for a range of ligand \n",
    "    levels.\n",
    "    aL_vect is the range of ligand values to explore'''\n",
    "    \n",
    "    N_vect = []\n",
    "    \n",
    "    for aL in aL_vect:\n",
    "        \n",
    "        Kd_t, Kd_c, aR, gR, dR, gT, aL_prev, gL, gC, gN = params\n",
    "        params = Kd_t, Kd_c, aR, gR, dR, gT, aL, gL, gC, gN\n",
    "        \n",
    "        # Simulate\n",
    "        RLN_initial, RLN, t = simulate_Notch_signaling(params, hr, interval)\n",
    "        \n",
    "        # get steady state value\n",
    "        RLN0 = get_steady_state_vals(RLN, interval, convergence_crit)\n",
    "        N = RLN0[2]\n",
    "        \n",
    "        N_vect.append(N)\n",
    "        \n",
    "    # Determine cis-activation potency\n",
    "    cis_act = compute_cis_activation_potency(N_vect)\n",
    "    \n",
    "    # Determine cis-inhibition potency???\n",
    "    cis_inh = compute_cis_inhibition_potency(N_vect)\n",
    "        \n",
    "    return np.array(N_vect), cis_act, cis_inh\n",
    "    "
   ]
  },
  {
   "cell_type": "code",
   "execution_count": 10,
   "metadata": {},
   "outputs": [],
   "source": [
    "def logistic(x, max_Lt_frac, inflection_pt, curvature):\n",
    "    \"\"\"Returns y value of logistic function at \n",
    "    x value(s) provided based on three curve parameters.\"\"\"\n",
    "\n",
    "    return max_Lt_frac / (1 + np.exp(curvature * (x - inflection_pt)))"
   ]
  },
  {
   "cell_type": "code",
   "execution_count": 11,
   "metadata": {},
   "outputs": [
    {
     "data": {
      "text/plain": [
       "Text(0.5, 0, '$C^-$')"
      ]
     },
     "execution_count": 11,
     "metadata": {},
     "output_type": "execute_result"
    },
    {
     "data": {
      "image/png": "[encoded data removed]",
      "text/plain": [
       "<Figure size 504x432 with 1 Axes>"
      ]
     },
     "metadata": {
      "needs_background": "light"
     },
     "output_type": "display_data"
    }
   ],
   "source": [
    "fig, ax = plt.subplots(1, 1, figsize=(7, 6))\n",
    "\n",
    "# x = np.around(np.logspace(1.5, 3.4, num=100, base=10.0), decimals=4)\n",
    "x = np.linspace(0.01,2, num=100)\n",
    "\n",
    "inflection_pt = .5\n",
    "\n",
    "plt.plot(x, logistic(x, .4, inflection_pt, 5 * (1/inflection_pt)))\n",
    "# plt.xscale('log')\n",
    "# plt.ylim(0,.42)\n",
    "plt.xlim(-.1,inflection_pt * 2)\n",
    "# plt.ylabel(\"$L_t$ / ($L_t$ + $L_c$)\")\n",
    "plt.ylabel(\"$\\\\frac{L_t}{L_t + L_c}$\")\n",
    "plt.xlabel(\"$C^-$\")"
   ]
  },
  {
   "cell_type": "code",
   "execution_count": 12,
   "metadata": {},
   "outputs": [],
   "source": [
    "def populate_ligand_states(L, C_minus_prev):\n",
    "    \"\"\"Computes fraction of free ligand (including protein\n",
    "    and membrane state) that exists in trans-like vs. cis-\n",
    "    like state (Lt vs Lc, respectively). This fraction \n",
    "    is computed based on a logistic function defined by\n",
    "    three parameters that you must pass it.\n",
    "    Returns Lt_tot, Lc_tot.\"\"\"\n",
    "    \n",
    "    max_Lt_frac = 0.4 # 40%\n",
    "    inflection_pt = .05 # TEMPORARY! MUST CHANGE\n",
    "    curvature = 5 * (1/inflection_pt) # try 5 * \n",
    "    \n",
    "    frac_Lt = logistic(C_minus_prev, max_Lt_frac, inflection_pt, curvature)\n",
    "    \n",
    "    Lt = frac_Lt * L\n",
    "    Lc = (1 - frac_Lt) * L\n",
    "    \n",
    "    return Lt, Lc\n",
    "    \n",
    "    # I like the idea of sampling from a binomial distribution, \n",
    "    # where theta is returned by the logistic function,\n",
    "    # but I think it's unnecessarily complicated.\n",
    "    \n",
    "    "
   ]
  },
  {
   "cell_type": "code",
   "execution_count": 13,
   "metadata": {},
   "outputs": [],
   "source": [
    "#ODES\n",
    "def dN_dt(R, L, N, Rfree, Lt_free, Lc_free, C_p, C_m, circuit_params):\n",
    "    \"\"\"\n",
    "    Dynamics of activated receptor (ICD); I'm passing\n",
    "    all variables and parameters for easy editing as needed.\n",
    "    \"\"\"\n",
    "    Kd_t, Kd_c, aR, gR, dR, gT, aL, gL, gC, gN = circuit_params\n",
    "    return gT * C_p + dR * Rfree - gN * N\n",
    "\n",
    "\n",
    "def dR_dt(R, L, N, Rfree, Lt_free, Lc_free, C_p, C_m, circuit_params):\n",
    "    \"\"\"\n",
    "    Dynamics of surface receptor (total receptor); I'm passing\n",
    "    all variables and parameters for easy editing as needed.\n",
    "    \"\"\"\n",
    "    Kd_t, Kd_c, aR, gR, dR, gT, aL, gL, gC, gN = circuit_params\n",
    "    return aR - gR * (R - C_m) - gC * C_m - gT * C_p - dR * Rfree\n",
    "\n",
    "\n",
    "def dL_dt(R, L, N, Rfree, Lt_free, Lc_free, C_p, C_m, circuit_params):\n",
    "    \"\"\"\n",
    "    Dynamics of surface ligand (total ligand); I'm passing\n",
    "    all variables and parameters for easy editing as needed.\n",
    "    \"\"\"\n",
    "    Kd_t, Kd_c, aR, gR, dR, gT, aL, gL, gC, gN = circuit_params\n",
    "    return aL - gL * (Lt_free + Lc_free) - gR * C_p - gC * C_m - gT * C_p\n"
   ]
  },
  {
   "cell_type": "code",
   "execution_count": 14,
   "metadata": {},
   "outputs": [],
   "source": [
    "def get_equilibrium_concentrations(R, Lt, Lc, circuit_params):\n",
    "    \"\"\"Gathers info needed to call EQTK\n",
    "    and calls EQTK.\"\"\"\n",
    "    \n",
    "    # Unpack params\n",
    "    Kd_t, Kd_c, aR, gR, dR, gT, aL, gL, gC, gN = circuit_params\n",
    "    \n",
    "    # Stoichiometry matrix\n",
    "    N_1_2 = [[1,  1,  0, -1,  0], #(1)R + (1)L_t + (0)L_c ⇌ (-1)C^+ + (0)C^-\n",
    "         [1,  0,  1,  0, -1]] #(1)R + (0)L_t + (1)L_c ⇌ (0)C^+ + (-1)C^-\n",
    "    \n",
    "    # Array of Kd values\n",
    "    K_vect = [Kd_t, Kd_c]\n",
    "\n",
    "    # Initial concentration vector to pass to EQTK\n",
    "    c0_vect = np.array((R, Lt, Lc, 0.0, 0.0)) # R_tot, Lt_tot, Lc_tot, C_plus, C_minus\n",
    "    if np.isnan(c0_vect).any():\n",
    "        print(c0_vect)\n",
    "    neg = c0_vect[c0_vect < 0]\n",
    "    if len(neg) > 0:\n",
    "        print('negative found:', c0_vect)\n",
    "        \n",
    "    # Compute T based on R_tot and L_tot using EQTK\n",
    "    Rfree, Lt_free, Lc_free, C_plus, C_minus = solve_EQTK(c0_vect, N_1_2, K_vect)\n",
    "        \n",
    "    return np.array([Rfree, Lt_free, Lc_free, C_plus, C_minus])"
   ]
  },
  {
   "cell_type": "code",
   "execution_count": 15,
   "metadata": {},
   "outputs": [],
   "source": [
    "def Euler_integration(RLN_initial, circuit_params, dt, t_stop):    \n",
    "    \"\"\"\n",
    "    Use Euler integration to solve ODEs\n",
    "    for model of Notch cis interactions\n",
    "    between one ligand and one receptor.\n",
    "    \"\"\"    \n",
    "\n",
    "    # Time points\n",
    "    t = np.linspace(0, t_stop, int(t_stop / dt) + 1)\n",
    "    \n",
    "    # Initialize output arrays\n",
    "    R0, L0, N0 = RLN_initial\n",
    "    #print('starting R, L, N at', R0, L0, N0)\n",
    "    R = R0 * np.ones_like(t)\n",
    "    L = L0 * np.ones_like(t)\n",
    "    N = N0 * np.ones_like(t)\n",
    "    C_minus = 0.0 * np.ones_like(t)\n",
    "    \n",
    "    # Do Euler stepping, preventing negative concentration values\n",
    "    for i in range(0, len(t) - 1):\n",
    "            \n",
    "        # Compute fraction of ligand in 'trans-like' vs. 'cis-like' state\n",
    "        # This must use prev value of C_minus, because current value is computed based on Lt, Lc\n",
    "        Lt, Lc = populate_ligand_states(L[i], 0.0)\n",
    "        if i > 0:\n",
    "            Lt, Lc = populate_ligand_states(L[i], C_minus[i-1]) # Lt_tot, Lc_tot\n",
    "        \n",
    "        # Get equilibrium concentrations\n",
    "        EQTK_output = get_equilibrium_concentrations(R[i], Lt, Lc, circuit_params)\n",
    "        Rfree, Lt_free, Lc_free, C_p, C_m = EQTK_output # equilibrium concentrations at current step i\n",
    "        \n",
    "        # Add C_minus to array for CURRENT INDEX\n",
    "        C_minus[i] = C_m\n",
    "#         print('C_minus', C_m)\n",
    "            \n",
    "        # Compute new R\n",
    "        R[i+1] = R[i] + dt * dR_dt(R[i], L[i], N[i], Rfree, Lt_free, Lc_free, C_p, C_m, circuit_params)\n",
    "        if R[i+1] < 0:\n",
    "            R[i+1] = 0\n",
    "        \n",
    "        # Compute new L\n",
    "        L[i+1] = L[i] + dt * dL_dt(R[i], L[i], N[i], Rfree, Lt_free, Lc_free, C_p, C_m, circuit_params)\n",
    "        if L[i+1] < 0:\n",
    "            L[i+1] = 0\n",
    "        \n",
    "        # Compute new N\n",
    "        N[i+1] = N[i] + dt * dN_dt(R[i], L[i], N[i], Rfree, Lt_free, Lc_free, C_p, C_m, circuit_params)\n",
    "        if N[i+1] < 0:\n",
    "            N[i+1] = 0\n",
    "        \n",
    "    # Concatenate arrays\n",
    "    #print('final C_minus = ', C_m)\n",
    "    RLN = np.concatenate(([R,], [L,], [N,]), axis=0)\n",
    "    RLN = np.transpose(RLN)\n",
    "        \n",
    "    return RLN, t\n"
   ]
  },
  {
   "cell_type": "code",
   "execution_count": 16,
   "metadata": {},
   "outputs": [],
   "source": [
    "def simulate_Notch_signaling(circuit_params, hr, interval):\n",
    "    \"\"\"Runs Euler integration and returns \n",
    "    initial values (initial steady state) as \n",
    "    well as simulation output (with total receptor\n",
    "    and ligand, not free) and time series.\n",
    "    Takes as input one set of circuit parameters \n",
    "    and values that define the time series:\n",
    "    - hr (simulation duration in hr) \n",
    "    - interval (time step in minutes)\n",
    "    \"\"\"\n",
    "    \n",
    "    # Define time series\n",
    "    dt = interval / 60 # convert interval from minutes to hours\n",
    "    \n",
    "    # Start values at steady state\n",
    "    Kd_t, Kd_c, aR, gR, dR, gT, aL, gL, gC, gN = circuit_params\n",
    "    R0 = aR/(gR + dR)\n",
    "    L0 = aL/gL\n",
    "    N0 = dR * R0 / gN\n",
    "    RLN_initial = (R0, L0, N0) \n",
    "    \n",
    "    # Initiate Euler stepping\n",
    "    RLN, t = Euler_integration(RLN_initial, circuit_params, dt, hr)\n",
    "\n",
    "    # Return initial values and simulation output\n",
    "    return RLN_initial, RLN, t"
   ]
  },
  {
   "cell_type": "code",
   "execution_count": 17,
   "metadata": {},
   "outputs": [],
   "source": [
    "def significant_change(aL_vals):\n",
    "    new_list = []\n",
    "    for i, aL in enumerate(aL_vals):\n",
    "        if (i + 1) <= len(aL_vals) - 1:\n",
    "            change = N_vect[i + 1] - N_vect[i]\n",
    "            # print(aL_vals[i])\n",
    "        if np.abs(change) > 0.05:\n",
    "            new_list.append(1)\n",
    "        else:\n",
    "            new_list.append(0)\n",
    "    new_array2 = np.array(new_list)\n",
    "    return new_array2"
   ]
  },
  {
   "cell_type": "code",
   "execution_count": 112,
   "metadata": {},
   "outputs": [],
   "source": [
    "def peak_params(aL_vals):\n",
    "    start_of_peak=np.nan #define inside the function\n",
    "    end_of_peak=np.nan\n",
    "    peak_width=np.nan\n",
    "\n",
    "    for i, element in enumerate(significant_change(aL_vals)):\n",
    "        if element == 1:\n",
    "            start_of_peak = aL_vals[i]\n",
    "            break\n",
    "\n",
    "    for i, element in reversed(list(enumerate(significant_change(aL_vals)))):\n",
    "        if element == 1:\n",
    "            end_of_peak = aL_vals[i + 1]\n",
    "            break\n",
    "    if start_of_peak != 0.0:\n",
    "        peak_width = end_of_peak / start_of_peak #beware of Nan\n",
    "        \n",
    "    return peak_width, start_of_peak, end_of_peak"
   ]
  },
  {
   "cell_type": "markdown",
   "metadata": {},
   "source": [
    "## Define the experiment\n",
    "\n",
    "1. We want to determine whether this model (under any reasonable parameter set) could enable cis-activation at low ligand levels and cis-inhibition at high ligand levels. We will start by simulating the Notch1-Dll4 combination.\n",
    "\n",
    "To do this, we must generate a series of ligand concentrations (a virtual 'titration'), and \n",
    "- visualize what the curve of N (active NICD) looks like across that range\n",
    "- define cis-activation and cis-inhibition metrics to compare parameter sets\n",
    "    - cis-activation: N fold difference over 'leaky' activation\n",
    "    - cis-inhibition: how completely cis-activation is 'stopped' at the highest ligand concentration, i.e. ($N_a$ [val. at peak activation] - $N_I$ [val. max inhibition]) / ($N_a$ [val. at peak activation] - $N_L$ [leaky activation])\n",
    "    \n",
    "\n",
    "2. We next want to ask whether this model enables cis activation without inhibition when the $K_{d_c}$ corresponds to a very weak 'cis' affinity. This is my hypothesis for how Notch2 differs from Notch1 in its cis-interactions with Delta ligands.\n",
    "\n",
    "\n",
    "Parameters / ranges:\n",
    "- $K_{d_c}$ should be varied in the range of ($0.01$ to $10$)?.\n",
    "- $K_{d_t}$ should be in the range of ($0.01$ to $0.1$), which is reasonable for the Notch1-Dll4 $K_d$ relative to the Dll1-Notch1 $K_d$.\n",
    "- $\\alpha_R$ could take a wide range of values, but use $0.06$ or $0.4$. \n",
    "    - From $10^{-3}$ or to $10^3$ (times degradation rates).\n",
    "    - Remember, these values are relative to true Notch1-Dll1 Kd.\n",
    "- $d_R = \\frac{\\log(2)}{10h}$ or somewhere between 5-20h.\n",
    "- $\\gamma_{R} = \\frac{\\log(2)}{0.8h}$\n",
    "- $\\alpha_{L}$ could take a wide range of values, but use $0.06$ or $0.4$. \n",
    "- $\\gamma_{L} = \\frac{\\log(2)}{0.3h}$\n",
    "- $\\gamma_{T(1,2)} = \\frac{\\log(2)}{0.07h}$\n",
    "- $\\gamma_N$ is fixed at $\\frac{\\log(2)}{1.25}$"
   ]
  },
  {
   "cell_type": "code",
   "execution_count": 113,
   "metadata": {},
   "outputs": [
    {
     "name": "stdout",
     "output_type": "stream",
     "text": [
      "Cis-activation fold-diff: 16.54\n",
      "Cis-inhibition efficacy: 106.39 %\n",
      "start of peak 0.0\n",
      "end of peak 0.3162\n",
      "peak nan\n"
     ]
    },
    {
     "data": {
      "image/png": "[encoded data removed]",
      "text/plain": [
       "<Figure size 504x432 with 1 Axes>"
      ]
     },
     "metadata": {
      "needs_background": "light"
     },
     "output_type": "display_data"
    }
   ],
   "source": [
    "# Define params values that give good fold differences at reasonably high production rates\n",
    "# Receptor = Notch1, Ligand = Dll4\n",
    "\n",
    "Kd_t = 0.1\n",
    "Kd_c = 0.1\n",
    "aR = 0.4\n",
    "gR = np.log(2) / .8\n",
    "dR = 0.01\n",
    "gT = np.log(2) / .07\n",
    "# aL = 0.4\n",
    "gC = gR # setting gC == gR for now\n",
    "gL = np.log(2) / .3\n",
    "gN = np.log(2) / 1.25\n",
    "\n",
    "# Define ligand range for titration- x axis for plot; adding ligands \n",
    "aL_vals = np.around(np.logspace(-1, 1.5, num=6, base=10.0), decimals=4)\n",
    "aL_vals = np.insert(aL_vals, 0, 0)\n",
    "\n",
    "circuit_params = (Kd_t, Kd_c, aR, gR, dR, gT, aL_vals[0], gL, gC, gN)\n",
    "\n",
    "# Define time series\n",
    "hr = 48.0 # simulation of 48 hours\n",
    "interval = 5 # 5 minutes between time steps\n",
    "\n",
    "convergence_crit = 1 # ≤ 1 percent change in 5 minutes = steady state achieved\n",
    "\n",
    "# Simulate ligand titration\n",
    "N_vect, cis_act, cis_inh = titrate_ligand(aL_vals, circuit_params, \n",
    "                                          hr, interval, convergence_crit)\n",
    "\n",
    "# Print cis-activation and -inhibition metrics\n",
    "print('Cis-activation fold-diff:', cis_act)\n",
    "print('Cis-inhibition efficacy:', cis_inh, '%')\n",
    "\n",
    "# Plot\n",
    "fig, ax = plt.subplots(1, 1, figsize=(7, 6))\n",
    "\n",
    "plt.plot(aL_vals, N_vect)\n",
    "plt.ylabel('Steady state $N$')\n",
    "plt.xlabel('$\\\\alpha_L$')\n",
    "plt.ylim((0,1))\n",
    "ax.set_xscale('log')\n",
    "\n",
    "peak,startpeak,endpeak=peak_params(aL_vals)\n",
    "print('start of peak', peak_params(aL_vals)[1])\n",
    "print('end of peak',peak_params(aL_vals)[2])\n",
    "print('peak',peak_params(aL_vals)[0])"
   ]
  },
  {
   "cell_type": "code",
   "execution_count": 19,
   "metadata": {},
   "outputs": [
    {
     "name": "stdout",
     "output_type": "stream",
     "text": [
      "Cis-activation fold-diff: 71.72\n",
      "Cis-inhibition efficacy: 0.0 %\n"
     ]
    },
    {
     "data": {
      "image/png": "[encoded data removed]",
      "text/plain": [
       "<Figure size 504x432 with 1 Axes>"
      ]
     },
     "metadata": {
      "needs_background": "light"
     },
     "output_type": "display_data"
    },
    {
     "name": "stdout",
     "output_type": "stream",
     "text": [
      "Cis-activation fold-diff: 71.67\n",
      "Cis-inhibition efficacy: 0.0 %\n"
     ]
    },
    {
     "data": {
      "image/png": "[encoded data removed]",
      "text/plain": [
       "<Figure size 504x432 with 1 Axes>"
      ]
     },
     "metadata": {
      "needs_background": "light"
     },
     "output_type": "display_data"
    },
    {
     "name": "stdout",
     "output_type": "stream",
     "text": [
      "Cis-activation fold-diff: 71.61\n",
      "Cis-inhibition efficacy: 0.0 %\n"
     ]
    },
    {
     "data": {
      "image/png": "[encoded data removed]",
      "text/plain": [
       "<Figure size 504x432 with 1 Axes>"
      ]
     },
     "metadata": {
      "needs_background": "light"
     },
     "output_type": "display_data"
    },
    {
     "name": "stdout",
     "output_type": "stream",
     "text": [
      "Cis-activation fold-diff: 62.85\n",
      "Cis-inhibition efficacy: 101.3 %\n"
     ]
    },
    {
     "data": {
      "image/png": "[encoded data removed]",
      "text/plain": [
       "<Figure size 504x432 with 1 Axes>"
      ]
     },
     "metadata": {
      "needs_background": "light"
     },
     "output_type": "display_data"
    },
    {
     "name": "stdout",
     "output_type": "stream",
     "text": [
      "Cis-activation fold-diff: 62.3\n",
      "Cis-inhibition efficacy: 101.6 %\n"
     ]
    },
    {
     "data": {
      "image/png": "[encoded data removed]",
      "text/plain": [
       "<Figure size 504x432 with 1 Axes>"
      ]
     },
     "metadata": {
      "needs_background": "light"
     },
     "output_type": "display_data"
    },
    {
     "name": "stdout",
     "output_type": "stream",
     "text": [
      "Cis-activation fold-diff: 61.69\n",
      "Cis-inhibition efficacy: 101.64 %\n"
     ]
    },
    {
     "data": {
      "image/png": "[encoded data removed]",
      "text/plain": [
       "<Figure size 504x432 with 1 Axes>"
      ]
     },
     "metadata": {
      "needs_background": "light"
     },
     "output_type": "display_data"
    }
   ],
   "source": [
    "# Define params values that give good fold differences at reasonably high production rates\n",
    "# Receptor = Notch1, Ligand = Dll4\n",
    "\n",
    "Kd_t = 0.1\n",
    "Kd_c = 0.1\n",
    "aR_vals = np.around(np.linspace(.05, 0.15, num=6), decimals=4)\n",
    "gR = np.log(2) / .8\n",
    "dR = 0.01\n",
    "gT = np.log(2) / .07\n",
    "# aL = 0.4\n",
    "gC = gR # setting gC == gR for now\n",
    "gL = np.log(2) / .3\n",
    "gN = np.log(2) / 1.25\n",
    "\n",
    "for aR in aR_vals:\n",
    "    # Define ligand range for titration- x axis for plot; adding ligands \n",
    "    aL_vals = np.around(np.logspace(-2, 2, num=6, base=10.0), decimals=4)\n",
    "    aL_vals = np.insert(aL_vals, 0, 0)\n",
    "\n",
    "    circuit_params = (Kd_t, Kd_c, aR, gR, dR, gT, aL_vals[0], gL, gC, gN)\n",
    "\n",
    "    # Define time series\n",
    "    hr = 48.0 # simulation of 48 hours\n",
    "    interval = 5 # 5 minutes between time steps\n",
    "\n",
    "    convergence_crit = 1 # ≤ 1 percent change in 5 minutes = steady state achieved\n",
    "\n",
    "    # Simulate ligand titration\n",
    "    N_vect, cis_act, cis_inh = titrate_ligand(aL_vals, circuit_params, \n",
    "                                              hr, interval, convergence_crit)\n",
    "\n",
    "    # Print cis-activation and -inhibition metrics\n",
    "    print('Cis-activation fold-diff:', cis_act)\n",
    "    print('Cis-inhibition efficacy:', cis_inh, '%')\n",
    "    \n",
    "    # Added this in to quantify peak width \n",
    "    for i, element in enumerate(significant_change(aL_vals)):\n",
    "        if element == 1:\n",
    "            start_of_peak = aL_vals[i]\n",
    "            break\n",
    "\n",
    "    for i, element in reversed(list(enumerate(significant_change(aL_vals)))):\n",
    "        if element == 1:\n",
    "            end_of_peak = aL_vals[i + 1]\n",
    "            break\n",
    "\n",
    "    peak_width = end_of_peak - start_of_peak\n",
    "    \n",
    "    # Plot\n",
    "    fig, ax = plt.subplots(1, 1, figsize=(7, 6))\n",
    "\n",
    "    plt.plot(aL_vals, N_vect)\n",
    "    plt.title('aR = ' + str(aR)+', peak width: '+str(peak_width))\n",
    "    plt.ylabel('Steady state $N$')\n",
    "    plt.xlabel('$\\\\alpha_L$')\n",
    "    plt.ylim((0,1))\n",
    "    ax.set_xscale('log')\n",
    "    plt.show()\n",
    "    \n",
    "    "
   ]
  },
  {
   "cell_type": "code",
   "execution_count": 20,
   "metadata": {},
   "outputs": [
    {
     "data": {
      "text/plain": [
       "0.1873181819185107"
      ]
     },
     "execution_count": 20,
     "metadata": {},
     "output_type": "execute_result"
    }
   ],
   "source": [
    "peakrise = np.max(N_vect)-N_vect[0]\n",
    "peakrise"
   ]
  },
  {
   "cell_type": "code",
   "execution_count": 21,
   "metadata": {},
   "outputs": [
    {
     "data": {
      "text/plain": [
       "0.0030734445728515863"
      ]
     },
     "execution_count": 21,
     "metadata": {},
     "output_type": "execute_result"
    }
   ],
   "source": [
    "inhibition_drop = np.abs(N_vect[-1]-N_vect[0])\n",
    "inhibition_drop"
   ]
  },
  {
   "cell_type": "code",
   "execution_count": 22,
   "metadata": {},
   "outputs": [
    {
     "data": {
      "text/plain": [
       "0.18424473734565913"
      ]
     },
     "execution_count": 22,
     "metadata": {},
     "output_type": "execute_result"
    }
   ],
   "source": [
    "peakrise-inhibition_drop"
   ]
  },
  {
   "cell_type": "code",
   "execution_count": 23,
   "metadata": {},
   "outputs": [
    {
     "data": {
      "text/plain": [
       "array([0.00000e+00, 1.00000e-02, 6.31000e-02, 3.98100e-01, 2.51190e+00,\n",
       "       1.58489e+01, 1.00000e+02])"
      ]
     },
     "execution_count": 23,
     "metadata": {},
     "output_type": "execute_result"
    }
   ],
   "source": [
    "aL_vals"
   ]
  },
  {
   "cell_type": "code",
   "execution_count": 24,
   "metadata": {},
   "outputs": [],
   "source": [
    "new_array = np.array((aL_vals,N_vect))"
   ]
  },
  {
   "cell_type": "code",
   "execution_count": 25,
   "metadata": {},
   "outputs": [
    {
     "data": {
      "text/plain": [
       "(2, 7)"
      ]
     },
     "execution_count": 25,
     "metadata": {},
     "output_type": "execute_result"
    }
   ],
   "source": [
    "new_array.shape"
   ]
  },
  {
   "cell_type": "code",
   "execution_count": 26,
   "metadata": {},
   "outputs": [],
   "source": [
    "index_of_peak = np.argmax(N_vect)"
   ]
  },
  {
   "cell_type": "code",
   "execution_count": 27,
   "metadata": {},
   "outputs": [],
   "source": [
    "aL_of_peak = aL_vals[index_of_peak]"
   ]
  },
  {
   "cell_type": "code",
   "execution_count": 28,
   "metadata": {},
   "outputs": [],
   "source": [
    "def significant_change(aL_vals):\n",
    "    new_list = []\n",
    "    for i, aL in enumerate(aL_vals):\n",
    "        if (i + 1) <= len(aL_vals) - 1:\n",
    "            change = N_vect[i + 1] - N_vect[i]\n",
    "            # print(aL_vals[i])\n",
    "        if np.abs(change) > 0.05:\n",
    "            new_list.append(1)\n",
    "        else:\n",
    "            new_list.append(0)\n",
    "    new_array2 = np.array(new_list)\n",
    "    return new_array2\n",
    "\n",
    "for i, element in enumerate(significant_change(aL_vals)):\n",
    "    if element == 1:\n",
    "        start_of_peak = aL_vals[i]\n",
    "        \n",
    "        break\n",
    "        \n",
    "for i, element in reversed(list(enumerate(significant_change(aL_vals)))):\n",
    "    if element == 1:\n",
    "        end_of_peak = aL_vals[i + 1]\n",
    "        break\n",
    "        \n",
    "peak_width = end_of_peak - start_of_peak # peak width in terms of aL\n"
   ]
  },
  {
   "cell_type": "markdown",
   "metadata": {},
   "source": [
    "# Looping through Kd_t Kd_c and aR"
   ]
  },
  {
   "cell_type": "code",
   "execution_count": 29,
   "metadata": {},
   "outputs": [],
   "source": [
    "def populate_ligand_states(L, C_minus_prev):\n",
    "    \"\"\"Computes fraction of free ligand (including protein\n",
    "    and membrane state) that exists in trans-like vs. cis-\n",
    "    like state (Lt vs Lc, respectively). This fraction \n",
    "    is computed based on a logistic function defined by\n",
    "    three parameters that you must pass it.\n",
    "    Returns Lt_tot, Lc_tot.\"\"\"\n",
    "    \n",
    "    max_Lt_frac = 0.4 # 40%\n",
    "    inflection_pt = .05 # TEMPORARY! MUST CHANGE\n",
    "    curvature = 5 * (1/inflection_pt) # try 5 * \n",
    "    \n",
    "    frac_Lt = logistic(C_minus_prev, max_Lt_frac, inflection_pt, curvature)\n",
    "    \n",
    "    Lt = frac_Lt * L\n",
    "    Lc = (1 - frac_Lt) * L\n",
    "    \n",
    "    return Lt, Lc\n",
    "    \n",
    "    # I like the idea of sampling from a binomial distribution, \n",
    "    # where theta is returned by the logistic function,\n",
    "    # but I think it's unnecessarily complicated.\n",
    "    \n",
    "    "
   ]
  },
  {
   "cell_type": "markdown",
   "metadata": {},
   "source": [
    "Dont run this unless remaking data"
   ]
  },
  {
   "cell_type": "code",
   "execution_count": 78,
   "metadata": {},
   "outputs": [
    {
     "name": "stdout",
     "output_type": "stream",
     "text": [
      "Cis-activation fold-diff: 71.72\n",
      "Cis-inhibition efficacy: 0.0 %\n",
      "Cis-activation fold-diff: 80.08\n",
      "Cis-inhibition efficacy: 0.0 %\n",
      "Cis-activation fold-diff: 80.31\n",
      "Cis-inhibition efficacy: 0.0 %\n",
      "Cis-activation fold-diff: 80.39\n",
      "Cis-inhibition efficacy: 0.0 %\n",
      "Cis-activation fold-diff: 80.43\n",
      "Cis-inhibition efficacy: 0.0 %\n",
      "Cis-activation fold-diff: 80.46\n",
      "Cis-inhibition efficacy: 0.0 %\n",
      "Cis-activation fold-diff: 14.46\n",
      "Cis-inhibition efficacy: 30.22 %\n",
      "Cis-activation fold-diff: 71.13\n",
      "Cis-inhibition efficacy: 0.0 %\n",
      "Cis-activation fold-diff: 75.14\n",
      "Cis-inhibition efficacy: 0.0 %\n",
      "Cis-activation fold-diff: 76.62\n",
      "Cis-inhibition efficacy: 0.0 %\n",
      "Cis-activation fold-diff: 77.38\n",
      "Cis-inhibition efficacy: 0.0 %\n",
      "Cis-activation fold-diff: 77.85\n",
      "Cis-inhibition efficacy: 0.0 %\n"
     ]
    },
    {
     "ename": "KeyboardInterrupt",
     "evalue": "",
     "output_type": "error",
     "traceback": [
      "\u001b[0;31m---------------------------------------------------------------------------\u001b[0m",
      "\u001b[0;31mKeyboardInterrupt\u001b[0m                         Traceback (most recent call last)",
      "\u001b[0;32m<ipython-input-78-cf1a8f967ef0>\u001b[0m in \u001b[0;36m<module>\u001b[0;34m\u001b[0m\n\u001b[1;32m     31\u001b[0m             \u001b[0;31m# Simulate ligand titration\u001b[0m\u001b[0;34m\u001b[0m\u001b[0;34m\u001b[0m\u001b[0;34m\u001b[0m\u001b[0m\n\u001b[1;32m     32\u001b[0m             N_vect, cis_act, cis_inh = titrate_ligand(aL_vals, circuit_params, \n\u001b[0;32m---> 33\u001b[0;31m                                                       hr, interval, convergence_crit)\n\u001b[0m\u001b[1;32m     34\u001b[0m \u001b[0;34m\u001b[0m\u001b[0m\n\u001b[1;32m     35\u001b[0m             \u001b[0;31m# Print cis-activation and -inhibition metrics\u001b[0m\u001b[0;34m\u001b[0m\u001b[0;34m\u001b[0m\u001b[0;34m\u001b[0m\u001b[0m\n",
      "\u001b[0;32m<ipython-input-8-ab72739698a9>\u001b[0m in \u001b[0;36mtitrate_ligand\u001b[0;34m(aL_vect, params, hr, interval, convergence_crit)\u001b[0m\n\u001b[1;32m     13\u001b[0m \u001b[0;34m\u001b[0m\u001b[0m\n\u001b[1;32m     14\u001b[0m         \u001b[0;31m# Simulate\u001b[0m\u001b[0;34m\u001b[0m\u001b[0;34m\u001b[0m\u001b[0;34m\u001b[0m\u001b[0m\n\u001b[0;32m---> 15\u001b[0;31m         \u001b[0mRLN_initial\u001b[0m\u001b[0;34m,\u001b[0m \u001b[0mRLN\u001b[0m\u001b[0;34m,\u001b[0m \u001b[0mt\u001b[0m \u001b[0;34m=\u001b[0m \u001b[0msimulate_Notch_signaling\u001b[0m\u001b[0;34m(\u001b[0m\u001b[0mparams\u001b[0m\u001b[0;34m,\u001b[0m \u001b[0mhr\u001b[0m\u001b[0;34m,\u001b[0m \u001b[0minterval\u001b[0m\u001b[0;34m)\u001b[0m\u001b[0;34m\u001b[0m\u001b[0;34m\u001b[0m\u001b[0m\n\u001b[0m\u001b[1;32m     16\u001b[0m \u001b[0;34m\u001b[0m\u001b[0m\n\u001b[1;32m     17\u001b[0m         \u001b[0;31m# get steady state value\u001b[0m\u001b[0;34m\u001b[0m\u001b[0;34m\u001b[0m\u001b[0;34m\u001b[0m\u001b[0m\n",
      "\u001b[0;32m<ipython-input-15-48269b70e981>\u001b[0m in \u001b[0;36msimulate_Notch_signaling\u001b[0;34m(circuit_params, hr, interval)\u001b[0m\n\u001b[1;32m     21\u001b[0m \u001b[0;34m\u001b[0m\u001b[0m\n\u001b[1;32m     22\u001b[0m     \u001b[0;31m# Initiate Euler stepping\u001b[0m\u001b[0;34m\u001b[0m\u001b[0;34m\u001b[0m\u001b[0;34m\u001b[0m\u001b[0m\n\u001b[0;32m---> 23\u001b[0;31m     \u001b[0mRLN\u001b[0m\u001b[0;34m,\u001b[0m \u001b[0mt\u001b[0m \u001b[0;34m=\u001b[0m \u001b[0mEuler_integration\u001b[0m\u001b[0;34m(\u001b[0m\u001b[0mRLN_initial\u001b[0m\u001b[0;34m,\u001b[0m \u001b[0mcircuit_params\u001b[0m\u001b[0;34m,\u001b[0m \u001b[0mdt\u001b[0m\u001b[0;34m,\u001b[0m \u001b[0mhr\u001b[0m\u001b[0;34m)\u001b[0m\u001b[0;34m\u001b[0m\u001b[0;34m\u001b[0m\u001b[0m\n\u001b[0m\u001b[1;32m     24\u001b[0m \u001b[0;34m\u001b[0m\u001b[0m\n\u001b[1;32m     25\u001b[0m     \u001b[0;31m# Return initial values and simulation output\u001b[0m\u001b[0;34m\u001b[0m\u001b[0;34m\u001b[0m\u001b[0;34m\u001b[0m\u001b[0m\n",
      "\u001b[0;32m<ipython-input-14-7b1a503f7729>\u001b[0m in \u001b[0;36mEuler_integration\u001b[0;34m(RLN_initial, circuit_params, dt, t_stop)\u001b[0m\n\u001b[1;32m     24\u001b[0m         \u001b[0mLt\u001b[0m\u001b[0;34m,\u001b[0m \u001b[0mLc\u001b[0m \u001b[0;34m=\u001b[0m \u001b[0mpopulate_ligand_states\u001b[0m\u001b[0;34m(\u001b[0m\u001b[0mL\u001b[0m\u001b[0;34m[\u001b[0m\u001b[0mi\u001b[0m\u001b[0;34m]\u001b[0m\u001b[0;34m,\u001b[0m \u001b[0;36m0.0\u001b[0m\u001b[0;34m)\u001b[0m\u001b[0;34m\u001b[0m\u001b[0;34m\u001b[0m\u001b[0m\n\u001b[1;32m     25\u001b[0m         \u001b[0;32mif\u001b[0m \u001b[0mi\u001b[0m \u001b[0;34m>\u001b[0m \u001b[0;36m0\u001b[0m\u001b[0;34m:\u001b[0m\u001b[0;34m\u001b[0m\u001b[0;34m\u001b[0m\u001b[0m\n\u001b[0;32m---> 26\u001b[0;31m             \u001b[0mLt\u001b[0m\u001b[0;34m,\u001b[0m \u001b[0mLc\u001b[0m \u001b[0;34m=\u001b[0m \u001b[0mpopulate_ligand_states\u001b[0m\u001b[0;34m(\u001b[0m\u001b[0mL\u001b[0m\u001b[0;34m[\u001b[0m\u001b[0mi\u001b[0m\u001b[0;34m]\u001b[0m\u001b[0;34m,\u001b[0m \u001b[0mC_minus\u001b[0m\u001b[0;34m[\u001b[0m\u001b[0mi\u001b[0m\u001b[0;34m-\u001b[0m\u001b[0;36m1\u001b[0m\u001b[0;34m]\u001b[0m\u001b[0;34m)\u001b[0m \u001b[0;31m# Lt_tot, Lc_tot\u001b[0m\u001b[0;34m\u001b[0m\u001b[0;34m\u001b[0m\u001b[0m\n\u001b[0m\u001b[1;32m     27\u001b[0m \u001b[0;34m\u001b[0m\u001b[0m\n\u001b[1;32m     28\u001b[0m         \u001b[0;31m# Get equilibrium concentrations\u001b[0m\u001b[0;34m\u001b[0m\u001b[0;34m\u001b[0m\u001b[0;34m\u001b[0m\u001b[0m\n",
      "\u001b[0;32m<ipython-input-29-3eed8a5ec9aa>\u001b[0m in \u001b[0;36mpopulate_ligand_states\u001b[0;34m(L, C_minus_prev)\u001b[0m\n\u001b[1;32m     11\u001b[0m     \u001b[0mcurvature\u001b[0m \u001b[0;34m=\u001b[0m \u001b[0;36m5\u001b[0m \u001b[0;34m*\u001b[0m \u001b[0;34m(\u001b[0m\u001b[0;36m1\u001b[0m\u001b[0;34m/\u001b[0m\u001b[0minflection_pt\u001b[0m\u001b[0;34m)\u001b[0m \u001b[0;31m# try 5 *\u001b[0m\u001b[0;34m\u001b[0m\u001b[0;34m\u001b[0m\u001b[0m\n\u001b[1;32m     12\u001b[0m \u001b[0;34m\u001b[0m\u001b[0m\n\u001b[0;32m---> 13\u001b[0;31m     \u001b[0mfrac_Lt\u001b[0m \u001b[0;34m=\u001b[0m \u001b[0mlogistic\u001b[0m\u001b[0;34m(\u001b[0m\u001b[0mC_minus_prev\u001b[0m\u001b[0;34m,\u001b[0m \u001b[0mmax_Lt_frac\u001b[0m\u001b[0;34m,\u001b[0m \u001b[0minflection_pt\u001b[0m\u001b[0;34m,\u001b[0m \u001b[0mcurvature\u001b[0m\u001b[0;34m)\u001b[0m\u001b[0;34m\u001b[0m\u001b[0;34m\u001b[0m\u001b[0m\n\u001b[0m\u001b[1;32m     14\u001b[0m \u001b[0;34m\u001b[0m\u001b[0m\n\u001b[1;32m     15\u001b[0m     \u001b[0mLt\u001b[0m \u001b[0;34m=\u001b[0m \u001b[0mfrac_Lt\u001b[0m \u001b[0;34m*\u001b[0m \u001b[0mL\u001b[0m\u001b[0;34m\u001b[0m\u001b[0;34m\u001b[0m\u001b[0m\n",
      "\u001b[0;32m<ipython-input-9-1fd67b5b2e98>\u001b[0m in \u001b[0;36mlogistic\u001b[0;34m(x, max_Lt_frac, inflection_pt, curvature)\u001b[0m\n\u001b[1;32m      3\u001b[0m     x value(s) provided based on three curve parameters.\"\"\"\n\u001b[1;32m      4\u001b[0m \u001b[0;34m\u001b[0m\u001b[0m\n\u001b[0;32m----> 5\u001b[0;31m     \u001b[0;32mreturn\u001b[0m \u001b[0mmax_Lt_frac\u001b[0m \u001b[0;34m/\u001b[0m \u001b[0;34m(\u001b[0m\u001b[0;36m1\u001b[0m \u001b[0;34m+\u001b[0m \u001b[0mnp\u001b[0m\u001b[0;34m.\u001b[0m\u001b[0mexp\u001b[0m\u001b[0;34m(\u001b[0m\u001b[0mcurvature\u001b[0m \u001b[0;34m*\u001b[0m \u001b[0;34m(\u001b[0m\u001b[0mx\u001b[0m \u001b[0;34m-\u001b[0m \u001b[0minflection_pt\u001b[0m\u001b[0;34m)\u001b[0m\u001b[0;34m)\u001b[0m\u001b[0;34m)\u001b[0m\u001b[0;34m\u001b[0m\u001b[0;34m\u001b[0m\u001b[0m\n\u001b[0m",
      "\u001b[0;31mKeyboardInterrupt\u001b[0m: "
     ]
    }
   ],
   "source": [
    "# Define params values that give good fold differences at reasonably high production rates\n",
    "# Receptor = Notch1, Ligand = Dll4\n",
    "\n",
    "Kd_t_vals = np.around(np.linspace(0.1,10,num=6),decimals =4)\n",
    "Kd_c_vals = np.around(np.linspace(0.1,10,num=6),decimals =4)\n",
    "aR_vals = np.around(np.linspace(.05, 0.15, num=6), decimals=4) # this range of aR values gives good curve\n",
    "gR = np.log(2) / .8\n",
    "dR = 0.01\n",
    "gT = np.log(2) / .07\n",
    "# aL = 0.4\n",
    "gC = gR # setting gC == gR for now\n",
    "gL = np.log(2) / .3\n",
    "gN = np.log(2) / 1.25\n",
    "\n",
    "for aR in aR_vals:\n",
    "    for Kd_t in Kd_t_vals:\n",
    "        for Kd_c in Kd_c_vals:\n",
    "            \n",
    "            # Define ligand range for titration- x axis for plot; adding ligands \n",
    "            aL_vals = np.around(np.logspace(-2, 2, num=6, base=10.0), decimals=4)\n",
    "            aL_vals = np.insert(aL_vals, 0, 0)\n",
    "\n",
    "            circuit_params = (Kd_t, Kd_c, aR, gR, dR, gT, aL_vals[0], gL, gC, gN)\n",
    "\n",
    "            # Define time series\n",
    "            hr = 48.0 # simulation of 48 hours\n",
    "            interval = 5 # 5 minutes between time steps\n",
    "\n",
    "            convergence_crit = 1 # ≤ 1 percent change in 5 minutes = steady state achieved\n",
    "\n",
    "            # Simulate ligand titration\n",
    "            N_vect, cis_act, cis_inh = titrate_ligand(aL_vals, circuit_params, \n",
    "                                                      hr, interval, convergence_crit)\n",
    "\n",
    "            # Print cis-activation and -inhibition metrics\n",
    "            print('Cis-activation fold-diff:', cis_act)\n",
    "            print('Cis-inhibition efficacy:', cis_inh, '%')\n",
    "\n",
    "            # Added this in to quantify peak width \n",
    "            for i, element in enumerate(significant_change(aL_vals)):\n",
    "                if element == 1:\n",
    "                    start_of_peak = i\n",
    "                    break\n",
    "\n",
    "            for i, element in reversed(list(enumerate(significant_change(aL_vals)))):\n",
    "                if element == 1:\n",
    "                    end_of_peak = i + 1\n",
    "                    break\n",
    "\n",
    "            peak_width = end_of_peak / start_of_peak\n",
    "\n",
    "            # Plot\n",
    "           \n",
    "            if (cis_act>1.5) & (cis_inh >90):\n",
    "                fig, ax = plt.subplots(1, 1, figsize=(7, 6))\n",
    "                plt.plot(aL_vals, N_vect)\n",
    "                plt.title('aR = ' + str(aR)+', peak width: '+str(peak_width))\n",
    "                plt.ylabel('Steady state $N$')\n",
    "                plt.xlabel('$\\\\alpha_L$')\n",
    "                #plt.ylim((0,1))\n",
    "                ax.set_xscale('log')\n",
    "                plt.show()\n",
    "    \n",
    "    "
   ]
  },
  {
   "cell_type": "markdown",
   "metadata": {},
   "source": [
    "# Plotting aR, Kd_t, and Kd_c by peak width"
   ]
  },
  {
   "cell_type": "code",
   "execution_count": 74,
   "metadata": {},
   "outputs": [],
   "source": [
    "Kd_t_vals = np.around(np.linspace(0.1,10,num=6),decimals =4)\n",
    "Kd_c_vals = np.around(np.linspace(0.1,10,num=6),decimals =4)\n",
    "aR_vals = np.around(np.linspace(.05, 0.15, num=6), decimals=4) # this range of aR values gives good curve\n",
    "gR = np.log(2) / .8\n",
    "dR = 0.01\n",
    "gT = np.log(2) / .07\n",
    "# aL = 0.4\n",
    "gC = gR # setting gC == gR for now\n",
    "gL = np.log(2) / .3\n",
    "gN = np.log(2) / 1.25\n",
    "\n",
    "Kd_t = 2.08\n",
    "Kd_c = 4.06\n",
    "aR = 0.15\n",
    "gR = np.log(2) / .8\n",
    "dR = 0.01\n",
    "gT = np.log(2) / .07\n",
    "# aL = 0.4\n",
    "gC = gR # setting gC == gR for now\n",
    "gL = np.log(2) / .3\n",
    "gN = np.log(2) / 1.25\n",
    "\n"
   ]
  },
  {
   "cell_type": "code",
   "execution_count": 79,
   "metadata": {},
   "outputs": [],
   "source": [
    "# Define params values that give good fold differences at reasonably high production rates\n",
    "# Receptor = Notch1, Ligand = Dll4\n",
    "master_array = np.array(())\n",
    "\n",
    "\n",
    "\n",
    "for aR in aR_vals:\n",
    "    for Kd_t in Kd_t_vals:\n",
    "        for Kd_c in Kd_c_vals:\n",
    "            \n",
    "            # Define ligand range for titration- x axis for plot; adding ligands \n",
    "            aL_vals = np.around(np.logspace(-2, 2, num=6, base=10.0), decimals=4)\n",
    "            aL_vals = np.insert(aL_vals, 0, 0)\n",
    "\n",
    "            circuit_params = (Kd_t, Kd_c, aR, gR, dR, gT, aL_vals[0], gL, gC, gN)\n",
    "\n",
    "            # Define time series\n",
    "            hr = 48.0 # simulation of 48 hours\n",
    "            interval = 5 # 5 minutes between time steps\n",
    "\n",
    "            convergence_crit = 1 # ≤ 1 percent change in 5 minutes = steady state achieved\n",
    "\n",
    "            # Simulate ligand titration\n",
    "            N_vect, cis_act, cis_inh = titrate_ligand(aL_vals, circuit_params, \n",
    "                                                      hr, interval, convergence_crit)\n",
    "\n",
    "            # Print cis-activation and -inhibition metrics\n",
    "            #print('Cis-activation fold-diff:', cis_act)\n",
    "            #print('Cis-inhibition efficacy:', cis_inh, '%')\n",
    "\n",
    "            # Added this in to quantify peak width \n",
    "            for i, element in enumerate(significant_change(aL_vals)):\n",
    "                if element == 1:\n",
    "                    start_of_peak = i\n",
    "                    break\n",
    "\n",
    "            for i, element in reversed(list(enumerate(significant_change(aL_vals)))):\n",
    "                if element == 1:\n",
    "                    end_of_peak = i + 1\n",
    "                    break\n",
    "\n",
    "            peak_width = end_of_peak / start_of_peak\n",
    "            Kd_t, Kd_c, aR, gR, dR, gT, aL_vals[0], gL, gC, gN = circuit_params\n",
    "            \n",
    "            create_list = [Kd_t, Kd_c, aR, gR, dR, gT, aL_vals[0], gL, gC, gN, cis_act,cis_inh, peak_width]\n",
    "            \n",
    "            master_array = np.append(master_array,create_list)\n",
    "            #print(master_array)\n",
    "            \n",
    "            # Plot\n",
    "            '''\n",
    "            if (cis_act>1.5) & (cis_inh >90):\n",
    "                fig, ax = plt.subplots(1, 1, figsize=(7, 6))\n",
    "                plt.plot(aL_vals, N_vect)\n",
    "                plt.title('aR = ' + str(aR)+', peak width: '+str(peak_width))\n",
    "                plt.ylabel('Steady state $N$')\n",
    "                plt.xlabel('$\\\\alpha_L$')\n",
    "                plt.ylim((0,1))\n",
    "                ax.set_xscale('log')\n",
    "                plt.show()\n",
    "            '''"
   ]
  },
  {
   "cell_type": "code",
   "execution_count": 91,
   "metadata": {},
   "outputs": [],
   "source": [
    "rows = master_array.size/13"
   ]
  },
  {
   "cell_type": "code",
   "execution_count": 92,
   "metadata": {},
   "outputs": [],
   "source": [
    "master_array = master_array.reshape((int(rows),13))"
   ]
  },
  {
   "cell_type": "code",
   "execution_count": 93,
   "metadata": {},
   "outputs": [],
   "source": [
    "masterdf = pd.DataFrame(master_array)"
   ]
  },
  {
   "cell_type": "code",
   "execution_count": 94,
   "metadata": {},
   "outputs": [],
   "source": [
    "masterdf.columns = ['Kd_t', 'Kd_c', 'aR', 'gR', 'dR', 'gT', 'aL_vals[0]', 'gL', 'gC', 'gN', 'cis_act','cis_inh', 'peak_width']"
   ]
  },
  {
   "cell_type": "code",
   "execution_count": 95,
   "metadata": {},
   "outputs": [
    {
     "data": {
      "text/html": [
       "<div>\n",
       "<style scoped>\n",
       "    .dataframe tbody tr th:only-of-type {\n",
       "        vertical-align: middle;\n",
       "    }\n",
       "\n",
       "    .dataframe tbody tr th {\n",
       "        vertical-align: top;\n",
       "    }\n",
       "\n",
       "    .dataframe thead th {\n",
       "        text-align: right;\n",
       "    }\n",
       "</style>\n",
       "<table border=\"1\" class=\"dataframe\">\n",
       "  <thead>\n",
       "    <tr style=\"text-align: right;\">\n",
       "      <th></th>\n",
       "      <th>Kd_t</th>\n",
       "      <th>Kd_c</th>\n",
       "      <th>aR</th>\n",
       "      <th>gR</th>\n",
       "      <th>dR</th>\n",
       "      <th>gT</th>\n",
       "      <th>aL_vals[0]</th>\n",
       "      <th>gL</th>\n",
       "      <th>gC</th>\n",
       "      <th>gN</th>\n",
       "      <th>cis_act</th>\n",
       "      <th>cis_inh</th>\n",
       "      <th>peak_width</th>\n",
       "    </tr>\n",
       "  </thead>\n",
       "  <tbody>\n",
       "    <tr>\n",
       "      <th>0</th>\n",
       "      <td>0.1</td>\n",
       "      <td>0.10</td>\n",
       "      <td>0.05</td>\n",
       "      <td>0.866434</td>\n",
       "      <td>0.01</td>\n",
       "      <td>9.902103</td>\n",
       "      <td>0.0</td>\n",
       "      <td>2.310491</td>\n",
       "      <td>0.866434</td>\n",
       "      <td>0.554518</td>\n",
       "      <td>71.72</td>\n",
       "      <td>0.0</td>\n",
       "      <td>39.808082</td>\n",
       "    </tr>\n",
       "    <tr>\n",
       "      <th>1</th>\n",
       "      <td>0.1</td>\n",
       "      <td>2.08</td>\n",
       "      <td>0.05</td>\n",
       "      <td>0.866434</td>\n",
       "      <td>0.01</td>\n",
       "      <td>9.902103</td>\n",
       "      <td>0.0</td>\n",
       "      <td>2.310491</td>\n",
       "      <td>0.866434</td>\n",
       "      <td>0.554518</td>\n",
       "      <td>80.08</td>\n",
       "      <td>0.0</td>\n",
       "      <td>39.808082</td>\n",
       "    </tr>\n",
       "    <tr>\n",
       "      <th>2</th>\n",
       "      <td>0.1</td>\n",
       "      <td>4.06</td>\n",
       "      <td>0.05</td>\n",
       "      <td>0.866434</td>\n",
       "      <td>0.01</td>\n",
       "      <td>9.902103</td>\n",
       "      <td>0.0</td>\n",
       "      <td>2.310491</td>\n",
       "      <td>0.866434</td>\n",
       "      <td>0.554518</td>\n",
       "      <td>80.31</td>\n",
       "      <td>0.0</td>\n",
       "      <td>39.808082</td>\n",
       "    </tr>\n",
       "    <tr>\n",
       "      <th>3</th>\n",
       "      <td>0.1</td>\n",
       "      <td>6.04</td>\n",
       "      <td>0.05</td>\n",
       "      <td>0.866434</td>\n",
       "      <td>0.01</td>\n",
       "      <td>9.902103</td>\n",
       "      <td>0.0</td>\n",
       "      <td>2.310491</td>\n",
       "      <td>0.866434</td>\n",
       "      <td>0.554518</td>\n",
       "      <td>80.39</td>\n",
       "      <td>0.0</td>\n",
       "      <td>39.808082</td>\n",
       "    </tr>\n",
       "    <tr>\n",
       "      <th>4</th>\n",
       "      <td>0.1</td>\n",
       "      <td>8.02</td>\n",
       "      <td>0.05</td>\n",
       "      <td>0.866434</td>\n",
       "      <td>0.01</td>\n",
       "      <td>9.902103</td>\n",
       "      <td>0.0</td>\n",
       "      <td>2.310491</td>\n",
       "      <td>0.866434</td>\n",
       "      <td>0.554518</td>\n",
       "      <td>80.43</td>\n",
       "      <td>0.0</td>\n",
       "      <td>39.808082</td>\n",
       "    </tr>\n",
       "  </tbody>\n",
       "</table>\n",
       "</div>"
      ],
      "text/plain": [
       "   Kd_t  Kd_c    aR        gR    dR        gT  aL_vals[0]        gL        gC  \\\n",
       "0   0.1  0.10  0.05  0.866434  0.01  9.902103         0.0  2.310491  0.866434   \n",
       "1   0.1  2.08  0.05  0.866434  0.01  9.902103         0.0  2.310491  0.866434   \n",
       "2   0.1  4.06  0.05  0.866434  0.01  9.902103         0.0  2.310491  0.866434   \n",
       "3   0.1  6.04  0.05  0.866434  0.01  9.902103         0.0  2.310491  0.866434   \n",
       "4   0.1  8.02  0.05  0.866434  0.01  9.902103         0.0  2.310491  0.866434   \n",
       "\n",
       "         gN  cis_act  cis_inh  peak_width  \n",
       "0  0.554518    71.72      0.0   39.808082  \n",
       "1  0.554518    80.08      0.0   39.808082  \n",
       "2  0.554518    80.31      0.0   39.808082  \n",
       "3  0.554518    80.39      0.0   39.808082  \n",
       "4  0.554518    80.43      0.0   39.808082  "
      ]
     },
     "execution_count": 95,
     "metadata": {},
     "output_type": "execute_result"
    }
   ],
   "source": [
    "masterdf.head()"
   ]
  },
  {
   "cell_type": "code",
   "execution_count": 96,
   "metadata": {},
   "outputs": [],
   "source": [
    "filename = '/Users/cjko/git/bootcamp/2020-07-30cismasterdf.csv'\n",
    "\n",
    "masterdf.to_csv(filename, sep = ',', index=False)"
   ]
  },
  {
   "cell_type": "markdown",
   "metadata": {},
   "source": [
    "### Read in data"
   ]
  },
  {
   "cell_type": "code",
   "execution_count": 97,
   "metadata": {},
   "outputs": [],
   "source": [
    "# Read in data from stored file -- why did you have to reread in the file if we made it up there^^???\n",
    "\n",
    "file = '/Users/cjko/git/bootcamp/2020-07-30cismasterdf.csv'\n",
    "masterdf = pd.read_csv(file)"
   ]
  },
  {
   "cell_type": "code",
   "execution_count": 98,
   "metadata": {},
   "outputs": [],
   "source": [
    "masterdf=masterdf.sort_values(by=['peak_width']).reset_index()"
   ]
  },
  {
   "cell_type": "code",
   "execution_count": 99,
   "metadata": {},
   "outputs": [
    {
     "data": {
      "text/html": [
       "<div>\n",
       "<style scoped>\n",
       "    .dataframe tbody tr th:only-of-type {\n",
       "        vertical-align: middle;\n",
       "    }\n",
       "\n",
       "    .dataframe tbody tr th {\n",
       "        vertical-align: top;\n",
       "    }\n",
       "\n",
       "    .dataframe thead th {\n",
       "        text-align: right;\n",
       "    }\n",
       "</style>\n",
       "<table border=\"1\" class=\"dataframe\">\n",
       "  <thead>\n",
       "    <tr style=\"text-align: right;\">\n",
       "      <th></th>\n",
       "      <th>index</th>\n",
       "      <th>Kd_t</th>\n",
       "      <th>Kd_c</th>\n",
       "      <th>aR</th>\n",
       "      <th>gR</th>\n",
       "      <th>dR</th>\n",
       "      <th>gT</th>\n",
       "      <th>aL_vals[0]</th>\n",
       "      <th>gL</th>\n",
       "      <th>gC</th>\n",
       "      <th>gN</th>\n",
       "      <th>cis_act</th>\n",
       "      <th>cis_inh</th>\n",
       "      <th>peak_width</th>\n",
       "    </tr>\n",
       "  </thead>\n",
       "  <tbody>\n",
       "    <tr>\n",
       "      <th>211</th>\n",
       "      <td>36</td>\n",
       "      <td>0.10</td>\n",
       "      <td>0.10</td>\n",
       "      <td>0.07</td>\n",
       "      <td>0.866434</td>\n",
       "      <td>0.01</td>\n",
       "      <td>9.902103</td>\n",
       "      <td>0.0</td>\n",
       "      <td>2.310491</td>\n",
       "      <td>0.866434</td>\n",
       "      <td>0.554518</td>\n",
       "      <td>71.67</td>\n",
       "      <td>0.00</td>\n",
       "      <td>39.808082</td>\n",
       "    </tr>\n",
       "    <tr>\n",
       "      <th>212</th>\n",
       "      <td>21</td>\n",
       "      <td>6.04</td>\n",
       "      <td>6.04</td>\n",
       "      <td>0.05</td>\n",
       "      <td>0.866434</td>\n",
       "      <td>0.01</td>\n",
       "      <td>9.902103</td>\n",
       "      <td>0.0</td>\n",
       "      <td>2.310491</td>\n",
       "      <td>0.866434</td>\n",
       "      <td>0.554518</td>\n",
       "      <td>69.99</td>\n",
       "      <td>0.00</td>\n",
       "      <td>39.808082</td>\n",
       "    </tr>\n",
       "    <tr>\n",
       "      <th>213</th>\n",
       "      <td>20</td>\n",
       "      <td>6.04</td>\n",
       "      <td>4.06</td>\n",
       "      <td>0.05</td>\n",
       "      <td>0.866434</td>\n",
       "      <td>0.01</td>\n",
       "      <td>9.902103</td>\n",
       "      <td>0.0</td>\n",
       "      <td>2.310491</td>\n",
       "      <td>0.866434</td>\n",
       "      <td>0.554518</td>\n",
       "      <td>66.45</td>\n",
       "      <td>0.00</td>\n",
       "      <td>39.808082</td>\n",
       "    </tr>\n",
       "    <tr>\n",
       "      <th>214</th>\n",
       "      <td>18</td>\n",
       "      <td>6.04</td>\n",
       "      <td>0.10</td>\n",
       "      <td>0.05</td>\n",
       "      <td>0.866434</td>\n",
       "      <td>0.01</td>\n",
       "      <td>9.902103</td>\n",
       "      <td>0.0</td>\n",
       "      <td>2.310491</td>\n",
       "      <td>0.866434</td>\n",
       "      <td>0.554518</td>\n",
       "      <td>5.95</td>\n",
       "      <td>65.16</td>\n",
       "      <td>39.808082</td>\n",
       "    </tr>\n",
       "    <tr>\n",
       "      <th>215</th>\n",
       "      <td>0</td>\n",
       "      <td>0.10</td>\n",
       "      <td>0.10</td>\n",
       "      <td>0.05</td>\n",
       "      <td>0.866434</td>\n",
       "      <td>0.01</td>\n",
       "      <td>9.902103</td>\n",
       "      <td>0.0</td>\n",
       "      <td>2.310491</td>\n",
       "      <td>0.866434</td>\n",
       "      <td>0.554518</td>\n",
       "      <td>71.72</td>\n",
       "      <td>0.00</td>\n",
       "      <td>39.808082</td>\n",
       "    </tr>\n",
       "  </tbody>\n",
       "</table>\n",
       "</div>"
      ],
      "text/plain": [
       "     index  Kd_t  Kd_c    aR        gR    dR        gT  aL_vals[0]        gL  \\\n",
       "211     36  0.10  0.10  0.07  0.866434  0.01  9.902103         0.0  2.310491   \n",
       "212     21  6.04  6.04  0.05  0.866434  0.01  9.902103         0.0  2.310491   \n",
       "213     20  6.04  4.06  0.05  0.866434  0.01  9.902103         0.0  2.310491   \n",
       "214     18  6.04  0.10  0.05  0.866434  0.01  9.902103         0.0  2.310491   \n",
       "215      0  0.10  0.10  0.05  0.866434  0.01  9.902103         0.0  2.310491   \n",
       "\n",
       "           gC        gN  cis_act  cis_inh  peak_width  \n",
       "211  0.866434  0.554518    71.67     0.00   39.808082  \n",
       "212  0.866434  0.554518    69.99     0.00   39.808082  \n",
       "213  0.866434  0.554518    66.45     0.00   39.808082  \n",
       "214  0.866434  0.554518     5.95    65.16   39.808082  \n",
       "215  0.866434  0.554518    71.72     0.00   39.808082  "
      ]
     },
     "execution_count": 99,
     "metadata": {},
     "output_type": "execute_result"
    }
   ],
   "source": [
    "masterdf.tail()"
   ]
  },
  {
   "cell_type": "code",
   "execution_count": 100,
   "metadata": {},
   "outputs": [
    {
     "data": {
      "text/plain": [
       "(array([144.,  28.,   5.,   2.,   0.,   0.,   0.,   0.,   0.,  37.]),\n",
       " array([0.22314355, 0.56923619, 0.91532883, 1.26142148, 1.60751412,\n",
       "        1.95360676, 2.2996994 , 2.64579204, 2.99188468, 3.33797733,\n",
       "        3.68406997]),\n",
       " <a list of 10 Patch objects>)"
      ]
     },
     "execution_count": 100,
     "metadata": {},
     "output_type": "execute_result"
    },
    {
     "data": {
      "image/png": "[encoded data removed]",
      "text/plain": [
       "<Figure size 432x288 with 1 Axes>"
      ]
     },
     "metadata": {
      "needs_background": "light"
     },
     "output_type": "display_data"
    }
   ],
   "source": [
    "plt.hist(np.log(masterdf['peak_width']))\n"
   ]
  },
  {
   "cell_type": "code",
   "execution_count": 101,
   "metadata": {},
   "outputs": [
    {
     "data": {
      "text/plain": [
       "array([0.09, 0.13, 0.15, 0.11, 0.07, 0.05])"
      ]
     },
     "execution_count": 101,
     "metadata": {},
     "output_type": "execute_result"
    }
   ],
   "source": [
    "pd.Series.unique(masterdf['aR'])"
   ]
  },
  {
   "cell_type": "code",
   "execution_count": 103,
   "metadata": {},
   "outputs": [
    {
     "data": {
      "text/plain": [
       "array([ 1.25      ,  1.33333333,  1.4       ,  1.5       ,  1.66666667,\n",
       "        1.75      ,  2.        ,  2.33333333,  2.5       ,  3.5       ,\n",
       "        4.        , 39.80808241])"
      ]
     },
     "execution_count": 103,
     "metadata": {},
     "output_type": "execute_result"
    }
   ],
   "source": [
    "pd.Series.unique(masterdf['peak_width'])"
   ]
  },
  {
   "cell_type": "markdown",
   "metadata": {},
   "source": [
    "# when $Kd_t=Kd_c \\implies$ larger peak width\n",
    "\n",
    "# USE HEAT MAPS"
   ]
  },
  {
   "cell_type": "code",
   "execution_count": 20,
   "metadata": {},
   "outputs": [
    {
     "data": {
      "text/html": [
       "\n",
       "    <div class=\"bk-root\">\n",
       "        <a href=\"https://bokeh.org\" target=\"_blank\" class=\"bk-logo bk-logo-small bk-logo-notebook\"></a>\n",
       "        <span id=\"1001\">Loading BokehJS ...</span>\n",
       "    </div>"
      ]
     },
     "metadata": {},
     "output_type": "display_data"
    },
    {
     "data": {
      "application/javascript": [
       "\n",
       "(function(root) {\n",
       "  function now() {\n",
       "    return new Date();\n",
       "  }\n",
       "\n",
       "  var force = true;\n",
       "\n",
       "  if (typeof root._bokeh_onload_callbacks === \"undefined\" || force === true) {\n",
       "    root._bokeh_onload_callbacks = [];\n",
       "    root._bokeh_is_loading = undefined;\n",
       "  }\n",
       "\n",
       "  var JS_MIME_TYPE = 'application/javascript';\n",
       "  var HTML_MIME_TYPE = 'text/html';\n",
       "  var EXEC_MIME_TYPE = 'application/vnd.bokehjs_exec.v0+json';\n",
       "  var CLASS_NAME = 'output_bokeh rendered_html';\n",
       "\n",
       "  /**\n",
       "   * Render data to the DOM node\n",
       "   */\n",
       "  function render(props, node) {\n",
       "    var script = document.createElement(\"script\");\n",
       "    node.appendChild(script);\n",
       "  }\n",
       "\n",
       "  /**\n",
       "   * Handle when an output is cleared or removed\n",
       "   */\n",
       "  function handleClearOutput(event, handle) {\n",
       "    var cell = handle.cell;\n",
       "\n",
       "    var id = cell.output_area._bokeh_element_id;\n",
       "    var server_id = cell.output_area._bokeh_server_id;\n",
       "    // Clean up Bokeh references\n",
       "    if (id != null && id in Bokeh.index) {\n",
       "      Bokeh.index[id].model.document.clear();\n",
       "      delete Bokeh.index[id];\n",
       "    }\n",
       "\n",
       "    if (server_id !== undefined) {\n",
       "      // Clean up Bokeh references\n",
       "      var cmd = \"from bokeh.io.state import curstate; print(curstate().uuid_to_server['\" + server_id + \"'].get_sessions()[0].document.roots[0]._id)\";\n",
       "      cell.notebook.kernel.execute(cmd, {\n",
       "        iopub: {\n",
       "          output: function(msg) {\n",
       "            var id = msg.content.text.trim();\n",
       "            if (id in Bokeh.index) {\n",
       "              Bokeh.index[id].model.document.clear();\n",
       "              delete Bokeh.index[id];\n",
       "            }\n",
       "          }\n",
       "        }\n",
       "      });\n",
       "      // Destroy server and session\n",
       "      var cmd = \"import bokeh.io.notebook as ion; ion.destroy_server('\" + server_id + \"')\";\n",
       "      cell.notebook.kernel.execute(cmd);\n",
       "    }\n",
       "  }\n",
       "\n",
       "  /**\n",
       "   * Handle when a new output is added\n",
       "   */\n",
       "  function handleAddOutput(event, handle) {\n",
       "    var output_area = handle.output_area;\n",
       "    var output = handle.output;\n",
       "\n",
       "    // limit handleAddOutput to display_data with EXEC_MIME_TYPE content only\n",
       "    if ((output.output_type != \"display_data\") || (!output.data.hasOwnProperty(EXEC_MIME_TYPE))) {\n",
       "      return\n",
       "    }\n",
       "\n",
       "    var toinsert = output_area.element.find(\".\" + CLASS_NAME.split(' ')[0]);\n",
       "\n",
       "    if (output.metadata[EXEC_MIME_TYPE][\"id\"] !== undefined) {\n",
       "      toinsert[toinsert.length - 1].firstChild.textContent = output.data[JS_MIME_TYPE];\n",
       "      // store reference to embed id on output_area\n",
       "      output_area._bokeh_element_id = output.metadata[EXEC_MIME_TYPE][\"id\"];\n",
       "    }\n",
       "    if (output.metadata[EXEC_MIME_TYPE][\"server_id\"] !== undefined) {\n",
       "      var bk_div = document.createElement(\"div\");\n",
       "      bk_div.innerHTML = output.data[HTML_MIME_TYPE];\n",
       "      var script_attrs = bk_div.children[0].attributes;\n",
       "      for (var i = 0; i < script_attrs.length; i++) {\n",
       "        toinsert[toinsert.length - 1].firstChild.setAttribute(script_attrs[i].name, script_attrs[i].value);\n",
       "        toinsert[toinsert.length - 1].firstChild.textContent = bk_div.children[0].textContent\n",
       "      }\n",
       "      // store reference to server id on output_area\n",
       "      output_area._bokeh_server_id = output.metadata[EXEC_MIME_TYPE][\"server_id\"];\n",
       "    }\n",
       "  }\n",
       "\n",
       "  function register_renderer(events, OutputArea) {\n",
       "\n",
       "    function append_mime(data, metadata, element) {\n",
       "      // create a DOM node to render to\n",
       "      var toinsert = this.create_output_subarea(\n",
       "        metadata,\n",
       "        CLASS_NAME,\n",
       "        EXEC_MIME_TYPE\n",
       "      );\n",
       "      this.keyboard_manager.register_events(toinsert);\n",
       "      // Render to node\n",
       "      var props = {data: data, metadata: metadata[EXEC_MIME_TYPE]};\n",
       "      render(props, toinsert[toinsert.length - 1]);\n",
       "      element.append(toinsert);\n",
       "      return toinsert\n",
       "    }\n",
       "\n",
       "    /* Handle when an output is cleared or removed */\n",
       "    events.on('clear_output.CodeCell', handleClearOutput);\n",
       "    events.on('delete.Cell', handleClearOutput);\n",
       "\n",
       "    /* Handle when a new output is added */\n",
       "    events.on('output_added.OutputArea', handleAddOutput);\n",
       "\n",
       "    /**\n",
       "     * Register the mime type and append_mime function with output_area\n",
       "     */\n",
       "    OutputArea.prototype.register_mime_type(EXEC_MIME_TYPE, append_mime, {\n",
       "      /* Is output safe? */\n",
       "      safe: true,\n",
       "      /* Index of renderer in `output_area.display_order` */\n",
       "      index: 0\n",
       "    });\n",
       "  }\n",
       "\n",
       "  // register the mime type if in Jupyter Notebook environment and previously unregistered\n",
       "  if (root.Jupyter !== undefined) {\n",
       "    var events = require('base/js/events');\n",
       "    var OutputArea = require('notebook/js/outputarea').OutputArea;\n",
       "\n",
       "    if (OutputArea.prototype.mime_types().indexOf(EXEC_MIME_TYPE) == -1) {\n",
       "      register_renderer(events, OutputArea);\n",
       "    }\n",
       "  }\n",
       "\n",
       "  \n",
       "  if (typeof (root._bokeh_timeout) === \"undefined\" || force === true) {\n",
       "    root._bokeh_timeout = Date.now() + 5000;\n",
       "    root._bokeh_failed_load = false;\n",
       "  }\n",
       "\n",
       "  var NB_LOAD_WARNING = {'data': {'text/html':\n",
       "     \"<div style='background-color: #fdd'>\\n\"+\n",
       "     \"<p>\\n\"+\n",
       "     \"BokehJS does not appear to have successfully loaded. If loading BokehJS from CDN, this \\n\"+\n",
       "     \"may be due to a slow or bad network connection. Possible fixes:\\n\"+\n",
       "     \"</p>\\n\"+\n",
       "     \"<ul>\\n\"+\n",
       "     \"<li>re-rerun `output_notebook()` to attempt to load from CDN again, or</li>\\n\"+\n",
       "     \"<li>use INLINE resources instead, as so:</li>\\n\"+\n",
       "     \"</ul>\\n\"+\n",
       "     \"<code>\\n\"+\n",
       "     \"from bokeh.resources import INLINE\\n\"+\n",
       "     \"output_notebook(resources=INLINE)\\n\"+\n",
       "     \"</code>\\n\"+\n",
       "     \"</div>\"}};\n",
       "\n",
       "  function display_loaded() {\n",
       "    var el = document.getElementById(\"1001\");\n",
       "    if (el != null) {\n",
       "      el.textContent = \"BokehJS is loading...\";\n",
       "    }\n",
       "    if (root.Bokeh !== undefined) {\n",
       "      if (el != null) {\n",
       "        el.textContent = \"BokehJS \" + root.Bokeh.version + \" successfully loaded.\";\n",
       "      }\n",
       "    } else if (Date.now() < root._bokeh_timeout) {\n",
       "      setTimeout(display_loaded, 100)\n",
       "    }\n",
       "  }\n",
       "\n",
       "\n",
       "  function run_callbacks() {\n",
       "    try {\n",
       "      root._bokeh_onload_callbacks.forEach(function(callback) {\n",
       "        if (callback != null)\n",
       "          callback();\n",
       "      });\n",
       "    } finally {\n",
       "      delete root._bokeh_onload_callbacks\n",
       "    }\n",
       "    console.debug(\"Bokeh: all callbacks have finished\");\n",
       "  }\n",
       "\n",
       "  function load_libs(css_urls, js_urls, callback) {\n",
       "    if (css_urls == null) css_urls = [];\n",
       "    if (js_urls == null) js_urls = [];\n",
       "\n",
       "    root._bokeh_onload_callbacks.push(callback);\n",
       "    if (root._bokeh_is_loading > 0) {\n",
       "      console.debug(\"Bokeh: BokehJS is being loaded, scheduling callback at\", now());\n",
       "      return null;\n",
       "    }\n",
       "    if (js_urls == null || js_urls.length === 0) {\n",
       "      run_callbacks();\n",
       "      return null;\n",
       "    }\n",
       "    console.debug(\"Bokeh: BokehJS not loaded, scheduling load and callback at\", now());\n",
       "    root._bokeh_is_loading = css_urls.length + js_urls.length;\n",
       "\n",
       "    function on_load() {\n",
       "      root._bokeh_is_loading--;\n",
       "      if (root._bokeh_is_loading === 0) {\n",
       "        console.debug(\"Bokeh: all BokehJS libraries/stylesheets loaded\");\n",
       "        run_callbacks()\n",
       "      }\n",
       "    }\n",
       "\n",
       "    function on_error() {\n",
       "      console.error(\"failed to load \" + url);\n",
       "    }\n",
       "\n",
       "    for (var i = 0; i < css_urls.length; i++) {\n",
       "      var url = css_urls[i];\n",
       "      const element = document.createElement(\"link\");\n",
       "      element.onload = on_load;\n",
       "      element.onerror = on_error;\n",
       "      element.rel = \"stylesheet\";\n",
       "      element.type = \"text/css\";\n",
       "      element.href = url;\n",
       "      console.debug(\"Bokeh: injecting link tag for BokehJS stylesheet: \", url);\n",
       "      document.body.appendChild(element);\n",
       "    }\n",
       "\n",
       "    const hashes = {\"https://cdn.bokeh.org/bokeh/release/bokeh-2.0.2.min.js\": \"ufR9RFnRs6lniiaFvtJziE0YeidtAgBRH6ux2oUItHw5WTvE1zuk9uzhUU/FJXDp\", \"https://cdn.bokeh.org/bokeh/release/bokeh-widgets-2.0.2.min.js\": \"8QM/PGWBT+IssZuRcDcjzwIh1mkOmJSoNMmyYDZbCfXJg3Ap1lEvdVgFuSAwhb/J\", \"https://cdn.bokeh.org/bokeh/release/bokeh-tables-2.0.2.min.js\": \"Jm8cH3Rg0P6UeZhVY5cLy1WzKajUT9KImCY+76hEqrcJt59/d8GPvFHjCkYgnSIn\", \"https://cdn.bokeh.org/bokeh/release/bokeh-gl-2.0.2.min.js\": \"Ozhzj+SI7ywm74aOI/UajcWz+C0NjsPunEVyVIrxzYkB+jA+2tUw8x5xJCbVtK5I\"};\n",
       "\n",
       "    for (var i = 0; i < js_urls.length; i++) {\n",
       "      var url = js_urls[i];\n",
       "      var element = document.createElement('script');\n",
       "      element.onload = on_load;\n",
       "      element.onerror = on_error;\n",
       "      element.async = false;\n",
       "      element.src = url;\n",
       "      if (url in hashes) {\n",
       "        element.crossOrigin = \"anonymous\";\n",
       "        element.integrity = \"sha384-\" + hashes[url];\n",
       "      }\n",
       "      console.debug(\"Bokeh: injecting script tag for BokehJS library: \", url);\n",
       "      document.head.appendChild(element);\n",
       "    }\n",
       "  };\n",
       "\n",
       "  function inject_raw_css(css) {\n",
       "    const element = document.createElement(\"style\");\n",
       "    element.appendChild(document.createTextNode(css));\n",
       "    document.body.appendChild(element);\n",
       "  }\n",
       "\n",
       "  \n",
       "  var js_urls = [\"https://cdn.bokeh.org/bokeh/release/bokeh-2.0.2.min.js\", \"https://cdn.bokeh.org/bokeh/release/bokeh-widgets-2.0.2.min.js\", \"https://cdn.bokeh.org/bokeh/release/bokeh-tables-2.0.2.min.js\", \"https://cdn.bokeh.org/bokeh/release/bokeh-gl-2.0.2.min.js\"];\n",
       "  var css_urls = [];\n",
       "  \n",
       "\n",
       "  var inline_js = [\n",
       "    function(Bokeh) {\n",
       "      Bokeh.set_log_level(\"info\");\n",
       "    },\n",
       "    function(Bokeh) {\n",
       "    \n",
       "    \n",
       "    }\n",
       "  ];\n",
       "\n",
       "  function run_inline_js() {\n",
       "    \n",
       "    if (root.Bokeh !== undefined || force === true) {\n",
       "      \n",
       "    for (var i = 0; i < inline_js.length; i++) {\n",
       "      inline_js[i].call(root, root.Bokeh);\n",
       "    }\n",
       "    if (force === true) {\n",
       "        display_loaded();\n",
       "      }} else if (Date.now() < root._bokeh_timeout) {\n",
       "      setTimeout(run_inline_js, 100);\n",
       "    } else if (!root._bokeh_failed_load) {\n",
       "      console.log(\"Bokeh: BokehJS failed to load within specified timeout.\");\n",
       "      root._bokeh_failed_load = true;\n",
       "    } else if (force !== true) {\n",
       "      var cell = $(document.getElementById(\"1001\")).parents('.cell').data().cell;\n",
       "      cell.output_area.append_execute_result(NB_LOAD_WARNING)\n",
       "    }\n",
       "\n",
       "  }\n",
       "\n",
       "  if (root._bokeh_is_loading === 0) {\n",
       "    console.debug(\"Bokeh: BokehJS loaded, going straight to plotting\");\n",
       "    run_inline_js();\n",
       "  } else {\n",
       "    load_libs(css_urls, js_urls, function() {\n",
       "      console.debug(\"Bokeh: BokehJS plotting callback run at\", now());\n",
       "      run_inline_js();\n",
       "    });\n",
       "  }\n",
       "}(window));"
      ],
      "application/vnd.bokehjs_load.v0+json": "\n(function(root) {\n  function now() {\n    return new Date();\n  }\n\n  var force = true;\n\n  if (typeof root._bokeh_onload_callbacks === \"undefined\" || force === true) {\n    root._bokeh_onload_callbacks = [];\n    root._bokeh_is_loading = undefined;\n  }\n\n  \n\n  \n  if (typeof (root._bokeh_timeout) === \"undefined\" || force === true) {\n    root._bokeh_timeout = Date.now() + 5000;\n    root._bokeh_failed_load = false;\n  }\n\n  var NB_LOAD_WARNING = {'data': {'text/html':\n     \"<div style='background-color: #fdd'>\\n\"+\n     \"<p>\\n\"+\n     \"BokehJS does not appear to have successfully loaded. If loading BokehJS from CDN, this \\n\"+\n     \"may be due to a slow or bad network connection. Possible fixes:\\n\"+\n     \"</p>\\n\"+\n     \"<ul>\\n\"+\n     \"<li>re-rerun `output_notebook()` to attempt to load from CDN again, or</li>\\n\"+\n     \"<li>use INLINE resources instead, as so:</li>\\n\"+\n     \"</ul>\\n\"+\n     \"<code>\\n\"+\n     \"from bokeh.resources import INLINE\\n\"+\n     \"output_notebook(resources=INLINE)\\n\"+\n     \"</code>\\n\"+\n     \"</div>\"}};\n\n  function display_loaded() {\n    var el = document.getElementById(\"1001\");\n    if (el != null) {\n      el.textContent = \"BokehJS is loading...\";\n    }\n    if (root.Bokeh !== undefined) {\n      if (el != null) {\n        el.textContent = \"BokehJS \" + root.Bokeh.version + \" successfully loaded.\";\n      }\n    } else if (Date.now() < root._bokeh_timeout) {\n      setTimeout(display_loaded, 100)\n    }\n  }\n\n\n  function run_callbacks() {\n    try {\n      root._bokeh_onload_callbacks.forEach(function(callback) {\n        if (callback != null)\n          callback();\n      });\n    } finally {\n      delete root._bokeh_onload_callbacks\n    }\n    console.debug(\"Bokeh: all callbacks have finished\");\n  }\n\n  function load_libs(css_urls, js_urls, callback) {\n    if (css_urls == null) css_urls = [];\n    if (js_urls == null) js_urls = [];\n\n    root._bokeh_onload_callbacks.push(callback);\n    if (root._bokeh_is_loading > 0) {\n      console.debug(\"Bokeh: BokehJS is being loaded, scheduling callback at\", now());\n      return null;\n    }\n    if (js_urls == null || js_urls.length === 0) {\n      run_callbacks();\n      return null;\n    }\n    console.debug(\"Bokeh: BokehJS not loaded, scheduling load and callback at\", now());\n    root._bokeh_is_loading = css_urls.length + js_urls.length;\n\n    function on_load() {\n      root._bokeh_is_loading--;\n      if (root._bokeh_is_loading === 0) {\n        console.debug(\"Bokeh: all BokehJS libraries/stylesheets loaded\");\n        run_callbacks()\n      }\n    }\n\n    function on_error() {\n      console.error(\"failed to load \" + url);\n    }\n\n    for (var i = 0; i < css_urls.length; i++) {\n      var url = css_urls[i];\n      const element = document.createElement(\"link\");\n      element.onload = on_load;\n      element.onerror = on_error;\n      element.rel = \"stylesheet\";\n      element.type = \"text/css\";\n      element.href = url;\n      console.debug(\"Bokeh: injecting link tag for BokehJS stylesheet: \", url);\n      document.body.appendChild(element);\n    }\n\n    const hashes = {\"https://cdn.bokeh.org/bokeh/release/bokeh-2.0.2.min.js\": \"ufR9RFnRs6lniiaFvtJziE0YeidtAgBRH6ux2oUItHw5WTvE1zuk9uzhUU/FJXDp\", \"https://cdn.bokeh.org/bokeh/release/bokeh-widgets-2.0.2.min.js\": \"8QM/PGWBT+IssZuRcDcjzwIh1mkOmJSoNMmyYDZbCfXJg3Ap1lEvdVgFuSAwhb/J\", \"https://cdn.bokeh.org/bokeh/release/bokeh-tables-2.0.2.min.js\": \"Jm8cH3Rg0P6UeZhVY5cLy1WzKajUT9KImCY+76hEqrcJt59/d8GPvFHjCkYgnSIn\", \"https://cdn.bokeh.org/bokeh/release/bokeh-gl-2.0.2.min.js\": \"Ozhzj+SI7ywm74aOI/UajcWz+C0NjsPunEVyVIrxzYkB+jA+2tUw8x5xJCbVtK5I\"};\n\n    for (var i = 0; i < js_urls.length; i++) {\n      var url = js_urls[i];\n      var element = document.createElement('script');\n      element.onload = on_load;\n      element.onerror = on_error;\n      element.async = false;\n      element.src = url;\n      if (url in hashes) {\n        element.crossOrigin = \"anonymous\";\n        element.integrity = \"sha384-\" + hashes[url];\n      }\n      console.debug(\"Bokeh: injecting script tag for BokehJS library: \", url);\n      document.head.appendChild(element);\n    }\n  };\n\n  function inject_raw_css(css) {\n    const element = document.createElement(\"style\");\n    element.appendChild(document.createTextNode(css));\n    document.body.appendChild(element);\n  }\n\n  \n  var js_urls = [\"https://cdn.bokeh.org/bokeh/release/bokeh-2.0.2.min.js\", \"https://cdn.bokeh.org/bokeh/release/bokeh-widgets-2.0.2.min.js\", \"https://cdn.bokeh.org/bokeh/release/bokeh-tables-2.0.2.min.js\", \"https://cdn.bokeh.org/bokeh/release/bokeh-gl-2.0.2.min.js\"];\n  var css_urls = [];\n  \n\n  var inline_js = [\n    function(Bokeh) {\n      Bokeh.set_log_level(\"info\");\n    },\n    function(Bokeh) {\n    \n    \n    }\n  ];\n\n  function run_inline_js() {\n    \n    if (root.Bokeh !== undefined || force === true) {\n      \n    for (var i = 0; i < inline_js.length; i++) {\n      inline_js[i].call(root, root.Bokeh);\n    }\n    if (force === true) {\n        display_loaded();\n      }} else if (Date.now() < root._bokeh_timeout) {\n      setTimeout(run_inline_js, 100);\n    } else if (!root._bokeh_failed_load) {\n      console.log(\"Bokeh: BokehJS failed to load within specified timeout.\");\n      root._bokeh_failed_load = true;\n    } else if (force !== true) {\n      var cell = $(document.getElementById(\"1001\")).parents('.cell').data().cell;\n      cell.output_area.append_execute_result(NB_LOAD_WARNING)\n    }\n\n  }\n\n  if (root._bokeh_is_loading === 0) {\n    console.debug(\"Bokeh: BokehJS loaded, going straight to plotting\");\n    run_inline_js();\n  } else {\n    load_libs(css_urls, js_urls, function() {\n      console.debug(\"Bokeh: BokehJS plotting callback run at\", now());\n      run_inline_js();\n    });\n  }\n}(window));"
     },
     "metadata": {},
     "output_type": "display_data"
    }
   ],
   "source": [
    "import bokeh_catplot\n",
    "\n",
    "import bokeh.plotting\n",
    "import bokeh.io\n",
    "\n",
    "bokeh.io.output_notebook()"
   ]
  },
  {
   "cell_type": "code",
   "execution_count": 102,
   "metadata": {},
   "outputs": [
    {
     "data": {
      "text/html": [
       "\n",
       "\n",
       "\n",
       "\n",
       "\n",
       "\n",
       "  <div class=\"bk-root\" id=\"f11b567a-8fb3-4709-af6c-3041ad34c863\" data-root-id=\"4485\"></div>\n"
      ]
     },
     "metadata": {},
     "output_type": "display_data"
    },
    {
     "data": {
      "application/javascript": [
       "(function(root) {\n",
       "  function embed_document(root) {\n",
       "    \n",
       "  var docs_json = {\"25e67133-7103-4768-804c-2bec7920ac14\":{\"roots\":{\"references\":[{\"attributes\":{\"below\":[{\"id\":\"4493\"}],\"center\":[{\"id\":\"4496\"},{\"id\":\"4499\"}],\"left\":[{\"id\":\"4497\"}],\"plot_height\":300,\"plot_width\":400,\"renderers\":[{\"id\":\"4519\"},{\"id\":\"4524\"},{\"id\":\"4529\"},{\"id\":\"4534\"},{\"id\":\"4539\"},{\"id\":\"4548\"}],\"title\":{\"id\":\"4668\"},\"toolbar\":{\"id\":\"4507\"},\"x_range\":{\"id\":\"4486\"},\"x_scale\":{\"id\":\"4489\"},\"y_range\":{\"id\":\"4484\"},\"y_scale\":{\"id\":\"4491\"}},\"id\":\"4485\",\"subtype\":\"Figure\",\"type\":\"Plot\"},{\"attributes\":{\"distribution\":\"normal\",\"range\":{\"id\":\"4484\"},\"width\":0.1},\"id\":\"4544\",\"type\":\"Jitter\"},{\"attributes\":{\"fill_alpha\":{\"value\":0.1},\"fill_color\":{\"value\":null},\"height\":{\"value\":0.4},\"left\":{\"field\":\"bottom\"},\"line_alpha\":{\"value\":0.1},\"line_color\":{\"value\":\"gray\"},\"right\":{\"field\":\"top\"},\"y\":{\"field\":\"cat\"}},\"id\":\"4528\",\"type\":\"HBar\"},{\"attributes\":{\"text\":\"\"},\"id\":\"4668\",\"type\":\"Title\"},{\"attributes\":{\"fill_alpha\":{\"value\":0.1},\"fill_color\":{\"value\":\"#1f77b4\"},\"height\":{\"value\":0.4},\"left\":{\"field\":\"middle\"},\"line_alpha\":{\"value\":0.1},\"line_color\":{\"value\":\"gray\"},\"right\":{\"field\":\"middle\"},\"y\":{\"field\":\"cat\"}},\"id\":\"4533\",\"type\":\"HBar\"},{\"attributes\":{\"fill_color\":{\"field\":\"cat\",\"transform\":{\"id\":\"4542\"}},\"line_color\":{\"field\":\"cat\",\"transform\":{\"id\":\"4542\"}},\"x\":{\"field\":\"aR\"},\"y\":{\"field\":\"cat\",\"transform\":{\"id\":\"4544\"}}},\"id\":\"4546\",\"type\":\"Circle\"},{\"attributes\":{\"formatter\":{\"id\":\"4670\"},\"ticker\":{\"id\":\"4498\"}},\"id\":\"4497\",\"type\":\"CategoricalAxis\"},{\"attributes\":{\"data_source\":{\"id\":\"4514\"},\"glyph\":{\"id\":\"4532\"},\"hover_glyph\":null,\"muted_glyph\":null,\"nonselection_glyph\":{\"id\":\"4533\"},\"selection_glyph\":null,\"view\":{\"id\":\"4535\"}},\"id\":\"4534\",\"type\":\"GlyphRenderer\"},{\"attributes\":{\"source\":{\"id\":\"4514\"}},\"id\":\"4530\",\"type\":\"CDSView\"},{\"attributes\":{\"bottom_units\":\"screen\",\"fill_alpha\":0.5,\"fill_color\":\"lightgrey\",\"left_units\":\"screen\",\"level\":\"overlay\",\"line_alpha\":1.0,\"line_color\":\"black\",\"line_dash\":[4,4],\"line_width\":2,\"render_mode\":\"css\",\"right_units\":\"screen\",\"top_units\":\"screen\"},\"id\":\"4506\",\"type\":\"BoxAnnotation\"},{\"attributes\":{\"line_alpha\":{\"value\":0.1},\"line_color\":{\"value\":\"gray\"},\"x0\":{\"field\":\"bottom\"},\"x1\":{\"field\":\"bottom_whisker\"},\"y0\":{\"field\":\"cat\"},\"y1\":{\"field\":\"cat\"}},\"id\":\"4523\",\"type\":\"Segment\"},{\"attributes\":{\"data\":{\"__label\":[\"1.25\",\"2.0\",\"2.5\",\"2.5\",\"2.5\",\"2.5\",\"3.5\",\"4.0\",\"4.0\",\"39.808082408874796\"],\"aR\":[0.15,0.11,0.15,0.15,0.15,0.15,0.15,0.13,0.15,0.07],\"cat\":[\"1.25\",\"2.0\",\"2.5\",\"2.5\",\"2.5\",\"2.5\",\"3.5\",\"4.0\",\"4.0\",\"39.808082408874796\"],\"peak_width\":[1.25,2.0,2.5,2.5,2.5,2.5,3.5,4.0,4.0,39.808082408874796]},\"selected\":{\"id\":\"4677\"},\"selection_policy\":{\"id\":\"4676\"}},\"id\":\"4515\",\"type\":\"ColumnDataSource\"},{\"attributes\":{},\"id\":\"4494\",\"type\":\"BasicTicker\"},{\"attributes\":{\"source\":{\"id\":\"4543\"}},\"id\":\"4549\",\"type\":\"CDSView\"},{\"attributes\":{\"data\":{\"__label\":[\"1.25\",\"1.25\",\"1.25\",\"1.25\",\"1.25\",\"1.25\",\"1.25\",\"1.25\",\"1.25\",\"1.25\",\"1.25\",\"1.25\",\"1.25\",\"1.25\",\"1.25\",\"1.25\",\"1.25\",\"1.3333333333333333\",\"1.3333333333333333\",\"1.3333333333333333\",\"1.3333333333333333\",\"1.3333333333333333\",\"1.3333333333333333\",\"1.3333333333333333\",\"1.3333333333333333\",\"1.3333333333333333\",\"1.3333333333333333\",\"1.3333333333333333\",\"1.3333333333333333\",\"1.3333333333333333\",\"1.3333333333333333\",\"1.3333333333333333\",\"1.3333333333333333\",\"1.3333333333333333\",\"1.3333333333333333\",\"1.3333333333333333\",\"1.3333333333333333\",\"1.3333333333333333\",\"1.4\",\"1.4\",\"1.4\",\"1.4\",\"1.4\",\"1.4\",\"1.4\",\"1.4\",\"1.5\",\"1.5\",\"1.5\",\"1.5\",\"1.5\",\"1.5\",\"1.5\",\"1.5\",\"1.5\",\"1.5\",\"1.5\",\"1.5\",\"1.5\",\"1.5\",\"1.5\",\"1.5\",\"1.5\",\"1.5\",\"1.5\",\"1.5\",\"1.5\",\"1.5\",\"1.5\",\"1.5\",\"1.5\",\"1.5\",\"1.5\",\"1.5\",\"1.5\",\"1.5\",\"1.5\",\"1.5\",\"1.5\",\"1.5\",\"1.5\",\"1.5\",\"1.5\",\"1.5\",\"1.5\",\"1.5\",\"1.5\",\"1.5\",\"1.5\",\"1.5\",\"1.5\",\"1.5\",\"1.5\",\"1.5\",\"1.5\",\"1.5\",\"1.5\",\"1.5\",\"1.5\",\"1.5\",\"1.5\",\"1.5\",\"1.5\",\"1.5\",\"1.5\",\"1.5\",\"1.6666666666666667\",\"1.6666666666666667\",\"1.6666666666666667\",\"1.6666666666666667\",\"1.6666666666666667\",\"1.6666666666666667\",\"1.6666666666666667\",\"1.6666666666666667\",\"1.6666666666666667\",\"1.6666666666666667\",\"1.6666666666666667\",\"1.6666666666666667\",\"1.6666666666666667\",\"1.6666666666666667\",\"1.6666666666666667\",\"1.6666666666666667\",\"1.6666666666666667\",\"1.6666666666666667\",\"1.6666666666666667\",\"1.6666666666666667\",\"1.6666666666666667\",\"1.6666666666666667\",\"1.6666666666666667\",\"1.6666666666666667\",\"1.6666666666666667\",\"1.6666666666666667\",\"1.6666666666666667\",\"1.6666666666666667\",\"1.6666666666666667\",\"1.6666666666666667\",\"1.6666666666666667\",\"1.6666666666666667\",\"1.6666666666666667\",\"1.75\",\"1.75\",\"1.75\",\"1.75\",\"1.75\",\"2.0\",\"2.333333333333333\",\"2.333333333333333\",\"2.333333333333333\",\"2.333333333333333\",\"2.333333333333333\",\"2.333333333333333\",\"2.333333333333333\",\"2.333333333333333\",\"2.333333333333333\",\"2.333333333333333\",\"2.333333333333333\",\"2.333333333333333\",\"2.333333333333333\",\"2.333333333333333\",\"2.333333333333333\",\"2.333333333333333\",\"2.333333333333333\",\"2.333333333333333\",\"2.333333333333333\",\"2.333333333333333\",\"2.333333333333333\",\"2.333333333333333\",\"2.333333333333333\",\"2.333333333333333\",\"2.333333333333333\",\"2.333333333333333\",\"2.333333333333333\",\"2.5\",\"2.5\",\"2.5\",\"2.5\",\"3.5\",\"4.0\",\"4.0\",\"39.808082408874796\",\"39.808082408874796\",\"39.808082408874796\",\"39.808082408874796\",\"39.808082408874796\",\"39.808082408874796\",\"39.808082408874796\",\"39.808082408874796\",\"39.808082408874796\",\"39.808082408874796\",\"39.808082408874796\",\"39.808082408874796\",\"39.808082408874796\",\"39.808082408874796\",\"39.808082408874796\",\"39.808082408874796\",\"39.808082408874796\",\"39.808082408874796\",\"39.808082408874796\",\"39.808082408874796\",\"39.808082408874796\",\"39.808082408874796\",\"39.808082408874796\",\"39.808082408874796\",\"39.808082408874796\",\"39.808082408874796\",\"39.808082408874796\",\"39.808082408874796\",\"39.808082408874796\",\"39.808082408874796\",\"39.808082408874796\",\"39.808082408874796\",\"39.808082408874796\",\"39.808082408874796\",\"39.808082408874796\",\"39.808082408874796\",\"39.808082408874796\"],\"aR\":[0.09,0.13,0.13,0.09,0.09,0.09,0.09,0.09,0.09,0.09,0.09,0.09,0.15,0.13,0.11,0.11,0.11,0.09,0.13,0.13,0.09,0.09,0.09,0.09,0.09,0.09,0.11,0.11,0.13,0.13,0.13,0.09,0.11,0.11,0.11,0.09,0.09,0.09,0.09,0.09,0.09,0.09,0.09,0.09,0.09,0.09,0.09,0.09,0.15,0.15,0.15,0.09,0.11,0.15,0.09,0.07,0.15,0.09,0.13,0.13,0.07,0.13,0.13,0.13,0.13,0.11,0.11,0.11,0.11,0.15,0.09,0.09,0.07,0.07,0.07,0.07,0.07,0.07,0.07,0.07,0.07,0.07,0.07,0.07,0.07,0.07,0.07,0.07,0.07,0.07,0.07,0.07,0.07,0.07,0.07,0.07,0.07,0.07,0.07,0.07,0.07,0.11,0.07,0.07,0.07,0.07,0.11,0.11,0.13,0.15,0.11,0.11,0.11,0.13,0.13,0.15,0.13,0.15,0.15,0.13,0.15,0.13,0.13,0.11,0.11,0.15,0.11,0.13,0.15,0.15,0.15,0.15,0.11,0.13,0.15,0.13,0.11,0.15,0.11,0.11,0.11,0.11,0.11,0.11,0.11,0.13,0.13,0.13,0.13,0.13,0.15,0.15,0.13,0.13,0.15,0.15,0.15,0.15,0.15,0.15,0.13,0.15,0.13,0.15,0.13,0.11,0.11,0.11,0.11,0.11,0.15,0.13,0.15,0.15,0.15,0.15,0.15,0.13,0.15,0.05,0.05,0.05,0.05,0.05,0.05,0.05,0.05,0.05,0.05,0.05,0.05,0.05,0.05,0.05,0.05,0.05,0.05,0.05,0.05,0.05,0.05,0.05,0.05,0.05,0.05,0.05,0.05,0.05,0.05,0.05,0.05,0.07,0.05,0.05,0.05,0.05],\"cat\":[\"1.25\",\"1.25\",\"1.25\",\"1.25\",\"1.25\",\"1.25\",\"1.25\",\"1.25\",\"1.25\",\"1.25\",\"1.25\",\"1.25\",\"1.25\",\"1.25\",\"1.25\",\"1.25\",\"1.25\",\"1.3333333333333333\",\"1.3333333333333333\",\"1.3333333333333333\",\"1.3333333333333333\",\"1.3333333333333333\",\"1.3333333333333333\",\"1.3333333333333333\",\"1.3333333333333333\",\"1.3333333333333333\",\"1.3333333333333333\",\"1.3333333333333333\",\"1.3333333333333333\",\"1.3333333333333333\",\"1.3333333333333333\",\"1.3333333333333333\",\"1.3333333333333333\",\"1.3333333333333333\",\"1.3333333333333333\",\"1.3333333333333333\",\"1.3333333333333333\",\"1.3333333333333333\",\"1.4\",\"1.4\",\"1.4\",\"1.4\",\"1.4\",\"1.4\",\"1.4\",\"1.4\",\"1.5\",\"1.5\",\"1.5\",\"1.5\",\"1.5\",\"1.5\",\"1.5\",\"1.5\",\"1.5\",\"1.5\",\"1.5\",\"1.5\",\"1.5\",\"1.5\",\"1.5\",\"1.5\",\"1.5\",\"1.5\",\"1.5\",\"1.5\",\"1.5\",\"1.5\",\"1.5\",\"1.5\",\"1.5\",\"1.5\",\"1.5\",\"1.5\",\"1.5\",\"1.5\",\"1.5\",\"1.5\",\"1.5\",\"1.5\",\"1.5\",\"1.5\",\"1.5\",\"1.5\",\"1.5\",\"1.5\",\"1.5\",\"1.5\",\"1.5\",\"1.5\",\"1.5\",\"1.5\",\"1.5\",\"1.5\",\"1.5\",\"1.5\",\"1.5\",\"1.5\",\"1.5\",\"1.5\",\"1.5\",\"1.5\",\"1.5\",\"1.5\",\"1.5\",\"1.5\",\"1.6666666666666667\",\"1.6666666666666667\",\"1.6666666666666667\",\"1.6666666666666667\",\"1.6666666666666667\",\"1.6666666666666667\",\"1.6666666666666667\",\"1.6666666666666667\",\"1.6666666666666667\",\"1.6666666666666667\",\"1.6666666666666667\",\"1.6666666666666667\",\"1.6666666666666667\",\"1.6666666666666667\",\"1.6666666666666667\",\"1.6666666666666667\",\"1.6666666666666667\",\"1.6666666666666667\",\"1.6666666666666667\",\"1.6666666666666667\",\"1.6666666666666667\",\"1.6666666666666667\",\"1.6666666666666667\",\"1.6666666666666667\",\"1.6666666666666667\",\"1.6666666666666667\",\"1.6666666666666667\",\"1.6666666666666667\",\"1.6666666666666667\",\"1.6666666666666667\",\"1.6666666666666667\",\"1.6666666666666667\",\"1.6666666666666667\",\"1.75\",\"1.75\",\"1.75\",\"1.75\",\"1.75\",\"2.0\",\"2.333333333333333\",\"2.333333333333333\",\"2.333333333333333\",\"2.333333333333333\",\"2.333333333333333\",\"2.333333333333333\",\"2.333333333333333\",\"2.333333333333333\",\"2.333333333333333\",\"2.333333333333333\",\"2.333333333333333\",\"2.333333333333333\",\"2.333333333333333\",\"2.333333333333333\",\"2.333333333333333\",\"2.333333333333333\",\"2.333333333333333\",\"2.333333333333333\",\"2.333333333333333\",\"2.333333333333333\",\"2.333333333333333\",\"2.333333333333333\",\"2.333333333333333\",\"2.333333333333333\",\"2.333333333333333\",\"2.333333333333333\",\"2.333333333333333\",\"2.5\",\"2.5\",\"2.5\",\"2.5\",\"3.5\",\"4.0\",\"4.0\",\"39.808082408874796\",\"39.808082408874796\",\"39.808082408874796\",\"39.808082408874796\",\"39.808082408874796\",\"39.808082408874796\",\"39.808082408874796\",\"39.808082408874796\",\"39.808082408874796\",\"39.808082408874796\",\"39.808082408874796\",\"39.808082408874796\",\"39.808082408874796\",\"39.808082408874796\",\"39.808082408874796\",\"39.808082408874796\",\"39.808082408874796\",\"39.808082408874796\",\"39.808082408874796\",\"39.808082408874796\",\"39.808082408874796\",\"39.808082408874796\",\"39.808082408874796\",\"39.808082408874796\",\"39.808082408874796\",\"39.808082408874796\",\"39.808082408874796\",\"39.808082408874796\",\"39.808082408874796\",\"39.808082408874796\",\"39.808082408874796\",\"39.808082408874796\",\"39.808082408874796\",\"39.808082408874796\",\"39.808082408874796\",\"39.808082408874796\",\"39.808082408874796\"],\"peak_width\":[1.25,1.25,1.25,1.25,1.25,1.25,1.25,1.25,1.25,1.25,1.25,1.25,1.25,1.25,1.25,1.25,1.25,1.3333333333333333,1.3333333333333333,1.3333333333333333,1.3333333333333333,1.3333333333333333,1.3333333333333333,1.3333333333333333,1.3333333333333333,1.3333333333333333,1.3333333333333333,1.3333333333333333,1.3333333333333333,1.3333333333333333,1.3333333333333333,1.3333333333333333,1.3333333333333333,1.3333333333333333,1.3333333333333333,1.3333333333333333,1.3333333333333333,1.3333333333333333,1.4,1.4,1.4,1.4,1.4,1.4,1.4,1.4,1.5,1.5,1.5,1.5,1.5,1.5,1.5,1.5,1.5,1.5,1.5,1.5,1.5,1.5,1.5,1.5,1.5,1.5,1.5,1.5,1.5,1.5,1.5,1.5,1.5,1.5,1.5,1.5,1.5,1.5,1.5,1.5,1.5,1.5,1.5,1.5,1.5,1.5,1.5,1.5,1.5,1.5,1.5,1.5,1.5,1.5,1.5,1.5,1.5,1.5,1.5,1.5,1.5,1.5,1.5,1.5,1.5,1.5,1.5,1.5,1.6666666666666667,1.6666666666666667,1.6666666666666667,1.6666666666666667,1.6666666666666667,1.6666666666666667,1.6666666666666667,1.6666666666666667,1.6666666666666667,1.6666666666666667,1.6666666666666667,1.6666666666666667,1.6666666666666667,1.6666666666666667,1.6666666666666667,1.6666666666666667,1.6666666666666667,1.6666666666666667,1.6666666666666667,1.6666666666666667,1.6666666666666667,1.6666666666666667,1.6666666666666667,1.6666666666666667,1.6666666666666667,1.6666666666666667,1.6666666666666667,1.6666666666666667,1.6666666666666667,1.6666666666666667,1.6666666666666667,1.6666666666666667,1.6666666666666667,1.75,1.75,1.75,1.75,1.75,2.0,2.333333333333333,2.333333333333333,2.333333333333333,2.333333333333333,2.333333333333333,2.333333333333333,2.333333333333333,2.333333333333333,2.333333333333333,2.333333333333333,2.333333333333333,2.333333333333333,2.333333333333333,2.333333333333333,2.333333333333333,2.333333333333333,2.333333333333333,2.333333333333333,2.333333333333333,2.333333333333333,2.333333333333333,2.333333333333333,2.333333333333333,2.333333333333333,2.333333333333333,2.333333333333333,2.333333333333333,2.5,2.5,2.5,2.5,3.5,4.0,4.0,39.808082408874796,39.808082408874796,39.808082408874796,39.808082408874796,39.808082408874796,39.808082408874796,39.808082408874796,39.808082408874796,39.808082408874796,39.808082408874796,39.808082408874796,39.808082408874796,39.808082408874796,39.808082408874796,39.808082408874796,39.808082408874796,39.808082408874796,39.808082408874796,39.808082408874796,39.808082408874796,39.808082408874796,39.808082408874796,39.808082408874796,39.808082408874796,39.808082408874796,39.808082408874796,39.808082408874796,39.808082408874796,39.808082408874796,39.808082408874796,39.808082408874796,39.808082408874796,39.808082408874796,39.808082408874796,39.808082408874796,39.808082408874796,39.808082408874796]},\"selected\":{\"id\":\"4679\"},\"selection_policy\":{\"id\":\"4678\"}},\"id\":\"4543\",\"type\":\"ColumnDataSource\"},{\"attributes\":{\"active_drag\":\"auto\",\"active_inspect\":\"auto\",\"active_multi\":null,\"active_scroll\":\"auto\",\"active_tap\":\"auto\",\"tools\":[{\"id\":\"4500\"},{\"id\":\"4501\"},{\"id\":\"4502\"},{\"id\":\"4503\"},{\"id\":\"4504\"},{\"id\":\"4505\"}]},\"id\":\"4507\",\"type\":\"Toolbar\"},{\"attributes\":{\"data_source\":{\"id\":\"4514\"},\"glyph\":{\"id\":\"4522\"},\"hover_glyph\":null,\"muted_glyph\":null,\"nonselection_glyph\":{\"id\":\"4523\"},\"selection_glyph\":null,\"view\":{\"id\":\"4525\"}},\"id\":\"4524\",\"type\":\"GlyphRenderer\"},{\"attributes\":{\"source\":{\"id\":\"4514\"}},\"id\":\"4535\",\"type\":\"CDSView\"},{\"attributes\":{\"overlay\":{\"id\":\"4506\"}},\"id\":\"4502\",\"type\":\"BoxZoomTool\"},{\"attributes\":{\"fill_alpha\":{\"value\":0.1},\"fill_color\":{\"field\":\"cat\",\"transform\":{\"id\":\"4542\"}},\"line_alpha\":{\"value\":0.1},\"line_color\":{\"field\":\"cat\",\"transform\":{\"id\":\"4542\"}},\"x\":{\"field\":\"aR\"},\"y\":{\"field\":\"cat\",\"transform\":{\"id\":\"4544\"}}},\"id\":\"4547\",\"type\":\"Circle\"},{\"attributes\":{\"axis_label\":\"aR\",\"formatter\":{\"id\":\"4672\"},\"ticker\":{\"id\":\"4494\"}},\"id\":\"4493\",\"type\":\"LinearAxis\"},{\"attributes\":{\"line_color\":{\"value\":\"gray\"},\"x0\":{\"field\":\"top\"},\"x1\":{\"field\":\"top_whisker\"},\"y0\":{\"field\":\"cat\"},\"y1\":{\"field\":\"cat\"}},\"id\":\"4517\",\"type\":\"Segment\"},{\"attributes\":{\"factors\":[\"1.25\",\"1.3333333333333333\",\"1.4\",\"1.5\",\"1.6666666666666667\",\"1.75\",\"2.0\",\"2.333333333333333\",\"2.5\",\"3.5\",\"4.0\",\"39.808082408874796\"],\"palette\":[\"#1f77b3\",\"#ff7e0e\",\"#2ba02b\",\"#d62628\",\"#9367bc\",\"#8c564b\",\"#e277c1\",\"#7e7e7e\",\"#bcbc21\",\"#16bdcf\",\"#3a0182\",\"#004201\",\"#0fffa8\",\"#5d003f\",\"#bcbcff\",\"#d8afa1\",\"#b80080\",\"#004d52\",\"#6b6400\",\"#7c0100\",\"#6026ff\",\"#ffff9a\",\"#564964\",\"#8cb893\",\"#93fbff\",\"#018267\",\"#90ff00\",\"#8200a0\",\"#ac8944\",\"#5b3400\",\"#ffbff2\",\"#ff6e75\",\"#798cff\",\"#dd00ff\",\"#505646\",\"#004489\",\"#ffbf60\",\"#ff018c\",\"#bdc8cf\",\"#af97b5\",\"#b65600\",\"#017000\",\"#cd87ff\",\"#1cd646\",\"#bfebc3\",\"#7997b5\",\"#a56089\",\"#6e8956\",\"#bc7c75\",\"#8a2844\",\"#00acff\",\"#8ed4ff\",\"#4b6d77\",\"#00d4b1\",\"#9300f2\",\"#8a9500\",\"#5d5b9e\",\"#fddfba\",\"#00939e\",\"#ffdb00\",\"#00aa79\",\"#520067\",\"#000091\",\"#0a5d3d\",\"#a5e275\",\"#623b41\",\"#c6c689\",\"#ff9eb5\",\"#cd4f6b\",\"#ff07d6\",\"#8a3a05\",\"#7e3d70\",\"#ff4901\",\"#602ba5\",\"#1c00ff\",\"#e6dfff\",\"#aa3baf\",\"#d89c00\",\"#a3a39e\",\"#3f69ff\",\"#46490c\",\"#7b6985\",\"#6b978c\",\"#ff9a75\",\"#835bff\",\"#7c6b46\",\"#80b654\",\"#bc0049\",\"#fd93ff\",\"#5d0018\",\"#89d1d1\",\"#9c8cd3\",\"#da6d42\",\"#8a5700\",\"#3b5069\",\"#4b6b3b\",\"#edcfd8\",\"#cfedff\",\"#aa1500\",\"#dfff4f\",\"#ff2a56\",\"#d1499e\",\"#707cb8\",\"#598000\",\"#00e4fd\",\"#774b95\",\"#67d48c\",\"#3d3a72\",\"#ac413f\",\"#d6a166\",\"#c169cd\",\"#69595d\",\"#87aced\",\"#a0a569\",\"#d1aae6\",\"#870062\",\"#00fddb\",\"#672818\",\"#b342ff\",\"#0e59c4\",\"#168742\",\"#90d300\",\"#cd7900\",\"#f959ff\",\"#5b7466\",\"#8eaeb3\",\"#9c7c8c\",\"#4600c6\",\"#6b4d2d\",\"#a56d46\",\"#9e8972\",\"#a8afca\",\"#cd8ca7\",\"#00fd64\",\"#917900\",\"#ff62a1\",\"#f4ffd8\",\"#018cf0\",\"#13aca0\",\"#5b2d59\",\"#89859e\",\"#cfccba\",\"#d4afc4\",\"#dbdd6d\",\"#cffff4\",\"#006485\",\"#006962\",\"#a84167\",\"#2d97c4\",\"#a874ff\",\"#26ba5d\",\"#57b600\",\"#caffa7\",\"#a379aa\",\"#ffbc93\",\"#89e2c1\",\"#0fc8ff\",\"#d400c4\",\"#626d89\",\"#69858e\",\"#4b4d52\",\"#aa6067\",\"#79b5d4\",\"#2b5916\",\"#9a0024\",\"#bdd1f2\",\"#896e67\",\"#69a56b\",\"#855467\",\"#aecdba\",\"#87997e\",\"#cadb00\",\"#9a0390\",\"#ebbc1a\",\"#eb9cd1\",\"#70006e\",\"#b1a131\",\"#ca6b93\",\"#4146a3\",\"#e48c89\",\"#d44400\",\"#c68aca\",\"#b69597\",\"#d41f75\",\"#724bcc\",\"#674d00\",\"#672138\",\"#38564f\",\"#6ebaaa\",\"#853a31\",\"#a5d397\",\"#b8af8e\",\"#d8e4df\",\"#aa00df\",\"#cac1db\",\"#ffdf8c\",\"#e2524d\",\"#66696e\",\"#ff001c\",\"#522d72\",\"#4d906b\",\"#a86d11\",\"#ff9e26\",\"#5ea3af\",\"#c88556\",\"#915997\",\"#a3a1ff\",\"#fdbaba\",\"#242a87\",\"#dbe6a8\",\"#97f2a7\",\"#6793d6\",\"#ba5b3f\",\"#3a5d91\",\"#364f2f\",\"#267c95\",\"#89959a\",\"#cfb356\",\"#004664\",\"#5e5d2f\",\"#8e8e41\",\"#ac3f13\",\"#69953b\",\"#a13d85\",\"#bfb6ba\",\"#acc667\",\"#6469cf\",\"#91af00\",\"#2be2da\",\"#016e36\",\"#ff7952\",\"#42807e\",\"#4fe800\",\"#995428\",\"#5d0a00\",\"#a30057\",\"#0c8700\",\"#5982a7\",\"#ffebfb\",\"#4b6901\",\"#8775d4\",\"#e6c6ff\",\"#a5ffda\",\"#d86e77\",\"#df014b\",\"#69675b\",\"#776ba1\",\"#7e8067\",\"#594685\",\"#0000ca\",\"#7c002a\",\"#97ff72\",\"#b5e2e1\",\"#db52c8\",\"#777734\",\"#57bd8e\"]},\"id\":\"4542\",\"type\":\"CategoricalColorMapper\"},{\"attributes\":{},\"id\":\"4500\",\"type\":\"PanTool\"},{\"attributes\":{\"fill_color\":{\"value\":null},\"line_color\":{\"value\":null},\"x\":{\"field\":\"aR\"},\"y\":{\"field\":\"cat\"}},\"id\":\"4537\",\"type\":\"Circle\"},{\"attributes\":{},\"id\":\"4677\",\"type\":\"Selection\"},{\"attributes\":{},\"id\":\"4504\",\"type\":\"ResetTool\"},{\"attributes\":{\"source\":{\"id\":\"4514\"}},\"id\":\"4520\",\"type\":\"CDSView\"},{\"attributes\":{\"source\":{\"id\":\"4515\"}},\"id\":\"4540\",\"type\":\"CDSView\"},{\"attributes\":{},\"id\":\"4679\",\"type\":\"Selection\"},{\"attributes\":{\"factors\":[\"39.808082408874796\",\"4.0\",\"3.5\",\"2.5\",\"2.333333333333333\",\"2.0\",\"1.75\",\"1.6666666666666667\",\"1.5\",\"1.4\",\"1.3333333333333333\",\"1.25\"]},\"id\":\"4484\",\"type\":\"FactorRange\"},{\"attributes\":{\"data_source\":{\"id\":\"4515\"},\"glyph\":{\"id\":\"4537\"},\"hover_glyph\":null,\"muted_glyph\":null,\"nonselection_glyph\":{\"id\":\"4538\"},\"selection_glyph\":null,\"view\":{\"id\":\"4540\"}},\"id\":\"4539\",\"type\":\"GlyphRenderer\"},{\"attributes\":{},\"id\":\"4501\",\"type\":\"WheelZoomTool\"},{\"attributes\":{\"line_alpha\":{\"value\":0.1},\"line_color\":{\"value\":\"gray\"},\"x0\":{\"field\":\"top\"},\"x1\":{\"field\":\"top_whisker\"},\"y0\":{\"field\":\"cat\"},\"y1\":{\"field\":\"cat\"}},\"id\":\"4518\",\"type\":\"Segment\"},{\"attributes\":{\"data_source\":{\"id\":\"4514\"},\"glyph\":{\"id\":\"4517\"},\"hover_glyph\":null,\"muted_glyph\":null,\"nonselection_glyph\":{\"id\":\"4518\"},\"selection_glyph\":null,\"view\":{\"id\":\"4520\"}},\"id\":\"4519\",\"type\":\"GlyphRenderer\"},{\"attributes\":{\"data_source\":{\"id\":\"4543\"},\"glyph\":{\"id\":\"4546\"},\"hover_glyph\":null,\"muted_glyph\":null,\"nonselection_glyph\":{\"id\":\"4547\"},\"selection_glyph\":null,\"view\":{\"id\":\"4549\"}},\"id\":\"4548\",\"type\":\"GlyphRenderer\"},{\"attributes\":{\"fill_color\":{\"value\":null},\"height\":{\"value\":0.4},\"left\":{\"field\":\"bottom\"},\"line_color\":{\"value\":\"gray\"},\"right\":{\"field\":\"top\"},\"y\":{\"field\":\"cat\"}},\"id\":\"4527\",\"type\":\"HBar\"},{\"attributes\":{\"fill_color\":{\"value\":\"#1f77b4\"},\"height\":{\"value\":0.4},\"left\":{\"field\":\"middle\"},\"line_color\":{\"value\":\"gray\"},\"right\":{\"field\":\"middle\"},\"y\":{\"field\":\"cat\"}},\"id\":\"4532\",\"type\":\"HBar\"},{\"attributes\":{\"axis\":{\"id\":\"4493\"},\"ticker\":null},\"id\":\"4496\",\"type\":\"Grid\"},{\"attributes\":{},\"id\":\"4491\",\"type\":\"CategoricalScale\"},{\"attributes\":{\"data\":{\"__label\":[\"1.25\",\"1.3333333333333333\",\"1.4\",\"1.5\",\"1.6666666666666667\",\"1.75\",\"2.333333333333333\",\"39.808082408874796\"],\"bottom\":[0.09,0.09,0.09,0.07,0.11,0.11,0.13,0.05],\"bottom_whisker\":[0.09,0.09,0.09,0.07,0.11,0.11,0.11,0.05],\"cat\":[\"1.25\",\"1.3333333333333333\",\"1.4\",\"1.5\",\"1.6666666666666667\",\"1.75\",\"2.333333333333333\",\"39.808082408874796\"],\"middle\":[0.09,0.09,0.09,0.07,0.13,0.11,0.13,0.05],\"top\":[0.11,0.11,0.09,0.11,0.15,0.11,0.15,0.05],\"top_whisker\":[0.13,0.13,0.09,0.15,0.15,0.11,0.15,0.05]},\"selected\":{\"id\":\"4675\"},\"selection_policy\":{\"id\":\"4674\"}},\"id\":\"4514\",\"type\":\"ColumnDataSource\"},{\"attributes\":{},\"id\":\"4674\",\"type\":\"UnionRenderers\"},{\"attributes\":{},\"id\":\"4505\",\"type\":\"HelpTool\"},{\"attributes\":{},\"id\":\"4670\",\"type\":\"CategoricalTickFormatter\"},{\"attributes\":{\"line_color\":{\"value\":\"gray\"},\"x0\":{\"field\":\"bottom\"},\"x1\":{\"field\":\"bottom_whisker\"},\"y0\":{\"field\":\"cat\"},\"y1\":{\"field\":\"cat\"}},\"id\":\"4522\",\"type\":\"Segment\"},{\"attributes\":{\"fill_alpha\":{\"value\":0.1},\"fill_color\":{\"value\":null},\"line_alpha\":{\"value\":0.1},\"line_color\":{\"value\":null},\"x\":{\"field\":\"aR\"},\"y\":{\"field\":\"cat\"}},\"id\":\"4538\",\"type\":\"Circle\"},{\"attributes\":{},\"id\":\"4678\",\"type\":\"UnionRenderers\"},{\"attributes\":{},\"id\":\"4503\",\"type\":\"SaveTool\"},{\"attributes\":{},\"id\":\"4675\",\"type\":\"Selection\"},{\"attributes\":{},\"id\":\"4672\",\"type\":\"BasicTickFormatter\"},{\"attributes\":{},\"id\":\"4486\",\"type\":\"DataRange1d\"},{\"attributes\":{\"axis\":{\"id\":\"4497\"},\"dimension\":1,\"grid_line_color\":null,\"ticker\":null},\"id\":\"4499\",\"type\":\"Grid\"},{\"attributes\":{\"source\":{\"id\":\"4514\"}},\"id\":\"4525\",\"type\":\"CDSView\"},{\"attributes\":{},\"id\":\"4676\",\"type\":\"UnionRenderers\"},{\"attributes\":{},\"id\":\"4489\",\"type\":\"LinearScale\"},{\"attributes\":{\"data_source\":{\"id\":\"4514\"},\"glyph\":{\"id\":\"4527\"},\"hover_glyph\":null,\"muted_glyph\":null,\"nonselection_glyph\":{\"id\":\"4528\"},\"selection_glyph\":null,\"view\":{\"id\":\"4530\"}},\"id\":\"4529\",\"type\":\"GlyphRenderer\"},{\"attributes\":{},\"id\":\"4498\",\"type\":\"CategoricalTicker\"}],\"root_ids\":[\"4485\"]},\"title\":\"Bokeh Application\",\"version\":\"2.0.2\"}};\n",
       "  var render_items = [{\"docid\":\"25e67133-7103-4768-804c-2bec7920ac14\",\"root_ids\":[\"4485\"],\"roots\":{\"4485\":\"f11b567a-8fb3-4709-af6c-3041ad34c863\"}}];\n",
       "  root.Bokeh.embed.embed_items_notebook(docs_json, render_items);\n",
       "\n",
       "  }\n",
       "  if (root.Bokeh !== undefined) {\n",
       "    embed_document(root);\n",
       "  } else {\n",
       "    var attempts = 0;\n",
       "    var timer = setInterval(function(root) {\n",
       "      if (root.Bokeh !== undefined) {\n",
       "        clearInterval(timer);\n",
       "        embed_document(root);\n",
       "      } else {\n",
       "        attempts++;\n",
       "        if (attempts > 100) {\n",
       "          clearInterval(timer);\n",
       "          console.log(\"Bokeh: ERROR: Unable to run BokehJS code because BokehJS library is missing\");\n",
       "        }\n",
       "      }\n",
       "    }, 10, root)\n",
       "  }\n",
       "})(window);"
      ],
      "application/vnd.bokehjs_exec.v0+json": ""
     },
     "metadata": {
      "application/vnd.bokehjs_exec.v0+json": {
       "id": "4485"
      }
     },
     "output_type": "display_data"
    },
    {
     "name": "stderr",
     "output_type": "stream",
     "text": [
      "/Users/cjko/opt/anaconda3/lib/python3.7/site-packages/bokeh/io/saving.py:125: UserWarning: save() called but no resources were supplied and output_file(...) was never called, defaulting to resources.CDN\n",
      "  warn(\"save() called but no resources were supplied and output_file(...) was never called, defaulting to resources.CDN\")\n"
     ]
    },
    {
     "data": {
      "text/plain": [
       "'/Users/cjko/git/bootcamp/aRboxscatter.html'"
      ]
     },
     "execution_count": 102,
     "metadata": {},
     "output_type": "execute_result"
    }
   ],
   "source": [
    "\n",
    "p = bokeh_catplot.box(\n",
    "    data=masterdf,\n",
    "    cats='peak_width', # categorical var\n",
    "    val='aR',\n",
    "    horizontal=True,\n",
    "    box_kwargs=dict(fill_color=None, line_color='gray'),\n",
    "    median_kwargs=dict(line_color='gray'),\n",
    "    whisker_kwargs=dict(line_color='gray'),\n",
    ")\n",
    "\n",
    "p = bokeh_catplot.strip(\n",
    "    data=masterdf,\n",
    "    cats='peak_width', # categorical var\n",
    "    val='aR',\n",
    "    jitter=True,\n",
    "    horizontal=True,\n",
    "    p=p\n",
    ")\n",
    "\n",
    "bokeh.io.show(p)\n",
    "\n",
    "bokeh.io.save(\n",
    "    p,\n",
    "    filename='aRboxscatter.html',\n",
    "    title='Bokeh plot'\n",
    ")"
   ]
  },
  {
   "cell_type": "code",
   "execution_count": 106,
   "metadata": {},
   "outputs": [
    {
     "data": {
      "text/html": [
       "<div>\n",
       "<style scoped>\n",
       "    .dataframe tbody tr th:only-of-type {\n",
       "        vertical-align: middle;\n",
       "    }\n",
       "\n",
       "    .dataframe tbody tr th {\n",
       "        vertical-align: top;\n",
       "    }\n",
       "\n",
       "    .dataframe thead th {\n",
       "        text-align: right;\n",
       "    }\n",
       "</style>\n",
       "<table border=\"1\" class=\"dataframe\">\n",
       "  <thead>\n",
       "    <tr style=\"text-align: right;\">\n",
       "      <th></th>\n",
       "      <th>index</th>\n",
       "      <th>Kd_t</th>\n",
       "      <th>Kd_c</th>\n",
       "      <th>aR</th>\n",
       "      <th>gR</th>\n",
       "      <th>dR</th>\n",
       "      <th>gT</th>\n",
       "      <th>aL_vals[0]</th>\n",
       "      <th>gL</th>\n",
       "      <th>gC</th>\n",
       "      <th>gN</th>\n",
       "      <th>cis_act</th>\n",
       "      <th>cis_inh</th>\n",
       "      <th>peak_width</th>\n",
       "    </tr>\n",
       "  </thead>\n",
       "  <tbody>\n",
       "    <tr>\n",
       "      <th>17</th>\n",
       "      <td>82</td>\n",
       "      <td>2.08</td>\n",
       "      <td>8.02</td>\n",
       "      <td>0.09</td>\n",
       "      <td>0.866434</td>\n",
       "      <td>0.01</td>\n",
       "      <td>9.902103</td>\n",
       "      <td>0.0</td>\n",
       "      <td>2.310491</td>\n",
       "      <td>0.866434</td>\n",
       "      <td>0.554518</td>\n",
       "      <td>77.38</td>\n",
       "      <td>0.0</td>\n",
       "      <td>1.333333</td>\n",
       "    </tr>\n",
       "    <tr>\n",
       "      <th>19</th>\n",
       "      <td>155</td>\n",
       "      <td>2.08</td>\n",
       "      <td>10.00</td>\n",
       "      <td>0.13</td>\n",
       "      <td>0.866434</td>\n",
       "      <td>0.01</td>\n",
       "      <td>9.902103</td>\n",
       "      <td>0.0</td>\n",
       "      <td>2.310491</td>\n",
       "      <td>0.866434</td>\n",
       "      <td>0.554518</td>\n",
       "      <td>77.84</td>\n",
       "      <td>0.0</td>\n",
       "      <td>1.333333</td>\n",
       "    </tr>\n",
       "    <tr>\n",
       "      <th>20</th>\n",
       "      <td>83</td>\n",
       "      <td>2.08</td>\n",
       "      <td>10.00</td>\n",
       "      <td>0.09</td>\n",
       "      <td>0.866434</td>\n",
       "      <td>0.01</td>\n",
       "      <td>9.902103</td>\n",
       "      <td>0.0</td>\n",
       "      <td>2.310491</td>\n",
       "      <td>0.866434</td>\n",
       "      <td>0.554518</td>\n",
       "      <td>77.85</td>\n",
       "      <td>0.0</td>\n",
       "      <td>1.333333</td>\n",
       "    </tr>\n",
       "    <tr>\n",
       "      <th>26</th>\n",
       "      <td>119</td>\n",
       "      <td>2.08</td>\n",
       "      <td>10.00</td>\n",
       "      <td>0.11</td>\n",
       "      <td>0.866434</td>\n",
       "      <td>0.01</td>\n",
       "      <td>9.902103</td>\n",
       "      <td>0.0</td>\n",
       "      <td>2.310491</td>\n",
       "      <td>0.866434</td>\n",
       "      <td>0.554518</td>\n",
       "      <td>77.85</td>\n",
       "      <td>0.0</td>\n",
       "      <td>1.333333</td>\n",
       "    </tr>\n",
       "    <tr>\n",
       "      <th>28</th>\n",
       "      <td>154</td>\n",
       "      <td>2.08</td>\n",
       "      <td>8.02</td>\n",
       "      <td>0.13</td>\n",
       "      <td>0.866434</td>\n",
       "      <td>0.01</td>\n",
       "      <td>9.902103</td>\n",
       "      <td>0.0</td>\n",
       "      <td>2.310491</td>\n",
       "      <td>0.866434</td>\n",
       "      <td>0.554518</td>\n",
       "      <td>77.37</td>\n",
       "      <td>0.0</td>\n",
       "      <td>1.333333</td>\n",
       "    </tr>\n",
       "  </tbody>\n",
       "</table>\n",
       "</div>"
      ],
      "text/plain": [
       "    index  Kd_t   Kd_c    aR        gR    dR        gT  aL_vals[0]        gL  \\\n",
       "17     82  2.08   8.02  0.09  0.866434  0.01  9.902103         0.0  2.310491   \n",
       "19    155  2.08  10.00  0.13  0.866434  0.01  9.902103         0.0  2.310491   \n",
       "20     83  2.08  10.00  0.09  0.866434  0.01  9.902103         0.0  2.310491   \n",
       "26    119  2.08  10.00  0.11  0.866434  0.01  9.902103         0.0  2.310491   \n",
       "28    154  2.08   8.02  0.13  0.866434  0.01  9.902103         0.0  2.310491   \n",
       "\n",
       "          gC        gN  cis_act  cis_inh  peak_width  \n",
       "17  0.866434  0.554518    77.38      0.0    1.333333  \n",
       "19  0.866434  0.554518    77.84      0.0    1.333333  \n",
       "20  0.866434  0.554518    77.85      0.0    1.333333  \n",
       "26  0.866434  0.554518    77.85      0.0    1.333333  \n",
       "28  0.866434  0.554518    77.37      0.0    1.333333  "
      ]
     },
     "execution_count": 106,
     "metadata": {},
     "output_type": "execute_result"
    },
    {
     "data": {
      "image/png": "[encoded data removed]",
      "text/plain": [
       "<Figure size 432x288 with 2 Axes>"
      ]
     },
     "metadata": {
      "needs_background": "light"
     },
     "output_type": "display_data"
    }
   ],
   "source": [
    "df_subset = masterdf.loc[(masterdf['Kd_t'] == np.around(Kd_t_vals[1],decimals=4))]\n",
    "# pandas pivot\n",
    "heatmap_data = pd.pivot_table(df_subset, values='peak_width', \n",
    "                     index=['aR'], \n",
    "                     columns='Kd_c')\n",
    "\n",
    "\n",
    "sns.heatmap(heatmap_data)\n",
    "df_subset.head()        "
   ]
  },
  {
   "cell_type": "code",
   "execution_count": 105,
   "metadata": {},
   "outputs": [
    {
     "name": "stdout",
     "output_type": "stream",
     "text": [
      "Cis-activation fold-diff: 73.05\n",
      "Cis-inhibition efficacy: 101.37 %\n",
      "start of peak 0.1\n",
      "end of peak 158.4893\n",
      "peak_width 1584.8929999999998\n"
     ]
    },
    {
     "data": {
      "image/png": "[encoded data removed]",
      "text/plain": [
       "<Figure size 504x432 with 1 Axes>"
      ]
     },
     "metadata": {
      "needs_background": "light"
     },
     "output_type": "display_data"
    }
   ],
   "source": [
    "# Define params values that give good fold differences at reasonably high production rates\n",
    "# Receptor = Notch1, Ligand = Dll4\n",
    "\n",
    "Kd_t = 2.08\n",
    "Kd_c = 4.06\n",
    "aR = 0.15\n",
    "gR = np.log(2) / .8\n",
    "dR = 0.01\n",
    "gT = np.log(2) / .07\n",
    "# aL = 0.4\n",
    "gC = gR # setting gC == gR for now\n",
    "gL = np.log(2) / .3\n",
    "gN = np.log(2) / 1.25\n",
    "\n",
    "# Define ligand range for titration- x axis for plot; adding ligands \n",
    "aL_vals = np.around(np.logspace(-1, 3, num=6, base=10.0), decimals=4)\n",
    "aL_vals = np.insert(aL_vals, 0, 0)\n",
    "\n",
    "circuit_params = (Kd_t, Kd_c, aR, gR, dR, gT, aL_vals[0], gL, gC, gN)\n",
    "\n",
    "# Define time series\n",
    "hr = 48.0 # simulation of 48 hours\n",
    "interval = 5 # 5 minutes between time steps\n",
    "\n",
    "convergence_crit = 1 # ≤ 1 percent change in 5 minutes = steady state achieved\n",
    "\n",
    "# Simulate ligand titration\n",
    "N_vect, cis_act, cis_inh = titrate_ligand(aL_vals, circuit_params, \n",
    "                                          hr, interval, convergence_crit)\n",
    "\n",
    "# Print cis-activation and -inhibition metrics\n",
    "print('Cis-activation fold-diff:', cis_act)\n",
    "print('Cis-inhibition efficacy:', cis_inh, '%')\n",
    "\n",
    "# Added this in to quantify peak width \n",
    "for i, element in enumerate(significant_change(aL_vals)):\n",
    "    if element == 1:\n",
    "        start_of_peak = aL_vals[i]\n",
    "        break\n",
    "\n",
    "for i, element in reversed(list(enumerate(significant_change(aL_vals)))):\n",
    "    if element == 1:\n",
    "        end_of_peak = aL_vals[i + 1]\n",
    "        break\n",
    "\n",
    "peak_width = end_of_peak / start_of_peak\n",
    "    \n",
    "# Plot\n",
    "fig, ax = plt.subplots(1, 1, figsize=(7, 6))\n",
    "\n",
    "plt.plot(aL_vals, N_vect)\n",
    "plt.ylabel('Steady state $N$')\n",
    "plt.xlabel('$\\\\alpha_L$')\n",
    "plt.ylim((0,1))\n",
    "ax.set_xscale('log')\n",
    "print('start of peak', start_of_peak)\n",
    "print('end of peak',end_of_peak)\n",
    "print('peak_width',peak_width)"
   ]
  },
  {
   "cell_type": "code",
   "execution_count": 78,
   "metadata": {},
   "outputs": [
    {
     "name": "stdout",
     "output_type": "stream",
     "text": [
      "Cis-activation fold-diff: 58.52\n",
      "Cis-inhibition efficacy: 101.39 %\n",
      "start of peak 0.631\n",
      "end of peak 25.1189\n",
      "peak_width 39.8080824088748\n"
     ]
    },
    {
     "data": {
      "image/png": "[encoded data removed]",
      "text/plain": [
       "<Figure size 504x432 with 1 Axes>"
      ]
     },
     "metadata": {
      "needs_background": "light"
     },
     "output_type": "display_data"
    }
   ],
   "source": [
    "# Define params values that give good fold differences at reasonably high production rates\n",
    "# Receptor = Notch1, Ligand = Dll4\n",
    "\n",
    "Kd_t = 2.08\n",
    "Kd_c = 2.08\n",
    "aR = 0.11\n",
    "gR = np.log(2) / .8\n",
    "dR = 0.01\n",
    "gT = np.log(2) / .07\n",
    "# aL = 0.4\n",
    "gC = gR # setting gC == gR for now\n",
    "gL = np.log(2) / .3\n",
    "gN = np.log(2) / 1.25\n",
    "\n",
    "# Define ligand range for titration- x axis for plot; adding ligands \n",
    "aL_vals = np.around(np.logspace(-1, 3, num=6, base=10.0), decimals=4)\n",
    "aL_vals = np.insert(aL_vals, 0, 0)\n",
    "\n",
    "circuit_params = (Kd_t, Kd_c, aR, gR, dR, gT, aL_vals[0], gL, gC, gN)\n",
    "\n",
    "# Define time series\n",
    "hr = 48.0 # simulation of 48 hours\n",
    "interval = 5 # 5 minutes between time steps\n",
    "\n",
    "convergence_crit = 1 # ≤ 1 percent change in 5 minutes = steady state achieved\n",
    "\n",
    "# Simulate ligand titration\n",
    "N_vect, cis_act, cis_inh = titrate_ligand(aL_vals, circuit_params, \n",
    "                                          hr, interval, convergence_crit)\n",
    "\n",
    "# Print cis-activation and -inhibition metrics\n",
    "print('Cis-activation fold-diff:', cis_act)\n",
    "print('Cis-inhibition efficacy:', cis_inh, '%')\n",
    "\n",
    "# Added this in to quantify peak width \n",
    "for i, element in enumerate(significant_change(aL_vals)):\n",
    "    if element == 1:\n",
    "        start_of_peak = aL_vals[i]\n",
    "        break\n",
    "\n",
    "for i, element in reversed(list(enumerate(significant_change(aL_vals)))):\n",
    "    if element == 1:\n",
    "        end_of_peak = aL_vals[i + 1]\n",
    "        break\n",
    "\n",
    "peak_width = end_of_peak / start_of_peak\n",
    "    \n",
    "# Plot\n",
    "fig, ax = plt.subplots(1, 1, figsize=(7, 6))\n",
    "\n",
    "plt.plot(aL_vals, N_vect)\n",
    "plt.ylabel('Steady state $N$')\n",
    "plt.xlabel('$\\\\alpha_L$')\n",
    "plt.ylim((0,1))\n",
    "ax.set_xscale('log')\n",
    "print('start of peak', start_of_peak)\n",
    "print('end of peak',end_of_peak)\n",
    "print('peak_width',peak_width)"
   ]
  },
  {
   "cell_type": "code",
   "execution_count": 47,
   "metadata": {},
   "outputs": [
    {
     "data": {
      "text/html": [
       "<div>\n",
       "<style scoped>\n",
       "    .dataframe tbody tr th:only-of-type {\n",
       "        vertical-align: middle;\n",
       "    }\n",
       "\n",
       "    .dataframe tbody tr th {\n",
       "        vertical-align: top;\n",
       "    }\n",
       "\n",
       "    .dataframe thead th {\n",
       "        text-align: right;\n",
       "    }\n",
       "</style>\n",
       "<table border=\"1\" class=\"dataframe\">\n",
       "  <thead>\n",
       "    <tr style=\"text-align: right;\">\n",
       "      <th></th>\n",
       "      <th>index</th>\n",
       "      <th>Kd_t</th>\n",
       "      <th>Kd_c</th>\n",
       "      <th>aR</th>\n",
       "      <th>gR</th>\n",
       "      <th>dR</th>\n",
       "      <th>gT</th>\n",
       "      <th>aL_vals[0]</th>\n",
       "      <th>gL</th>\n",
       "      <th>gC</th>\n",
       "      <th>gN</th>\n",
       "      <th>cis_act</th>\n",
       "      <th>cis_inh</th>\n",
       "      <th>peak_width</th>\n",
       "    </tr>\n",
       "  </thead>\n",
       "  <tbody>\n",
       "    <tr>\n",
       "      <th>1</th>\n",
       "      <td>175</td>\n",
       "      <td>10.00</td>\n",
       "      <td>2.08</td>\n",
       "      <td>0.13</td>\n",
       "      <td>0.866434</td>\n",
       "      <td>0.01</td>\n",
       "      <td>9.902103</td>\n",
       "      <td>0.0</td>\n",
       "      <td>2.310491</td>\n",
       "      <td>0.866434</td>\n",
       "      <td>0.554518</td>\n",
       "      <td>22.30</td>\n",
       "      <td>104.44</td>\n",
       "      <td>1.25</td>\n",
       "    </tr>\n",
       "    <tr>\n",
       "      <th>6</th>\n",
       "      <td>97</td>\n",
       "      <td>8.02</td>\n",
       "      <td>2.08</td>\n",
       "      <td>0.09</td>\n",
       "      <td>0.866434</td>\n",
       "      <td>0.01</td>\n",
       "      <td>9.902103</td>\n",
       "      <td>0.0</td>\n",
       "      <td>2.310491</td>\n",
       "      <td>0.866434</td>\n",
       "      <td>0.554518</td>\n",
       "      <td>26.96</td>\n",
       "      <td>100.59</td>\n",
       "      <td>1.25</td>\n",
       "    </tr>\n",
       "    <tr>\n",
       "      <th>9</th>\n",
       "      <td>103</td>\n",
       "      <td>10.00</td>\n",
       "      <td>2.08</td>\n",
       "      <td>0.09</td>\n",
       "      <td>0.866434</td>\n",
       "      <td>0.01</td>\n",
       "      <td>9.902103</td>\n",
       "      <td>0.0</td>\n",
       "      <td>2.310491</td>\n",
       "      <td>0.866434</td>\n",
       "      <td>0.554518</td>\n",
       "      <td>23.20</td>\n",
       "      <td>101.46</td>\n",
       "      <td>1.25</td>\n",
       "    </tr>\n",
       "    <tr>\n",
       "      <th>12</th>\n",
       "      <td>211</td>\n",
       "      <td>10.00</td>\n",
       "      <td>2.08</td>\n",
       "      <td>0.15</td>\n",
       "      <td>0.866434</td>\n",
       "      <td>0.01</td>\n",
       "      <td>9.902103</td>\n",
       "      <td>0.0</td>\n",
       "      <td>2.310491</td>\n",
       "      <td>0.866434</td>\n",
       "      <td>0.554518</td>\n",
       "      <td>21.32</td>\n",
       "      <td>104.69</td>\n",
       "      <td>1.25</td>\n",
       "    </tr>\n",
       "    <tr>\n",
       "      <th>13</th>\n",
       "      <td>169</td>\n",
       "      <td>8.02</td>\n",
       "      <td>2.08</td>\n",
       "      <td>0.13</td>\n",
       "      <td>0.866434</td>\n",
       "      <td>0.01</td>\n",
       "      <td>9.902103</td>\n",
       "      <td>0.0</td>\n",
       "      <td>2.310491</td>\n",
       "      <td>0.866434</td>\n",
       "      <td>0.554518</td>\n",
       "      <td>26.16</td>\n",
       "      <td>103.75</td>\n",
       "      <td>1.25</td>\n",
       "    </tr>\n",
       "  </tbody>\n",
       "</table>\n",
       "</div>"
      ],
      "text/plain": [
       "    index   Kd_t  Kd_c    aR        gR    dR        gT  aL_vals[0]        gL  \\\n",
       "1     175  10.00  2.08  0.13  0.866434  0.01  9.902103         0.0  2.310491   \n",
       "6      97   8.02  2.08  0.09  0.866434  0.01  9.902103         0.0  2.310491   \n",
       "9     103  10.00  2.08  0.09  0.866434  0.01  9.902103         0.0  2.310491   \n",
       "12    211  10.00  2.08  0.15  0.866434  0.01  9.902103         0.0  2.310491   \n",
       "13    169   8.02  2.08  0.13  0.866434  0.01  9.902103         0.0  2.310491   \n",
       "\n",
       "          gC        gN  cis_act  cis_inh  peak_width  \n",
       "1   0.866434  0.554518    22.30   104.44        1.25  \n",
       "6   0.866434  0.554518    26.96   100.59        1.25  \n",
       "9   0.866434  0.554518    23.20   101.46        1.25  \n",
       "12  0.866434  0.554518    21.32   104.69        1.25  \n",
       "13  0.866434  0.554518    26.16   103.75        1.25  "
      ]
     },
     "execution_count": 47,
     "metadata": {},
     "output_type": "execute_result"
    },
    {
     "data": {
      "image/png": "[encoded data removed]",
      "text/plain": [
       "<Figure size 432x288 with 2 Axes>"
      ]
     },
     "metadata": {
      "needs_background": "light"
     },
     "output_type": "display_data"
    }
   ],
   "source": [
    "df_subset = masterdf.loc[(masterdf['Kd_c'] == np.around(Kd_c_vals[1],decimals=4))]\n",
    "\n",
    "# I HAD A ROUNDING ERROR ^ BUT FIXED W NP.AROUND\n",
    "\n",
    "# I think dependence on aR == aL equivalence is only true for certain gR values. try gR = g_vals[3] vs [1]\n",
    "\n",
    "# pandas pivot\n",
    "heatmap_data = pd.pivot_table(df_subset, values='peak_width', \n",
    "                     index=['aR'], \n",
    "                     columns='Kd_t')\n",
    "\n",
    "\n",
    "sns.heatmap(heatmap_data)\n",
    "df_subset.head()        "
   ]
  },
  {
   "cell_type": "code",
   "execution_count": 48,
   "metadata": {},
   "outputs": [
    {
     "name": "stdout",
     "output_type": "stream",
     "text": [
      "Cis-activation fold-diff: 58.52\n",
      "Cis-inhibition efficacy: 101.39 %\n",
      "start of peak 0.631\n",
      "end of peak 25.1189\n",
      "peak_width 24.4879\n"
     ]
    },
    {
     "data": {
      "image/png": "[encoded data removed]",
      "text/plain": [
       "<Figure size 504x432 with 1 Axes>"
      ]
     },
     "metadata": {
      "needs_background": "light"
     },
     "output_type": "display_data"
    }
   ],
   "source": [
    "# Define params values that give good fold differences at reasonably high production rates\n",
    "# Receptor = Notch1, Ligand = Dll4\n",
    "\n",
    "Kd_t = 2.08\n",
    "Kd_c = 2.08\n",
    "aR = 0.11\n",
    "gR = np.log(2) / .8\n",
    "dR = 0.01\n",
    "gT = np.log(2) / .07\n",
    "# aL = 0.4\n",
    "gC = gR # setting gC == gR for now\n",
    "gL = np.log(2) / .3\n",
    "gN = np.log(2) / 1.25\n",
    "\n",
    "# Define ligand range for titration- x axis for plot; adding ligands \n",
    "aL_vals = np.around(np.logspace(-1, 3, num=6, base=10.0), decimals=4)\n",
    "aL_vals = np.insert(aL_vals, 0, 0)\n",
    "\n",
    "circuit_params = (Kd_t, Kd_c, aR, gR, dR, gT, aL_vals[0], gL, gC, gN)\n",
    "\n",
    "# Define time series\n",
    "hr = 48.0 # simulation of 48 hours\n",
    "interval = 5 # 5 minutes between time steps\n",
    "\n",
    "convergence_crit = 1 # ≤ 1 percent change in 5 minutes = steady state achieved\n",
    "\n",
    "# Simulate ligand titration\n",
    "N_vect, cis_act, cis_inh = titrate_ligand(aL_vals, circuit_params, \n",
    "                                          hr, interval, convergence_crit)\n",
    "\n",
    "# Print cis-activation and -inhibition metrics\n",
    "print('Cis-activation fold-diff:', cis_act)\n",
    "print('Cis-inhibition efficacy:', cis_inh, '%')\n",
    "\n",
    "# Added this in to quantify peak width \n",
    "for i, element in enumerate(significant_change(aL_vals)):\n",
    "    if element == 1:\n",
    "        start_of_peak = aL_vals[i]\n",
    "        break\n",
    "\n",
    "for i, element in reversed(list(enumerate(significant_change(aL_vals)))):\n",
    "    if element == 1:\n",
    "        end_of_peak = aL_vals[i + 1]\n",
    "        break\n",
    "\n",
    "peak_width = end_of_peak - start_of_peak\n",
    "    \n",
    "# Plot\n",
    "fig, ax = plt.subplots(1, 1, figsize=(7, 6))\n",
    "\n",
    "plt.plot(aL_vals, N_vect)\n",
    "plt.ylabel('Steady state $N$')\n",
    "plt.xlabel('$\\\\alpha_L$')\n",
    "plt.ylim((0,1))\n",
    "ax.set_xscale('log')\n",
    "print('start of peak', start_of_peak)\n",
    "print('end of peak',end_of_peak)\n",
    "print('peak_width',peak_width)"
   ]
  },
  {
   "cell_type": "code",
   "execution_count": 49,
   "metadata": {},
   "outputs": [
    {
     "name": "stdout",
     "output_type": "stream",
     "text": [
      "Cis-activation fold-diff: 71.69\n",
      "Cis-inhibition efficacy: 0.0 %\n",
      "start of peak 0.631\n",
      "end of peak 25.1189\n",
      "peak_width 24.4879\n"
     ]
    },
    {
     "data": {
      "image/png": "[encoded data removed]",
      "text/plain": [
       "<Figure size 504x432 with 1 Axes>"
      ]
     },
     "metadata": {
      "needs_background": "light"
     },
     "output_type": "display_data"
    }
   ],
   "source": [
    "# Define params values that give good fold differences at reasonably high production rates\n",
    "# Receptor = Notch1, Ligand = Dll4\n",
    "\n",
    "Kd_t = 2.08\n",
    "Kd_c = 2.08\n",
    "aR = 0.05\n",
    "gR = np.log(2) / .8\n",
    "dR = 0.01\n",
    "gT = np.log(2) / .07\n",
    "# aL = 0.4\n",
    "gC = gR # setting gC == gR for now\n",
    "gL = np.log(2) / .3\n",
    "gN = np.log(2) / 1.25\n",
    "\n",
    "# Define ligand range for titration- x axis for plot; adding ligands \n",
    "aL_vals = np.around(np.logspace(-1, 3, num=6, base=10.0), decimals=4)\n",
    "aL_vals = np.insert(aL_vals, 0, 0)\n",
    "\n",
    "circuit_params = (Kd_t, Kd_c, aR, gR, dR, gT, aL_vals[0], gL, gC, gN)\n",
    "\n",
    "# Define time series\n",
    "hr = 48.0 # simulation of 48 hours\n",
    "interval = 5 # 5 minutes between time steps\n",
    "\n",
    "convergence_crit = 1 # ≤ 1 percent change in 5 minutes = steady state achieved\n",
    "\n",
    "# Simulate ligand titration\n",
    "N_vect, cis_act, cis_inh = titrate_ligand(aL_vals, circuit_params, \n",
    "                                          hr, interval, convergence_crit)\n",
    "\n",
    "# Print cis-activation and -inhibition metrics\n",
    "print('Cis-activation fold-diff:', cis_act)\n",
    "print('Cis-inhibition efficacy:', cis_inh, '%')\n",
    "\n",
    "# Added this in to quantify peak width \n",
    "for i, element in enumerate(significant_change(aL_vals)):\n",
    "    if element == 1:\n",
    "        start_of_peak = aL_vals[i]\n",
    "        break\n",
    "\n",
    "for i, element in reversed(list(enumerate(significant_change(aL_vals)))):\n",
    "    if element == 1:\n",
    "        end_of_peak = aL_vals[i + 1]\n",
    "        break\n",
    "\n",
    "peak_width = end_of_peak - start_of_peak\n",
    "    \n",
    "# Plot\n",
    "fig, ax = plt.subplots(1, 1, figsize=(7, 6))\n",
    "\n",
    "plt.plot(aL_vals, N_vect)\n",
    "plt.ylabel('Steady state $N$')\n",
    "plt.xlabel('$\\\\alpha_L$')\n",
    "plt.ylim((0,1))\n",
    "ax.set_xscale('log')\n",
    "print('start of peak', start_of_peak)\n",
    "print('end of peak',end_of_peak)\n",
    "print('peak_width',peak_width)"
   ]
  },
  {
   "cell_type": "markdown",
   "metadata": {},
   "source": [
    "Hmmm not sure how to account for these broad curves... accounted for by end of peak nan"
   ]
  },
  {
   "cell_type": "code",
   "execution_count": 50,
   "metadata": {},
   "outputs": [
    {
     "name": "stdout",
     "output_type": "stream",
     "text": [
      "Cis-activation fold-diff: 27.24\n",
      "Cis-inhibition efficacy: 103.64 %\n",
      "start of peak 3.9811\n",
      "end of peak 25.1189\n",
      "peak_width 21.1378\n"
     ]
    },
    {
     "data": {
      "image/png": "[encoded data removed]",
      "text/plain": [
       "<Figure size 504x432 with 1 Axes>"
      ]
     },
     "metadata": {
      "needs_background": "light"
     },
     "output_type": "display_data"
    }
   ],
   "source": [
    "# Define params values that give good fold differences at reasonably high production rates\n",
    "# Receptor = Notch1, Ligand = Dll4\n",
    "\n",
    "Kd_t = 10\n",
    "Kd_c = 2.08\n",
    "aR = 0.11\n",
    "gR = np.log(2) / .8\n",
    "dR = 0.01\n",
    "gT = np.log(2) / .07\n",
    "# aL = 0.4\n",
    "gC = gR # setting gC == gR for now\n",
    "gL = np.log(2) / .3\n",
    "gN = np.log(2) / 1.25\n",
    "\n",
    "# Define ligand range for titration- x axis for plot; adding ligands \n",
    "aL_vals = np.around(np.logspace(-1, 3, num=6, base=10.0), decimals=4)\n",
    "aL_vals = np.insert(aL_vals, 0, 0)\n",
    "\n",
    "circuit_params = (Kd_t, Kd_c, aR, gR, dR, gT, aL_vals[0], gL, gC, gN)\n",
    "\n",
    "# Define time series\n",
    "hr = 48.0 # simulation of 48 hours\n",
    "interval = 5 # 5 minutes between time steps\n",
    "\n",
    "convergence_crit = 1 # ≤ 1 percent change in 5 minutes = steady state achieved\n",
    "\n",
    "# Simulate ligand titration\n",
    "N_vect, cis_act, cis_inh = titrate_ligand(aL_vals, circuit_params, \n",
    "                                          hr, interval, convergence_crit)\n",
    "\n",
    "# Print cis-activation and -inhibition metrics\n",
    "print('Cis-activation fold-diff:', cis_act)\n",
    "print('Cis-inhibition efficacy:', cis_inh, '%')\n",
    "\n",
    "# Added this in to quantify peak width \n",
    "for i, element in enumerate(significant_change(aL_vals)):\n",
    "    if element == 1:\n",
    "        start_of_peak = aL_vals[i]\n",
    "        break\n",
    "\n",
    "for i, element in reversed(list(enumerate(significant_change(aL_vals)))):\n",
    "    if element == 1:\n",
    "        end_of_peak = aL_vals[i + 1]\n",
    "        break\n",
    "\n",
    "peak_width = end_of_peak - start_of_peak\n",
    "    \n",
    "# Plot\n",
    "fig, ax = plt.subplots(1, 1, figsize=(7, 6))\n",
    "\n",
    "plt.plot(aL_vals, N_vect)\n",
    "plt.ylabel('Steady state $N$')\n",
    "plt.xlabel('$\\\\alpha_L$')\n",
    "plt.ylim((0,1))\n",
    "ax.set_xscale('log')\n",
    "print('start of peak', start_of_peak)\n",
    "print('end of peak',end_of_peak)\n",
    "print('peak_width',peak_width)"
   ]
  },
  {
   "cell_type": "code",
   "execution_count": 55,
   "metadata": {},
   "outputs": [
    {
     "name": "stdout",
     "output_type": "stream",
     "text": [
      "-----------------------\n",
      "aR_vals 0.05\n"
     ]
    },
    {
     "data": {
      "image/png": "[encoded data removed]",
      "text/plain": [
       "<Figure size 432x288 with 2 Axes>"
      ]
     },
     "metadata": {
      "needs_background": "light"
     },
     "output_type": "display_data"
    },
    {
     "name": "stdout",
     "output_type": "stream",
     "text": [
      "-----------------------\n",
      "aR_vals 0.07\n"
     ]
    },
    {
     "data": {
      "image/png": "[encoded data removed]",
      "text/plain": [
       "<Figure size 432x288 with 2 Axes>"
      ]
     },
     "metadata": {
      "needs_background": "light"
     },
     "output_type": "display_data"
    },
    {
     "name": "stdout",
     "output_type": "stream",
     "text": [
      "-----------------------\n",
      "aR_vals 0.09\n"
     ]
    },
    {
     "data": {
      "image/png": "[encoded data removed]",
      "text/plain": [
       "<Figure size 432x288 with 2 Axes>"
      ]
     },
     "metadata": {
      "needs_background": "light"
     },
     "output_type": "display_data"
    },
    {
     "name": "stdout",
     "output_type": "stream",
     "text": [
      "-----------------------\n",
      "aR_vals 0.11\n"
     ]
    },
    {
     "data": {
      "image/png": "[encoded data removed]",
      "text/plain": [
       "<Figure size 432x288 with 2 Axes>"
      ]
     },
     "metadata": {
      "needs_background": "light"
     },
     "output_type": "display_data"
    },
    {
     "name": "stdout",
     "output_type": "stream",
     "text": [
      "-----------------------\n",
      "aR_vals 0.13\n"
     ]
    },
    {
     "data": {
      "image/png": "[encoded data removed]",
      "text/plain": [
       "<Figure size 432x288 with 2 Axes>"
      ]
     },
     "metadata": {
      "needs_background": "light"
     },
     "output_type": "display_data"
    },
    {
     "name": "stdout",
     "output_type": "stream",
     "text": [
      "-----------------------\n",
      "aR_vals 0.15\n"
     ]
    },
    {
     "data": {
      "image/png": "[encoded data removed]",
      "text/plain": [
       "<Figure size 432x288 with 2 Axes>"
      ]
     },
     "metadata": {
      "needs_background": "light"
     },
     "output_type": "display_data"
    },
    {
     "data": {
      "text/plain": [
       "<Figure size 432x288 with 0 Axes>"
      ]
     },
     "metadata": {},
     "output_type": "display_data"
    }
   ],
   "source": [
    "for i in range(len(aR_vals)):\n",
    "    print('-----------------------')\n",
    "    print('aR_vals',aR_vals[i])\n",
    "    df_subset = masterdf.loc[(masterdf['aR'] == np.around(aR_vals[i],decimals=4))]\n",
    "\n",
    "    # I HAD A ROUNDING ERROR ^ BUT FIXED W NP.AROUND\n",
    "\n",
    "    # I think dependence on aR == aL equivalence is only true for certain gR values. try gR = g_vals[3] vs [1]\n",
    "\n",
    "    # pandas pivot\n",
    "    heatmap_data = pd.pivot_table(df_subset, values='peak_width', \n",
    "                         index=['Kd_c'], \n",
    "                         columns='Kd_t')\n",
    "\n",
    "\n",
    "    sns.heatmap(heatmap_data)\n",
    "    plt.show()\n",
    "    df_subset.head()    \n",
    "    \n",
    "    plt.figure()"
   ]
  },
  {
   "cell_type": "code",
   "execution_count": 56,
   "metadata": {},
   "outputs": [
    {
     "name": "stdout",
     "output_type": "stream",
     "text": [
      "Cis-activation fold-diff: 58.52\n",
      "Cis-inhibition efficacy: 101.39 %\n",
      "start of peak 0.631\n",
      "end of peak 25.1189\n",
      "peak_width 24.4879\n"
     ]
    },
    {
     "data": {
      "image/png": "[encoded data removed]",
      "text/plain": [
       "<Figure size 504x432 with 1 Axes>"
      ]
     },
     "metadata": {
      "needs_background": "light"
     },
     "output_type": "display_data"
    }
   ],
   "source": [
    "# Define params values that give good fold differences at reasonably high production rates\n",
    "# Receptor = Notch1, Ligand = Dll4\n",
    "\n",
    "Kd_t = 2.08\n",
    "Kd_c = 2.08\n",
    "aR = 0.11\n",
    "gR = np.log(2) / .8\n",
    "dR = 0.01\n",
    "gT = np.log(2) / .07\n",
    "# aL = 0.4\n",
    "gC = gR # setting gC == gR for now\n",
    "gL = np.log(2) / .3\n",
    "gN = np.log(2) / 1.25\n",
    "\n",
    "# Define ligand range for titration- x axis for plot; adding ligands \n",
    "aL_vals = np.around(np.logspace(-1, 3, num=6, base=10.0), decimals=4)\n",
    "aL_vals = np.insert(aL_vals, 0, 0)\n",
    "\n",
    "circuit_params = (Kd_t, Kd_c, aR, gR, dR, gT, aL_vals[0], gL, gC, gN)\n",
    "\n",
    "# Define time series\n",
    "hr = 48.0 # simulation of 48 hours\n",
    "interval = 5 # 5 minutes between time steps\n",
    "\n",
    "convergence_crit = 1 # ≤ 1 percent change in 5 minutes = steady state achieved\n",
    "\n",
    "# Simulate ligand titration\n",
    "N_vect, cis_act, cis_inh = titrate_ligand(aL_vals, circuit_params, \n",
    "                                          hr, interval, convergence_crit)\n",
    "\n",
    "# Print cis-activation and -inhibition metrics\n",
    "print('Cis-activation fold-diff:', cis_act)\n",
    "print('Cis-inhibition efficacy:', cis_inh, '%')\n",
    "\n",
    "# Added this in to quantify peak width \n",
    "for i, element in enumerate(significant_change(aL_vals)):\n",
    "    if element == 1:\n",
    "        start_of_peak = aL_vals[i]\n",
    "        break\n",
    "\n",
    "for i, element in reversed(list(enumerate(significant_change(aL_vals)))):\n",
    "    if element == 1:\n",
    "        end_of_peak = aL_vals[i + 1]\n",
    "        break\n",
    "\n",
    "peak_width = end_of_peak - start_of_peak\n",
    "    \n",
    "# Plot\n",
    "fig, ax = plt.subplots(1, 1, figsize=(7, 6))\n",
    "\n",
    "plt.plot(aL_vals, N_vect)\n",
    "plt.ylabel('Steady state $N$')\n",
    "plt.xlabel('$\\\\alpha_L$')\n",
    "plt.ylim((0,1))\n",
    "ax.set_xscale('log')\n",
    "print('start of peak', start_of_peak)\n",
    "print('end of peak',end_of_peak)\n",
    "print('peak_width',peak_width)"
   ]
  },
  {
   "cell_type": "code",
   "execution_count": 58,
   "metadata": {},
   "outputs": [
    {
     "name": "stdout",
     "output_type": "stream",
     "text": [
      "Cis-activation fold-diff: 64.99\n",
      "Cis-inhibition efficacy: 101.2 %\n",
      "start of peak 0.631\n",
      "end of peak 158.4893\n",
      "peak_width 157.85829999999999\n"
     ]
    },
    {
     "data": {
      "image/png": "[encoded data removed]",
      "text/plain": [
       "<Figure size 504x432 with 1 Axes>"
      ]
     },
     "metadata": {
      "needs_background": "light"
     },
     "output_type": "display_data"
    }
   ],
   "source": [
    "# Define params values that give good fold differences at reasonably high production rates\n",
    "# Receptor = Notch1, Ligand = Dll4\n",
    "\n",
    "Kd_t = 6.04\n",
    "Kd_c = 6.04\n",
    "aR = 0.11\n",
    "gR = np.log(2) / .8\n",
    "dR = 0.01\n",
    "gT = np.log(2) / .07\n",
    "# aL = 0.4\n",
    "gC = gR # setting gC == gR for now\n",
    "gL = np.log(2) / .3\n",
    "gN = np.log(2) / 1.25\n",
    "\n",
    "# Define ligand range for titration- x axis for plot; adding ligands \n",
    "aL_vals = np.around(np.logspace(-1, 3, num=6, base=10.0), decimals=4)\n",
    "aL_vals = np.insert(aL_vals, 0, 0)\n",
    "\n",
    "circuit_params = (Kd_t, Kd_c, aR, gR, dR, gT, aL_vals[0], gL, gC, gN)\n",
    "\n",
    "# Define time series\n",
    "hr = 48.0 # simulation of 48 hours\n",
    "interval = 5 # 5 minutes between time steps\n",
    "\n",
    "convergence_crit = 1 # ≤ 1 percent change in 5 minutes = steady state achieved\n",
    "\n",
    "# Simulate ligand titration\n",
    "N_vect, cis_act, cis_inh = titrate_ligand(aL_vals, circuit_params, \n",
    "                                          hr, interval, convergence_crit)\n",
    "\n",
    "# Print cis-activation and -inhibition metrics\n",
    "print('Cis-activation fold-diff:', cis_act)\n",
    "print('Cis-inhibition efficacy:', cis_inh, '%')\n",
    "\n",
    "# Added this in to quantify peak width \n",
    "for i, element in enumerate(significant_change(aL_vals)):\n",
    "    if element == 1:\n",
    "        start_of_peak = aL_vals[i]\n",
    "        break\n",
    "\n",
    "for i, element in reversed(list(enumerate(significant_change(aL_vals)))):\n",
    "    if element == 1:\n",
    "        end_of_peak = aL_vals[i + 1]\n",
    "        break\n",
    "\n",
    "peak_width = end_of_peak - start_of_peak\n",
    "    \n",
    "# Plot\n",
    "fig, ax = plt.subplots(1, 1, figsize=(7, 6))\n",
    "\n",
    "plt.plot(aL_vals, N_vect)\n",
    "plt.ylabel('Steady state $N$')\n",
    "plt.xlabel('$\\\\alpha_L$')\n",
    "plt.ylim((0,1))\n",
    "ax.set_xscale('log')\n",
    "print('start of peak', start_of_peak)\n",
    "print('end of peak',end_of_peak)\n",
    "print('peak_width',peak_width)"
   ]
  },
  {
   "cell_type": "code",
   "execution_count": 60,
   "metadata": {},
   "outputs": [
    {
     "name": "stdout",
     "output_type": "stream",
     "text": [
      "Cis-activation fold-diff: 63.1\n",
      "Cis-inhibition efficacy: 101.2 %\n",
      "start of peak 0.631\n",
      "end of peak 158.4893\n",
      "peak_width 157.85829999999999\n"
     ]
    },
    {
     "data": {
      "image/png": "[encoded data removed]",
      "text/plain": [
       "<Figure size 504x432 with 1 Axes>"
      ]
     },
     "metadata": {
      "needs_background": "light"
     },
     "output_type": "display_data"
    }
   ],
   "source": [
    "# Define params values that give good fold differences at reasonably high production rates\n",
    "# Receptor = Notch1, Ligand = Dll4\n",
    "\n",
    "Kd_t = 8.02\n",
    "Kd_c = 8.02\n",
    "aR = 0.11\n",
    "gR = np.log(2) / .8\n",
    "dR = 0.01\n",
    "gT = np.log(2) / .07\n",
    "# aL = 0.4\n",
    "gC = gR # setting gC == gR for now\n",
    "gL = np.log(2) / .3\n",
    "gN = np.log(2) / 1.25\n",
    "\n",
    "# Define ligand range for titration- x axis for plot; adding ligands \n",
    "aL_vals = np.around(np.logspace(-1, 3, num=6, base=10.0), decimals=4)\n",
    "aL_vals = np.insert(aL_vals, 0, 0)\n",
    "\n",
    "circuit_params = (Kd_t, Kd_c, aR, gR, dR, gT, aL_vals[0], gL, gC, gN)\n",
    "\n",
    "# Define time series\n",
    "hr = 48.0 # simulation of 48 hours\n",
    "interval = 5 # 5 minutes between time steps\n",
    "\n",
    "convergence_crit = 1 # ≤ 1 percent change in 5 minutes = steady state achieved\n",
    "\n",
    "# Simulate ligand titration\n",
    "N_vect, cis_act, cis_inh = titrate_ligand(aL_vals, circuit_params, \n",
    "                                          hr, interval, convergence_crit)\n",
    "\n",
    "# Print cis-activation and -inhibition metrics\n",
    "print('Cis-activation fold-diff:', cis_act)\n",
    "print('Cis-inhibition efficacy:', cis_inh, '%')\n",
    "\n",
    "# Added this in to quantify peak width \n",
    "for i, element in enumerate(significant_change(aL_vals)):\n",
    "    if element == 1:\n",
    "        start_of_peak = aL_vals[i]\n",
    "        break\n",
    "\n",
    "for i, element in reversed(list(enumerate(significant_change(aL_vals)))):\n",
    "    if element == 1:\n",
    "        end_of_peak = aL_vals[i + 1]\n",
    "        break\n",
    "\n",
    "peak_width = end_of_peak - start_of_peak\n",
    "    \n",
    "# Plot\n",
    "fig, ax = plt.subplots(1, 1, figsize=(7, 6))\n",
    "\n",
    "plt.plot(aL_vals, N_vect)\n",
    "plt.ylabel('Steady state $N$')\n",
    "plt.xlabel('$\\\\alpha_L$')\n",
    "plt.ylim((0,1))\n",
    "ax.set_xscale('log')\n",
    "print('start of peak', start_of_peak)\n",
    "print('end of peak',end_of_peak)\n",
    "print('peak_width',peak_width)"
   ]
  },
  {
   "cell_type": "code",
   "execution_count": 57,
   "metadata": {},
   "outputs": [
    {
     "name": "stdout",
     "output_type": "stream",
     "text": [
      "Cis-activation fold-diff: 67.0\n",
      "Cis-inhibition efficacy: 101.18 %\n",
      "start of peak 0.631\n",
      "end of peak 158.4893\n",
      "peak_width 157.85829999999999\n"
     ]
    },
    {
     "data": {
      "image/png": "[encoded data removed]",
      "text/plain": [
       "<Figure size 504x432 with 1 Axes>"
      ]
     },
     "metadata": {
      "needs_background": "light"
     },
     "output_type": "display_data"
    }
   ],
   "source": [
    "# Define params values that give good fold differences at reasonably high production rates\n",
    "# Receptor = Notch1, Ligand = Dll4\n",
    "\n",
    "Kd_t = 4.06\n",
    "Kd_c = 4.06\n",
    "aR = 0.11\n",
    "gR = np.log(2) / .8\n",
    "dR = 0.01\n",
    "gT = np.log(2) / .07\n",
    "# aL = 0.4\n",
    "gC = gR # setting gC == gR for now\n",
    "gL = np.log(2) / .3\n",
    "gN = np.log(2) / 1.25\n",
    "\n",
    "# Define ligand range for titration- x axis for plot; adding ligands \n",
    "aL_vals = np.around(np.logspace(-1, 3, num=6, base=10.0), decimals=4)\n",
    "aL_vals = np.insert(aL_vals, 0, 0)\n",
    "\n",
    "circuit_params = (Kd_t, Kd_c, aR, gR, dR, gT, aL_vals[0], gL, gC, gN)\n",
    "\n",
    "# Define time series\n",
    "hr = 48.0 # simulation of 48 hours\n",
    "interval = 5 # 5 minutes between time steps\n",
    "\n",
    "convergence_crit = 1 # ≤ 1 percent change in 5 minutes = steady state achieved\n",
    "\n",
    "# Simulate ligand titration\n",
    "N_vect, cis_act, cis_inh = titrate_ligand(aL_vals, circuit_params, \n",
    "                                          hr, interval, convergence_crit)\n",
    "\n",
    "# Print cis-activation and -inhibition metrics\n",
    "print('Cis-activation fold-diff:', cis_act)\n",
    "print('Cis-inhibition efficacy:', cis_inh, '%')\n",
    "\n",
    "# Added this in to quantify peak width \n",
    "for i, element in enumerate(significant_change(aL_vals)):\n",
    "    if element == 1:\n",
    "        start_of_peak = aL_vals[i]\n",
    "        break\n",
    "\n",
    "for i, element in reversed(list(enumerate(significant_change(aL_vals)))):\n",
    "    if element == 1:\n",
    "        end_of_peak = aL_vals[i + 1]\n",
    "        break\n",
    "\n",
    "peak_width = end_of_peak - start_of_peak\n",
    "    \n",
    "# Plot\n",
    "fig, ax = plt.subplots(1, 1, figsize=(7, 6))\n",
    "\n",
    "plt.plot(aL_vals, N_vect)\n",
    "plt.ylabel('Steady state $N$')\n",
    "plt.xlabel('$\\\\alpha_L$')\n",
    "plt.ylim((0,1))\n",
    "ax.set_xscale('log')\n",
    "print('start of peak', start_of_peak)\n",
    "print('end of peak',end_of_peak)\n",
    "print('peak_width',peak_width)"
   ]
  },
  {
   "cell_type": "code",
   "execution_count": 62,
   "metadata": {},
   "outputs": [
    {
     "name": "stdout",
     "output_type": "stream",
     "text": [
      "-----------------------\n",
      "aR_vals 0.1\n"
     ]
    },
    {
     "data": {
      "image/png": "[encoded data removed]",
      "text/plain": [
       "<Figure size 432x288 with 2 Axes>"
      ]
     },
     "metadata": {
      "needs_background": "light"
     },
     "output_type": "display_data"
    },
    {
     "name": "stdout",
     "output_type": "stream",
     "text": [
      "-----------------------\n",
      "aR_vals 2.08\n"
     ]
    },
    {
     "data": {
      "image/png": "[encoded data removed]",
      "text/plain": [
       "<Figure size 432x288 with 2 Axes>"
      ]
     },
     "metadata": {
      "needs_background": "light"
     },
     "output_type": "display_data"
    },
    {
     "name": "stdout",
     "output_type": "stream",
     "text": [
      "-----------------------\n",
      "aR_vals 4.06\n"
     ]
    },
    {
     "data": {
      "image/png": "[encoded data removed]",
      "text/plain": [
       "<Figure size 432x288 with 2 Axes>"
      ]
     },
     "metadata": {
      "needs_background": "light"
     },
     "output_type": "display_data"
    },
    {
     "name": "stdout",
     "output_type": "stream",
     "text": [
      "-----------------------\n",
      "aR_vals 6.04\n"
     ]
    },
    {
     "data": {
      "image/png": "[encoded data removed]",
      "text/plain": [
       "<Figure size 432x288 with 2 Axes>"
      ]
     },
     "metadata": {
      "needs_background": "light"
     },
     "output_type": "display_data"
    },
    {
     "name": "stdout",
     "output_type": "stream",
     "text": [
      "-----------------------\n",
      "aR_vals 8.02\n"
     ]
    },
    {
     "data": {
      "image/png": "[encoded data removed]",
      "text/plain": [
       "<Figure size 432x288 with 2 Axes>"
      ]
     },
     "metadata": {
      "needs_background": "light"
     },
     "output_type": "display_data"
    },
    {
     "name": "stdout",
     "output_type": "stream",
     "text": [
      "-----------------------\n",
      "aR_vals 10.0\n"
     ]
    },
    {
     "data": {
      "image/png": "[encoded data removed]",
      "text/plain": [
       "<Figure size 432x288 with 2 Axes>"
      ]
     },
     "metadata": {
      "needs_background": "light"
     },
     "output_type": "display_data"
    },
    {
     "data": {
      "text/plain": [
       "<Figure size 432x288 with 0 Axes>"
      ]
     },
     "metadata": {},
     "output_type": "display_data"
    }
   ],
   "source": [
    "for i in range(len(Kd_t_vals)):\n",
    "    print('-----------------------')\n",
    "    print('Kd_t_vals',Kd_t_vals[i])\n",
    "    df_subset = masterdf.loc[(masterdf['Kd_t'] == np.around(Kd_t_vals[i],decimals=4))]\n",
    "\n",
    "    # I HAD A ROUNDING ERROR ^ BUT FIXED W NP.AROUND\n",
    "\n",
    "    # I think dependence on aR == aL equivalence is only true for certain gR values. try gR = g_vals[3] vs [1]\n",
    "\n",
    "    # pandas pivot\n",
    "    heatmap_data = pd.pivot_table(df_subset, values='peak_width', \n",
    "                         index=['Kd_c'], \n",
    "                         columns='aR')\n",
    "\n",
    "\n",
    "    sns.heatmap(heatmap_data)\n",
    "    plt.show()\n",
    "    df_subset.head()    \n",
    "    \n",
    "    plt.figure()"
   ]
  },
  {
   "cell_type": "markdown",
   "metadata": {},
   "source": [
    "# Varying gR, dR, gC, gL"
   ]
  },
  {
   "cell_type": "code",
   "execution_count": 63,
   "metadata": {},
   "outputs": [],
   "source": [
    "Kd_t= 2.08\n",
    "Kd_c = 2.08\n",
    "aR = .11\n",
    "gR_vals = np.around(np.log(2) / np.logspace(-1.6, 0.1, num=5, base=10.0),decimals=4) #np.log(2) / .8\n",
    "dR_vals = np.log(2)/np.around(np.logspace(.7, 1.3, num=4, base=10.0),decimals=4)\n",
    "gT = np.log(2) / .07\n",
    "# aL = 0.4\n",
    "gC_vals = gR_vals # setting gC == gR for now\n",
    "gL_vals = np.log(2) / np.logspace(-1.3, .7, num=6, base=10.0)  #np.log(2) / .3\n",
    "gN = np.log(2) / 1.25"
   ]
  },
  {
   "cell_type": "code",
   "execution_count": 64,
   "metadata": {},
   "outputs": [
    {
     "name": "stderr",
     "output_type": "stream",
     "text": [
      "/Users/cjko/opt/anaconda3/lib/python3.7/site-packages/ipykernel_launcher.py:18: RuntimeWarning: divide by zero encountered in double_scalars\n"
     ]
    },
    {
     "ename": "KeyboardInterrupt",
     "evalue": "",
     "output_type": "error",
     "traceback": [
      "\u001b[0;31m---------------------------------------------------------------------------\u001b[0m",
      "\u001b[0;31mKeyboardInterrupt\u001b[0m                         Traceback (most recent call last)",
      "\u001b[0;32m<timed exec>\u001b[0m in \u001b[0;36m<module>\u001b[0;34m\u001b[0m\n",
      "\u001b[0;32m<ipython-input-9-ab72739698a9>\u001b[0m in \u001b[0;36mtitrate_ligand\u001b[0;34m(aL_vect, params, hr, interval, convergence_crit)\u001b[0m\n\u001b[1;32m     13\u001b[0m \u001b[0;34m\u001b[0m\u001b[0m\n\u001b[1;32m     14\u001b[0m         \u001b[0;31m# Simulate\u001b[0m\u001b[0;34m\u001b[0m\u001b[0;34m\u001b[0m\u001b[0;34m\u001b[0m\u001b[0m\n\u001b[0;32m---> 15\u001b[0;31m         \u001b[0mRLN_initial\u001b[0m\u001b[0;34m,\u001b[0m \u001b[0mRLN\u001b[0m\u001b[0;34m,\u001b[0m \u001b[0mt\u001b[0m \u001b[0;34m=\u001b[0m \u001b[0msimulate_Notch_signaling\u001b[0m\u001b[0;34m(\u001b[0m\u001b[0mparams\u001b[0m\u001b[0;34m,\u001b[0m \u001b[0mhr\u001b[0m\u001b[0;34m,\u001b[0m \u001b[0minterval\u001b[0m\u001b[0;34m)\u001b[0m\u001b[0;34m\u001b[0m\u001b[0;34m\u001b[0m\u001b[0m\n\u001b[0m\u001b[1;32m     16\u001b[0m \u001b[0;34m\u001b[0m\u001b[0m\n\u001b[1;32m     17\u001b[0m         \u001b[0;31m# get steady state value\u001b[0m\u001b[0;34m\u001b[0m\u001b[0;34m\u001b[0m\u001b[0;34m\u001b[0m\u001b[0m\n",
      "\u001b[0;32m<ipython-input-16-48269b70e981>\u001b[0m in \u001b[0;36msimulate_Notch_signaling\u001b[0;34m(circuit_params, hr, interval)\u001b[0m\n\u001b[1;32m     21\u001b[0m \u001b[0;34m\u001b[0m\u001b[0m\n\u001b[1;32m     22\u001b[0m     \u001b[0;31m# Initiate Euler stepping\u001b[0m\u001b[0;34m\u001b[0m\u001b[0;34m\u001b[0m\u001b[0;34m\u001b[0m\u001b[0m\n\u001b[0;32m---> 23\u001b[0;31m     \u001b[0mRLN\u001b[0m\u001b[0;34m,\u001b[0m \u001b[0mt\u001b[0m \u001b[0;34m=\u001b[0m \u001b[0mEuler_integration\u001b[0m\u001b[0;34m(\u001b[0m\u001b[0mRLN_initial\u001b[0m\u001b[0;34m,\u001b[0m \u001b[0mcircuit_params\u001b[0m\u001b[0;34m,\u001b[0m \u001b[0mdt\u001b[0m\u001b[0;34m,\u001b[0m \u001b[0mhr\u001b[0m\u001b[0;34m)\u001b[0m\u001b[0;34m\u001b[0m\u001b[0;34m\u001b[0m\u001b[0m\n\u001b[0m\u001b[1;32m     24\u001b[0m \u001b[0;34m\u001b[0m\u001b[0m\n\u001b[1;32m     25\u001b[0m     \u001b[0;31m# Return initial values and simulation output\u001b[0m\u001b[0;34m\u001b[0m\u001b[0;34m\u001b[0m\u001b[0;34m\u001b[0m\u001b[0m\n",
      "\u001b[0;32m<ipython-input-15-7b1a503f7729>\u001b[0m in \u001b[0;36mEuler_integration\u001b[0;34m(RLN_initial, circuit_params, dt, t_stop)\u001b[0m\n\u001b[1;32m     27\u001b[0m \u001b[0;34m\u001b[0m\u001b[0m\n\u001b[1;32m     28\u001b[0m         \u001b[0;31m# Get equilibrium concentrations\u001b[0m\u001b[0;34m\u001b[0m\u001b[0;34m\u001b[0m\u001b[0;34m\u001b[0m\u001b[0m\n\u001b[0;32m---> 29\u001b[0;31m         \u001b[0mEQTK_output\u001b[0m \u001b[0;34m=\u001b[0m \u001b[0mget_equilibrium_concentrations\u001b[0m\u001b[0;34m(\u001b[0m\u001b[0mR\u001b[0m\u001b[0;34m[\u001b[0m\u001b[0mi\u001b[0m\u001b[0;34m]\u001b[0m\u001b[0;34m,\u001b[0m \u001b[0mLt\u001b[0m\u001b[0;34m,\u001b[0m \u001b[0mLc\u001b[0m\u001b[0;34m,\u001b[0m \u001b[0mcircuit_params\u001b[0m\u001b[0;34m)\u001b[0m\u001b[0;34m\u001b[0m\u001b[0;34m\u001b[0m\u001b[0m\n\u001b[0m\u001b[1;32m     30\u001b[0m         \u001b[0mRfree\u001b[0m\u001b[0;34m,\u001b[0m \u001b[0mLt_free\u001b[0m\u001b[0;34m,\u001b[0m \u001b[0mLc_free\u001b[0m\u001b[0;34m,\u001b[0m \u001b[0mC_p\u001b[0m\u001b[0;34m,\u001b[0m \u001b[0mC_m\u001b[0m \u001b[0;34m=\u001b[0m \u001b[0mEQTK_output\u001b[0m \u001b[0;31m# equilibrium concentrations at current step i\u001b[0m\u001b[0;34m\u001b[0m\u001b[0;34m\u001b[0m\u001b[0m\n\u001b[1;32m     31\u001b[0m \u001b[0;34m\u001b[0m\u001b[0m\n",
      "\u001b[0;32m<ipython-input-14-d47aa49b7002>\u001b[0m in \u001b[0;36mget_equilibrium_concentrations\u001b[0;34m(R, Lt, Lc, circuit_params)\u001b[0m\n\u001b[1;32m     22\u001b[0m \u001b[0;34m\u001b[0m\u001b[0m\n\u001b[1;32m     23\u001b[0m     \u001b[0;31m# Compute T based on R_tot and L_tot using EQTK\u001b[0m\u001b[0;34m\u001b[0m\u001b[0;34m\u001b[0m\u001b[0;34m\u001b[0m\u001b[0m\n\u001b[0;32m---> 24\u001b[0;31m     \u001b[0mRfree\u001b[0m\u001b[0;34m,\u001b[0m \u001b[0mLt_free\u001b[0m\u001b[0;34m,\u001b[0m \u001b[0mLc_free\u001b[0m\u001b[0;34m,\u001b[0m \u001b[0mC_plus\u001b[0m\u001b[0;34m,\u001b[0m \u001b[0mC_minus\u001b[0m \u001b[0;34m=\u001b[0m \u001b[0msolve_EQTK\u001b[0m\u001b[0;34m(\u001b[0m\u001b[0mc0_vect\u001b[0m\u001b[0;34m,\u001b[0m \u001b[0mN_1_2\u001b[0m\u001b[0;34m,\u001b[0m \u001b[0mK_vect\u001b[0m\u001b[0;34m)\u001b[0m\u001b[0;34m\u001b[0m\u001b[0;34m\u001b[0m\u001b[0m\n\u001b[0m\u001b[1;32m     25\u001b[0m \u001b[0;34m\u001b[0m\u001b[0m\n\u001b[1;32m     26\u001b[0m     \u001b[0;32mreturn\u001b[0m \u001b[0mnp\u001b[0m\u001b[0;34m.\u001b[0m\u001b[0marray\u001b[0m\u001b[0;34m(\u001b[0m\u001b[0;34m[\u001b[0m\u001b[0mRfree\u001b[0m\u001b[0;34m,\u001b[0m \u001b[0mLt_free\u001b[0m\u001b[0;34m,\u001b[0m \u001b[0mLc_free\u001b[0m\u001b[0;34m,\u001b[0m \u001b[0mC_plus\u001b[0m\u001b[0;34m,\u001b[0m \u001b[0mC_minus\u001b[0m\u001b[0;34m]\u001b[0m\u001b[0;34m)\u001b[0m\u001b[0;34m\u001b[0m\u001b[0;34m\u001b[0m\u001b[0m\n",
      "\u001b[0;32m<ipython-input-4-f5487cac59b2>\u001b[0m in \u001b[0;36msolve_EQTK\u001b[0;34m(c0_vect, stoich, K_vect)\u001b[0m\n\u001b[1;32m      7\u001b[0m     \u001b[0mN\u001b[0m \u001b[0;34m=\u001b[0m \u001b[0mstoich\u001b[0m\u001b[0;34m\u001b[0m\u001b[0;34m\u001b[0m\u001b[0m\n\u001b[1;32m      8\u001b[0m \u001b[0;34m\u001b[0m\u001b[0m\n\u001b[0;32m----> 9\u001b[0;31m     \u001b[0mc\u001b[0m \u001b[0;34m=\u001b[0m \u001b[0meqtk\u001b[0m\u001b[0;34m.\u001b[0m\u001b[0msolve\u001b[0m\u001b[0;34m(\u001b[0m\u001b[0mc0_vect\u001b[0m\u001b[0;34m,\u001b[0m \u001b[0mN\u001b[0m\u001b[0;34m,\u001b[0m \u001b[0mK_vect\u001b[0m\u001b[0;34m,\u001b[0m \u001b[0munits\u001b[0m\u001b[0;34m=\u001b[0m\u001b[0;32mNone\u001b[0m\u001b[0;34m)\u001b[0m\u001b[0;34m\u001b[0m\u001b[0;34m\u001b[0m\u001b[0m\n\u001b[0m\u001b[1;32m     10\u001b[0m \u001b[0;34m\u001b[0m\u001b[0m\n\u001b[1;32m     11\u001b[0m     \u001b[0mR\u001b[0m\u001b[0;34m,\u001b[0m \u001b[0mLt\u001b[0m\u001b[0;34m,\u001b[0m \u001b[0mLc\u001b[0m\u001b[0;34m,\u001b[0m \u001b[0mC_plus\u001b[0m\u001b[0;34m,\u001b[0m \u001b[0mC_minus\u001b[0m \u001b[0;34m=\u001b[0m \u001b[0mc\u001b[0m \u001b[0;31m#all of the steady state concentrations after equilibrium is reached\u001b[0m\u001b[0;34m\u001b[0m\u001b[0;34m\u001b[0m\u001b[0m\n",
      "\u001b[0;32m~/opt/anaconda3/lib/python3.7/site-packages/eqtk/solvers.py\u001b[0m in \u001b[0;36msolve\u001b[0;34m(c0, N, K, logK, A, G, names, units, G_units, solvent_density, T, return_log, normal_A, tol, tol_zero, max_iters, delta_bar, eta, min_delta, max_trials, perturb_scale)\u001b[0m\n\u001b[1;32m    347\u001b[0m             \u001b[0mmin_delta\u001b[0m\u001b[0;34m=\u001b[0m\u001b[0mmin_delta\u001b[0m\u001b[0;34m,\u001b[0m\u001b[0;34m\u001b[0m\u001b[0;34m\u001b[0m\u001b[0m\n\u001b[1;32m    348\u001b[0m             \u001b[0mmax_trials\u001b[0m\u001b[0;34m=\u001b[0m\u001b[0mmax_trials\u001b[0m\u001b[0;34m,\u001b[0m\u001b[0;34m\u001b[0m\u001b[0;34m\u001b[0m\u001b[0m\n\u001b[0;32m--> 349\u001b[0;31m             \u001b[0mperturb_scale\u001b[0m\u001b[0;34m=\u001b[0m\u001b[0mperturb_scale\u001b[0m\u001b[0;34m,\u001b[0m\u001b[0;34m\u001b[0m\u001b[0;34m\u001b[0m\u001b[0m\n\u001b[0m\u001b[1;32m    350\u001b[0m         )\n\u001b[1;32m    351\u001b[0m     \u001b[0;32melse\u001b[0m\u001b[0;34m:\u001b[0m\u001b[0;34m\u001b[0m\u001b[0;34m\u001b[0m\u001b[0m\n",
      "\u001b[0;31mKeyboardInterrupt\u001b[0m: "
     ]
    }
   ],
   "source": [
    "%%time \n",
    "# Define params values that give good fold differences at reasonably high production rates\n",
    "# Receptor = Notch1, Ligand = Dll4\n",
    "master_array = np.array(())\n",
    "\n",
    "\n",
    "\n",
    "for gL in gL_vals:\n",
    "    for gC in gC_vals:\n",
    "        for gR in gR_vals:\n",
    "            for dR in dR_vals:\n",
    "\n",
    "                # Define ligand range for titration- x axis for plot; adding ligands \n",
    "                aL_vals = np.around(np.logspace(-2, 2, num=6, base=10.0), decimals=4)\n",
    "                aL_vals = np.insert(aL_vals, 0, 0)\n",
    "\n",
    "                circuit_params = (Kd_t, Kd_c, aR, gR, dR, gT, aL_vals[0], gL, gC, gN)\n",
    "\n",
    "                # Define time series\n",
    "                hr = 48.0 # simulation of 48 hours\n",
    "                interval = 5 # 5 minutes between time steps\n",
    "\n",
    "                convergence_crit = 1 # ≤ 1 percent change in 5 minutes = steady state achieved\n",
    "\n",
    "                # Simulate ligand titration\n",
    "                N_vect, cis_act, cis_inh = titrate_ligand(aL_vals, circuit_params, \n",
    "                                                          hr, interval, convergence_crit)\n",
    "\n",
    "                # Print cis-activation and -inhibition metrics\n",
    "                #print('Cis-activation fold-diff:', cis_act)\n",
    "                #print('Cis-inhibition efficacy:', cis_inh, '%')\n",
    "\n",
    "                # Added this in to quantify peak width \n",
    "                #MAKE A FUNCTION\n",
    "                \n",
    "                start_of_peak=np.nan #define inside the function\n",
    "                end_of_peak=np.nan\n",
    "                \n",
    "                for i, element in enumerate(significant_change(aL_vals)):\n",
    "                    if element == 1:\n",
    "                        start_of_peak = i\n",
    "                        break\n",
    "                \n",
    "                for i, element in reversed(list(enumerate(significant_change(aL_vals)))):\n",
    "                    if element == 1:\n",
    "                        end_of_peak = i + 1\n",
    "                        break\n",
    "\n",
    "                peak_width = end_of_peak / start_of_peak #beware of Nan\n",
    "                \n",
    "                Kd_t, Kd_c, aR, gR, dR, gT, aL_vals[0], gL, gC, gN = circuit_params\n",
    "\n",
    "                create_list = [Kd_t, Kd_c, aR, gR, dR, gT, aL_vals[0], gL, gC, gN, cis_act,cis_inh, peak_width]\n",
    "\n",
    "                master_array = np.append(master_array,create_list)\n",
    "                #print(master_array)\n",
    "\n",
    "                # Plot\n",
    "                '''\n",
    "                if (cis_act>1.5) & (cis_inh >90):\n",
    "                    fig, ax = plt.subplots(1, 1, figsize=(7, 6))\n",
    "                    plt.plot(aL_vals, N_vect)\n",
    "                    plt.title('aR = ' + str(aR)+', peak width: '+str(peak_width))\n",
    "                    plt.ylabel('Steady state $N$')\n",
    "                    plt.xlabel('$\\\\alpha_L$')\n",
    "                    plt.ylim((0,1))\n",
    "                    ax.set_xscale('log')\n",
    "                    plt.show()\n",
    "                '''"
   ]
  },
  {
   "cell_type": "code",
   "execution_count": 65,
   "metadata": {},
   "outputs": [],
   "source": [
    "rows = master_array.size/13"
   ]
  },
  {
   "cell_type": "code",
   "execution_count": 66,
   "metadata": {},
   "outputs": [],
   "source": [
    "master_array = master_array.reshape((int(rows),13))"
   ]
  },
  {
   "cell_type": "code",
   "execution_count": 67,
   "metadata": {},
   "outputs": [],
   "source": [
    "masterdf = pd.DataFrame(master_array)"
   ]
  },
  {
   "cell_type": "code",
   "execution_count": 68,
   "metadata": {},
   "outputs": [],
   "source": [
    "masterdf.columns = ['Kd_t', 'Kd_c', 'aR', 'gR', 'dR', 'gT', 'aL_vals[0]', 'gL', 'gC', 'gN', 'cis_act','cis_inh', 'peak_width']"
   ]
  },
  {
   "cell_type": "code",
   "execution_count": 69,
   "metadata": {},
   "outputs": [
    {
     "data": {
      "text/html": [
       "<div>\n",
       "<style scoped>\n",
       "    .dataframe tbody tr th:only-of-type {\n",
       "        vertical-align: middle;\n",
       "    }\n",
       "\n",
       "    .dataframe tbody tr th {\n",
       "        vertical-align: top;\n",
       "    }\n",
       "\n",
       "    .dataframe thead th {\n",
       "        text-align: right;\n",
       "    }\n",
       "</style>\n",
       "<table border=\"1\" class=\"dataframe\">\n",
       "  <thead>\n",
       "    <tr style=\"text-align: right;\">\n",
       "      <th></th>\n",
       "      <th>Kd_t</th>\n",
       "      <th>Kd_c</th>\n",
       "      <th>aR</th>\n",
       "      <th>gR</th>\n",
       "      <th>dR</th>\n",
       "      <th>gT</th>\n",
       "      <th>aL_vals[0]</th>\n",
       "      <th>gL</th>\n",
       "      <th>gC</th>\n",
       "      <th>gN</th>\n",
       "      <th>cis_act</th>\n",
       "      <th>cis_inh</th>\n",
       "      <th>peak_width</th>\n",
       "    </tr>\n",
       "  </thead>\n",
       "  <tbody>\n",
       "    <tr>\n",
       "      <th>0</th>\n",
       "      <td>2.08</td>\n",
       "      <td>2.08</td>\n",
       "      <td>0.11</td>\n",
       "      <td>27.5947</td>\n",
       "      <td>0.138300</td>\n",
       "      <td>9.902103</td>\n",
       "      <td>0.0</td>\n",
       "      <td>13.830104</td>\n",
       "      <td>27.5947</td>\n",
       "      <td>0.554518</td>\n",
       "      <td>25.17</td>\n",
       "      <td>0.0</td>\n",
       "      <td>251.171632</td>\n",
       "    </tr>\n",
       "    <tr>\n",
       "      <th>1</th>\n",
       "      <td>2.08</td>\n",
       "      <td>2.08</td>\n",
       "      <td>0.11</td>\n",
       "      <td>27.5947</td>\n",
       "      <td>0.087262</td>\n",
       "      <td>9.902103</td>\n",
       "      <td>0.0</td>\n",
       "      <td>13.830104</td>\n",
       "      <td>27.5947</td>\n",
       "      <td>0.554518</td>\n",
       "      <td>39.68</td>\n",
       "      <td>0.0</td>\n",
       "      <td>251.171632</td>\n",
       "    </tr>\n",
       "    <tr>\n",
       "      <th>2</th>\n",
       "      <td>2.08</td>\n",
       "      <td>2.08</td>\n",
       "      <td>0.11</td>\n",
       "      <td>27.5947</td>\n",
       "      <td>0.055058</td>\n",
       "      <td>9.902103</td>\n",
       "      <td>0.0</td>\n",
       "      <td>13.830104</td>\n",
       "      <td>27.5947</td>\n",
       "      <td>0.554518</td>\n",
       "      <td>62.66</td>\n",
       "      <td>0.0</td>\n",
       "      <td>251.171632</td>\n",
       "    </tr>\n",
       "    <tr>\n",
       "      <th>3</th>\n",
       "      <td>2.08</td>\n",
       "      <td>2.08</td>\n",
       "      <td>0.11</td>\n",
       "      <td>27.5947</td>\n",
       "      <td>0.034740</td>\n",
       "      <td>9.902103</td>\n",
       "      <td>0.0</td>\n",
       "      <td>13.830104</td>\n",
       "      <td>27.5947</td>\n",
       "      <td>0.554518</td>\n",
       "      <td>84.09</td>\n",
       "      <td>0.0</td>\n",
       "      <td>251.171632</td>\n",
       "    </tr>\n",
       "    <tr>\n",
       "      <th>4</th>\n",
       "      <td>2.08</td>\n",
       "      <td>2.08</td>\n",
       "      <td>0.11</td>\n",
       "      <td>10.3711</td>\n",
       "      <td>0.138300</td>\n",
       "      <td>9.902103</td>\n",
       "      <td>0.0</td>\n",
       "      <td>13.830104</td>\n",
       "      <td>27.5947</td>\n",
       "      <td>0.554518</td>\n",
       "      <td>10.88</td>\n",
       "      <td>0.0</td>\n",
       "      <td>251.171632</td>\n",
       "    </tr>\n",
       "  </tbody>\n",
       "</table>\n",
       "</div>"
      ],
      "text/plain": [
       "   Kd_t  Kd_c    aR       gR        dR        gT  aL_vals[0]         gL  \\\n",
       "0  2.08  2.08  0.11  27.5947  0.138300  9.902103         0.0  13.830104   \n",
       "1  2.08  2.08  0.11  27.5947  0.087262  9.902103         0.0  13.830104   \n",
       "2  2.08  2.08  0.11  27.5947  0.055058  9.902103         0.0  13.830104   \n",
       "3  2.08  2.08  0.11  27.5947  0.034740  9.902103         0.0  13.830104   \n",
       "4  2.08  2.08  0.11  10.3711  0.138300  9.902103         0.0  13.830104   \n",
       "\n",
       "        gC        gN  cis_act  cis_inh  peak_width  \n",
       "0  27.5947  0.554518    25.17      0.0  251.171632  \n",
       "1  27.5947  0.554518    39.68      0.0  251.171632  \n",
       "2  27.5947  0.554518    62.66      0.0  251.171632  \n",
       "3  27.5947  0.554518    84.09      0.0  251.171632  \n",
       "4  27.5947  0.554518    10.88      0.0  251.171632  "
      ]
     },
     "execution_count": 69,
     "metadata": {},
     "output_type": "execute_result"
    }
   ],
   "source": [
    "masterdf.head()"
   ]
  },
  {
   "cell_type": "code",
   "execution_count": 70,
   "metadata": {},
   "outputs": [],
   "source": [
    "filename = '/Users/cjko/git/bootcamp/2020-07-31cismasterdf.csv'\n",
    "\n",
    "masterdf.to_csv(filename, sep = ',', index=False)"
   ]
  },
  {
   "cell_type": "markdown",
   "metadata": {},
   "source": [
    "### Read in data"
   ]
  },
  {
   "cell_type": "code",
   "execution_count": 71,
   "metadata": {},
   "outputs": [],
   "source": [
    "# Read in data from stored file -- why did you have to reread in the file if we made it up there^^???\n",
    "\n",
    "file = '/Users/cjko/git/bootcamp/2020-07-31cismasterdf.csv'\n",
    "masterdf = pd.read_csv(file)"
   ]
  },
  {
   "cell_type": "code",
   "execution_count": 72,
   "metadata": {},
   "outputs": [],
   "source": [
    "masterdf=masterdf.sort_values(by=['peak_width']).reset_index()"
   ]
  },
  {
   "cell_type": "code",
   "execution_count": 73,
   "metadata": {},
   "outputs": [
    {
     "data": {
      "text/html": [
       "<div>\n",
       "<style scoped>\n",
       "    .dataframe tbody tr th:only-of-type {\n",
       "        vertical-align: middle;\n",
       "    }\n",
       "\n",
       "    .dataframe tbody tr th {\n",
       "        vertical-align: top;\n",
       "    }\n",
       "\n",
       "    .dataframe thead th {\n",
       "        text-align: right;\n",
       "    }\n",
       "</style>\n",
       "<table border=\"1\" class=\"dataframe\">\n",
       "  <thead>\n",
       "    <tr style=\"text-align: right;\">\n",
       "      <th></th>\n",
       "      <th>index</th>\n",
       "      <th>Kd_t</th>\n",
       "      <th>Kd_c</th>\n",
       "      <th>aR</th>\n",
       "      <th>gR</th>\n",
       "      <th>dR</th>\n",
       "      <th>gT</th>\n",
       "      <th>aL_vals[0]</th>\n",
       "      <th>gL</th>\n",
       "      <th>gC</th>\n",
       "      <th>gN</th>\n",
       "      <th>cis_act</th>\n",
       "      <th>cis_inh</th>\n",
       "      <th>peak_width</th>\n",
       "    </tr>\n",
       "  </thead>\n",
       "  <tbody>\n",
       "    <tr>\n",
       "      <th>0</th>\n",
       "      <td>174</td>\n",
       "      <td>2.08</td>\n",
       "      <td>2.08</td>\n",
       "      <td>0.11</td>\n",
       "      <td>1.4650</td>\n",
       "      <td>0.055058</td>\n",
       "      <td>9.902103</td>\n",
       "      <td>0.0</td>\n",
       "      <td>5.505864</td>\n",
       "      <td>1.4650</td>\n",
       "      <td>0.554518</td>\n",
       "      <td>19.43</td>\n",
       "      <td>0.0</td>\n",
       "      <td>1.25</td>\n",
       "    </tr>\n",
       "    <tr>\n",
       "      <th>1</th>\n",
       "      <td>93</td>\n",
       "      <td>2.08</td>\n",
       "      <td>2.08</td>\n",
       "      <td>0.11</td>\n",
       "      <td>1.4650</td>\n",
       "      <td>0.087262</td>\n",
       "      <td>9.902103</td>\n",
       "      <td>0.0</td>\n",
       "      <td>13.830104</td>\n",
       "      <td>0.5506</td>\n",
       "      <td>0.554518</td>\n",
       "      <td>13.26</td>\n",
       "      <td>0.0</td>\n",
       "      <td>1.25</td>\n",
       "    </tr>\n",
       "    <tr>\n",
       "      <th>2</th>\n",
       "      <td>92</td>\n",
       "      <td>2.08</td>\n",
       "      <td>2.08</td>\n",
       "      <td>0.11</td>\n",
       "      <td>1.4650</td>\n",
       "      <td>0.138300</td>\n",
       "      <td>9.902103</td>\n",
       "      <td>0.0</td>\n",
       "      <td>13.830104</td>\n",
       "      <td>0.5506</td>\n",
       "      <td>0.554518</td>\n",
       "      <td>8.65</td>\n",
       "      <td>0.0</td>\n",
       "      <td>1.25</td>\n",
       "    </tr>\n",
       "    <tr>\n",
       "      <th>3</th>\n",
       "      <td>88</td>\n",
       "      <td>2.08</td>\n",
       "      <td>2.08</td>\n",
       "      <td>0.11</td>\n",
       "      <td>3.8979</td>\n",
       "      <td>0.138300</td>\n",
       "      <td>9.902103</td>\n",
       "      <td>0.0</td>\n",
       "      <td>13.830104</td>\n",
       "      <td>0.5506</td>\n",
       "      <td>0.554518</td>\n",
       "      <td>16.58</td>\n",
       "      <td>0.0</td>\n",
       "      <td>1.25</td>\n",
       "    </tr>\n",
       "    <tr>\n",
       "      <th>4</th>\n",
       "      <td>87</td>\n",
       "      <td>2.08</td>\n",
       "      <td>2.08</td>\n",
       "      <td>0.11</td>\n",
       "      <td>10.3711</td>\n",
       "      <td>0.034740</td>\n",
       "      <td>9.902103</td>\n",
       "      <td>0.0</td>\n",
       "      <td>13.830104</td>\n",
       "      <td>0.5506</td>\n",
       "      <td>0.554518</td>\n",
       "      <td>103.62</td>\n",
       "      <td>0.0</td>\n",
       "      <td>1.25</td>\n",
       "    </tr>\n",
       "  </tbody>\n",
       "</table>\n",
       "</div>"
      ],
      "text/plain": [
       "   index  Kd_t  Kd_c    aR       gR        dR        gT  aL_vals[0]  \\\n",
       "0    174  2.08  2.08  0.11   1.4650  0.055058  9.902103         0.0   \n",
       "1     93  2.08  2.08  0.11   1.4650  0.087262  9.902103         0.0   \n",
       "2     92  2.08  2.08  0.11   1.4650  0.138300  9.902103         0.0   \n",
       "3     88  2.08  2.08  0.11   3.8979  0.138300  9.902103         0.0   \n",
       "4     87  2.08  2.08  0.11  10.3711  0.034740  9.902103         0.0   \n",
       "\n",
       "          gL      gC        gN  cis_act  cis_inh  peak_width  \n",
       "0   5.505864  1.4650  0.554518    19.43      0.0        1.25  \n",
       "1  13.830104  0.5506  0.554518    13.26      0.0        1.25  \n",
       "2  13.830104  0.5506  0.554518     8.65      0.0        1.25  \n",
       "3  13.830104  0.5506  0.554518    16.58      0.0        1.25  \n",
       "4  13.830104  0.5506  0.554518   103.62      0.0        1.25  "
      ]
     },
     "execution_count": 73,
     "metadata": {},
     "output_type": "execute_result"
    }
   ],
   "source": [
    "masterdf.head()"
   ]
  },
  {
   "cell_type": "code",
   "execution_count": null,
   "metadata": {},
   "outputs": [],
   "source": [
    "for i in range(len(Kd_t_vals)):\n",
    "    print('-----------------------')\n",
    "    print('gL_vals',Kd_t_vals[i])\n",
    "    df_subset = masterdf.loc[(masterdf['gL'] == np.around(gL_vals[i],decimals=4)) &\\\n",
    "                               (masterdf['gC'] == np.around(gC_vals[1],decimals=4))]\n",
    "    # I HAD A ROUNDING ERROR ^ BUT FIXED W NP.AROUND\n",
    "\n",
    "    # I think dependence on aR == aL equivalence is only true for certain gR values. try gR = g_vals[3] vs [1]\n",
    "\n",
    "    # pandas pivot\n",
    "    heatmap_data = pd.pivot_table(df_subset, values='peak_width', \n",
    "                         index=['gR'], \n",
    "                         columns='dR')\n",
    "\n",
    "\n",
    "    sns.heatmap(heatmap_data)\n",
    "    plt.show()\n",
    "    df_subset.head()    \n",
    "    \n",
    "    plt.figure()"
   ]
  },
  {
   "cell_type": "code",
   "execution_count": 37,
   "metadata": {
    "collapsed": true,
    "jupyter": {
     "outputs_hidden": true
    }
   },
   "outputs": [
    {
     "ename": "NameError",
     "evalue": "name 'df_subset' is not defined",
     "output_type": "error",
     "traceback": [
      "\u001b[0;31m---------------------------------------------------------------------------\u001b[0m",
      "\u001b[0;31mNameError\u001b[0m                                 Traceback (most recent call last)",
      "\u001b[0;32m<ipython-input-37-b01e064381e0>\u001b[0m in \u001b[0;36m<module>\u001b[0;34m\u001b[0m\n\u001b[0;32m----> 1\u001b[0;31m \u001b[0mplt\u001b[0m\u001b[0;34m.\u001b[0m\u001b[0mhist\u001b[0m\u001b[0;34m(\u001b[0m\u001b[0mdf_subset\u001b[0m\u001b[0;34m[\u001b[0m\u001b[0;34m'aR'\u001b[0m\u001b[0;34m]\u001b[0m\u001b[0;34m,\u001b[0m\u001b[0mdf_subset\u001b[0m\u001b[0;34m[\u001b[0m\u001b[0;34m'peak_width'\u001b[0m\u001b[0;34m]\u001b[0m\u001b[0;34m)\u001b[0m\u001b[0;34m\u001b[0m\u001b[0;34m\u001b[0m\u001b[0m\n\u001b[0m",
      "\u001b[0;31mNameError\u001b[0m: name 'df_subset' is not defined"
     ]
    }
   ],
   "source": [
    "plt.hist(df_subset['aR'],df_subset['peak_width'])"
   ]
  },
  {
   "cell_type": "code",
   "execution_count": 38,
   "metadata": {
    "collapsed": true,
    "jupyter": {
     "outputs_hidden": true
    }
   },
   "outputs": [
    {
     "ename": "NameError",
     "evalue": "name 'bokeh' is not defined",
     "output_type": "error",
     "traceback": [
      "\u001b[0;31m---------------------------------------------------------------------------\u001b[0m",
      "\u001b[0;31mNameError\u001b[0m                                 Traceback (most recent call last)",
      "\u001b[0;32m<ipython-input-38-9a318a110cdc>\u001b[0m in \u001b[0;36m<module>\u001b[0;34m\u001b[0m\n\u001b[1;32m      2\u001b[0m                          (masterdf['Kd_c']==np.around(Kd_c_vals[1],decimals=4))]\n\u001b[1;32m      3\u001b[0m \u001b[0;34m\u001b[0m\u001b[0m\n\u001b[0;32m----> 4\u001b[0;31m p = bokeh.plotting.figure(\n\u001b[0m\u001b[1;32m      5\u001b[0m     \u001b[0mframe_width\u001b[0m\u001b[0;34m=\u001b[0m\u001b[0;36m400\u001b[0m\u001b[0;34m,\u001b[0m\u001b[0;34m\u001b[0m\u001b[0;34m\u001b[0m\u001b[0m\n\u001b[1;32m      6\u001b[0m     \u001b[0mframe_height\u001b[0m\u001b[0;34m=\u001b[0m\u001b[0;36m300\u001b[0m\u001b[0;34m,\u001b[0m\u001b[0;34m\u001b[0m\u001b[0;34m\u001b[0m\u001b[0m\n",
      "\u001b[0;31mNameError\u001b[0m: name 'bokeh' is not defined"
     ]
    }
   ],
   "source": [
    "df_subset = masterdf.loc[(masterdf['Kd_t']==np.around(Kd_t_vals[1],decimals=4)) &\\\n",
    "                         (masterdf['Kd_c']==np.around(Kd_c_vals[1],decimals=4))]\n",
    "\n",
    "p = bokeh.plotting.figure(\n",
    "    frame_width=400,\n",
    "    frame_height=300,\n",
    "    x_axis_label='aR',\n",
    "    y_axis_label='peak_width',\n",
    "    #x_axis_type='log'\n",
    ")\n",
    "\n",
    "p.circle(\n",
    "    source=df_subset,\n",
    "    x='aR',\n",
    "    y='peak_width'\n",
    ")\n",
    "\n",
    "bokeh.io.show(p)\n",
    "\n",
    "print('Kd_t',Kd_t_vals[1])\n",
    "print('Kd_c',Kd_c_vals[1])\n",
    "\n",
    "#plt.scatter(masterdf['Kd_t'],masterdf['peak_width'])\n"
   ]
  },
  {
   "cell_type": "code",
   "execution_count": null,
   "metadata": {},
   "outputs": [],
   "source": [
    "df_subset = masterdf.loc[(masterdf['Kd_t']==np.around(Kd_t_vals[0],decimals=4)) &\\\n",
    "                         (masterdf['Kd_c']==np.around(Kd_c_vals[1],decimals=4))]\n",
    "\n",
    "p = bokeh.plotting.figure(\n",
    "    frame_width=400,\n",
    "    frame_height=300,\n",
    "    x_axis_label='aR',\n",
    "    y_axis_label='peak_width',\n",
    "    #x_axis_type='log'\n",
    ")\n",
    "\n",
    "p.circle(\n",
    "    source=df_subset,\n",
    "    x='aR',\n",
    "    y='peak_width'\n",
    ")\n",
    "\n",
    "bokeh.io.show(p)\n",
    "\n",
    "print('Kd_t',Kd_t_vals[0])\n",
    "print('Kd_c',Kd_c_vals[1])\n",
    "\n",
    "#plt.scatter(masterdf['Kd_t'],masterdf['peak_width'])"
   ]
  },
  {
   "cell_type": "code",
   "execution_count": null,
   "metadata": {},
   "outputs": [],
   "source": [
    "df_subset = masterdf.loc[(masterdf['Kd_t']==np.around(Kd_t_vals[0],decimals=4)) &\\\n",
    "                         (masterdf['Kd_c']==np.around(Kd_c_vals[0],decimals=4))]\n",
    "import bokeh.io\n",
    "import bokeh.plotting\n",
    "\n",
    "bokeh.io.output_notebook()\n",
    "\n",
    "p = bokeh.plotting.figure(\n",
    "    frame_width=400,\n",
    "    frame_height=300,\n",
    "    x_axis_label='aR',\n",
    "    y_axis_label='peak_width',\n",
    "    #x_axis_type='log'\n",
    ")\n",
    "\n",
    "p.circle(\n",
    "    source=df_subset,\n",
    "    x='aR',\n",
    "    y='peak_width'\n",
    ")\n",
    "\n",
    "bokeh.io.show(p)\n",
    "\n",
    "print('Kd_t',Kd_t_vals[0])\n",
    "print('Kd_c',Kd_c_vals[0])\n",
    "\n",
    "#plt.scatter(masterdf['Kd_t'],masterdf['peak_width'])"
   ]
  },
  {
   "cell_type": "code",
   "execution_count": null,
   "metadata": {},
   "outputs": [],
   "source": [
    "df_subset = masterdf.loc[(masterdf['Kd_t']==np.around(Kd_t_vals[1],decimals=4)) &\\\n",
    "                         (masterdf['Kd_c']==np.around(Kd_c_vals[0],decimals=4))]\n",
    "import bokeh.io\n",
    "import bokeh.plotting\n",
    "\n",
    "bokeh.io.output_notebook()\n",
    "\n",
    "p = bokeh.plotting.figure(\n",
    "    frame_width=400,\n",
    "    frame_height=300,\n",
    "    x_axis_label='aR',\n",
    "    y_axis_label='peak_width',\n",
    "    #x_axis_type='log'\n",
    ")\n",
    "\n",
    "p.circle(\n",
    "    source=df_subset,\n",
    "    x='aR',\n",
    "    y='peak_width'\n",
    ")\n",
    "\n",
    "bokeh.io.show(p)\n",
    "\n",
    "print('Kd_t',Kd_t_vals[1])\n",
    "print('Kd_c',Kd_c_vals[0])\n",
    "\n",
    "#plt.scatter(masterdf['Kd_t'],masterdf['peak_width'])"
   ]
  },
  {
   "cell_type": "code",
   "execution_count": null,
   "metadata": {},
   "outputs": [],
   "source": [
    "df_subset = masterdf.loc[(masterdf['aR']==np.around(aR_vals[1],decimals=4)) &\\\n",
    "                         (masterdf['Kd_c']==np.around(Kd_c_vals[1],decimals=4))]\n",
    "\n",
    "p = bokeh.plotting.figure(\n",
    "    frame_width=400,\n",
    "    frame_height=300,\n",
    "    x_axis_label='Kd_t',\n",
    "    y_axis_label='peak_width',\n",
    "    #x_axis_type='log'\n",
    ")\n",
    "\n",
    "p.circle(\n",
    "    source=df_subset,\n",
    "    x='Kd_t',\n",
    "    y='peak_width'\n",
    ")\n",
    "\n",
    "bokeh.io.show(p)\n",
    "\n",
    "#plt.scatter(masterdf['Kd_t'],masterdf['peak_width'])"
   ]
  },
  {
   "cell_type": "markdown",
   "metadata": {},
   "source": [
    "Kd_t and Kd_c both showed constant peak width acorss the range I chose"
   ]
  },
  {
   "cell_type": "code",
   "execution_count": null,
   "metadata": {},
   "outputs": [],
   "source": [
    "df_subset"
   ]
  },
  {
   "cell_type": "code",
   "execution_count": null,
   "metadata": {},
   "outputs": [],
   "source": [
    "plt.hist(df_subset.loc[df_subset['aR']==aR_vals[0]]['peak_width'])"
   ]
  },
  {
   "cell_type": "code",
   "execution_count": null,
   "metadata": {},
   "outputs": [],
   "source": [
    "df_subset.loc[df_subset['aR']==aR_vals[0]]['peak_width']"
   ]
  },
  {
   "cell_type": "code",
   "execution_count": null,
   "metadata": {},
   "outputs": [],
   "source": [
    "df_subset"
   ]
  },
  {
   "cell_type": "code",
   "execution_count": null,
   "metadata": {},
   "outputs": [],
   "source": []
  }
 ],
 "metadata": {
  "kernelspec": {
   "display_name": "Python 3",
   "language": "python",
   "name": "python3"
  },
  "language_info": {
   "codemirror_mode": {
    "name": "ipython",
    "version": 3
   },
   "file_extension": ".py",
   "mimetype": "text/x-python",
   "name": "python",
   "nbconvert_exporter": "python",
   "pygments_lexer": "ipython3",
   "version": "3.7.7"
  }
 },
 "nbformat": 4,
 "nbformat_minor": 4
}

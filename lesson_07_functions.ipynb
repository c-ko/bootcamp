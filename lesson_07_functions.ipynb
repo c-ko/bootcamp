{
 "cells": [
  {
   "cell_type": "markdown",
   "metadata": {},
   "source": [
    "# Functions\n",
    "July 23, 2020"
   ]
  },
  {
   "cell_type": "code",
   "execution_count": 1,
   "metadata": {},
   "outputs": [],
   "source": [
    "def ratio(x,y):\n",
    "    \"\"\"The ratio of 'x' to 'y'.\"\"\"\n",
    "    return x/y"
   ]
  },
  {
   "cell_type": "code",
   "execution_count": 2,
   "metadata": {},
   "outputs": [
    {
     "data": {
      "text/plain": [
       "0.5555555555555556"
      ]
     },
     "execution_count": 2,
     "metadata": {},
     "output_type": "execute_result"
    }
   ],
   "source": [
    "ratio(5,9)"
   ]
  },
  {
   "cell_type": "code",
   "execution_count": 3,
   "metadata": {},
   "outputs": [
    {
     "data": {
      "text/plain": [
       "\u001b[0;31mSignature:\u001b[0m \u001b[0mratio\u001b[0m\u001b[0;34m(\u001b[0m\u001b[0mx\u001b[0m\u001b[0;34m,\u001b[0m \u001b[0my\u001b[0m\u001b[0;34m)\u001b[0m\u001b[0;34m\u001b[0m\u001b[0;34m\u001b[0m\u001b[0m\n",
       "\u001b[0;31mDocstring:\u001b[0m The ratio of 'x' to 'y'.\n",
       "\u001b[0;31mFile:\u001b[0m      ~/Desktop/FSRI/Programming/<ipython-input-1-eca846b58c38>\n",
       "\u001b[0;31mType:\u001b[0m      function\n"
      ]
     },
     "metadata": {},
     "output_type": "display_data"
    }
   ],
   "source": [
    "ratio?"
   ]
  },
  {
   "cell_type": "code",
   "execution_count": 4,
   "metadata": {},
   "outputs": [
    {
     "data": {
      "text/plain": [
       "2.0"
      ]
     },
     "execution_count": 4,
     "metadata": {},
     "output_type": "execute_result"
    }
   ],
   "source": [
    "ratio(2,1)"
   ]
  },
  {
   "cell_type": "code",
   "execution_count": 5,
   "metadata": {},
   "outputs": [],
   "source": [
    "def answer_to_the_ultimate_question_of_life_the_universe_and_everything():\n",
    "    \"\"\"Simpler program than ...\"\"\"\n",
    "    return 42"
   ]
  },
  {
   "cell_type": "code",
   "execution_count": 7,
   "metadata": {},
   "outputs": [
    {
     "data": {
      "text/plain": [
       "42"
      ]
     },
     "execution_count": 7,
     "metadata": {},
     "output_type": "execute_result"
    }
   ],
   "source": [
    "answer_to_the_ultimate_question_of_life_the_universe_and_everything()"
   ]
  },
  {
   "cell_type": "code",
   "execution_count": 8,
   "metadata": {},
   "outputs": [],
   "source": [
    "def think_too_much():\n",
    "    \"\"\"Express Caesar's skepticism about Cassius.\"\"\"\n",
    "    print(\"\"\"You Cassius has a lean and hungry look.\n",
    "He thinks too much; such men are dangerous.\"\"\")"
   ]
  },
  {
   "cell_type": "code",
   "execution_count": 9,
   "metadata": {},
   "outputs": [
    {
     "name": "stdout",
     "output_type": "stream",
     "text": [
      "You Cassius has a lean and hungry look.\n",
      "He thinks too much; such men are dangerous.\n"
     ]
    }
   ],
   "source": [
    "think_too_much()"
   ]
  },
  {
   "cell_type": "code",
   "execution_count": 10,
   "metadata": {},
   "outputs": [],
   "source": [
    "my_ratio = ratio(6,9)"
   ]
  },
  {
   "cell_type": "code",
   "execution_count": 11,
   "metadata": {},
   "outputs": [
    {
     "data": {
      "text/plain": [
       "0.6666666666666666"
      ]
     },
     "execution_count": 11,
     "metadata": {},
     "output_type": "execute_result"
    }
   ],
   "source": [
    "my_ratio"
   ]
  },
  {
   "cell_type": "code",
   "execution_count": 12,
   "metadata": {},
   "outputs": [
    {
     "name": "stdout",
     "output_type": "stream",
     "text": [
      "You Cassius has a lean and hungry look.\n",
      "He thinks too much; such men are dangerous.\n"
     ]
    }
   ],
   "source": [
    "skepticism = think_too_much()"
   ]
  },
  {
   "cell_type": "code",
   "execution_count": 13,
   "metadata": {},
   "outputs": [
    {
     "name": "stdout",
     "output_type": "stream",
     "text": [
      "None\n"
     ]
    }
   ],
   "source": [
    "print(skepticism)"
   ]
  },
  {
   "cell_type": "markdown",
   "metadata": {},
   "source": [
    "5'-GCAGTTGCA-3'\n",
    "3'-CGTCAACGT-3'\n",
    "\n",
    "wobble pair -- G and T"
   ]
  },
  {
   "cell_type": "code",
   "execution_count": 24,
   "metadata": {},
   "outputs": [],
   "source": [
    "def complement_base(base, material = 'DNA'): #defining default value \n",
    "    \"\"\"Return the Watson-Crick complement of a base.\"\"\"\n",
    "    if base in 'Aa':\n",
    "        if material == 'DNA':\n",
    "            return 'T'\n",
    "        if material == 'RNA':\n",
    "            return 'U'\n",
    "    elif base in 'Tt':\n",
    "        return 'A'\n",
    "    elif base in 'Gg':\n",
    "        return 'C'\n",
    "    else:\n",
    "        return 'G'\n",
    "\n",
    "\n",
    "#named keyword argument \n",
    "def reverse_complement(seq, material = 'DNA'):\n",
    "    \"\"\"Compute reverse complement of a nuclei acid sequence.\"\"\"\n",
    "    # Initialize the reverse complement\n",
    "    rev_seq=''\n",
    "    #loop through and add on appropriate bases\n",
    "    for base in reversed(seq):\n",
    "        rev_seq+=complement_base(base,material = material)\n",
    "    return rev_seq"
   ]
  },
  {
   "cell_type": "code",
   "execution_count": 25,
   "metadata": {},
   "outputs": [
    {
     "data": {
      "text/plain": [
       "'T'"
      ]
     },
     "execution_count": 25,
     "metadata": {},
     "output_type": "execute_result"
    }
   ],
   "source": [
    "complement_base('A')"
   ]
  },
  {
   "cell_type": "code",
   "execution_count": 83,
   "metadata": {},
   "outputs": [
    {
     "data": {
      "text/plain": [
       "'CAUGCACGU'"
      ]
     },
     "execution_count": 83,
     "metadata": {},
     "output_type": "execute_result"
    }
   ],
   "source": [
    "reverse_complement('ACGTGCATG',material = 'RNA')"
   ]
  },
  {
   "cell_type": "code",
   "execution_count": 88,
   "metadata": {},
   "outputs": [
    {
     "data": {
      "text/plain": [
       "'GGTTGGTTGGTTGGTTTGTGGGGTTGGTGGTGTGTTTG'"
      ]
     },
     "execution_count": 88,
     "metadata": {},
     "output_type": "execute_result"
    }
   ],
   "source": [
    "seq"
   ]
  },
  {
   "cell_type": "code",
   "execution_count": 93,
   "metadata": {},
   "outputs": [
    {
     "data": {
      "text/plain": [
       "'TGAC'"
      ]
     },
     "execution_count": 93,
     "metadata": {},
     "output_type": "execute_result"
    }
   ],
   "source": [
    "seq = 'ACTG'\n",
    "seq= seq.replace('T','a')\n",
    "seq= seq.replace('A','t')\n",
    "seq= seq.replace('G','c')\n",
    "seq= seq.replace('C','g')\n",
    "seq = seq.upper()\n",
    "\n",
    "seq"
   ]
  },
  {
   "cell_type": "markdown",
   "metadata": {},
   "source": [
    "want to write concise functions that perform single, simple tasks "
   ]
  },
  {
   "cell_type": "code",
   "execution_count": 27,
   "metadata": {},
   "outputs": [],
   "source": [
    "def add_three_things(a, b, c):\n",
    "    \"\"\"Return sum of three arguments.\"\"\"\n",
    "    return a+b+c"
   ]
  },
  {
   "cell_type": "code",
   "execution_count": 28,
   "metadata": {},
   "outputs": [
    {
     "data": {
      "text/plain": [
       "15"
      ]
     },
     "execution_count": 28,
     "metadata": {},
     "output_type": "execute_result"
    }
   ],
   "source": [
    "add_three_things(4,5,6)"
   ]
  },
  {
   "cell_type": "code",
   "execution_count": 29,
   "metadata": {},
   "outputs": [],
   "source": [
    "my_three_things=(4,5,6)"
   ]
  },
  {
   "cell_type": "code",
   "execution_count": 30,
   "metadata": {},
   "outputs": [
    {
     "data": {
      "text/plain": [
       "15"
      ]
     },
     "execution_count": 30,
     "metadata": {},
     "output_type": "execute_result"
    }
   ],
   "source": [
    "add_three_things(my_three_things[0],my_three_things[1],my_three_things[2])"
   ]
  },
  {
   "cell_type": "code",
   "execution_count": 31,
   "metadata": {},
   "outputs": [
    {
     "data": {
      "text/plain": [
       "15"
      ]
     },
     "execution_count": 31,
     "metadata": {},
     "output_type": "execute_result"
    }
   ],
   "source": [
    "add_three_things(*my_three_things) #unpacking operator -- unpacks tuple, splat *"
   ]
  },
  {
   "cell_type": "markdown",
   "metadata": {},
   "source": [
    "# Lesson 8 String Methods\n",
    "\n",
    "variables have methods associated with them. "
   ]
  },
  {
   "cell_type": "code",
   "execution_count": 46,
   "metadata": {},
   "outputs": [
    {
     "data": {
      "text/plain": [
       "20"
      ]
     },
     "execution_count": 46,
     "metadata": {},
     "output_type": "execute_result"
    }
   ],
   "source": [
    "seq = 'GCTAGCTAGCTAGCATACTGCGCATGCTGCAGTCAATG'\n",
    "seq.count('G') + seq.count('C')"
   ]
  },
  {
   "cell_type": "code",
   "execution_count": 39,
   "metadata": {},
   "outputs": [
    {
     "data": {
      "text/plain": [
       "3"
      ]
     },
     "execution_count": 39,
     "metadata": {},
     "output_type": "execute_result"
    }
   ],
   "source": [
    "seq.count('GCA')"
   ]
  },
  {
   "cell_type": "code",
   "execution_count": 41,
   "metadata": {},
   "outputs": [
    {
     "data": {
      "text/plain": [
       "4"
      ]
     },
     "execution_count": 41,
     "metadata": {},
     "output_type": "execute_result"
    }
   ],
   "source": [
    "'AAAAAAAA'.count('AA')"
   ]
  },
  {
   "cell_type": "code",
   "execution_count": 42,
   "metadata": {},
   "outputs": [
    {
     "data": {
      "text/plain": [
       "0"
      ]
     },
     "execution_count": 42,
     "metadata": {},
     "output_type": "execute_result"
    }
   ],
   "source": [
    "seq.count('Nonsense')"
   ]
  },
  {
   "cell_type": "code",
   "execution_count": 49,
   "metadata": {},
   "outputs": [
    {
     "data": {
      "text/plain": [
       "23"
      ]
     },
     "execution_count": 49,
     "metadata": {},
     "output_type": "execute_result"
    }
   ],
   "source": [
    "seq.find('ATG') #tells you the index at the start of your substring ; looks from the left end "
   ]
  },
  {
   "cell_type": "code",
   "execution_count": 50,
   "metadata": {},
   "outputs": [
    {
     "data": {
      "text/plain": [
       "35"
      ]
     },
     "execution_count": 50,
     "metadata": {},
     "output_type": "execute_result"
    }
   ],
   "source": [
    "seq.rfind('ATG') #tells you the index at the start of your substring ; looks from the right end "
   ]
  },
  {
   "cell_type": "code",
   "execution_count": 52,
   "metadata": {},
   "outputs": [],
   "source": [
    "def complement_base(base, material = 'DNA'): #defining default value \n",
    "    \"\"\"Return the Watson-Crick complement of a base.\"\"\"\n",
    "    #Convert string to ALL CAPS\n",
    "    base=base.upper()\n",
    "    \n",
    "    if base in 'A':\n",
    "        if material == 'DNA':\n",
    "            return 'T'\n",
    "        if material == 'RNA':\n",
    "            return 'U'\n",
    "    elif base in 'T':\n",
    "        return 'A'\n",
    "    elif base in 'G':\n",
    "        return 'C'\n",
    "    else:\n",
    "        return 'G'"
   ]
  },
  {
   "cell_type": "code",
   "execution_count": 53,
   "metadata": {},
   "outputs": [
    {
     "data": {
      "text/plain": [
       "'CATHERINE KO'"
      ]
     },
     "execution_count": 53,
     "metadata": {},
     "output_type": "execute_result"
    }
   ],
   "source": [
    "'Catherine Ko'.upper()"
   ]
  },
  {
   "cell_type": "code",
   "execution_count": 54,
   "metadata": {},
   "outputs": [
    {
     "data": {
      "text/plain": [
       "'GCTAGCTAGCTAGCATACTGCGCATGCTGCAGTCAATG'"
      ]
     },
     "execution_count": 54,
     "metadata": {},
     "output_type": "execute_result"
    }
   ],
   "source": [
    "seq"
   ]
  },
  {
   "cell_type": "code",
   "execution_count": 55,
   "metadata": {},
   "outputs": [
    {
     "data": {
      "text/plain": [
       "'GCUAGCUAGCUAGCAUACUGCGCAUGCUGCAGUCAAUG'"
      ]
     },
     "execution_count": 55,
     "metadata": {},
     "output_type": "execute_result"
    }
   ],
   "source": [
    "seq.replace('T','U')"
   ]
  },
  {
   "cell_type": "code",
   "execution_count": 56,
   "metadata": {},
   "outputs": [
    {
     "data": {
      "text/plain": [
       "'GCTAGCTAGCTAGCATACTGCGCATGCTGCAGTCAATG'"
      ]
     },
     "execution_count": 56,
     "metadata": {},
     "output_type": "execute_result"
    }
   ],
   "source": [
    "seq"
   ]
  },
  {
   "cell_type": "markdown",
   "metadata": {},
   "source": [
    "string is immutable!!! doesnt get changed^"
   ]
  },
  {
   "cell_type": "code",
   "execution_count": 71,
   "metadata": {},
   "outputs": [
    {
     "data": {
      "text/plain": [
       "'The * Dude * abides.'"
      ]
     },
     "execution_count": 71,
     "metadata": {},
     "output_type": "execute_result"
    }
   ],
   "source": [
    "word_tuple = ('The', 'Dude','abides.')\n",
    "\n",
    "' * '.join(word_tuple) #joins everything in the tuple with a space in between"
   ]
  },
  {
   "cell_type": "code",
   "execution_count": 72,
   "metadata": {},
   "outputs": [
    {
     "name": "stdout",
     "output_type": "stream",
     "text": [
      "\n",
      "Let's do a Mad Lib! \n",
      "During this bootcamp, I feel blue.\n",
      "The instructors give us cats.\n",
      "\n"
     ]
    }
   ],
   "source": [
    "my_str = \"\"\"\n",
    "Let's do a Mad Lib! \n",
    "During this bootcamp, I feel {adjective}.\n",
    "The instructors give us {plural_noun}.\n",
    "\"\"\".format(adjective='blue',plural_noun='cats')\n",
    "\n",
    "print(my_str)"
   ]
  },
  {
   "cell_type": "code",
   "execution_count": 73,
   "metadata": {},
   "outputs": [
    {
     "name": "stdout",
     "output_type": "stream",
     "text": [
      "There are 50 state in the US.\n"
     ]
    }
   ],
   "source": [
    "print('There are {n:d} state in the US.'.format(n=50))"
   ]
  },
  {
   "cell_type": "markdown",
   "metadata": {},
   "source": [
    "d integer\n",
    "\n",
    "04d integer with four digits, possibly with leading zeros\n",
    "\n",
    "f glat.default to six digits after decimal \n",
    "\n",
    ".8f float with 8 digits after the decimal\n",
    "\n",
    "e scientific notation\n",
    "\n",
    ".16e scientific notation with 16 digits after the decimal \n",
    "\n",
    "s string"
   ]
  },
  {
   "cell_type": "code",
   "execution_count": 80,
   "metadata": {},
   "outputs": [
    {
     "name": "stdout",
     "output_type": "stream",
     "text": [
      "π is approximately 3.14.\n"
     ]
    }
   ],
   "source": [
    "print('π is approximately {pi:.2f}.'.format(pi=3.14))"
   ]
  },
  {
   "cell_type": "code",
   "execution_count": 81,
   "metadata": {},
   "outputs": [
    {
     "data": {
      "text/plain": [
       "'There are 50 states in the US.'"
      ]
     },
     "execution_count": 81,
     "metadata": {},
     "output_type": "execute_result"
    }
   ],
   "source": [
    "n_states = 50\n",
    "pi=3.14\n",
    "\n",
    "f'There are {n_states} states in the US.'"
   ]
  },
  {
   "cell_type": "code",
   "execution_count": 82,
   "metadata": {},
   "outputs": [
    {
     "data": {
      "text/plain": [
       "'π is approximately 3.14000.'"
      ]
     },
     "execution_count": 82,
     "metadata": {},
     "output_type": "execute_result"
    }
   ],
   "source": [
    "f'π is approximately {pi:.5f}.'"
   ]
  },
  {
   "cell_type": "code",
   "execution_count": null,
   "metadata": {},
   "outputs": [],
   "source": []
  }
 ],
 "metadata": {
  "kernelspec": {
   "display_name": "Python 3",
   "language": "python",
   "name": "python3"
  },
  "language_info": {
   "codemirror_mode": {
    "name": "ipython",
    "version": 3
   },
   "file_extension": ".py",
   "mimetype": "text/x-python",
   "name": "python",
   "nbconvert_exporter": "python",
   "pygments_lexer": "ipython3",
   "version": "3.7.7"
  }
 },
 "nbformat": 4,
 "nbformat_minor": 4
}
